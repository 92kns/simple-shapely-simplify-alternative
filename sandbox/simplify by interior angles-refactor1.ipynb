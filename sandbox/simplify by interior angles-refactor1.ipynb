{
 "cells": [
  {
   "cell_type": "code",
   "execution_count": 98,
   "metadata": {},
   "outputs": [],
   "source": [
    "import shapely.geometry as sg\n",
    "import shapely\n",
    "import numpy as np\n",
    "import random\n",
    "import math\n",
    "\n",
    "import pandas as pd"
   ]
  },
  {
   "cell_type": "code",
   "execution_count": 2,
   "metadata": {},
   "outputs": [],
   "source": [
    "def get_angles(vec_1,vec_2):\n",
    "    dot = np.dot(vec_1, vec_2)\n",
    "    det = np.cross(vec_1,vec_2)\n",
    "    angle_in_rad = np.arctan2(det,dot)\n",
    "    return np.degrees(angle_in_rad)\n",
    "\n",
    "\n",
    "def simplify_by_interior_angle(poly_in, deg_tol = 5):\n",
    "    \"\"\"\n",
    "    try to remove persistent coordinate points that remain after\n",
    "    simplify, convex hul, etc with some trig\n",
    "    params:\n",
    "    \n",
    "    \"\"\"\n",
    "    \n",
    "    ext_poly_coords = poly_in.exterior.coords[:]\n",
    "#     ext_poly_coords = ext_poly_coords[1:] + ext_poly_coords[:1]\n",
    "#     # reassign last to first, so we have a proper linear ring sequence for shapely polygon\n",
    "#     ext_poly_coords[-1] = ext_poly_coords[0]\n",
    "    vector_rep = np.diff(ext_poly_coords,axis = 0)\n",
    "    angles_list = []\n",
    "    for i in range(0,len(vector_rep) -1 ):\n",
    "        angles_list.append(np.abs(get_angles(vector_rep[i],vector_rep[i+1])))\n",
    "    \n",
    "  \n",
    "    thresh_vals_by_deg = np.where(np.array(angles_list) > deg_tol)\n",
    "#   gotta be a better way to do this. sandwich betweens first and last pts\n",
    "    new_idx = [0] + (thresh_vals_by_deg[0] + 1).tolist() + [0]\n",
    "    new_vertices = [ext_poly_coords[idx] for idx in new_idx]\n",
    "    \n",
    "#     add geom type check l8r, for now only interested in poly\n",
    "#     try:\n",
    "#         return sg.Polygon(new_vertices)\n",
    "#     except:\n",
    "#         return vector_rep\n",
    "    return sg.Polygon(new_vertices)\n",
    "\n",
    "def poly_as_mpt(polygon):\n",
    "    coords = polygon.exterior.coords[:]\n",
    "    as_pts = [sg.Point(x) for x in coords]\n",
    "    as_mpt = sg.MultiPoint(as_pts)\n",
    "    return as_mpt\n",
    "        "
   ]
  },
  {
   "cell_type": "markdown",
   "metadata": {},
   "source": [
    "# # try random geoms"
   ]
  },
  {
   "cell_type": "code",
   "execution_count": 3,
   "metadata": {},
   "outputs": [
    {
     "data": {
      "image/svg+xml": [
       "<svg xmlns=\"http://www.w3.org/2000/svg\" xmlns:xlink=\"http://www.w3.org/1999/xlink\" width=\"100.0\" height=\"100.0\" viewBox=\"4.6 5.269872981077807 10.8 9.460254037844388\" preserveAspectRatio=\"xMinYMin meet\"><g transform=\"matrix(1,0,0,-1,0,20.0)\"><path fill-rule=\"evenodd\" fill=\"#66cc99\" stroke=\"#555555\" stroke-width=\"0.21600000000000003\" opacity=\"0.6\" d=\"M 15.0,10.0 L 12.5,14.330127018922193 L 7.500000000000001,14.330127018922195 L 5.0,10.0 L 7.499999999999998,5.669872981077807 L 12.5,5.669872981077807 L 15.0,10.0 z\" /></g></svg>"
      ],
      "text/plain": [
       "<shapely.geometry.polygon.Polygon at 0x1f5a957b248>"
      ]
     },
     "execution_count": 3,
     "metadata": {},
     "output_type": "execute_result"
    }
   ],
   "source": [
    "def make_hex_poly(a, x, y):\n",
    "    \"\"\"\n",
    "    Create a hexagon centered on (x, y)\n",
    "    :param a: length of the hexagon's edge\n",
    "    :param x,y: desired centroid of hex\n",
    "    :return: The shapely polygon representation of the hexagon\n",
    "    \"\"\"\n",
    "    hex_coords = [(x + math.cos(math.radians(angle)) * a, y + math.sin(math.radians(angle)) * a) for angle in range(0, 360, 60)]\n",
    "    return sg.Polygon(hex_coords)\n",
    "hex1 = make_hex_poly(5,10,10)\n",
    "hex1"
   ]
  },
  {
   "cell_type": "code",
   "execution_count": 4,
   "metadata": {},
   "outputs": [],
   "source": [
    "def generate_degen(geom,pps=5):\n",
    "    \"\"\"\n",
    "    geom is the input shapely type polygon (must be valid pls)\n",
    "    pps is points per side to generate fr the polygon\n",
    "    \"\"\"\n",
    "    \n",
    "#     pps=5 # points per side\n",
    "    \n",
    "    \n",
    "#     get normalized vec values\n",
    "    coords = geom.exterior.coords[:]\n",
    "    coords_arr = np.array(coords)\n",
    "    vector_rep = np.diff(coords_arr,axis = 0)\n",
    "    distances = np.linalg.norm(vector_rep,axis = 1)\n",
    "    \n",
    "    idx_dict = {\"distance\":0, \n",
    "               \"vector\":1,\n",
    "               \"coords\":2}\n",
    "    \n",
    "    final_coords=[]\n",
    "    dist_scaler = 10\n",
    "    for e,d_v_c in enumerate(zip(distances,vector_rep,coords_arr)):\n",
    "        d= d_v_c[idx_dict['distance']]\n",
    "        v = d_v_c[idx_dict['vector']]\n",
    "        c = d_v_c[idx_dict['coords']]\n",
    "#         print(c)\n",
    "        u = v/d\n",
    "#         side_pts = np.random.randint(1,d*10,(pps))/11 # dont want a chance of zero \n",
    "        side_pts = random.sample(range(1, math.floor(d*dist_scaler)), pps)\n",
    "    \n",
    "        # maintain proper sequence by sorting distance scalars and prepending starting pt of current vector\n",
    "        side_pts.sort() \n",
    "        new_offset = [c + u*du/dist_scaler for du in side_pts]\n",
    "        final_coords+= [c] + new_offset #+ list(coords[e+1])\n",
    "        \n",
    "    return final_coords\n",
    "#         print(u)\n",
    "        "
   ]
  },
  {
   "cell_type": "code",
   "execution_count": 5,
   "metadata": {},
   "outputs": [],
   "source": [
    "after = generate_degen(hex1)"
   ]
  },
  {
   "cell_type": "code",
   "execution_count": 6,
   "metadata": {},
   "outputs": [
    {
     "data": {
      "image/svg+xml": [
       "<svg xmlns=\"http://www.w3.org/2000/svg\" xmlns:xlink=\"http://www.w3.org/1999/xlink\" width=\"100.0\" height=\"100.0\" viewBox=\"4.6 5.269872981077807 10.8 9.460254037844388\" preserveAspectRatio=\"xMinYMin meet\"><g transform=\"matrix(1,0,0,-1,0,20.0)\"><path fill-rule=\"evenodd\" fill=\"#66cc99\" stroke=\"#555555\" stroke-width=\"0.21600000000000003\" opacity=\"0.6\" d=\"M 15.0,10.0 L 14.8,10.346410161513775 L 14.3,11.212435565298215 L 14.25,11.299038105676658 L 13.95,11.818653347947322 L 13.75,12.165063509461095 L 12.5,14.330127018922193 L 11.7,14.330127018922193 L 11.1,14.330127018922193 L 10.6,14.330127018922193 L 9.0,14.330127018922195 L 8.4,14.330127018922195 L 7.500000000000001,14.330127018922195 L 7.000000000000001,13.464101615137755 L 6.800000000000001,13.11769145362398 L 6.6000000000000005,12.771281292110205 L 5.700000000000001,11.212435565298215 L 5.550000000000001,10.952627944162884 L 5.0,10.0 L 5.949999999999999,8.354551732809567 L 6.0,8.267949192431121 L 6.25,7.834936490538903 L 7.1,6.362693304105357 L 7.1499999999999995,6.276090763726913 L 7.499999999999998,5.669872981077807 L 9.499999999999998,5.669872981077807 L 9.899999999999999,5.669872981077807 L 10.299999999999997,5.669872981077807 L 10.999999999999998,5.669872981077807 L 11.499999999999998,5.669872981077807 L 12.5,5.669872981077807 L 12.6,5.843078061834695 L 12.85,6.2760907637269145 L 13.05,6.62250092524069 L 13.6,7.5751288694035726 L 13.8,7.921539030917348 L 15.0,10.0 z\" /></g></svg>"
      ],
      "text/plain": [
       "<shapely.geometry.polygon.Polygon at 0x1f5a958aa48>"
      ]
     },
     "execution_count": 6,
     "metadata": {},
     "output_type": "execute_result"
    }
   ],
   "source": [
    "sg.Polygon(after)"
   ]
  },
  {
   "cell_type": "code",
   "execution_count": 7,
   "metadata": {},
   "outputs": [],
   "source": [
    "after_pts = [sg.Point(x) for x in after]\n",
    "after_mpts = sg.MultiPoint(after_pts)"
   ]
  },
  {
   "cell_type": "code",
   "execution_count": 8,
   "metadata": {},
   "outputs": [
    {
     "data": {
      "image/svg+xml": [
       "<svg xmlns=\"http://www.w3.org/2000/svg\" xmlns:xlink=\"http://www.w3.org/1999/xlink\" width=\"100.0\" height=\"100.0\" viewBox=\"4.6 5.269872981077807 10.8 9.460254037844388\" preserveAspectRatio=\"xMinYMin meet\"><g transform=\"matrix(1,0,0,-1,0,20.0)\"><g><circle cx=\"15.0\" cy=\"10.0\" r=\"0.32400000000000007\" stroke=\"#555555\" stroke-width=\"0.10800000000000001\" fill=\"#66cc99\" opacity=\"0.6\" /><circle cx=\"14.8\" cy=\"10.346410161513775\" r=\"0.32400000000000007\" stroke=\"#555555\" stroke-width=\"0.10800000000000001\" fill=\"#66cc99\" opacity=\"0.6\" /><circle cx=\"14.3\" cy=\"11.212435565298215\" r=\"0.32400000000000007\" stroke=\"#555555\" stroke-width=\"0.10800000000000001\" fill=\"#66cc99\" opacity=\"0.6\" /><circle cx=\"14.25\" cy=\"11.299038105676658\" r=\"0.32400000000000007\" stroke=\"#555555\" stroke-width=\"0.10800000000000001\" fill=\"#66cc99\" opacity=\"0.6\" /><circle cx=\"13.95\" cy=\"11.818653347947322\" r=\"0.32400000000000007\" stroke=\"#555555\" stroke-width=\"0.10800000000000001\" fill=\"#66cc99\" opacity=\"0.6\" /><circle cx=\"13.75\" cy=\"12.165063509461095\" r=\"0.32400000000000007\" stroke=\"#555555\" stroke-width=\"0.10800000000000001\" fill=\"#66cc99\" opacity=\"0.6\" /><circle cx=\"12.5\" cy=\"14.330127018922193\" r=\"0.32400000000000007\" stroke=\"#555555\" stroke-width=\"0.10800000000000001\" fill=\"#66cc99\" opacity=\"0.6\" /><circle cx=\"11.7\" cy=\"14.330127018922193\" r=\"0.32400000000000007\" stroke=\"#555555\" stroke-width=\"0.10800000000000001\" fill=\"#66cc99\" opacity=\"0.6\" /><circle cx=\"11.1\" cy=\"14.330127018922193\" r=\"0.32400000000000007\" stroke=\"#555555\" stroke-width=\"0.10800000000000001\" fill=\"#66cc99\" opacity=\"0.6\" /><circle cx=\"10.6\" cy=\"14.330127018922193\" r=\"0.32400000000000007\" stroke=\"#555555\" stroke-width=\"0.10800000000000001\" fill=\"#66cc99\" opacity=\"0.6\" /><circle cx=\"9.0\" cy=\"14.330127018922195\" r=\"0.32400000000000007\" stroke=\"#555555\" stroke-width=\"0.10800000000000001\" fill=\"#66cc99\" opacity=\"0.6\" /><circle cx=\"8.4\" cy=\"14.330127018922195\" r=\"0.32400000000000007\" stroke=\"#555555\" stroke-width=\"0.10800000000000001\" fill=\"#66cc99\" opacity=\"0.6\" /><circle cx=\"7.500000000000001\" cy=\"14.330127018922195\" r=\"0.32400000000000007\" stroke=\"#555555\" stroke-width=\"0.10800000000000001\" fill=\"#66cc99\" opacity=\"0.6\" /><circle cx=\"7.000000000000001\" cy=\"13.464101615137755\" r=\"0.32400000000000007\" stroke=\"#555555\" stroke-width=\"0.10800000000000001\" fill=\"#66cc99\" opacity=\"0.6\" /><circle cx=\"6.800000000000001\" cy=\"13.11769145362398\" r=\"0.32400000000000007\" stroke=\"#555555\" stroke-width=\"0.10800000000000001\" fill=\"#66cc99\" opacity=\"0.6\" /><circle cx=\"6.6000000000000005\" cy=\"12.771281292110205\" r=\"0.32400000000000007\" stroke=\"#555555\" stroke-width=\"0.10800000000000001\" fill=\"#66cc99\" opacity=\"0.6\" /><circle cx=\"5.700000000000001\" cy=\"11.212435565298215\" r=\"0.32400000000000007\" stroke=\"#555555\" stroke-width=\"0.10800000000000001\" fill=\"#66cc99\" opacity=\"0.6\" /><circle cx=\"5.550000000000001\" cy=\"10.952627944162884\" r=\"0.32400000000000007\" stroke=\"#555555\" stroke-width=\"0.10800000000000001\" fill=\"#66cc99\" opacity=\"0.6\" /><circle cx=\"5.0\" cy=\"10.0\" r=\"0.32400000000000007\" stroke=\"#555555\" stroke-width=\"0.10800000000000001\" fill=\"#66cc99\" opacity=\"0.6\" /><circle cx=\"5.949999999999999\" cy=\"8.354551732809567\" r=\"0.32400000000000007\" stroke=\"#555555\" stroke-width=\"0.10800000000000001\" fill=\"#66cc99\" opacity=\"0.6\" /><circle cx=\"6.0\" cy=\"8.267949192431121\" r=\"0.32400000000000007\" stroke=\"#555555\" stroke-width=\"0.10800000000000001\" fill=\"#66cc99\" opacity=\"0.6\" /><circle cx=\"6.25\" cy=\"7.834936490538903\" r=\"0.32400000000000007\" stroke=\"#555555\" stroke-width=\"0.10800000000000001\" fill=\"#66cc99\" opacity=\"0.6\" /><circle cx=\"7.1\" cy=\"6.362693304105357\" r=\"0.32400000000000007\" stroke=\"#555555\" stroke-width=\"0.10800000000000001\" fill=\"#66cc99\" opacity=\"0.6\" /><circle cx=\"7.1499999999999995\" cy=\"6.276090763726913\" r=\"0.32400000000000007\" stroke=\"#555555\" stroke-width=\"0.10800000000000001\" fill=\"#66cc99\" opacity=\"0.6\" /><circle cx=\"7.499999999999998\" cy=\"5.669872981077807\" r=\"0.32400000000000007\" stroke=\"#555555\" stroke-width=\"0.10800000000000001\" fill=\"#66cc99\" opacity=\"0.6\" /><circle cx=\"9.499999999999998\" cy=\"5.669872981077807\" r=\"0.32400000000000007\" stroke=\"#555555\" stroke-width=\"0.10800000000000001\" fill=\"#66cc99\" opacity=\"0.6\" /><circle cx=\"9.899999999999999\" cy=\"5.669872981077807\" r=\"0.32400000000000007\" stroke=\"#555555\" stroke-width=\"0.10800000000000001\" fill=\"#66cc99\" opacity=\"0.6\" /><circle cx=\"10.299999999999997\" cy=\"5.669872981077807\" r=\"0.32400000000000007\" stroke=\"#555555\" stroke-width=\"0.10800000000000001\" fill=\"#66cc99\" opacity=\"0.6\" /><circle cx=\"10.999999999999998\" cy=\"5.669872981077807\" r=\"0.32400000000000007\" stroke=\"#555555\" stroke-width=\"0.10800000000000001\" fill=\"#66cc99\" opacity=\"0.6\" /><circle cx=\"11.499999999999998\" cy=\"5.669872981077807\" r=\"0.32400000000000007\" stroke=\"#555555\" stroke-width=\"0.10800000000000001\" fill=\"#66cc99\" opacity=\"0.6\" /><circle cx=\"12.5\" cy=\"5.669872981077807\" r=\"0.32400000000000007\" stroke=\"#555555\" stroke-width=\"0.10800000000000001\" fill=\"#66cc99\" opacity=\"0.6\" /><circle cx=\"12.6\" cy=\"5.843078061834695\" r=\"0.32400000000000007\" stroke=\"#555555\" stroke-width=\"0.10800000000000001\" fill=\"#66cc99\" opacity=\"0.6\" /><circle cx=\"12.85\" cy=\"6.2760907637269145\" r=\"0.32400000000000007\" stroke=\"#555555\" stroke-width=\"0.10800000000000001\" fill=\"#66cc99\" opacity=\"0.6\" /><circle cx=\"13.05\" cy=\"6.62250092524069\" r=\"0.32400000000000007\" stroke=\"#555555\" stroke-width=\"0.10800000000000001\" fill=\"#66cc99\" opacity=\"0.6\" /><circle cx=\"13.6\" cy=\"7.5751288694035726\" r=\"0.32400000000000007\" stroke=\"#555555\" stroke-width=\"0.10800000000000001\" fill=\"#66cc99\" opacity=\"0.6\" /><circle cx=\"13.8\" cy=\"7.921539030917348\" r=\"0.32400000000000007\" stroke=\"#555555\" stroke-width=\"0.10800000000000001\" fill=\"#66cc99\" opacity=\"0.6\" /></g></g></svg>"
      ],
      "text/plain": [
       "<shapely.geometry.multipoint.MultiPoint at 0x1f5a9584d48>"
      ]
     },
     "execution_count": 8,
     "metadata": {},
     "output_type": "execute_result"
    }
   ],
   "source": [
    "after_mpts\n"
   ]
  },
  {
   "cell_type": "code",
   "execution_count": 9,
   "metadata": {},
   "outputs": [
    {
     "data": {
      "image/svg+xml": [
       "<svg xmlns=\"http://www.w3.org/2000/svg\" xmlns:xlink=\"http://www.w3.org/1999/xlink\" width=\"100.0\" height=\"100.0\" viewBox=\"4.6 5.269872981077807 10.8 9.460254037844388\" preserveAspectRatio=\"xMinYMin meet\"><g transform=\"matrix(1,0,0,-1,0,20.0)\"><g><circle cx=\"15.0\" cy=\"10.0\" r=\"0.32400000000000007\" stroke=\"#555555\" stroke-width=\"0.10800000000000001\" fill=\"#66cc99\" opacity=\"0.6\" /><circle cx=\"14.8\" cy=\"10.346410161513775\" r=\"0.32400000000000007\" stroke=\"#555555\" stroke-width=\"0.10800000000000001\" fill=\"#66cc99\" opacity=\"0.6\" /><circle cx=\"14.3\" cy=\"11.212435565298215\" r=\"0.32400000000000007\" stroke=\"#555555\" stroke-width=\"0.10800000000000001\" fill=\"#66cc99\" opacity=\"0.6\" /><circle cx=\"14.25\" cy=\"11.299038105676658\" r=\"0.32400000000000007\" stroke=\"#555555\" stroke-width=\"0.10800000000000001\" fill=\"#66cc99\" opacity=\"0.6\" /><circle cx=\"13.95\" cy=\"11.818653347947322\" r=\"0.32400000000000007\" stroke=\"#555555\" stroke-width=\"0.10800000000000001\" fill=\"#66cc99\" opacity=\"0.6\" /><circle cx=\"13.75\" cy=\"12.165063509461095\" r=\"0.32400000000000007\" stroke=\"#555555\" stroke-width=\"0.10800000000000001\" fill=\"#66cc99\" opacity=\"0.6\" /><circle cx=\"12.5\" cy=\"14.330127018922193\" r=\"0.32400000000000007\" stroke=\"#555555\" stroke-width=\"0.10800000000000001\" fill=\"#66cc99\" opacity=\"0.6\" /><circle cx=\"11.7\" cy=\"14.330127018922193\" r=\"0.32400000000000007\" stroke=\"#555555\" stroke-width=\"0.10800000000000001\" fill=\"#66cc99\" opacity=\"0.6\" /><circle cx=\"11.1\" cy=\"14.330127018922193\" r=\"0.32400000000000007\" stroke=\"#555555\" stroke-width=\"0.10800000000000001\" fill=\"#66cc99\" opacity=\"0.6\" /><circle cx=\"10.6\" cy=\"14.330127018922193\" r=\"0.32400000000000007\" stroke=\"#555555\" stroke-width=\"0.10800000000000001\" fill=\"#66cc99\" opacity=\"0.6\" /><circle cx=\"9.0\" cy=\"14.330127018922195\" r=\"0.32400000000000007\" stroke=\"#555555\" stroke-width=\"0.10800000000000001\" fill=\"#66cc99\" opacity=\"0.6\" /><circle cx=\"8.4\" cy=\"14.330127018922195\" r=\"0.32400000000000007\" stroke=\"#555555\" stroke-width=\"0.10800000000000001\" fill=\"#66cc99\" opacity=\"0.6\" /><circle cx=\"7.500000000000001\" cy=\"14.330127018922195\" r=\"0.32400000000000007\" stroke=\"#555555\" stroke-width=\"0.10800000000000001\" fill=\"#66cc99\" opacity=\"0.6\" /><circle cx=\"7.000000000000001\" cy=\"13.464101615137755\" r=\"0.32400000000000007\" stroke=\"#555555\" stroke-width=\"0.10800000000000001\" fill=\"#66cc99\" opacity=\"0.6\" /><circle cx=\"6.800000000000001\" cy=\"13.11769145362398\" r=\"0.32400000000000007\" stroke=\"#555555\" stroke-width=\"0.10800000000000001\" fill=\"#66cc99\" opacity=\"0.6\" /><circle cx=\"6.6000000000000005\" cy=\"12.771281292110205\" r=\"0.32400000000000007\" stroke=\"#555555\" stroke-width=\"0.10800000000000001\" fill=\"#66cc99\" opacity=\"0.6\" /><circle cx=\"5.700000000000001\" cy=\"11.212435565298215\" r=\"0.32400000000000007\" stroke=\"#555555\" stroke-width=\"0.10800000000000001\" fill=\"#66cc99\" opacity=\"0.6\" /><circle cx=\"5.550000000000001\" cy=\"10.952627944162884\" r=\"0.32400000000000007\" stroke=\"#555555\" stroke-width=\"0.10800000000000001\" fill=\"#66cc99\" opacity=\"0.6\" /><circle cx=\"5.0\" cy=\"10.0\" r=\"0.32400000000000007\" stroke=\"#555555\" stroke-width=\"0.10800000000000001\" fill=\"#66cc99\" opacity=\"0.6\" /><circle cx=\"5.949999999999999\" cy=\"8.354551732809567\" r=\"0.32400000000000007\" stroke=\"#555555\" stroke-width=\"0.10800000000000001\" fill=\"#66cc99\" opacity=\"0.6\" /><circle cx=\"6.0\" cy=\"8.267949192431121\" r=\"0.32400000000000007\" stroke=\"#555555\" stroke-width=\"0.10800000000000001\" fill=\"#66cc99\" opacity=\"0.6\" /><circle cx=\"6.25\" cy=\"7.834936490538903\" r=\"0.32400000000000007\" stroke=\"#555555\" stroke-width=\"0.10800000000000001\" fill=\"#66cc99\" opacity=\"0.6\" /><circle cx=\"7.1\" cy=\"6.362693304105357\" r=\"0.32400000000000007\" stroke=\"#555555\" stroke-width=\"0.10800000000000001\" fill=\"#66cc99\" opacity=\"0.6\" /><circle cx=\"7.1499999999999995\" cy=\"6.276090763726913\" r=\"0.32400000000000007\" stroke=\"#555555\" stroke-width=\"0.10800000000000001\" fill=\"#66cc99\" opacity=\"0.6\" /><circle cx=\"7.499999999999998\" cy=\"5.669872981077807\" r=\"0.32400000000000007\" stroke=\"#555555\" stroke-width=\"0.10800000000000001\" fill=\"#66cc99\" opacity=\"0.6\" /><circle cx=\"9.499999999999998\" cy=\"5.669872981077807\" r=\"0.32400000000000007\" stroke=\"#555555\" stroke-width=\"0.10800000000000001\" fill=\"#66cc99\" opacity=\"0.6\" /><circle cx=\"9.899999999999999\" cy=\"5.669872981077807\" r=\"0.32400000000000007\" stroke=\"#555555\" stroke-width=\"0.10800000000000001\" fill=\"#66cc99\" opacity=\"0.6\" /><circle cx=\"10.299999999999997\" cy=\"5.669872981077807\" r=\"0.32400000000000007\" stroke=\"#555555\" stroke-width=\"0.10800000000000001\" fill=\"#66cc99\" opacity=\"0.6\" /><circle cx=\"10.999999999999998\" cy=\"5.669872981077807\" r=\"0.32400000000000007\" stroke=\"#555555\" stroke-width=\"0.10800000000000001\" fill=\"#66cc99\" opacity=\"0.6\" /><circle cx=\"11.499999999999998\" cy=\"5.669872981077807\" r=\"0.32400000000000007\" stroke=\"#555555\" stroke-width=\"0.10800000000000001\" fill=\"#66cc99\" opacity=\"0.6\" /><circle cx=\"12.5\" cy=\"5.669872981077807\" r=\"0.32400000000000007\" stroke=\"#555555\" stroke-width=\"0.10800000000000001\" fill=\"#66cc99\" opacity=\"0.6\" /><circle cx=\"12.6\" cy=\"5.843078061834695\" r=\"0.32400000000000007\" stroke=\"#555555\" stroke-width=\"0.10800000000000001\" fill=\"#66cc99\" opacity=\"0.6\" /><circle cx=\"12.85\" cy=\"6.2760907637269145\" r=\"0.32400000000000007\" stroke=\"#555555\" stroke-width=\"0.10800000000000001\" fill=\"#66cc99\" opacity=\"0.6\" /><circle cx=\"13.05\" cy=\"6.62250092524069\" r=\"0.32400000000000007\" stroke=\"#555555\" stroke-width=\"0.10800000000000001\" fill=\"#66cc99\" opacity=\"0.6\" /><circle cx=\"13.6\" cy=\"7.5751288694035726\" r=\"0.32400000000000007\" stroke=\"#555555\" stroke-width=\"0.10800000000000001\" fill=\"#66cc99\" opacity=\"0.6\" /><circle cx=\"13.8\" cy=\"7.921539030917348\" r=\"0.32400000000000007\" stroke=\"#555555\" stroke-width=\"0.10800000000000001\" fill=\"#66cc99\" opacity=\"0.6\" /><circle cx=\"15.0\" cy=\"10.0\" r=\"0.32400000000000007\" stroke=\"#555555\" stroke-width=\"0.10800000000000001\" fill=\"#66cc99\" opacity=\"0.6\" /></g></g></svg>"
      ],
      "text/plain": [
       "<shapely.geometry.multipoint.MultiPoint at 0x1f5a940db48>"
      ]
     },
     "execution_count": 9,
     "metadata": {},
     "output_type": "execute_result"
    }
   ],
   "source": [
    "poly_as_mpt(sg.Polygon(after_pts))"
   ]
  },
  {
   "cell_type": "code",
   "execution_count": 10,
   "metadata": {},
   "outputs": [
    {
     "data": {
      "image/svg+xml": [
       "<svg xmlns=\"http://www.w3.org/2000/svg\" xmlns:xlink=\"http://www.w3.org/1999/xlink\" width=\"100.0\" height=\"100.0\" viewBox=\"4.6 5.269872981077807 10.8 9.460254037844388\" preserveAspectRatio=\"xMinYMin meet\"><g transform=\"matrix(1,0,0,-1,0,20.0)\"><g><circle cx=\"15.0\" cy=\"10.0\" r=\"0.32400000000000007\" stroke=\"#555555\" stroke-width=\"0.10800000000000001\" fill=\"#66cc99\" opacity=\"0.6\" /><circle cx=\"12.5\" cy=\"14.330127018922193\" r=\"0.32400000000000007\" stroke=\"#555555\" stroke-width=\"0.10800000000000001\" fill=\"#66cc99\" opacity=\"0.6\" /><circle cx=\"7.500000000000001\" cy=\"14.330127018922195\" r=\"0.32400000000000007\" stroke=\"#555555\" stroke-width=\"0.10800000000000001\" fill=\"#66cc99\" opacity=\"0.6\" /><circle cx=\"5.0\" cy=\"10.0\" r=\"0.32400000000000007\" stroke=\"#555555\" stroke-width=\"0.10800000000000001\" fill=\"#66cc99\" opacity=\"0.6\" /><circle cx=\"7.499999999999998\" cy=\"5.669872981077807\" r=\"0.32400000000000007\" stroke=\"#555555\" stroke-width=\"0.10800000000000001\" fill=\"#66cc99\" opacity=\"0.6\" /><circle cx=\"12.5\" cy=\"5.669872981077807\" r=\"0.32400000000000007\" stroke=\"#555555\" stroke-width=\"0.10800000000000001\" fill=\"#66cc99\" opacity=\"0.6\" /><circle cx=\"15.0\" cy=\"10.0\" r=\"0.32400000000000007\" stroke=\"#555555\" stroke-width=\"0.10800000000000001\" fill=\"#66cc99\" opacity=\"0.6\" /></g></g></svg>"
      ],
      "text/plain": [
       "<shapely.geometry.multipoint.MultiPoint at 0x1f5a9584e88>"
      ]
     },
     "execution_count": 10,
     "metadata": {},
     "output_type": "execute_result"
    }
   ],
   "source": [
    "poly_as_mpt(simplify_by_interior_angle(sg.Polygon(after_pts)))"
   ]
  },
  {
   "cell_type": "code",
   "execution_count": 11,
   "metadata": {},
   "outputs": [
    {
     "data": {
      "image/svg+xml": [
       "<svg xmlns=\"http://www.w3.org/2000/svg\" xmlns:xlink=\"http://www.w3.org/1999/xlink\" width=\"100.0\" height=\"100.0\" viewBox=\"4.6 5.269872981077807 10.8 9.460254037844388\" preserveAspectRatio=\"xMinYMin meet\"><g transform=\"matrix(1,0,0,-1,0,20.0)\"><path fill-rule=\"evenodd\" fill=\"#66cc99\" stroke=\"#555555\" stroke-width=\"0.21600000000000003\" opacity=\"0.6\" d=\"M 15.0,10.0 L 12.5,14.330127018922193 L 7.500000000000001,14.330127018922195 L 5.0,10.0 L 7.499999999999998,5.669872981077807 L 12.5,5.669872981077807 L 15.0,10.0 z\" /></g></svg>"
      ],
      "text/plain": [
       "<shapely.geometry.polygon.Polygon at 0x1f5a958fa48>"
      ]
     },
     "execution_count": 11,
     "metadata": {},
     "output_type": "execute_result"
    }
   ],
   "source": [
    "after_sim = simplify_by_interior_angle(sg.Polygon(after))\n",
    "after_sim"
   ]
  },
  {
   "cell_type": "code",
   "execution_count": 12,
   "metadata": {},
   "outputs": [
    {
     "data": {
      "image/svg+xml": [
       "<svg xmlns=\"http://www.w3.org/2000/svg\" xmlns:xlink=\"http://www.w3.org/1999/xlink\" width=\"100.0\" height=\"100.0\" viewBox=\"4.6 5.269872981077807 10.8 9.460254037844388\" preserveAspectRatio=\"xMinYMin meet\"><g transform=\"matrix(1,0,0,-1,0,20.0)\"><g><circle cx=\"15.0\" cy=\"10.0\" r=\"0.32400000000000007\" stroke=\"#555555\" stroke-width=\"0.10800000000000001\" fill=\"#66cc99\" opacity=\"0.6\" /><circle cx=\"12.5\" cy=\"14.330127018922193\" r=\"0.32400000000000007\" stroke=\"#555555\" stroke-width=\"0.10800000000000001\" fill=\"#66cc99\" opacity=\"0.6\" /><circle cx=\"7.500000000000001\" cy=\"14.330127018922195\" r=\"0.32400000000000007\" stroke=\"#555555\" stroke-width=\"0.10800000000000001\" fill=\"#66cc99\" opacity=\"0.6\" /><circle cx=\"5.0\" cy=\"10.0\" r=\"0.32400000000000007\" stroke=\"#555555\" stroke-width=\"0.10800000000000001\" fill=\"#66cc99\" opacity=\"0.6\" /><circle cx=\"7.499999999999998\" cy=\"5.669872981077807\" r=\"0.32400000000000007\" stroke=\"#555555\" stroke-width=\"0.10800000000000001\" fill=\"#66cc99\" opacity=\"0.6\" /><circle cx=\"12.5\" cy=\"5.669872981077807\" r=\"0.32400000000000007\" stroke=\"#555555\" stroke-width=\"0.10800000000000001\" fill=\"#66cc99\" opacity=\"0.6\" /><circle cx=\"15.0\" cy=\"10.0\" r=\"0.32400000000000007\" stroke=\"#555555\" stroke-width=\"0.10800000000000001\" fill=\"#66cc99\" opacity=\"0.6\" /></g></g></svg>"
      ],
      "text/plain": [
       "<shapely.geometry.multipoint.MultiPoint at 0x1f5a9575f08>"
      ]
     },
     "execution_count": 12,
     "metadata": {},
     "output_type": "execute_result"
    }
   ],
   "source": [
    "poly_as_mpt(after_sim)"
   ]
  },
  {
   "cell_type": "code",
   "execution_count": 13,
   "metadata": {},
   "outputs": [
    {
     "data": {
      "text/plain": [
       "7"
      ]
     },
     "execution_count": 13,
     "metadata": {},
     "output_type": "execute_result"
    }
   ],
   "source": [
    "len(after_sim.exterior.coords[:])"
   ]
  },
  {
   "cell_type": "code",
   "execution_count": 14,
   "metadata": {},
   "outputs": [
    {
     "data": {
      "image/svg+xml": [
       "<svg xmlns=\"http://www.w3.org/2000/svg\" xmlns:xlink=\"http://www.w3.org/1999/xlink\" width=\"100.0\" height=\"100.0\" viewBox=\"4.6 5.269872981077807 10.8 9.460254037844388\" preserveAspectRatio=\"xMinYMin meet\"><g transform=\"matrix(1,0,0,-1,0,20.0)\"><g><circle cx=\"15.0\" cy=\"10.0\" r=\"0.32400000000000007\" stroke=\"#555555\" stroke-width=\"0.10800000000000001\" fill=\"#66cc99\" opacity=\"0.6\" /><circle cx=\"12.5\" cy=\"14.330127018922193\" r=\"0.32400000000000007\" stroke=\"#555555\" stroke-width=\"0.10800000000000001\" fill=\"#66cc99\" opacity=\"0.6\" /><circle cx=\"9.0\" cy=\"14.330127018922195\" r=\"0.32400000000000007\" stroke=\"#555555\" stroke-width=\"0.10800000000000001\" fill=\"#66cc99\" opacity=\"0.6\" /><circle cx=\"7.500000000000001\" cy=\"14.330127018922195\" r=\"0.32400000000000007\" stroke=\"#555555\" stroke-width=\"0.10800000000000001\" fill=\"#66cc99\" opacity=\"0.6\" /><circle cx=\"5.0\" cy=\"10.0\" r=\"0.32400000000000007\" stroke=\"#555555\" stroke-width=\"0.10800000000000001\" fill=\"#66cc99\" opacity=\"0.6\" /><circle cx=\"7.499999999999998\" cy=\"5.669872981077807\" r=\"0.32400000000000007\" stroke=\"#555555\" stroke-width=\"0.10800000000000001\" fill=\"#66cc99\" opacity=\"0.6\" /><circle cx=\"12.5\" cy=\"5.669872981077807\" r=\"0.32400000000000007\" stroke=\"#555555\" stroke-width=\"0.10800000000000001\" fill=\"#66cc99\" opacity=\"0.6\" /><circle cx=\"15.0\" cy=\"10.0\" r=\"0.32400000000000007\" stroke=\"#555555\" stroke-width=\"0.10800000000000001\" fill=\"#66cc99\" opacity=\"0.6\" /></g></g></svg>"
      ],
      "text/plain": [
       "<shapely.geometry.multipoint.MultiPoint at 0x1f5a9570848>"
      ]
     },
     "execution_count": 14,
     "metadata": {},
     "output_type": "execute_result"
    }
   ],
   "source": [
    "# with simplify og\n",
    "test_simp = sg.Polygon(after).simplify(1e-5)\n",
    "poly_as_mpt(test_simp)\n"
   ]
  },
  {
   "cell_type": "code",
   "execution_count": 82,
   "metadata": {},
   "outputs": [],
   "source": [
    "def generate_random_polygon( n):\n",
    "\n",
    "    x = np.random.randint(0,50,n)\n",
    "    y = np.random.randint(0,50,n)\n",
    "    centroid = [np.sum(x)/n, np.sum(y)/n]\n",
    "\n",
    "    angles = np.arctan2(x-centroid[0], y-centroid[1])\n",
    "\n",
    "    ##sorting the points by angle\n",
    "    coords_by_theta = sorted([((xx,yy),theta) for xx,yy,theta in zip(x,y,angles)], key = lambda t: t[1])\n",
    "\n",
    "    ##making sure that there are no duplicates:\n",
    "    if len(coords_by_theta) != len(set(coords_by_theta)):\n",
    "        raise Exception('need re run (recurse potentially in future)')\n",
    "\n",
    "    xy,angles = zip(*coords_by_theta)\n",
    "#     append first point to end for complete linear ring sequence\n",
    "#     xy.append(xy[0])\n",
    "    xy = list(xy)\n",
    "    xy.append(xy[0])\n",
    "    return xy\n",
    "\n"
   ]
  },
  {
   "cell_type": "code",
   "execution_count": 100,
   "metadata": {},
   "outputs": [
    {
     "data": {
      "image/svg+xml": [
       "<svg xmlns=\"http://www.w3.org/2000/svg\" xmlns:xlink=\"http://www.w3.org/1999/xlink\" width=\"100.0\" height=\"100.0\" viewBox=\"9.6 10.6 37.8 26.799999999999997\" preserveAspectRatio=\"xMinYMin meet\"><g transform=\"matrix(1,0,0,-1,0,48.0)\"><path fill-rule=\"evenodd\" fill=\"#66cc99\" stroke=\"#555555\" stroke-width=\"0.7559999999999999\" opacity=\"0.6\" d=\"M 21.0,12.0 L 17.0,22.0 L 11.0,36.0 L 14.0,36.0 L 22.0,30.0 L 46.0,34.0 L 28.0,14.0 L 21.0,12.0 z\" /></g></svg>"
      ],
      "text/plain": [
       "<shapely.geometry.polygon.Polygon at 0x1f5ac837788>"
      ]
     },
     "execution_count": 100,
     "metadata": {},
     "output_type": "execute_result"
    }
   ],
   "source": [
    "vals = generate_random_polygon(7)\n",
    "rand_poly = sg.Polygon(sg.Point(x) for x in vals)\n",
    "rand_poly"
   ]
  },
  {
   "cell_type": "code",
   "execution_count": 107,
   "metadata": {},
   "outputs": [],
   "source": [
    "df_poly = pd.DataFrame(columns=['poly_wkt'])\n",
    "df_poly.loc[0] = rand_poly.wkt"
   ]
  },
  {
   "cell_type": "code",
   "execution_count": 109,
   "metadata": {},
   "outputs": [],
   "source": [
    "df_poly.to_pickle('./randpolys.pkl')\n"
   ]
  },
  {
   "cell_type": "code",
   "execution_count": null,
   "metadata": {},
   "outputs": [],
   "source": [
    "testdf = pd.read"
   ]
  },
  {
   "cell_type": "code",
   "execution_count": null,
   "metadata": {},
   "outputs": [],
   "source": [
    "rand_poly.wkt\n"
   ]
  },
  {
   "cell_type": "code",
   "execution_count": 96,
   "metadata": {},
   "outputs": [
    {
     "data": {
      "image/svg+xml": [
       "<svg xmlns=\"http://www.w3.org/2000/svg\" xmlns:xlink=\"http://www.w3.org/1999/xlink\" width=\"100.0\" height=\"100.0\" viewBox=\"-0.28 5.72 33.56 34.56\" preserveAspectRatio=\"xMinYMin meet\"><g transform=\"matrix(1,0,0,-1,0,46.0)\"><path fill-rule=\"evenodd\" fill=\"#66cc99\" stroke=\"#555555\" stroke-width=\"0.6912\" opacity=\"0.6\" d=\"M 3.0,10.0 L 3.0,28.0 L 1.0,39.0 L 16.0,32.0 L 18.0,28.0 L 32.0,29.0 L 22.0,7.0 L 3.0,10.0 z\" /></g></svg>"
      ],
      "text/plain": [
       "<shapely.geometry.polygon.Polygon at 0x1f5ac058b48>"
      ]
     },
     "execution_count": 96,
     "metadata": {},
     "output_type": "execute_result"
    }
   ],
   "source": [
    "simplify_by_interior_angle(rand_poly)"
   ]
  },
  {
   "cell_type": "code",
   "execution_count": 97,
   "metadata": {},
   "outputs": [
    {
     "data": {
      "image/svg+xml": [
       "<svg xmlns=\"http://www.w3.org/2000/svg\" xmlns:xlink=\"http://www.w3.org/1999/xlink\" width=\"100.0\" height=\"100.0\" viewBox=\"-0.28 5.72 33.56 34.56\" preserveAspectRatio=\"xMinYMin meet\"><g transform=\"matrix(1,0,0,-1,0,46.0)\"><g><circle cx=\"3.0\" cy=\"10.0\" r=\"1.0368\" stroke=\"#555555\" stroke-width=\"0.3456\" fill=\"#66cc99\" opacity=\"0.6\" /><circle cx=\"3.0\" cy=\"28.0\" r=\"1.0368\" stroke=\"#555555\" stroke-width=\"0.3456\" fill=\"#66cc99\" opacity=\"0.6\" /><circle cx=\"1.0\" cy=\"39.0\" r=\"1.0368\" stroke=\"#555555\" stroke-width=\"0.3456\" fill=\"#66cc99\" opacity=\"0.6\" /><circle cx=\"16.0\" cy=\"32.0\" r=\"1.0368\" stroke=\"#555555\" stroke-width=\"0.3456\" fill=\"#66cc99\" opacity=\"0.6\" /><circle cx=\"18.0\" cy=\"28.0\" r=\"1.0368\" stroke=\"#555555\" stroke-width=\"0.3456\" fill=\"#66cc99\" opacity=\"0.6\" /><circle cx=\"32.0\" cy=\"29.0\" r=\"1.0368\" stroke=\"#555555\" stroke-width=\"0.3456\" fill=\"#66cc99\" opacity=\"0.6\" /><circle cx=\"22.0\" cy=\"7.0\" r=\"1.0368\" stroke=\"#555555\" stroke-width=\"0.3456\" fill=\"#66cc99\" opacity=\"0.6\" /><circle cx=\"3.0\" cy=\"10.0\" r=\"1.0368\" stroke=\"#555555\" stroke-width=\"0.3456\" fill=\"#66cc99\" opacity=\"0.6\" /></g></g></svg>"
      ],
      "text/plain": [
       "<shapely.geometry.multipoint.MultiPoint at 0x1f5ab55ff48>"
      ]
     },
     "execution_count": 97,
     "metadata": {},
     "output_type": "execute_result"
    }
   ],
   "source": [
    "poly_as_mpt(rand_poly)"
   ]
  },
  {
   "cell_type": "code",
   "execution_count": null,
   "metadata": {},
   "outputs": [],
   "source": [
    "poly_as_mpt(simplify_by_interior_angle(rand_poly))"
   ]
  },
  {
   "cell_type": "code",
   "execution_count": null,
   "metadata": {},
   "outputs": [],
   "source": [
    "rand_poly"
   ]
  },
  {
   "cell_type": "code",
   "execution_count": null,
   "metadata": {},
   "outputs": [],
   "source": [
    "rand_degen = generate_degen(rand_poly)"
   ]
  },
  {
   "cell_type": "code",
   "execution_count": null,
   "metadata": {},
   "outputs": [],
   "source": [
    "rd_poly = sg.Polygon([sg.Point(x) for x in rand_degen])\n",
    "rd_poly"
   ]
  },
  {
   "cell_type": "code",
   "execution_count": null,
   "metadata": {},
   "outputs": [],
   "source": [
    "poly_as_mpt(rd_poly)"
   ]
  },
  {
   "cell_type": "code",
   "execution_count": null,
   "metadata": {},
   "outputs": [],
   "source": [
    "sv = 1e-1\n",
    "poly_as_mpt(rd_poly.simplify(sv))"
   ]
  },
  {
   "cell_type": "code",
   "execution_count": null,
   "metadata": {},
   "outputs": [],
   "source": [
    "poly_as_mpt(rand_poly)"
   ]
  },
  {
   "cell_type": "code",
   "execution_count": null,
   "metadata": {},
   "outputs": [],
   "source": [
    "poly_as_mpt(simplify_by_interior_angle(rd_poly))"
   ]
  },
  {
   "cell_type": "code",
   "execution_count": null,
   "metadata": {},
   "outputs": [],
   "source": []
  }
 ],
 "metadata": {
  "kernelspec": {
   "display_name": "Python 3",
   "language": "python",
   "name": "python3"
  },
  "language_info": {
   "codemirror_mode": {
    "name": "ipython",
    "version": 3
   },
   "file_extension": ".py",
   "mimetype": "text/x-python",
   "name": "python",
   "nbconvert_exporter": "python",
   "pygments_lexer": "ipython3",
   "version": "3.7.6"
  }
 },
 "nbformat": 4,
 "nbformat_minor": 4
}
