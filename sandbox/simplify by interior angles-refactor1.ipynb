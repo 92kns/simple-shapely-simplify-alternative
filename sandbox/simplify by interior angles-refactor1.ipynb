{
 "cells": [
  {
   "cell_type": "code",
   "execution_count": 1,
   "metadata": {},
   "outputs": [],
   "source": [
    "import shapely.geometry as sg\n",
    "import shapely\n",
    "import numpy as np\n",
    "import random\n",
    "import math"
   ]
  },
  {
   "cell_type": "code",
   "execution_count": 4,
   "metadata": {},
   "outputs": [],
   "source": [
    "def get_angles(vec_1,vec_2):\n",
    "    dot = np.dot(vec_1, vec_2)\n",
    "    det = np.cross(vec_1,vec_2)\n",
    "    angle_in_rad = np.arctan2(det,dot)\n",
    "    return np.degrees(angle_in_rad)\n",
    "\n",
    "\n",
    "def simplify_by_interior_angle(poly_in, deg_tol = 5):\n",
    "    \"\"\"\n",
    "    try to remove persistent coordinate points that remain after\n",
    "    simplify, convex hul, etc with some trig\n",
    "    params:\n",
    "    \n",
    "    \"\"\"\n",
    "    \n",
    "    ext_poly_coords = poly_in.exterior.coords[:]\n",
    "#     ext_poly_coords = ext_poly_coords[1:] + ext_poly_coords[:1]\n",
    "#     # reassign last to first, so we have a proper linear ring sequence for shapely polygon\n",
    "#     ext_poly_coords[-1] = ext_poly_coords[0]\n",
    "    vector_rep = np.diff(ext_poly_coords,axis = 0)\n",
    "    angles_list = []\n",
    "    for i in range(0,len(vector_rep) -1 ):\n",
    "        angles_list.append(np.abs(get_angles(vector_rep[i],vector_rep[i+1])))\n",
    "    \n",
    "  \n",
    "    thresh_vals_by_deg = np.where(np.array(angles_list) > deg_tol)\n",
    "#   gotta be a better way to do this. sandwich betweens first and last pts\n",
    "    new_idx = [0] + (thresh_vals_by_deg[0] + 1).tolist() + [0]\n",
    "    new_vertices = [ext_poly_coords[idx] for idx in new_idx]\n",
    "    \n",
    "#     add geom type check l8r, for now only interested in poly\n",
    "#     try:\n",
    "#         return sg.Polygon(new_vertices)\n",
    "#     except:\n",
    "#         return vector_rep\n",
    "    return sg.Polygon(new_vertices)\n",
    "\n",
    "def poly_as_mpt(polygon):\n",
    "    coords = polygon.exterior.coords[:]\n",
    "    as_pts = [sg.Point(x) for x in coords]\n",
    "    as_mpt = sg.MultiPoint(as_pts)\n",
    "    return as_mpt\n",
    "        "
   ]
  },
  {
   "cell_type": "markdown",
   "metadata": {},
   "source": [
    "# # try random geoms"
   ]
  },
  {
   "cell_type": "code",
   "execution_count": 6,
   "metadata": {},
   "outputs": [
    {
     "data": {
      "image/svg+xml": [
       "<svg xmlns=\"http://www.w3.org/2000/svg\" xmlns:xlink=\"http://www.w3.org/1999/xlink\" width=\"100.0\" height=\"100.0\" viewBox=\"4.6 5.269872981077807 10.8 9.460254037844388\" preserveAspectRatio=\"xMinYMin meet\"><g transform=\"matrix(1,0,0,-1,0,20.0)\"><path fill-rule=\"evenodd\" fill=\"#66cc99\" stroke=\"#555555\" stroke-width=\"0.21600000000000003\" opacity=\"0.6\" d=\"M 15.0,10.0 L 12.5,14.330127018922193 L 7.500000000000001,14.330127018922195 L 5.0,10.0 L 7.499999999999998,5.669872981077807 L 12.5,5.669872981077807 L 15.0,10.0 z\" /></g></svg>"
      ],
      "text/plain": [
       "<shapely.geometry.polygon.Polygon at 0x22016ac3d88>"
      ]
     },
     "execution_count": 6,
     "metadata": {},
     "output_type": "execute_result"
    }
   ],
   "source": [
    "def make_hex_poly(a, x, y):\n",
    "    \"\"\"\n",
    "    Create a hexagon centered on (x, y)\n",
    "    :param a: length of the hexagon's edge\n",
    "    :param x,y: desired centroid of hex\n",
    "    :return: The shapely polygon representation of the hexagon\n",
    "    \"\"\"\n",
    "    hex_coords = [(x + math.cos(math.radians(angle)) * a, y + math.sin(math.radians(angle)) * a) for angle in range(0, 360, 60)]\n",
    "    return sg.Polygon(hex_coords)\n",
    "hex1 = make_hex_poly(5,10,10)\n",
    "hex1"
   ]
  },
  {
   "cell_type": "code",
   "execution_count": 28,
   "metadata": {},
   "outputs": [],
   "source": [
    "def generate_degen(geom,pps=5):\n",
    "    \"\"\"\n",
    "    geom is the input shapely type polygon (must be valid pls)\n",
    "    pps is points per side to generate fr the polygon\n",
    "    \"\"\"\n",
    "    \n",
    "#     pps=5 # points per side\n",
    "    \n",
    "    \n",
    "#     get normalized vec values\n",
    "    coords = geom.exterior.coords[:]\n",
    "    coords_arr = np.array(coords)\n",
    "    vector_rep = np.diff(coords_arr,axis = 0)\n",
    "    distances = np.linalg.norm(vector_rep,axis = 1)\n",
    "    \n",
    "    idx_dict = {\"distance\":0, \n",
    "               \"vector\":1,\n",
    "               \"coords\":2}\n",
    "    \n",
    "    final_coords=[]\n",
    "    dist_scaler = 10\n",
    "    for e,d_v_c in enumerate(zip(distances,vector_rep,coords_arr)):\n",
    "        d= d_v_c[idx_dict['distance']]\n",
    "        v = d_v_c[idx_dict['vector']]\n",
    "        c = d_v_c[idx_dict['coords']]\n",
    "#         print(c)\n",
    "        u = v/d\n",
    "#         side_pts = np.random.randint(1,d*10,(pps))/11 # dont want a chance of zero \n",
    "        side_pts = random.sample(range(1, math.floor(d*dist_scaler)), pps)\n",
    "    \n",
    "        # maintain proper sequence by sorting distance scalars and prepending starting pt of current vector\n",
    "        side_pts.sort() \n",
    "        new_offset = [c + u*du/dist_scaler for du in side_pts]\n",
    "        final_coords+= [c] + new_offset #+ list(coords[e+1])\n",
    "        \n",
    "    return final_coords\n",
    "#         print(u)\n",
    "        "
   ]
  },
  {
   "cell_type": "code",
   "execution_count": 32,
   "metadata": {},
   "outputs": [],
   "source": [
    "after = generate_degen(hex1)"
   ]
  },
  {
   "cell_type": "code",
   "execution_count": 33,
   "metadata": {},
   "outputs": [
    {
     "data": {
      "image/svg+xml": [
       "<svg xmlns=\"http://www.w3.org/2000/svg\" xmlns:xlink=\"http://www.w3.org/1999/xlink\" width=\"100.0\" height=\"100.0\" viewBox=\"4.6 5.269872981077807 10.8 9.460254037844388\" preserveAspectRatio=\"xMinYMin meet\"><g transform=\"matrix(1,0,0,-1,0,20.0)\"><path fill-rule=\"evenodd\" fill=\"#66cc99\" stroke=\"#555555\" stroke-width=\"0.21600000000000003\" opacity=\"0.6\" d=\"M 15.0,10.0 L 14.6,10.69282032302755 L 14.25,11.299038105676658 L 14.05,11.645448267190433 L 13.45,12.68467875173176 L 13.0,13.464101615137753 L 12.5,14.330127018922193 L 11.7,14.330127018922193 L 11.4,14.330127018922193 L 10.7,14.330127018922193 L 10.4,14.330127018922193 L 8.1,14.330127018922195 L 7.500000000000001,14.330127018922195 L 7.300000000000001,13.98371685740842 L 6.4,12.42487113059643 L 5.800000000000001,11.385640646055103 L 5.700000000000001,11.212435565298215 L 5.450000000000001,10.779422863405996 L 5.0,10.0 L 5.85,8.527756813566453 L 5.949999999999999,8.354551732809567 L 6.6499999999999995,7.142116167511352 L 7.049999999999999,6.449295844483801 L 7.1499999999999995,6.276090763726913 L 7.499999999999998,5.669872981077807 L 7.999999999999998,5.669872981077807 L 8.399999999999999,5.669872981077807 L 9.7,5.669872981077807 L 9.999999999999998,5.669872981077807 L 11.799999999999997,5.669872981077807 L 12.5,5.669872981077807 L 12.8,6.18948822334847 L 13.1,6.709103465619133 L 13.8,7.921539030917348 L 14.15,8.527756813566455 L 14.65,9.393782217350893 L 15.0,10.0 z\" /></g></svg>"
      ],
      "text/plain": [
       "<shapely.geometry.polygon.Polygon at 0x22016fde448>"
      ]
     },
     "execution_count": 33,
     "metadata": {},
     "output_type": "execute_result"
    }
   ],
   "source": [
    "sg.Polygon(after)"
   ]
  },
  {
   "cell_type": "code",
   "execution_count": 10,
   "metadata": {},
   "outputs": [],
   "source": [
    "after_pts = [sg.Point(x) for x in after]\n",
    "after_mpts = sg.MultiPoint(after_pts)"
   ]
  },
  {
   "cell_type": "code",
   "execution_count": 11,
   "metadata": {},
   "outputs": [
    {
     "data": {
      "image/svg+xml": [
       "<svg xmlns=\"http://www.w3.org/2000/svg\" xmlns:xlink=\"http://www.w3.org/1999/xlink\" width=\"100.0\" height=\"100.0\" viewBox=\"4.6 5.269872981077807 10.8 9.460254037844388\" preserveAspectRatio=\"xMinYMin meet\"><g transform=\"matrix(1,0,0,-1,0,20.0)\"><g><circle cx=\"15.0\" cy=\"10.0\" r=\"0.32400000000000007\" stroke=\"#555555\" stroke-width=\"0.10800000000000001\" fill=\"#66cc99\" opacity=\"0.6\" /><circle cx=\"12.6\" cy=\"14.156921938165306\" r=\"0.32400000000000007\" stroke=\"#555555\" stroke-width=\"0.10800000000000001\" fill=\"#66cc99\" opacity=\"0.6\" /><circle cx=\"14.15\" cy=\"11.472243186433545\" r=\"0.32400000000000007\" stroke=\"#555555\" stroke-width=\"0.10800000000000001\" fill=\"#66cc99\" opacity=\"0.6\" /><circle cx=\"13.1\" cy=\"13.290896534380867\" r=\"0.32400000000000007\" stroke=\"#555555\" stroke-width=\"0.10800000000000001\" fill=\"#66cc99\" opacity=\"0.6\" /><circle cx=\"12.95\" cy=\"13.550704155516199\" r=\"0.32400000000000007\" stroke=\"#555555\" stroke-width=\"0.10800000000000001\" fill=\"#66cc99\" opacity=\"0.6\" /><circle cx=\"13.35\" cy=\"12.857883832488646\" r=\"0.32400000000000007\" stroke=\"#555555\" stroke-width=\"0.10800000000000001\" fill=\"#66cc99\" opacity=\"0.6\" /><circle cx=\"12.5\" cy=\"14.330127018922193\" r=\"0.32400000000000007\" stroke=\"#555555\" stroke-width=\"0.10800000000000001\" fill=\"#66cc99\" opacity=\"0.6\" /><circle cx=\"10.7\" cy=\"14.330127018922193\" r=\"0.32400000000000007\" stroke=\"#555555\" stroke-width=\"0.10800000000000001\" fill=\"#66cc99\" opacity=\"0.6\" /><circle cx=\"8.3\" cy=\"14.330127018922195\" r=\"0.32400000000000007\" stroke=\"#555555\" stroke-width=\"0.10800000000000001\" fill=\"#66cc99\" opacity=\"0.6\" /><circle cx=\"11.2\" cy=\"14.330127018922193\" r=\"0.32400000000000007\" stroke=\"#555555\" stroke-width=\"0.10800000000000001\" fill=\"#66cc99\" opacity=\"0.6\" /><circle cx=\"7.9\" cy=\"14.330127018922195\" r=\"0.32400000000000007\" stroke=\"#555555\" stroke-width=\"0.10800000000000001\" fill=\"#66cc99\" opacity=\"0.6\" /><circle cx=\"9.4\" cy=\"14.330127018922195\" r=\"0.32400000000000007\" stroke=\"#555555\" stroke-width=\"0.10800000000000001\" fill=\"#66cc99\" opacity=\"0.6\" /><circle cx=\"7.500000000000001\" cy=\"14.330127018922195\" r=\"0.32400000000000007\" stroke=\"#555555\" stroke-width=\"0.10800000000000001\" fill=\"#66cc99\" opacity=\"0.6\" /><circle cx=\"6.250000000000001\" cy=\"12.165063509461099\" r=\"0.32400000000000007\" stroke=\"#555555\" stroke-width=\"0.10800000000000001\" fill=\"#66cc99\" opacity=\"0.6\" /><circle cx=\"6.800000000000001\" cy=\"13.11769145362398\" r=\"0.32400000000000007\" stroke=\"#555555\" stroke-width=\"0.10800000000000001\" fill=\"#66cc99\" opacity=\"0.6\" /><circle cx=\"5.250000000000001\" cy=\"10.43301270189222\" r=\"0.32400000000000007\" stroke=\"#555555\" stroke-width=\"0.10800000000000001\" fill=\"#66cc99\" opacity=\"0.6\" /><circle cx=\"5.350000000000001\" cy=\"10.606217782649109\" r=\"0.32400000000000007\" stroke=\"#555555\" stroke-width=\"0.10800000000000001\" fill=\"#66cc99\" opacity=\"0.6\" /><circle cx=\"5.600000000000001\" cy=\"11.039230484541328\" r=\"0.32400000000000007\" stroke=\"#555555\" stroke-width=\"0.10800000000000001\" fill=\"#66cc99\" opacity=\"0.6\" /><circle cx=\"5.0\" cy=\"10.0\" r=\"0.32400000000000007\" stroke=\"#555555\" stroke-width=\"0.10800000000000001\" fill=\"#66cc99\" opacity=\"0.6\" /><circle cx=\"7.249999999999999\" cy=\"6.102885682970025\" r=\"0.32400000000000007\" stroke=\"#555555\" stroke-width=\"0.10800000000000001\" fill=\"#66cc99\" opacity=\"0.6\" /><circle cx=\"6.799999999999999\" cy=\"6.88230854637602\" r=\"0.32400000000000007\" stroke=\"#555555\" stroke-width=\"0.10800000000000001\" fill=\"#66cc99\" opacity=\"0.6\" /><circle cx=\"6.8999999999999995\" cy=\"6.709103465619132\" r=\"0.32400000000000007\" stroke=\"#555555\" stroke-width=\"0.10800000000000001\" fill=\"#66cc99\" opacity=\"0.6\" /><circle cx=\"5.699999999999999\" cy=\"8.787564434701785\" r=\"0.32400000000000007\" stroke=\"#555555\" stroke-width=\"0.10800000000000001\" fill=\"#66cc99\" opacity=\"0.6\" /><circle cx=\"5.55\" cy=\"9.047372055837117\" r=\"0.32400000000000007\" stroke=\"#555555\" stroke-width=\"0.10800000000000001\" fill=\"#66cc99\" opacity=\"0.6\" /><circle cx=\"7.499999999999998\" cy=\"5.669872981077807\" r=\"0.32400000000000007\" stroke=\"#555555\" stroke-width=\"0.10800000000000001\" fill=\"#66cc99\" opacity=\"0.6\" /><circle cx=\"10.099999999999998\" cy=\"5.669872981077807\" r=\"0.32400000000000007\" stroke=\"#555555\" stroke-width=\"0.10800000000000001\" fill=\"#66cc99\" opacity=\"0.6\" /><circle cx=\"11.099999999999998\" cy=\"5.669872981077807\" r=\"0.32400000000000007\" stroke=\"#555555\" stroke-width=\"0.10800000000000001\" fill=\"#66cc99\" opacity=\"0.6\" /><circle cx=\"8.999999999999998\" cy=\"5.669872981077807\" r=\"0.32400000000000007\" stroke=\"#555555\" stroke-width=\"0.10800000000000001\" fill=\"#66cc99\" opacity=\"0.6\" /><circle cx=\"7.599999999999998\" cy=\"5.669872981077807\" r=\"0.32400000000000007\" stroke=\"#555555\" stroke-width=\"0.10800000000000001\" fill=\"#66cc99\" opacity=\"0.6\" /><circle cx=\"11.799999999999997\" cy=\"5.669872981077807\" r=\"0.32400000000000007\" stroke=\"#555555\" stroke-width=\"0.10800000000000001\" fill=\"#66cc99\" opacity=\"0.6\" /><circle cx=\"12.5\" cy=\"5.669872981077807\" r=\"0.32400000000000007\" stroke=\"#555555\" stroke-width=\"0.10800000000000001\" fill=\"#66cc99\" opacity=\"0.6\" /><circle cx=\"12.95\" cy=\"6.449295844483802\" r=\"0.32400000000000007\" stroke=\"#555555\" stroke-width=\"0.10800000000000001\" fill=\"#66cc99\" opacity=\"0.6\" /><circle cx=\"12.75\" cy=\"6.102885682970027\" r=\"0.32400000000000007\" stroke=\"#555555\" stroke-width=\"0.10800000000000001\" fill=\"#66cc99\" opacity=\"0.6\" /><circle cx=\"14.95\" cy=\"9.913397459621557\" r=\"0.32400000000000007\" stroke=\"#555555\" stroke-width=\"0.10800000000000001\" fill=\"#66cc99\" opacity=\"0.6\" /><circle cx=\"13.3\" cy=\"7.055513627132909\" r=\"0.32400000000000007\" stroke=\"#555555\" stroke-width=\"0.10800000000000001\" fill=\"#66cc99\" opacity=\"0.6\" /><circle cx=\"13.8\" cy=\"7.921539030917348\" r=\"0.32400000000000007\" stroke=\"#555555\" stroke-width=\"0.10800000000000001\" fill=\"#66cc99\" opacity=\"0.6\" /></g></g></svg>"
      ],
      "text/plain": [
       "<shapely.geometry.multipoint.MultiPoint at 0x22016add548>"
      ]
     },
     "execution_count": 11,
     "metadata": {},
     "output_type": "execute_result"
    }
   ],
   "source": [
    "after_mpts\n"
   ]
  },
  {
   "cell_type": "code",
   "execution_count": 12,
   "metadata": {},
   "outputs": [
    {
     "data": {
      "image/svg+xml": [
       "<svg xmlns=\"http://www.w3.org/2000/svg\" xmlns:xlink=\"http://www.w3.org/1999/xlink\" width=\"100.0\" height=\"100.0\" viewBox=\"4.6 5.269872981077807 10.8 9.460254037844388\" preserveAspectRatio=\"xMinYMin meet\"><g transform=\"matrix(1,0,0,-1,0,20.0)\"><g><circle cx=\"15.0\" cy=\"10.0\" r=\"0.32400000000000007\" stroke=\"#555555\" stroke-width=\"0.10800000000000001\" fill=\"#66cc99\" opacity=\"0.6\" /><circle cx=\"12.6\" cy=\"14.156921938165306\" r=\"0.32400000000000007\" stroke=\"#555555\" stroke-width=\"0.10800000000000001\" fill=\"#66cc99\" opacity=\"0.6\" /><circle cx=\"14.15\" cy=\"11.472243186433545\" r=\"0.32400000000000007\" stroke=\"#555555\" stroke-width=\"0.10800000000000001\" fill=\"#66cc99\" opacity=\"0.6\" /><circle cx=\"13.1\" cy=\"13.290896534380867\" r=\"0.32400000000000007\" stroke=\"#555555\" stroke-width=\"0.10800000000000001\" fill=\"#66cc99\" opacity=\"0.6\" /><circle cx=\"12.95\" cy=\"13.550704155516199\" r=\"0.32400000000000007\" stroke=\"#555555\" stroke-width=\"0.10800000000000001\" fill=\"#66cc99\" opacity=\"0.6\" /><circle cx=\"13.35\" cy=\"12.857883832488646\" r=\"0.32400000000000007\" stroke=\"#555555\" stroke-width=\"0.10800000000000001\" fill=\"#66cc99\" opacity=\"0.6\" /><circle cx=\"12.5\" cy=\"14.330127018922193\" r=\"0.32400000000000007\" stroke=\"#555555\" stroke-width=\"0.10800000000000001\" fill=\"#66cc99\" opacity=\"0.6\" /><circle cx=\"10.7\" cy=\"14.330127018922193\" r=\"0.32400000000000007\" stroke=\"#555555\" stroke-width=\"0.10800000000000001\" fill=\"#66cc99\" opacity=\"0.6\" /><circle cx=\"8.3\" cy=\"14.330127018922195\" r=\"0.32400000000000007\" stroke=\"#555555\" stroke-width=\"0.10800000000000001\" fill=\"#66cc99\" opacity=\"0.6\" /><circle cx=\"11.2\" cy=\"14.330127018922193\" r=\"0.32400000000000007\" stroke=\"#555555\" stroke-width=\"0.10800000000000001\" fill=\"#66cc99\" opacity=\"0.6\" /><circle cx=\"7.9\" cy=\"14.330127018922195\" r=\"0.32400000000000007\" stroke=\"#555555\" stroke-width=\"0.10800000000000001\" fill=\"#66cc99\" opacity=\"0.6\" /><circle cx=\"9.4\" cy=\"14.330127018922195\" r=\"0.32400000000000007\" stroke=\"#555555\" stroke-width=\"0.10800000000000001\" fill=\"#66cc99\" opacity=\"0.6\" /><circle cx=\"7.500000000000001\" cy=\"14.330127018922195\" r=\"0.32400000000000007\" stroke=\"#555555\" stroke-width=\"0.10800000000000001\" fill=\"#66cc99\" opacity=\"0.6\" /><circle cx=\"6.250000000000001\" cy=\"12.165063509461099\" r=\"0.32400000000000007\" stroke=\"#555555\" stroke-width=\"0.10800000000000001\" fill=\"#66cc99\" opacity=\"0.6\" /><circle cx=\"6.800000000000001\" cy=\"13.11769145362398\" r=\"0.32400000000000007\" stroke=\"#555555\" stroke-width=\"0.10800000000000001\" fill=\"#66cc99\" opacity=\"0.6\" /><circle cx=\"5.250000000000001\" cy=\"10.43301270189222\" r=\"0.32400000000000007\" stroke=\"#555555\" stroke-width=\"0.10800000000000001\" fill=\"#66cc99\" opacity=\"0.6\" /><circle cx=\"5.350000000000001\" cy=\"10.606217782649109\" r=\"0.32400000000000007\" stroke=\"#555555\" stroke-width=\"0.10800000000000001\" fill=\"#66cc99\" opacity=\"0.6\" /><circle cx=\"5.600000000000001\" cy=\"11.039230484541328\" r=\"0.32400000000000007\" stroke=\"#555555\" stroke-width=\"0.10800000000000001\" fill=\"#66cc99\" opacity=\"0.6\" /><circle cx=\"5.0\" cy=\"10.0\" r=\"0.32400000000000007\" stroke=\"#555555\" stroke-width=\"0.10800000000000001\" fill=\"#66cc99\" opacity=\"0.6\" /><circle cx=\"7.249999999999999\" cy=\"6.102885682970025\" r=\"0.32400000000000007\" stroke=\"#555555\" stroke-width=\"0.10800000000000001\" fill=\"#66cc99\" opacity=\"0.6\" /><circle cx=\"6.799999999999999\" cy=\"6.88230854637602\" r=\"0.32400000000000007\" stroke=\"#555555\" stroke-width=\"0.10800000000000001\" fill=\"#66cc99\" opacity=\"0.6\" /><circle cx=\"6.8999999999999995\" cy=\"6.709103465619132\" r=\"0.32400000000000007\" stroke=\"#555555\" stroke-width=\"0.10800000000000001\" fill=\"#66cc99\" opacity=\"0.6\" /><circle cx=\"5.699999999999999\" cy=\"8.787564434701785\" r=\"0.32400000000000007\" stroke=\"#555555\" stroke-width=\"0.10800000000000001\" fill=\"#66cc99\" opacity=\"0.6\" /><circle cx=\"5.55\" cy=\"9.047372055837117\" r=\"0.32400000000000007\" stroke=\"#555555\" stroke-width=\"0.10800000000000001\" fill=\"#66cc99\" opacity=\"0.6\" /><circle cx=\"7.499999999999998\" cy=\"5.669872981077807\" r=\"0.32400000000000007\" stroke=\"#555555\" stroke-width=\"0.10800000000000001\" fill=\"#66cc99\" opacity=\"0.6\" /><circle cx=\"10.099999999999998\" cy=\"5.669872981077807\" r=\"0.32400000000000007\" stroke=\"#555555\" stroke-width=\"0.10800000000000001\" fill=\"#66cc99\" opacity=\"0.6\" /><circle cx=\"11.099999999999998\" cy=\"5.669872981077807\" r=\"0.32400000000000007\" stroke=\"#555555\" stroke-width=\"0.10800000000000001\" fill=\"#66cc99\" opacity=\"0.6\" /><circle cx=\"8.999999999999998\" cy=\"5.669872981077807\" r=\"0.32400000000000007\" stroke=\"#555555\" stroke-width=\"0.10800000000000001\" fill=\"#66cc99\" opacity=\"0.6\" /><circle cx=\"7.599999999999998\" cy=\"5.669872981077807\" r=\"0.32400000000000007\" stroke=\"#555555\" stroke-width=\"0.10800000000000001\" fill=\"#66cc99\" opacity=\"0.6\" /><circle cx=\"11.799999999999997\" cy=\"5.669872981077807\" r=\"0.32400000000000007\" stroke=\"#555555\" stroke-width=\"0.10800000000000001\" fill=\"#66cc99\" opacity=\"0.6\" /><circle cx=\"12.5\" cy=\"5.669872981077807\" r=\"0.32400000000000007\" stroke=\"#555555\" stroke-width=\"0.10800000000000001\" fill=\"#66cc99\" opacity=\"0.6\" /><circle cx=\"12.95\" cy=\"6.449295844483802\" r=\"0.32400000000000007\" stroke=\"#555555\" stroke-width=\"0.10800000000000001\" fill=\"#66cc99\" opacity=\"0.6\" /><circle cx=\"12.75\" cy=\"6.102885682970027\" r=\"0.32400000000000007\" stroke=\"#555555\" stroke-width=\"0.10800000000000001\" fill=\"#66cc99\" opacity=\"0.6\" /><circle cx=\"14.95\" cy=\"9.913397459621557\" r=\"0.32400000000000007\" stroke=\"#555555\" stroke-width=\"0.10800000000000001\" fill=\"#66cc99\" opacity=\"0.6\" /><circle cx=\"13.3\" cy=\"7.055513627132909\" r=\"0.32400000000000007\" stroke=\"#555555\" stroke-width=\"0.10800000000000001\" fill=\"#66cc99\" opacity=\"0.6\" /><circle cx=\"13.8\" cy=\"7.921539030917348\" r=\"0.32400000000000007\" stroke=\"#555555\" stroke-width=\"0.10800000000000001\" fill=\"#66cc99\" opacity=\"0.6\" /><circle cx=\"15.0\" cy=\"10.0\" r=\"0.32400000000000007\" stroke=\"#555555\" stroke-width=\"0.10800000000000001\" fill=\"#66cc99\" opacity=\"0.6\" /></g></g></svg>"
      ],
      "text/plain": [
       "<shapely.geometry.multipoint.MultiPoint at 0x22016addcc8>"
      ]
     },
     "execution_count": 12,
     "metadata": {},
     "output_type": "execute_result"
    }
   ],
   "source": [
    "poly_as_mpt(sg.Polygon(after_pts))"
   ]
  },
  {
   "cell_type": "code",
   "execution_count": 13,
   "metadata": {},
   "outputs": [
    {
     "data": {
      "image/svg+xml": [
       "<svg xmlns=\"http://www.w3.org/2000/svg\" xmlns:xlink=\"http://www.w3.org/1999/xlink\" width=\"100.0\" height=\"100.0\" viewBox=\"4.6 5.269872981077807 10.8 9.460254037844388\" preserveAspectRatio=\"xMinYMin meet\"><g transform=\"matrix(1,0,0,-1,0,20.0)\"><g><circle cx=\"15.0\" cy=\"10.0\" r=\"0.32400000000000007\" stroke=\"#555555\" stroke-width=\"0.10800000000000001\" fill=\"#66cc99\" opacity=\"0.6\" /><circle cx=\"12.6\" cy=\"14.156921938165306\" r=\"0.32400000000000007\" stroke=\"#555555\" stroke-width=\"0.10800000000000001\" fill=\"#66cc99\" opacity=\"0.6\" /><circle cx=\"14.15\" cy=\"11.472243186433545\" r=\"0.32400000000000007\" stroke=\"#555555\" stroke-width=\"0.10800000000000001\" fill=\"#66cc99\" opacity=\"0.6\" /><circle cx=\"12.95\" cy=\"13.550704155516199\" r=\"0.32400000000000007\" stroke=\"#555555\" stroke-width=\"0.10800000000000001\" fill=\"#66cc99\" opacity=\"0.6\" /><circle cx=\"13.35\" cy=\"12.857883832488646\" r=\"0.32400000000000007\" stroke=\"#555555\" stroke-width=\"0.10800000000000001\" fill=\"#66cc99\" opacity=\"0.6\" /><circle cx=\"12.5\" cy=\"14.330127018922193\" r=\"0.32400000000000007\" stroke=\"#555555\" stroke-width=\"0.10800000000000001\" fill=\"#66cc99\" opacity=\"0.6\" /><circle cx=\"8.3\" cy=\"14.330127018922195\" r=\"0.32400000000000007\" stroke=\"#555555\" stroke-width=\"0.10800000000000001\" fill=\"#66cc99\" opacity=\"0.6\" /><circle cx=\"11.2\" cy=\"14.330127018922193\" r=\"0.32400000000000007\" stroke=\"#555555\" stroke-width=\"0.10800000000000001\" fill=\"#66cc99\" opacity=\"0.6\" /><circle cx=\"7.9\" cy=\"14.330127018922195\" r=\"0.32400000000000007\" stroke=\"#555555\" stroke-width=\"0.10800000000000001\" fill=\"#66cc99\" opacity=\"0.6\" /><circle cx=\"9.4\" cy=\"14.330127018922195\" r=\"0.32400000000000007\" stroke=\"#555555\" stroke-width=\"0.10800000000000001\" fill=\"#66cc99\" opacity=\"0.6\" /><circle cx=\"7.500000000000001\" cy=\"14.330127018922195\" r=\"0.32400000000000007\" stroke=\"#555555\" stroke-width=\"0.10800000000000001\" fill=\"#66cc99\" opacity=\"0.6\" /><circle cx=\"6.250000000000001\" cy=\"12.165063509461099\" r=\"0.32400000000000007\" stroke=\"#555555\" stroke-width=\"0.10800000000000001\" fill=\"#66cc99\" opacity=\"0.6\" /><circle cx=\"6.800000000000001\" cy=\"13.11769145362398\" r=\"0.32400000000000007\" stroke=\"#555555\" stroke-width=\"0.10800000000000001\" fill=\"#66cc99\" opacity=\"0.6\" /><circle cx=\"5.250000000000001\" cy=\"10.43301270189222\" r=\"0.32400000000000007\" stroke=\"#555555\" stroke-width=\"0.10800000000000001\" fill=\"#66cc99\" opacity=\"0.6\" /><circle cx=\"5.600000000000001\" cy=\"11.039230484541328\" r=\"0.32400000000000007\" stroke=\"#555555\" stroke-width=\"0.10800000000000001\" fill=\"#66cc99\" opacity=\"0.6\" /><circle cx=\"5.0\" cy=\"10.0\" r=\"0.32400000000000007\" stroke=\"#555555\" stroke-width=\"0.10800000000000001\" fill=\"#66cc99\" opacity=\"0.6\" /><circle cx=\"7.249999999999999\" cy=\"6.102885682970025\" r=\"0.32400000000000007\" stroke=\"#555555\" stroke-width=\"0.10800000000000001\" fill=\"#66cc99\" opacity=\"0.6\" /><circle cx=\"6.799999999999999\" cy=\"6.88230854637602\" r=\"0.32400000000000007\" stroke=\"#555555\" stroke-width=\"0.10800000000000001\" fill=\"#66cc99\" opacity=\"0.6\" /><circle cx=\"6.8999999999999995\" cy=\"6.709103465619132\" r=\"0.32400000000000007\" stroke=\"#555555\" stroke-width=\"0.10800000000000001\" fill=\"#66cc99\" opacity=\"0.6\" /><circle cx=\"5.55\" cy=\"9.047372055837117\" r=\"0.32400000000000007\" stroke=\"#555555\" stroke-width=\"0.10800000000000001\" fill=\"#66cc99\" opacity=\"0.6\" /><circle cx=\"7.499999999999998\" cy=\"5.669872981077807\" r=\"0.32400000000000007\" stroke=\"#555555\" stroke-width=\"0.10800000000000001\" fill=\"#66cc99\" opacity=\"0.6\" /><circle cx=\"11.099999999999998\" cy=\"5.669872981077807\" r=\"0.32400000000000007\" stroke=\"#555555\" stroke-width=\"0.10800000000000001\" fill=\"#66cc99\" opacity=\"0.6\" /><circle cx=\"7.599999999999998\" cy=\"5.669872981077807\" r=\"0.32400000000000007\" stroke=\"#555555\" stroke-width=\"0.10800000000000001\" fill=\"#66cc99\" opacity=\"0.6\" /><circle cx=\"12.5\" cy=\"5.669872981077807\" r=\"0.32400000000000007\" stroke=\"#555555\" stroke-width=\"0.10800000000000001\" fill=\"#66cc99\" opacity=\"0.6\" /><circle cx=\"12.95\" cy=\"6.449295844483802\" r=\"0.32400000000000007\" stroke=\"#555555\" stroke-width=\"0.10800000000000001\" fill=\"#66cc99\" opacity=\"0.6\" /><circle cx=\"12.75\" cy=\"6.102885682970027\" r=\"0.32400000000000007\" stroke=\"#555555\" stroke-width=\"0.10800000000000001\" fill=\"#66cc99\" opacity=\"0.6\" /><circle cx=\"14.95\" cy=\"9.913397459621557\" r=\"0.32400000000000007\" stroke=\"#555555\" stroke-width=\"0.10800000000000001\" fill=\"#66cc99\" opacity=\"0.6\" /><circle cx=\"13.3\" cy=\"7.055513627132909\" r=\"0.32400000000000007\" stroke=\"#555555\" stroke-width=\"0.10800000000000001\" fill=\"#66cc99\" opacity=\"0.6\" /><circle cx=\"15.0\" cy=\"10.0\" r=\"0.32400000000000007\" stroke=\"#555555\" stroke-width=\"0.10800000000000001\" fill=\"#66cc99\" opacity=\"0.6\" /></g></g></svg>"
      ],
      "text/plain": [
       "<shapely.geometry.multipoint.MultiPoint at 0x22016a50888>"
      ]
     },
     "execution_count": 13,
     "metadata": {},
     "output_type": "execute_result"
    }
   ],
   "source": [
    "poly_as_mpt(simplify_by_interior_angle(sg.Polygon(after_pts)))"
   ]
  },
  {
   "cell_type": "code",
   "execution_count": 34,
   "metadata": {},
   "outputs": [
    {
     "data": {
      "image/svg+xml": [
       "<svg xmlns=\"http://www.w3.org/2000/svg\" xmlns:xlink=\"http://www.w3.org/1999/xlink\" width=\"100.0\" height=\"100.0\" viewBox=\"4.6 5.269872981077807 10.8 9.460254037844388\" preserveAspectRatio=\"xMinYMin meet\"><g transform=\"matrix(1,0,0,-1,0,20.0)\"><path fill-rule=\"evenodd\" fill=\"#66cc99\" stroke=\"#555555\" stroke-width=\"0.21600000000000003\" opacity=\"0.6\" d=\"M 15.0,10.0 L 12.5,14.330127018922193 L 7.500000000000001,14.330127018922195 L 5.0,10.0 L 7.499999999999998,5.669872981077807 L 12.5,5.669872981077807 L 15.0,10.0 z\" /></g></svg>"
      ],
      "text/plain": [
       "<shapely.geometry.polygon.Polygon at 0x22016fe2508>"
      ]
     },
     "execution_count": 34,
     "metadata": {},
     "output_type": "execute_result"
    }
   ],
   "source": [
    "after_sim = simplify_by_interior_angle(sg.Polygon(after))\n",
    "after_sim"
   ]
  },
  {
   "cell_type": "code",
   "execution_count": 35,
   "metadata": {},
   "outputs": [
    {
     "data": {
      "image/svg+xml": [
       "<svg xmlns=\"http://www.w3.org/2000/svg\" xmlns:xlink=\"http://www.w3.org/1999/xlink\" width=\"100.0\" height=\"100.0\" viewBox=\"4.6 5.269872981077807 10.8 9.460254037844388\" preserveAspectRatio=\"xMinYMin meet\"><g transform=\"matrix(1,0,0,-1,0,20.0)\"><g><circle cx=\"15.0\" cy=\"10.0\" r=\"0.32400000000000007\" stroke=\"#555555\" stroke-width=\"0.10800000000000001\" fill=\"#66cc99\" opacity=\"0.6\" /><circle cx=\"12.5\" cy=\"14.330127018922193\" r=\"0.32400000000000007\" stroke=\"#555555\" stroke-width=\"0.10800000000000001\" fill=\"#66cc99\" opacity=\"0.6\" /><circle cx=\"7.500000000000001\" cy=\"14.330127018922195\" r=\"0.32400000000000007\" stroke=\"#555555\" stroke-width=\"0.10800000000000001\" fill=\"#66cc99\" opacity=\"0.6\" /><circle cx=\"5.0\" cy=\"10.0\" r=\"0.32400000000000007\" stroke=\"#555555\" stroke-width=\"0.10800000000000001\" fill=\"#66cc99\" opacity=\"0.6\" /><circle cx=\"7.499999999999998\" cy=\"5.669872981077807\" r=\"0.32400000000000007\" stroke=\"#555555\" stroke-width=\"0.10800000000000001\" fill=\"#66cc99\" opacity=\"0.6\" /><circle cx=\"12.5\" cy=\"5.669872981077807\" r=\"0.32400000000000007\" stroke=\"#555555\" stroke-width=\"0.10800000000000001\" fill=\"#66cc99\" opacity=\"0.6\" /><circle cx=\"15.0\" cy=\"10.0\" r=\"0.32400000000000007\" stroke=\"#555555\" stroke-width=\"0.10800000000000001\" fill=\"#66cc99\" opacity=\"0.6\" /></g></g></svg>"
      ],
      "text/plain": [
       "<shapely.geometry.multipoint.MultiPoint at 0x220170b7648>"
      ]
     },
     "execution_count": 35,
     "metadata": {},
     "output_type": "execute_result"
    }
   ],
   "source": [
    "poly_as_mpt(after_sim)"
   ]
  },
  {
   "cell_type": "code",
   "execution_count": 37,
   "metadata": {},
   "outputs": [
    {
     "data": {
      "text/plain": [
       "7"
      ]
     },
     "execution_count": 37,
     "metadata": {},
     "output_type": "execute_result"
    }
   ],
   "source": [
    "len(after_sim.exterior.coords[:])"
   ]
  },
  {
   "cell_type": "code",
   "execution_count": 40,
   "metadata": {},
   "outputs": [
    {
     "data": {
      "image/svg+xml": [
       "<svg xmlns=\"http://www.w3.org/2000/svg\" xmlns:xlink=\"http://www.w3.org/1999/xlink\" width=\"100.0\" height=\"100.0\" viewBox=\"4.6 5.269872981077807 10.8 9.460254037844388\" preserveAspectRatio=\"xMinYMin meet\"><g transform=\"matrix(1,0,0,-1,0,20.0)\"><g><circle cx=\"15.0\" cy=\"10.0\" r=\"0.32400000000000007\" stroke=\"#555555\" stroke-width=\"0.10800000000000001\" fill=\"#66cc99\" opacity=\"0.6\" /><circle cx=\"12.5\" cy=\"14.330127018922193\" r=\"0.32400000000000007\" stroke=\"#555555\" stroke-width=\"0.10800000000000001\" fill=\"#66cc99\" opacity=\"0.6\" /><circle cx=\"8.1\" cy=\"14.330127018922195\" r=\"0.32400000000000007\" stroke=\"#555555\" stroke-width=\"0.10800000000000001\" fill=\"#66cc99\" opacity=\"0.6\" /><circle cx=\"7.500000000000001\" cy=\"14.330127018922195\" r=\"0.32400000000000007\" stroke=\"#555555\" stroke-width=\"0.10800000000000001\" fill=\"#66cc99\" opacity=\"0.6\" /><circle cx=\"5.0\" cy=\"10.0\" r=\"0.32400000000000007\" stroke=\"#555555\" stroke-width=\"0.10800000000000001\" fill=\"#66cc99\" opacity=\"0.6\" /><circle cx=\"7.499999999999998\" cy=\"5.669872981077807\" r=\"0.32400000000000007\" stroke=\"#555555\" stroke-width=\"0.10800000000000001\" fill=\"#66cc99\" opacity=\"0.6\" /><circle cx=\"12.5\" cy=\"5.669872981077807\" r=\"0.32400000000000007\" stroke=\"#555555\" stroke-width=\"0.10800000000000001\" fill=\"#66cc99\" opacity=\"0.6\" /><circle cx=\"15.0\" cy=\"10.0\" r=\"0.32400000000000007\" stroke=\"#555555\" stroke-width=\"0.10800000000000001\" fill=\"#66cc99\" opacity=\"0.6\" /></g></g></svg>"
      ],
      "text/plain": [
       "<shapely.geometry.multipoint.MultiPoint at 0x2201744f848>"
      ]
     },
     "execution_count": 40,
     "metadata": {},
     "output_type": "execute_result"
    }
   ],
   "source": [
    "# with simplify og\n",
    "test_simp = sg.Polygon(after).simplify(1e-5)\n",
    "poly_as_mpt(test_simp)\n"
   ]
  },
  {
   "cell_type": "code",
   "execution_count": 97,
   "metadata": {},
   "outputs": [],
   "source": [
    "\n",
    "from matplotlib import pyplot as plt\n",
    "\n",
    "def generate_random_polygon( n):\n",
    "\n",
    "    x = np.random.randint(0,50,n)\n",
    "    y = np.random.randint(0,50,n)\n",
    "    centroid = [np.sum(x)/n, np.sum(y)/n]\n",
    "\n",
    "    angles = np.arctan2(x-centroid[0], y-centroid[1])\n",
    "\n",
    "    ##sorting the points by angle\n",
    "    sort_tups = sorted([(xx,yy,theta) for xx,yy,theta in zip(x,y,angles)], key = lambda t: t[2])\n",
    "\n",
    "    ##making sure that there are no duplicates:\n",
    "    if len(sort_tups) != len(set(sort_tups)):\n",
    "        raise Exception('two equal coordinates -- exiting')\n",
    "\n",
    "    x,y,angles = zip(*sort_tups)\n",
    "    x = list(x)\n",
    "    y = list(y)\n",
    "\n",
    "    ##appending first coordinate values to lists:\n",
    "    x.append(x[0])\n",
    "    y.append(y[0])\n",
    "    return x,y,sort_tups\n",
    "\n",
    "#     ax.plot(x,y, label = '{}'.format(n))\n",
    "\n",
    "# if __name__ == '__main__':\n",
    "\n",
    "#     fig,ax = plt.subplots()\n",
    "\n",
    "#     for n in range(3,11,2):\n",
    "#         draw_polygon(ax,n)\n",
    "\n",
    "#     ax.legend()\n",
    "#     plt.show()"
   ]
  },
  {
   "cell_type": "code",
   "execution_count": 89,
   "metadata": {},
   "outputs": [],
   "source": [
    "vals = generate_random_polygon(4)"
   ]
  },
  {
   "cell_type": "code",
   "execution_count": 90,
   "metadata": {},
   "outputs": [],
   "source": [
    "x,y,v = generate_random_polygon(4)"
   ]
  },
  {
   "cell_type": "code",
   "execution_count": 93,
   "metadata": {},
   "outputs": [
    {
     "data": {
      "text/plain": [
       "<zip at 0x22018cd9248>"
      ]
     },
     "execution_count": 93,
     "metadata": {},
     "output_type": "execute_result"
    }
   ],
   "source": [
    "zip(x,y)"
   ]
  },
  {
   "cell_type": "code",
   "execution_count": 87,
   "metadata": {},
   "outputs": [
    {
     "data": {
      "text/plain": [
       "([9, 3, 21, 11, 9],\n",
       " [20, 34, 42, 16, 20],\n",
       " [(9, 20, -2.896613990462929),\n",
       "  (3, 34, -0.9272952180016122),\n",
       "  (21, 42, 0.6202494859828215),\n",
       "  (11, 16, 3.141592653589793)])"
      ]
     },
     "execution_count": 87,
     "metadata": {},
     "output_type": "execute_result"
    }
   ],
   "source": [
    "vals"
   ]
  },
  {
   "cell_type": "code",
   "execution_count": 79,
   "metadata": {},
   "outputs": [
    {
     "data": {
      "image/svg+xml": [
       "<svg xmlns=\"http://www.w3.org/2000/svg\" xmlns:xlink=\"http://www.w3.org/1999/xlink\" width=\"100.0\" height=\"100.0\" viewBox=\"3.48 6.48 41.040000000000006 29.040000000000003\" preserveAspectRatio=\"xMinYMin meet\"><g transform=\"matrix(1,0,0,-1,0,42.0)\"><path fill-rule=\"evenodd\" fill=\"#66cc99\" stroke=\"#555555\" stroke-width=\"0.8208000000000001\" opacity=\"0.6\" d=\"M 26.0,15.0 L 5.0,8.0 L 25.0,34.0 L 33.0,33.0 L 43.0,28.0 L 27.0,11.0 L 26.0,15.0 z\" /></g></svg>"
      ],
      "text/plain": [
       "<shapely.geometry.polygon.Polygon at 0x22018ecaf48>"
      ]
     },
     "execution_count": 79,
     "metadata": {},
     "output_type": "execute_result"
    }
   ],
   "source": [
    "vals = generate_random_polygon(6)\n",
    "rand_poly = sg.Polygon(sg.Point(x) for x in zip(vals[0],vals[1]))\n",
    "rand_poly"
   ]
  },
  {
   "cell_type": "code",
   "execution_count": 82,
   "metadata": {},
   "outputs": [
    {
     "data": {
      "image/svg+xml": [
       "<svg xmlns=\"http://www.w3.org/2000/svg\" xmlns:xlink=\"http://www.w3.org/1999/xlink\" width=\"100.0\" height=\"100.0\" viewBox=\"3.48 6.48 41.040000000000006 29.040000000000003\" preserveAspectRatio=\"xMinYMin meet\"><g transform=\"matrix(1,0,0,-1,0,42.0)\"><path fill-rule=\"evenodd\" fill=\"#66cc99\" stroke=\"#555555\" stroke-width=\"0.8208000000000001\" opacity=\"0.6\" d=\"M 26.0,15.0 L 5.0,8.0 L 25.0,34.0 L 33.0,33.0 L 43.0,28.0 L 27.0,11.0 L 26.0,15.0 z\" /></g></svg>"
      ],
      "text/plain": [
       "<shapely.geometry.polygon.Polygon at 0x22018e4bdc8>"
      ]
     },
     "execution_count": 82,
     "metadata": {},
     "output_type": "execute_result"
    }
   ],
   "source": [
    "simplify_by_interior_angle(rand_poly)"
   ]
  },
  {
   "cell_type": "code",
   "execution_count": 83,
   "metadata": {},
   "outputs": [
    {
     "data": {
      "image/svg+xml": [
       "<svg xmlns=\"http://www.w3.org/2000/svg\" xmlns:xlink=\"http://www.w3.org/1999/xlink\" width=\"100.0\" height=\"100.0\" viewBox=\"3.48 6.48 41.040000000000006 29.040000000000003\" preserveAspectRatio=\"xMinYMin meet\"><g transform=\"matrix(1,0,0,-1,0,42.0)\"><g><circle cx=\"26.0\" cy=\"15.0\" r=\"1.2312\" stroke=\"#555555\" stroke-width=\"0.41040000000000004\" fill=\"#66cc99\" opacity=\"0.6\" /><circle cx=\"5.0\" cy=\"8.0\" r=\"1.2312\" stroke=\"#555555\" stroke-width=\"0.41040000000000004\" fill=\"#66cc99\" opacity=\"0.6\" /><circle cx=\"25.0\" cy=\"34.0\" r=\"1.2312\" stroke=\"#555555\" stroke-width=\"0.41040000000000004\" fill=\"#66cc99\" opacity=\"0.6\" /><circle cx=\"33.0\" cy=\"33.0\" r=\"1.2312\" stroke=\"#555555\" stroke-width=\"0.41040000000000004\" fill=\"#66cc99\" opacity=\"0.6\" /><circle cx=\"43.0\" cy=\"28.0\" r=\"1.2312\" stroke=\"#555555\" stroke-width=\"0.41040000000000004\" fill=\"#66cc99\" opacity=\"0.6\" /><circle cx=\"27.0\" cy=\"11.0\" r=\"1.2312\" stroke=\"#555555\" stroke-width=\"0.41040000000000004\" fill=\"#66cc99\" opacity=\"0.6\" /><circle cx=\"26.0\" cy=\"15.0\" r=\"1.2312\" stroke=\"#555555\" stroke-width=\"0.41040000000000004\" fill=\"#66cc99\" opacity=\"0.6\" /></g></g></svg>"
      ],
      "text/plain": [
       "<shapely.geometry.multipoint.MultiPoint at 0x2201911f708>"
      ]
     },
     "execution_count": 83,
     "metadata": {},
     "output_type": "execute_result"
    }
   ],
   "source": [
    "poly_as_mpt(rand_poly)"
   ]
  },
  {
   "cell_type": "code",
   "execution_count": 84,
   "metadata": {},
   "outputs": [
    {
     "data": {
      "image/svg+xml": [
       "<svg xmlns=\"http://www.w3.org/2000/svg\" xmlns:xlink=\"http://www.w3.org/1999/xlink\" width=\"100.0\" height=\"100.0\" viewBox=\"3.48 6.48 41.040000000000006 29.040000000000003\" preserveAspectRatio=\"xMinYMin meet\"><g transform=\"matrix(1,0,0,-1,0,42.0)\"><g><circle cx=\"26.0\" cy=\"15.0\" r=\"1.2312\" stroke=\"#555555\" stroke-width=\"0.41040000000000004\" fill=\"#66cc99\" opacity=\"0.6\" /><circle cx=\"5.0\" cy=\"8.0\" r=\"1.2312\" stroke=\"#555555\" stroke-width=\"0.41040000000000004\" fill=\"#66cc99\" opacity=\"0.6\" /><circle cx=\"25.0\" cy=\"34.0\" r=\"1.2312\" stroke=\"#555555\" stroke-width=\"0.41040000000000004\" fill=\"#66cc99\" opacity=\"0.6\" /><circle cx=\"33.0\" cy=\"33.0\" r=\"1.2312\" stroke=\"#555555\" stroke-width=\"0.41040000000000004\" fill=\"#66cc99\" opacity=\"0.6\" /><circle cx=\"43.0\" cy=\"28.0\" r=\"1.2312\" stroke=\"#555555\" stroke-width=\"0.41040000000000004\" fill=\"#66cc99\" opacity=\"0.6\" /><circle cx=\"27.0\" cy=\"11.0\" r=\"1.2312\" stroke=\"#555555\" stroke-width=\"0.41040000000000004\" fill=\"#66cc99\" opacity=\"0.6\" /><circle cx=\"26.0\" cy=\"15.0\" r=\"1.2312\" stroke=\"#555555\" stroke-width=\"0.41040000000000004\" fill=\"#66cc99\" opacity=\"0.6\" /></g></g></svg>"
      ],
      "text/plain": [
       "<shapely.geometry.multipoint.MultiPoint at 0x220190a26c8>"
      ]
     },
     "execution_count": 84,
     "metadata": {},
     "output_type": "execute_result"
    }
   ],
   "source": [
    "poly_as_mpt(simplify_by_interior_angle(rand_poly))"
   ]
  },
  {
   "cell_type": "code",
   "execution_count": 94,
   "metadata": {},
   "outputs": [
    {
     "data": {
      "image/svg+xml": [
       "<svg xmlns=\"http://www.w3.org/2000/svg\" xmlns:xlink=\"http://www.w3.org/1999/xlink\" width=\"100.0\" height=\"100.0\" viewBox=\"3.48 6.48 41.040000000000006 29.040000000000003\" preserveAspectRatio=\"xMinYMin meet\"><g transform=\"matrix(1,0,0,-1,0,42.0)\"><path fill-rule=\"evenodd\" fill=\"#66cc99\" stroke=\"#555555\" stroke-width=\"0.8208000000000001\" opacity=\"0.6\" d=\"M 26.0,15.0 L 5.0,8.0 L 25.0,34.0 L 33.0,33.0 L 43.0,28.0 L 27.0,11.0 L 26.0,15.0 z\" /></g></svg>"
      ],
      "text/plain": [
       "<shapely.geometry.polygon.Polygon at 0x22018ecaf48>"
      ]
     },
     "execution_count": 94,
     "metadata": {},
     "output_type": "execute_result"
    }
   ],
   "source": [
    "rand_poly"
   ]
  },
  {
   "cell_type": "code",
   "execution_count": 99,
   "metadata": {},
   "outputs": [],
   "source": [
    "rand_degen = generate_degen(rand_poly)"
   ]
  },
  {
   "cell_type": "code",
   "execution_count": 102,
   "metadata": {},
   "outputs": [
    {
     "data": {
      "image/svg+xml": [
       "<svg xmlns=\"http://www.w3.org/2000/svg\" xmlns:xlink=\"http://www.w3.org/1999/xlink\" width=\"100.0\" height=\"100.0\" viewBox=\"3.48 6.48 41.040000000000006 29.040000000000003\" preserveAspectRatio=\"xMinYMin meet\"><g transform=\"matrix(1,0,0,-1,0,42.0)\"><path fill-rule=\"evenodd\" fill=\"#66cc99\" stroke=\"#555555\" stroke-width=\"0.8208000000000001\" opacity=\"0.6\" d=\"M 26.0,15.0 L 19.548953573256505,12.849651191085503 L 19.359216913646403,12.786405637882135 L 10.726198901386727,9.908732967128909 L 9.018568964895799,9.3395229882986 L 8.733963975480648,9.24465465849355 L 5.0,8.0 L 6.524276902124231,9.9815599727615 L 14.328574641000293,20.12714703330038 L 16.645475532229124,23.139118191897857 L 17.986839206098445,24.88289096792798 L 24.388802195020215,33.20544285352628 L 25.0,34.0 L 25.39691115068547,33.950386106164316 L 25.99227787671367,33.87596526541079 L 30.953667260282007,33.255791592464746 L 31.74748956165294,33.15656380479338 L 32.54131186302387,33.05733601712202 L 33.0,33.0 L 35.50439613479976,31.74780193260012 L 35.683281572999746,31.658359213500127 L 37.56157867409957,30.719210662950214 L 38.36656314599949,30.316718427000254 L 40.960401999899254,29.019799000050373 L 43.0,28.0 L 41.080978842786024,25.961040020460153 L 37.10586358855708,21.737480062841897 L 34.50147773233812,18.970320090609246 L 30.11514365870617,14.309840137375307 L 29.909534249004672,14.091380139567466 L 27.0,11.0 L 26.7817179374673,11.873128250130799 L 26.708957249956402,12.164171000174399 L 26.684703687452767,12.261185250188932 L 26.587689437438232,12.649242250247065 L 26.24813956238737,14.007441750450528 L 26.0,15.0 z\" /></g></svg>"
      ],
      "text/plain": [
       "<shapely.geometry.polygon.Polygon at 0x22018e7e1c8>"
      ]
     },
     "execution_count": 102,
     "metadata": {},
     "output_type": "execute_result"
    }
   ],
   "source": [
    "rd_poly = sg.Polygon([sg.Point(x) for x in rand_degen])\n",
    "rd_poly"
   ]
  },
  {
   "cell_type": "code",
   "execution_count": 103,
   "metadata": {},
   "outputs": [
    {
     "data": {
      "image/svg+xml": [
       "<svg xmlns=\"http://www.w3.org/2000/svg\" xmlns:xlink=\"http://www.w3.org/1999/xlink\" width=\"100.0\" height=\"100.0\" viewBox=\"3.48 6.48 41.040000000000006 29.040000000000003\" preserveAspectRatio=\"xMinYMin meet\"><g transform=\"matrix(1,0,0,-1,0,42.0)\"><g><circle cx=\"26.0\" cy=\"15.0\" r=\"1.2312\" stroke=\"#555555\" stroke-width=\"0.41040000000000004\" fill=\"#66cc99\" opacity=\"0.6\" /><circle cx=\"19.548953573256505\" cy=\"12.849651191085503\" r=\"1.2312\" stroke=\"#555555\" stroke-width=\"0.41040000000000004\" fill=\"#66cc99\" opacity=\"0.6\" /><circle cx=\"19.359216913646403\" cy=\"12.786405637882135\" r=\"1.2312\" stroke=\"#555555\" stroke-width=\"0.41040000000000004\" fill=\"#66cc99\" opacity=\"0.6\" /><circle cx=\"10.726198901386727\" cy=\"9.908732967128909\" r=\"1.2312\" stroke=\"#555555\" stroke-width=\"0.41040000000000004\" fill=\"#66cc99\" opacity=\"0.6\" /><circle cx=\"9.018568964895799\" cy=\"9.3395229882986\" r=\"1.2312\" stroke=\"#555555\" stroke-width=\"0.41040000000000004\" fill=\"#66cc99\" opacity=\"0.6\" /><circle cx=\"8.733963975480648\" cy=\"9.24465465849355\" r=\"1.2312\" stroke=\"#555555\" stroke-width=\"0.41040000000000004\" fill=\"#66cc99\" opacity=\"0.6\" /><circle cx=\"5.0\" cy=\"8.0\" r=\"1.2312\" stroke=\"#555555\" stroke-width=\"0.41040000000000004\" fill=\"#66cc99\" opacity=\"0.6\" /><circle cx=\"6.524276902124231\" cy=\"9.9815599727615\" r=\"1.2312\" stroke=\"#555555\" stroke-width=\"0.41040000000000004\" fill=\"#66cc99\" opacity=\"0.6\" /><circle cx=\"14.328574641000293\" cy=\"20.12714703330038\" r=\"1.2312\" stroke=\"#555555\" stroke-width=\"0.41040000000000004\" fill=\"#66cc99\" opacity=\"0.6\" /><circle cx=\"16.645475532229124\" cy=\"23.139118191897857\" r=\"1.2312\" stroke=\"#555555\" stroke-width=\"0.41040000000000004\" fill=\"#66cc99\" opacity=\"0.6\" /><circle cx=\"17.986839206098445\" cy=\"24.88289096792798\" r=\"1.2312\" stroke=\"#555555\" stroke-width=\"0.41040000000000004\" fill=\"#66cc99\" opacity=\"0.6\" /><circle cx=\"24.388802195020215\" cy=\"33.20544285352628\" r=\"1.2312\" stroke=\"#555555\" stroke-width=\"0.41040000000000004\" fill=\"#66cc99\" opacity=\"0.6\" /><circle cx=\"25.0\" cy=\"34.0\" r=\"1.2312\" stroke=\"#555555\" stroke-width=\"0.41040000000000004\" fill=\"#66cc99\" opacity=\"0.6\" /><circle cx=\"25.39691115068547\" cy=\"33.950386106164316\" r=\"1.2312\" stroke=\"#555555\" stroke-width=\"0.41040000000000004\" fill=\"#66cc99\" opacity=\"0.6\" /><circle cx=\"25.99227787671367\" cy=\"33.87596526541079\" r=\"1.2312\" stroke=\"#555555\" stroke-width=\"0.41040000000000004\" fill=\"#66cc99\" opacity=\"0.6\" /><circle cx=\"30.953667260282007\" cy=\"33.255791592464746\" r=\"1.2312\" stroke=\"#555555\" stroke-width=\"0.41040000000000004\" fill=\"#66cc99\" opacity=\"0.6\" /><circle cx=\"31.74748956165294\" cy=\"33.15656380479338\" r=\"1.2312\" stroke=\"#555555\" stroke-width=\"0.41040000000000004\" fill=\"#66cc99\" opacity=\"0.6\" /><circle cx=\"32.54131186302387\" cy=\"33.05733601712202\" r=\"1.2312\" stroke=\"#555555\" stroke-width=\"0.41040000000000004\" fill=\"#66cc99\" opacity=\"0.6\" /><circle cx=\"33.0\" cy=\"33.0\" r=\"1.2312\" stroke=\"#555555\" stroke-width=\"0.41040000000000004\" fill=\"#66cc99\" opacity=\"0.6\" /><circle cx=\"35.50439613479976\" cy=\"31.74780193260012\" r=\"1.2312\" stroke=\"#555555\" stroke-width=\"0.41040000000000004\" fill=\"#66cc99\" opacity=\"0.6\" /><circle cx=\"35.683281572999746\" cy=\"31.658359213500127\" r=\"1.2312\" stroke=\"#555555\" stroke-width=\"0.41040000000000004\" fill=\"#66cc99\" opacity=\"0.6\" /><circle cx=\"37.56157867409957\" cy=\"30.719210662950214\" r=\"1.2312\" stroke=\"#555555\" stroke-width=\"0.41040000000000004\" fill=\"#66cc99\" opacity=\"0.6\" /><circle cx=\"38.36656314599949\" cy=\"30.316718427000254\" r=\"1.2312\" stroke=\"#555555\" stroke-width=\"0.41040000000000004\" fill=\"#66cc99\" opacity=\"0.6\" /><circle cx=\"40.960401999899254\" cy=\"29.019799000050373\" r=\"1.2312\" stroke=\"#555555\" stroke-width=\"0.41040000000000004\" fill=\"#66cc99\" opacity=\"0.6\" /><circle cx=\"43.0\" cy=\"28.0\" r=\"1.2312\" stroke=\"#555555\" stroke-width=\"0.41040000000000004\" fill=\"#66cc99\" opacity=\"0.6\" /><circle cx=\"41.080978842786024\" cy=\"25.961040020460153\" r=\"1.2312\" stroke=\"#555555\" stroke-width=\"0.41040000000000004\" fill=\"#66cc99\" opacity=\"0.6\" /><circle cx=\"37.10586358855708\" cy=\"21.737480062841897\" r=\"1.2312\" stroke=\"#555555\" stroke-width=\"0.41040000000000004\" fill=\"#66cc99\" opacity=\"0.6\" /><circle cx=\"34.50147773233812\" cy=\"18.970320090609246\" r=\"1.2312\" stroke=\"#555555\" stroke-width=\"0.41040000000000004\" fill=\"#66cc99\" opacity=\"0.6\" /><circle cx=\"30.11514365870617\" cy=\"14.309840137375307\" r=\"1.2312\" stroke=\"#555555\" stroke-width=\"0.41040000000000004\" fill=\"#66cc99\" opacity=\"0.6\" /><circle cx=\"29.909534249004672\" cy=\"14.091380139567466\" r=\"1.2312\" stroke=\"#555555\" stroke-width=\"0.41040000000000004\" fill=\"#66cc99\" opacity=\"0.6\" /><circle cx=\"27.0\" cy=\"11.0\" r=\"1.2312\" stroke=\"#555555\" stroke-width=\"0.41040000000000004\" fill=\"#66cc99\" opacity=\"0.6\" /><circle cx=\"26.7817179374673\" cy=\"11.873128250130799\" r=\"1.2312\" stroke=\"#555555\" stroke-width=\"0.41040000000000004\" fill=\"#66cc99\" opacity=\"0.6\" /><circle cx=\"26.708957249956402\" cy=\"12.164171000174399\" r=\"1.2312\" stroke=\"#555555\" stroke-width=\"0.41040000000000004\" fill=\"#66cc99\" opacity=\"0.6\" /><circle cx=\"26.684703687452767\" cy=\"12.261185250188932\" r=\"1.2312\" stroke=\"#555555\" stroke-width=\"0.41040000000000004\" fill=\"#66cc99\" opacity=\"0.6\" /><circle cx=\"26.587689437438232\" cy=\"12.649242250247065\" r=\"1.2312\" stroke=\"#555555\" stroke-width=\"0.41040000000000004\" fill=\"#66cc99\" opacity=\"0.6\" /><circle cx=\"26.24813956238737\" cy=\"14.007441750450528\" r=\"1.2312\" stroke=\"#555555\" stroke-width=\"0.41040000000000004\" fill=\"#66cc99\" opacity=\"0.6\" /><circle cx=\"26.0\" cy=\"15.0\" r=\"1.2312\" stroke=\"#555555\" stroke-width=\"0.41040000000000004\" fill=\"#66cc99\" opacity=\"0.6\" /></g></g></svg>"
      ],
      "text/plain": [
       "<shapely.geometry.multipoint.MultiPoint at 0x220138d9a88>"
      ]
     },
     "execution_count": 103,
     "metadata": {},
     "output_type": "execute_result"
    }
   ],
   "source": [
    "poly_as_mpt(rd_poly)"
   ]
  },
  {
   "cell_type": "code",
   "execution_count": 110,
   "metadata": {},
   "outputs": [
    {
     "data": {
      "image/svg+xml": [
       "<svg xmlns=\"http://www.w3.org/2000/svg\" xmlns:xlink=\"http://www.w3.org/1999/xlink\" width=\"100.0\" height=\"100.0\" viewBox=\"3.48 6.48 41.040000000000006 29.040000000000003\" preserveAspectRatio=\"xMinYMin meet\"><g transform=\"matrix(1,0,0,-1,0,42.0)\"><g><circle cx=\"26.0\" cy=\"15.0\" r=\"1.2312\" stroke=\"#555555\" stroke-width=\"0.41040000000000004\" fill=\"#66cc99\" opacity=\"0.6\" /><circle cx=\"19.548953573256505\" cy=\"12.849651191085503\" r=\"1.2312\" stroke=\"#555555\" stroke-width=\"0.41040000000000004\" fill=\"#66cc99\" opacity=\"0.6\" /><circle cx=\"5.0\" cy=\"8.0\" r=\"1.2312\" stroke=\"#555555\" stroke-width=\"0.41040000000000004\" fill=\"#66cc99\" opacity=\"0.6\" /><circle cx=\"25.0\" cy=\"34.0\" r=\"1.2312\" stroke=\"#555555\" stroke-width=\"0.41040000000000004\" fill=\"#66cc99\" opacity=\"0.6\" /><circle cx=\"33.0\" cy=\"33.0\" r=\"1.2312\" stroke=\"#555555\" stroke-width=\"0.41040000000000004\" fill=\"#66cc99\" opacity=\"0.6\" /><circle cx=\"43.0\" cy=\"28.0\" r=\"1.2312\" stroke=\"#555555\" stroke-width=\"0.41040000000000004\" fill=\"#66cc99\" opacity=\"0.6\" /><circle cx=\"27.0\" cy=\"11.0\" r=\"1.2312\" stroke=\"#555555\" stroke-width=\"0.41040000000000004\" fill=\"#66cc99\" opacity=\"0.6\" /><circle cx=\"26.0\" cy=\"15.0\" r=\"1.2312\" stroke=\"#555555\" stroke-width=\"0.41040000000000004\" fill=\"#66cc99\" opacity=\"0.6\" /></g></g></svg>"
      ],
      "text/plain": [
       "<shapely.geometry.multipoint.MultiPoint at 0x22018fa8908>"
      ]
     },
     "execution_count": 110,
     "metadata": {},
     "output_type": "execute_result"
    }
   ],
   "source": [
    "sv = 1e-1\n",
    "poly_as_mpt(rd_poly.simplify(sv))"
   ]
  },
  {
   "cell_type": "code",
   "execution_count": 111,
   "metadata": {},
   "outputs": [
    {
     "data": {
      "image/svg+xml": [
       "<svg xmlns=\"http://www.w3.org/2000/svg\" xmlns:xlink=\"http://www.w3.org/1999/xlink\" width=\"100.0\" height=\"100.0\" viewBox=\"3.48 6.48 41.040000000000006 29.040000000000003\" preserveAspectRatio=\"xMinYMin meet\"><g transform=\"matrix(1,0,0,-1,0,42.0)\"><g><circle cx=\"26.0\" cy=\"15.0\" r=\"1.2312\" stroke=\"#555555\" stroke-width=\"0.41040000000000004\" fill=\"#66cc99\" opacity=\"0.6\" /><circle cx=\"5.0\" cy=\"8.0\" r=\"1.2312\" stroke=\"#555555\" stroke-width=\"0.41040000000000004\" fill=\"#66cc99\" opacity=\"0.6\" /><circle cx=\"25.0\" cy=\"34.0\" r=\"1.2312\" stroke=\"#555555\" stroke-width=\"0.41040000000000004\" fill=\"#66cc99\" opacity=\"0.6\" /><circle cx=\"33.0\" cy=\"33.0\" r=\"1.2312\" stroke=\"#555555\" stroke-width=\"0.41040000000000004\" fill=\"#66cc99\" opacity=\"0.6\" /><circle cx=\"43.0\" cy=\"28.0\" r=\"1.2312\" stroke=\"#555555\" stroke-width=\"0.41040000000000004\" fill=\"#66cc99\" opacity=\"0.6\" /><circle cx=\"27.0\" cy=\"11.0\" r=\"1.2312\" stroke=\"#555555\" stroke-width=\"0.41040000000000004\" fill=\"#66cc99\" opacity=\"0.6\" /><circle cx=\"26.0\" cy=\"15.0\" r=\"1.2312\" stroke=\"#555555\" stroke-width=\"0.41040000000000004\" fill=\"#66cc99\" opacity=\"0.6\" /></g></g></svg>"
      ],
      "text/plain": [
       "<shapely.geometry.multipoint.MultiPoint at 0x2201902ffc8>"
      ]
     },
     "execution_count": 111,
     "metadata": {},
     "output_type": "execute_result"
    }
   ],
   "source": [
    "poly_as_mpt(rand_poly)"
   ]
  },
  {
   "cell_type": "code",
   "execution_count": 112,
   "metadata": {},
   "outputs": [
    {
     "data": {
      "image/svg+xml": [
       "<svg xmlns=\"http://www.w3.org/2000/svg\" xmlns:xlink=\"http://www.w3.org/1999/xlink\" width=\"100.0\" height=\"100.0\" viewBox=\"3.48 6.48 41.040000000000006 29.040000000000003\" preserveAspectRatio=\"xMinYMin meet\"><g transform=\"matrix(1,0,0,-1,0,42.0)\"><g><circle cx=\"26.0\" cy=\"15.0\" r=\"1.2312\" stroke=\"#555555\" stroke-width=\"0.41040000000000004\" fill=\"#66cc99\" opacity=\"0.6\" /><circle cx=\"5.0\" cy=\"8.0\" r=\"1.2312\" stroke=\"#555555\" stroke-width=\"0.41040000000000004\" fill=\"#66cc99\" opacity=\"0.6\" /><circle cx=\"25.0\" cy=\"34.0\" r=\"1.2312\" stroke=\"#555555\" stroke-width=\"0.41040000000000004\" fill=\"#66cc99\" opacity=\"0.6\" /><circle cx=\"33.0\" cy=\"33.0\" r=\"1.2312\" stroke=\"#555555\" stroke-width=\"0.41040000000000004\" fill=\"#66cc99\" opacity=\"0.6\" /><circle cx=\"43.0\" cy=\"28.0\" r=\"1.2312\" stroke=\"#555555\" stroke-width=\"0.41040000000000004\" fill=\"#66cc99\" opacity=\"0.6\" /><circle cx=\"27.0\" cy=\"11.0\" r=\"1.2312\" stroke=\"#555555\" stroke-width=\"0.41040000000000004\" fill=\"#66cc99\" opacity=\"0.6\" /><circle cx=\"26.0\" cy=\"15.0\" r=\"1.2312\" stroke=\"#555555\" stroke-width=\"0.41040000000000004\" fill=\"#66cc99\" opacity=\"0.6\" /></g></g></svg>"
      ],
      "text/plain": [
       "<shapely.geometry.multipoint.MultiPoint at 0x22018e15688>"
      ]
     },
     "execution_count": 112,
     "metadata": {},
     "output_type": "execute_result"
    }
   ],
   "source": [
    "poly_as_mpt(simplify_by_interior_angle(rd_poly))"
   ]
  },
  {
   "cell_type": "code",
   "execution_count": null,
   "metadata": {},
   "outputs": [],
   "source": []
  }
 ],
 "metadata": {
  "kernelspec": {
   "display_name": "Python 3",
   "language": "python",
   "name": "python3"
  },
  "language_info": {
   "codemirror_mode": {
    "name": "ipython",
    "version": 3
   },
   "file_extension": ".py",
   "mimetype": "text/x-python",
   "name": "python",
   "nbconvert_exporter": "python",
   "pygments_lexer": "ipython3",
   "version": "3.7.6"
  }
 },
 "nbformat": 4,
 "nbformat_minor": 4
}
