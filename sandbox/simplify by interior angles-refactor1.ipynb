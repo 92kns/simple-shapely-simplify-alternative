{
 "cells": [
  {
   "cell_type": "code",
   "execution_count": 114,
   "metadata": {},
   "outputs": [],
   "source": [
    "import shapely.geometry as sg\n",
    "import shapely\n",
    "import numpy as np\n",
    "import random\n",
    "import math\n",
    "\n",
    "import pandas as pd"
   ]
  },
  {
   "cell_type": "code",
   "execution_count": 168,
   "metadata": {},
   "outputs": [],
   "source": [
    "def update_poly_pickle(poly, return_df=False):\n",
    "    try:\n",
    "        df_poly = pd.read_pickle('./randpolys.pkl')\n",
    "    except:\n",
    "#         just make a new df\n",
    "        print('making new poly df...')\n",
    "        df_poly = make_poly_df()\n",
    "\n",
    "#     get next loc\n",
    "    df_idx_next = len(df_poly)\n",
    "    df_poly.loc[df_idx_next] = poly.wkt\n",
    "    df_poly = df_poly.drop_duplicates(ignore_index=True)\n",
    "\n",
    "    df_poly.to_pickle('./randpolys.pkl')\n",
    "    \n",
    "    print('done')\n",
    "    if return_df:\n",
    "        return df_poly\n",
    "    \n",
    "def make_poly_df():\n",
    "    poly_df = pd.DataFrame(columns=['poly_wkt'])\n",
    "    poly_df.to_pickle('./randpolys.pkl')\n",
    "    return poly_df"
   ]
  },
  {
   "cell_type": "code",
   "execution_count": 428,
   "metadata": {},
   "outputs": [],
   "source": [
    "def get_angles(vec_1,vec_2):\n",
    "    dot = np.dot(vec_1, vec_2)\n",
    "    det = np.cross(vec_1,vec_2)\n",
    "    angle_in_rad = np.arctan2(det,dot)\n",
    "    return np.degrees(angle_in_rad)\n",
    "\n",
    "\n",
    "def simplify_by_interior_angle(poly_in, deg_tol = 5):\n",
    "    \"\"\"\n",
    "    try to remove persistent coordinate points that remain after\n",
    "    simplify, convex hul, etc with some trig\n",
    "    params:\n",
    "    \n",
    "    \"\"\"\n",
    "    \n",
    "    ext_poly_coords = poly_in.exterior.coords[:]\n",
    "#     ext_poly_coords = ext_poly_coords[1:] + ext_poly_coords[:1]\n",
    "#     # reassign last to first, so we have a proper linear ring sequence for shapely polygon\n",
    "#     ext_poly_coords[-1] = ext_poly_coords[0]\n",
    "    vector_rep = np.diff(ext_poly_coords,axis = 0)\n",
    "    angles_list = []\n",
    "    for i in range(0,len(vector_rep) -1 ):\n",
    "        angles_list.append(np.abs(get_angles(vector_rep[i],vector_rep[i+1])))\n",
    "    \n",
    "  \n",
    "    thresh_vals_by_deg = np.where(np.array(angles_list) > deg_tol)\n",
    "#   gotta be a better way to do this. sandwich betweens first and last pts\n",
    "    new_idx = [0] + (thresh_vals_by_deg[0] + 1).tolist() + [0]\n",
    "    new_vertices = [ext_poly_coords[idx] for idx in new_idx]\n",
    "    \n",
    "#     add geom type check l8r, for now only interested in poly\n",
    "#     try:\n",
    "#         return sg.Polygon(new_vertices)\n",
    "#     except:\n",
    "#         return vector_rep\n",
    "    return sg.Polygon(new_vertices)\n",
    "\n",
    "def poly_as_mpt(polygon):\n",
    "    coords = polygon.exterior.coords[:]\n",
    "    as_pts = [sg.Point(x) for x in coords]\n",
    "    as_mpt = sg.MultiPoint(as_pts)\n",
    "    return as_mpt\n",
    "        "
   ]
  },
  {
   "cell_type": "markdown",
   "metadata": {},
   "source": [
    "# # try random geoms"
   ]
  },
  {
   "cell_type": "code",
   "execution_count": 3,
   "metadata": {},
   "outputs": [
    {
     "data": {
      "image/svg+xml": [
       "<svg xmlns=\"http://www.w3.org/2000/svg\" xmlns:xlink=\"http://www.w3.org/1999/xlink\" width=\"100.0\" height=\"100.0\" viewBox=\"4.6 5.269872981077807 10.8 9.460254037844388\" preserveAspectRatio=\"xMinYMin meet\"><g transform=\"matrix(1,0,0,-1,0,20.0)\"><path fill-rule=\"evenodd\" fill=\"#66cc99\" stroke=\"#555555\" stroke-width=\"0.21600000000000003\" opacity=\"0.6\" d=\"M 15.0,10.0 L 12.5,14.330127018922193 L 7.500000000000001,14.330127018922195 L 5.0,10.0 L 7.499999999999998,5.669872981077807 L 12.5,5.669872981077807 L 15.0,10.0 z\" /></g></svg>"
      ],
      "text/plain": [
       "<shapely.geometry.polygon.Polygon at 0x1f5a957b248>"
      ]
     },
     "execution_count": 3,
     "metadata": {},
     "output_type": "execute_result"
    }
   ],
   "source": [
    "def make_hex_poly(a, x, y):\n",
    "    \"\"\"\n",
    "    Create a hexagon centered on (x, y)\n",
    "    :param a: length of the hexagon's edge\n",
    "    :param x,y: desired centroid of hex\n",
    "    :return: The shapely polygon representation of the hexagon\n",
    "    \"\"\"\n",
    "    hex_coords = [(x + math.cos(math.radians(angle)) * a, y + math.sin(math.radians(angle)) * a) for angle in range(0, 360, 60)]\n",
    "    return sg.Polygon(hex_coords)\n",
    "hex1 = make_hex_poly(5,10,10)\n",
    "hex1"
   ]
  },
  {
   "cell_type": "code",
   "execution_count": 4,
   "metadata": {},
   "outputs": [],
   "source": [
    "def generate_degen(geom,pps=5):\n",
    "    \"\"\"\n",
    "    geom is the input shapely type polygon (must be valid pls)\n",
    "    pps is points per side to generate fr the polygon\n",
    "    \"\"\"\n",
    "    \n",
    "#     pps=5 # points per side\n",
    "    \n",
    "    \n",
    "#     get normalized vec values\n",
    "    coords = geom.exterior.coords[:]\n",
    "    coords_arr = np.array(coords)\n",
    "    vector_rep = np.diff(coords_arr,axis = 0)\n",
    "    distances = np.linalg.norm(vector_rep,axis = 1)\n",
    "    \n",
    "    idx_dict = {\"distance\":0, \n",
    "               \"vector\":1,\n",
    "               \"coords\":2}\n",
    "    \n",
    "    final_coords=[]\n",
    "    dist_scaler = 10\n",
    "    for e,d_v_c in enumerate(zip(distances,vector_rep,coords_arr)):\n",
    "        d= d_v_c[idx_dict['distance']]\n",
    "        v = d_v_c[idx_dict['vector']]\n",
    "        c = d_v_c[idx_dict['coords']]\n",
    "#         print(c)\n",
    "        u = v/d\n",
    "#         side_pts = np.random.randint(1,d*10,(pps))/11 # dont want a chance of zero \n",
    "        side_pts = random.sample(range(1, math.floor(d*dist_scaler)), pps)\n",
    "    \n",
    "        # maintain proper sequence by sorting distance scalars and prepending starting pt of current vector\n",
    "        side_pts.sort() \n",
    "        new_offset = [c + u*du/dist_scaler for du in side_pts]\n",
    "        final_coords+= [c] + new_offset #+ list(coords[e+1])\n",
    "        \n",
    "    return final_coords\n",
    "#         print(u)\n",
    "        "
   ]
  },
  {
   "cell_type": "code",
   "execution_count": 5,
   "metadata": {},
   "outputs": [],
   "source": [
    "after = generate_degen(hex1)"
   ]
  },
  {
   "cell_type": "code",
   "execution_count": 6,
   "metadata": {},
   "outputs": [
    {
     "data": {
      "image/svg+xml": [
       "<svg xmlns=\"http://www.w3.org/2000/svg\" xmlns:xlink=\"http://www.w3.org/1999/xlink\" width=\"100.0\" height=\"100.0\" viewBox=\"4.6 5.269872981077807 10.8 9.460254037844388\" preserveAspectRatio=\"xMinYMin meet\"><g transform=\"matrix(1,0,0,-1,0,20.0)\"><path fill-rule=\"evenodd\" fill=\"#66cc99\" stroke=\"#555555\" stroke-width=\"0.21600000000000003\" opacity=\"0.6\" d=\"M 15.0,10.0 L 14.8,10.346410161513775 L 14.3,11.212435565298215 L 14.25,11.299038105676658 L 13.95,11.818653347947322 L 13.75,12.165063509461095 L 12.5,14.330127018922193 L 11.7,14.330127018922193 L 11.1,14.330127018922193 L 10.6,14.330127018922193 L 9.0,14.330127018922195 L 8.4,14.330127018922195 L 7.500000000000001,14.330127018922195 L 7.000000000000001,13.464101615137755 L 6.800000000000001,13.11769145362398 L 6.6000000000000005,12.771281292110205 L 5.700000000000001,11.212435565298215 L 5.550000000000001,10.952627944162884 L 5.0,10.0 L 5.949999999999999,8.354551732809567 L 6.0,8.267949192431121 L 6.25,7.834936490538903 L 7.1,6.362693304105357 L 7.1499999999999995,6.276090763726913 L 7.499999999999998,5.669872981077807 L 9.499999999999998,5.669872981077807 L 9.899999999999999,5.669872981077807 L 10.299999999999997,5.669872981077807 L 10.999999999999998,5.669872981077807 L 11.499999999999998,5.669872981077807 L 12.5,5.669872981077807 L 12.6,5.843078061834695 L 12.85,6.2760907637269145 L 13.05,6.62250092524069 L 13.6,7.5751288694035726 L 13.8,7.921539030917348 L 15.0,10.0 z\" /></g></svg>"
      ],
      "text/plain": [
       "<shapely.geometry.polygon.Polygon at 0x1f5a958aa48>"
      ]
     },
     "execution_count": 6,
     "metadata": {},
     "output_type": "execute_result"
    }
   ],
   "source": [
    "sg.Polygon(after)"
   ]
  },
  {
   "cell_type": "code",
   "execution_count": 7,
   "metadata": {},
   "outputs": [],
   "source": [
    "after_pts = [sg.Point(x) for x in after]\n",
    "after_mpts = sg.MultiPoint(after_pts)"
   ]
  },
  {
   "cell_type": "code",
   "execution_count": 8,
   "metadata": {},
   "outputs": [
    {
     "data": {
      "image/svg+xml": [
       "<svg xmlns=\"http://www.w3.org/2000/svg\" xmlns:xlink=\"http://www.w3.org/1999/xlink\" width=\"100.0\" height=\"100.0\" viewBox=\"4.6 5.269872981077807 10.8 9.460254037844388\" preserveAspectRatio=\"xMinYMin meet\"><g transform=\"matrix(1,0,0,-1,0,20.0)\"><g><circle cx=\"15.0\" cy=\"10.0\" r=\"0.32400000000000007\" stroke=\"#555555\" stroke-width=\"0.10800000000000001\" fill=\"#66cc99\" opacity=\"0.6\" /><circle cx=\"14.8\" cy=\"10.346410161513775\" r=\"0.32400000000000007\" stroke=\"#555555\" stroke-width=\"0.10800000000000001\" fill=\"#66cc99\" opacity=\"0.6\" /><circle cx=\"14.3\" cy=\"11.212435565298215\" r=\"0.32400000000000007\" stroke=\"#555555\" stroke-width=\"0.10800000000000001\" fill=\"#66cc99\" opacity=\"0.6\" /><circle cx=\"14.25\" cy=\"11.299038105676658\" r=\"0.32400000000000007\" stroke=\"#555555\" stroke-width=\"0.10800000000000001\" fill=\"#66cc99\" opacity=\"0.6\" /><circle cx=\"13.95\" cy=\"11.818653347947322\" r=\"0.32400000000000007\" stroke=\"#555555\" stroke-width=\"0.10800000000000001\" fill=\"#66cc99\" opacity=\"0.6\" /><circle cx=\"13.75\" cy=\"12.165063509461095\" r=\"0.32400000000000007\" stroke=\"#555555\" stroke-width=\"0.10800000000000001\" fill=\"#66cc99\" opacity=\"0.6\" /><circle cx=\"12.5\" cy=\"14.330127018922193\" r=\"0.32400000000000007\" stroke=\"#555555\" stroke-width=\"0.10800000000000001\" fill=\"#66cc99\" opacity=\"0.6\" /><circle cx=\"11.7\" cy=\"14.330127018922193\" r=\"0.32400000000000007\" stroke=\"#555555\" stroke-width=\"0.10800000000000001\" fill=\"#66cc99\" opacity=\"0.6\" /><circle cx=\"11.1\" cy=\"14.330127018922193\" r=\"0.32400000000000007\" stroke=\"#555555\" stroke-width=\"0.10800000000000001\" fill=\"#66cc99\" opacity=\"0.6\" /><circle cx=\"10.6\" cy=\"14.330127018922193\" r=\"0.32400000000000007\" stroke=\"#555555\" stroke-width=\"0.10800000000000001\" fill=\"#66cc99\" opacity=\"0.6\" /><circle cx=\"9.0\" cy=\"14.330127018922195\" r=\"0.32400000000000007\" stroke=\"#555555\" stroke-width=\"0.10800000000000001\" fill=\"#66cc99\" opacity=\"0.6\" /><circle cx=\"8.4\" cy=\"14.330127018922195\" r=\"0.32400000000000007\" stroke=\"#555555\" stroke-width=\"0.10800000000000001\" fill=\"#66cc99\" opacity=\"0.6\" /><circle cx=\"7.500000000000001\" cy=\"14.330127018922195\" r=\"0.32400000000000007\" stroke=\"#555555\" stroke-width=\"0.10800000000000001\" fill=\"#66cc99\" opacity=\"0.6\" /><circle cx=\"7.000000000000001\" cy=\"13.464101615137755\" r=\"0.32400000000000007\" stroke=\"#555555\" stroke-width=\"0.10800000000000001\" fill=\"#66cc99\" opacity=\"0.6\" /><circle cx=\"6.800000000000001\" cy=\"13.11769145362398\" r=\"0.32400000000000007\" stroke=\"#555555\" stroke-width=\"0.10800000000000001\" fill=\"#66cc99\" opacity=\"0.6\" /><circle cx=\"6.6000000000000005\" cy=\"12.771281292110205\" r=\"0.32400000000000007\" stroke=\"#555555\" stroke-width=\"0.10800000000000001\" fill=\"#66cc99\" opacity=\"0.6\" /><circle cx=\"5.700000000000001\" cy=\"11.212435565298215\" r=\"0.32400000000000007\" stroke=\"#555555\" stroke-width=\"0.10800000000000001\" fill=\"#66cc99\" opacity=\"0.6\" /><circle cx=\"5.550000000000001\" cy=\"10.952627944162884\" r=\"0.32400000000000007\" stroke=\"#555555\" stroke-width=\"0.10800000000000001\" fill=\"#66cc99\" opacity=\"0.6\" /><circle cx=\"5.0\" cy=\"10.0\" r=\"0.32400000000000007\" stroke=\"#555555\" stroke-width=\"0.10800000000000001\" fill=\"#66cc99\" opacity=\"0.6\" /><circle cx=\"5.949999999999999\" cy=\"8.354551732809567\" r=\"0.32400000000000007\" stroke=\"#555555\" stroke-width=\"0.10800000000000001\" fill=\"#66cc99\" opacity=\"0.6\" /><circle cx=\"6.0\" cy=\"8.267949192431121\" r=\"0.32400000000000007\" stroke=\"#555555\" stroke-width=\"0.10800000000000001\" fill=\"#66cc99\" opacity=\"0.6\" /><circle cx=\"6.25\" cy=\"7.834936490538903\" r=\"0.32400000000000007\" stroke=\"#555555\" stroke-width=\"0.10800000000000001\" fill=\"#66cc99\" opacity=\"0.6\" /><circle cx=\"7.1\" cy=\"6.362693304105357\" r=\"0.32400000000000007\" stroke=\"#555555\" stroke-width=\"0.10800000000000001\" fill=\"#66cc99\" opacity=\"0.6\" /><circle cx=\"7.1499999999999995\" cy=\"6.276090763726913\" r=\"0.32400000000000007\" stroke=\"#555555\" stroke-width=\"0.10800000000000001\" fill=\"#66cc99\" opacity=\"0.6\" /><circle cx=\"7.499999999999998\" cy=\"5.669872981077807\" r=\"0.32400000000000007\" stroke=\"#555555\" stroke-width=\"0.10800000000000001\" fill=\"#66cc99\" opacity=\"0.6\" /><circle cx=\"9.499999999999998\" cy=\"5.669872981077807\" r=\"0.32400000000000007\" stroke=\"#555555\" stroke-width=\"0.10800000000000001\" fill=\"#66cc99\" opacity=\"0.6\" /><circle cx=\"9.899999999999999\" cy=\"5.669872981077807\" r=\"0.32400000000000007\" stroke=\"#555555\" stroke-width=\"0.10800000000000001\" fill=\"#66cc99\" opacity=\"0.6\" /><circle cx=\"10.299999999999997\" cy=\"5.669872981077807\" r=\"0.32400000000000007\" stroke=\"#555555\" stroke-width=\"0.10800000000000001\" fill=\"#66cc99\" opacity=\"0.6\" /><circle cx=\"10.999999999999998\" cy=\"5.669872981077807\" r=\"0.32400000000000007\" stroke=\"#555555\" stroke-width=\"0.10800000000000001\" fill=\"#66cc99\" opacity=\"0.6\" /><circle cx=\"11.499999999999998\" cy=\"5.669872981077807\" r=\"0.32400000000000007\" stroke=\"#555555\" stroke-width=\"0.10800000000000001\" fill=\"#66cc99\" opacity=\"0.6\" /><circle cx=\"12.5\" cy=\"5.669872981077807\" r=\"0.32400000000000007\" stroke=\"#555555\" stroke-width=\"0.10800000000000001\" fill=\"#66cc99\" opacity=\"0.6\" /><circle cx=\"12.6\" cy=\"5.843078061834695\" r=\"0.32400000000000007\" stroke=\"#555555\" stroke-width=\"0.10800000000000001\" fill=\"#66cc99\" opacity=\"0.6\" /><circle cx=\"12.85\" cy=\"6.2760907637269145\" r=\"0.32400000000000007\" stroke=\"#555555\" stroke-width=\"0.10800000000000001\" fill=\"#66cc99\" opacity=\"0.6\" /><circle cx=\"13.05\" cy=\"6.62250092524069\" r=\"0.32400000000000007\" stroke=\"#555555\" stroke-width=\"0.10800000000000001\" fill=\"#66cc99\" opacity=\"0.6\" /><circle cx=\"13.6\" cy=\"7.5751288694035726\" r=\"0.32400000000000007\" stroke=\"#555555\" stroke-width=\"0.10800000000000001\" fill=\"#66cc99\" opacity=\"0.6\" /><circle cx=\"13.8\" cy=\"7.921539030917348\" r=\"0.32400000000000007\" stroke=\"#555555\" stroke-width=\"0.10800000000000001\" fill=\"#66cc99\" opacity=\"0.6\" /></g></g></svg>"
      ],
      "text/plain": [
       "<shapely.geometry.multipoint.MultiPoint at 0x1f5a9584d48>"
      ]
     },
     "execution_count": 8,
     "metadata": {},
     "output_type": "execute_result"
    }
   ],
   "source": [
    "after_mpts\n"
   ]
  },
  {
   "cell_type": "code",
   "execution_count": 9,
   "metadata": {},
   "outputs": [
    {
     "data": {
      "image/svg+xml": [
       "<svg xmlns=\"http://www.w3.org/2000/svg\" xmlns:xlink=\"http://www.w3.org/1999/xlink\" width=\"100.0\" height=\"100.0\" viewBox=\"4.6 5.269872981077807 10.8 9.460254037844388\" preserveAspectRatio=\"xMinYMin meet\"><g transform=\"matrix(1,0,0,-1,0,20.0)\"><g><circle cx=\"15.0\" cy=\"10.0\" r=\"0.32400000000000007\" stroke=\"#555555\" stroke-width=\"0.10800000000000001\" fill=\"#66cc99\" opacity=\"0.6\" /><circle cx=\"14.8\" cy=\"10.346410161513775\" r=\"0.32400000000000007\" stroke=\"#555555\" stroke-width=\"0.10800000000000001\" fill=\"#66cc99\" opacity=\"0.6\" /><circle cx=\"14.3\" cy=\"11.212435565298215\" r=\"0.32400000000000007\" stroke=\"#555555\" stroke-width=\"0.10800000000000001\" fill=\"#66cc99\" opacity=\"0.6\" /><circle cx=\"14.25\" cy=\"11.299038105676658\" r=\"0.32400000000000007\" stroke=\"#555555\" stroke-width=\"0.10800000000000001\" fill=\"#66cc99\" opacity=\"0.6\" /><circle cx=\"13.95\" cy=\"11.818653347947322\" r=\"0.32400000000000007\" stroke=\"#555555\" stroke-width=\"0.10800000000000001\" fill=\"#66cc99\" opacity=\"0.6\" /><circle cx=\"13.75\" cy=\"12.165063509461095\" r=\"0.32400000000000007\" stroke=\"#555555\" stroke-width=\"0.10800000000000001\" fill=\"#66cc99\" opacity=\"0.6\" /><circle cx=\"12.5\" cy=\"14.330127018922193\" r=\"0.32400000000000007\" stroke=\"#555555\" stroke-width=\"0.10800000000000001\" fill=\"#66cc99\" opacity=\"0.6\" /><circle cx=\"11.7\" cy=\"14.330127018922193\" r=\"0.32400000000000007\" stroke=\"#555555\" stroke-width=\"0.10800000000000001\" fill=\"#66cc99\" opacity=\"0.6\" /><circle cx=\"11.1\" cy=\"14.330127018922193\" r=\"0.32400000000000007\" stroke=\"#555555\" stroke-width=\"0.10800000000000001\" fill=\"#66cc99\" opacity=\"0.6\" /><circle cx=\"10.6\" cy=\"14.330127018922193\" r=\"0.32400000000000007\" stroke=\"#555555\" stroke-width=\"0.10800000000000001\" fill=\"#66cc99\" opacity=\"0.6\" /><circle cx=\"9.0\" cy=\"14.330127018922195\" r=\"0.32400000000000007\" stroke=\"#555555\" stroke-width=\"0.10800000000000001\" fill=\"#66cc99\" opacity=\"0.6\" /><circle cx=\"8.4\" cy=\"14.330127018922195\" r=\"0.32400000000000007\" stroke=\"#555555\" stroke-width=\"0.10800000000000001\" fill=\"#66cc99\" opacity=\"0.6\" /><circle cx=\"7.500000000000001\" cy=\"14.330127018922195\" r=\"0.32400000000000007\" stroke=\"#555555\" stroke-width=\"0.10800000000000001\" fill=\"#66cc99\" opacity=\"0.6\" /><circle cx=\"7.000000000000001\" cy=\"13.464101615137755\" r=\"0.32400000000000007\" stroke=\"#555555\" stroke-width=\"0.10800000000000001\" fill=\"#66cc99\" opacity=\"0.6\" /><circle cx=\"6.800000000000001\" cy=\"13.11769145362398\" r=\"0.32400000000000007\" stroke=\"#555555\" stroke-width=\"0.10800000000000001\" fill=\"#66cc99\" opacity=\"0.6\" /><circle cx=\"6.6000000000000005\" cy=\"12.771281292110205\" r=\"0.32400000000000007\" stroke=\"#555555\" stroke-width=\"0.10800000000000001\" fill=\"#66cc99\" opacity=\"0.6\" /><circle cx=\"5.700000000000001\" cy=\"11.212435565298215\" r=\"0.32400000000000007\" stroke=\"#555555\" stroke-width=\"0.10800000000000001\" fill=\"#66cc99\" opacity=\"0.6\" /><circle cx=\"5.550000000000001\" cy=\"10.952627944162884\" r=\"0.32400000000000007\" stroke=\"#555555\" stroke-width=\"0.10800000000000001\" fill=\"#66cc99\" opacity=\"0.6\" /><circle cx=\"5.0\" cy=\"10.0\" r=\"0.32400000000000007\" stroke=\"#555555\" stroke-width=\"0.10800000000000001\" fill=\"#66cc99\" opacity=\"0.6\" /><circle cx=\"5.949999999999999\" cy=\"8.354551732809567\" r=\"0.32400000000000007\" stroke=\"#555555\" stroke-width=\"0.10800000000000001\" fill=\"#66cc99\" opacity=\"0.6\" /><circle cx=\"6.0\" cy=\"8.267949192431121\" r=\"0.32400000000000007\" stroke=\"#555555\" stroke-width=\"0.10800000000000001\" fill=\"#66cc99\" opacity=\"0.6\" /><circle cx=\"6.25\" cy=\"7.834936490538903\" r=\"0.32400000000000007\" stroke=\"#555555\" stroke-width=\"0.10800000000000001\" fill=\"#66cc99\" opacity=\"0.6\" /><circle cx=\"7.1\" cy=\"6.362693304105357\" r=\"0.32400000000000007\" stroke=\"#555555\" stroke-width=\"0.10800000000000001\" fill=\"#66cc99\" opacity=\"0.6\" /><circle cx=\"7.1499999999999995\" cy=\"6.276090763726913\" r=\"0.32400000000000007\" stroke=\"#555555\" stroke-width=\"0.10800000000000001\" fill=\"#66cc99\" opacity=\"0.6\" /><circle cx=\"7.499999999999998\" cy=\"5.669872981077807\" r=\"0.32400000000000007\" stroke=\"#555555\" stroke-width=\"0.10800000000000001\" fill=\"#66cc99\" opacity=\"0.6\" /><circle cx=\"9.499999999999998\" cy=\"5.669872981077807\" r=\"0.32400000000000007\" stroke=\"#555555\" stroke-width=\"0.10800000000000001\" fill=\"#66cc99\" opacity=\"0.6\" /><circle cx=\"9.899999999999999\" cy=\"5.669872981077807\" r=\"0.32400000000000007\" stroke=\"#555555\" stroke-width=\"0.10800000000000001\" fill=\"#66cc99\" opacity=\"0.6\" /><circle cx=\"10.299999999999997\" cy=\"5.669872981077807\" r=\"0.32400000000000007\" stroke=\"#555555\" stroke-width=\"0.10800000000000001\" fill=\"#66cc99\" opacity=\"0.6\" /><circle cx=\"10.999999999999998\" cy=\"5.669872981077807\" r=\"0.32400000000000007\" stroke=\"#555555\" stroke-width=\"0.10800000000000001\" fill=\"#66cc99\" opacity=\"0.6\" /><circle cx=\"11.499999999999998\" cy=\"5.669872981077807\" r=\"0.32400000000000007\" stroke=\"#555555\" stroke-width=\"0.10800000000000001\" fill=\"#66cc99\" opacity=\"0.6\" /><circle cx=\"12.5\" cy=\"5.669872981077807\" r=\"0.32400000000000007\" stroke=\"#555555\" stroke-width=\"0.10800000000000001\" fill=\"#66cc99\" opacity=\"0.6\" /><circle cx=\"12.6\" cy=\"5.843078061834695\" r=\"0.32400000000000007\" stroke=\"#555555\" stroke-width=\"0.10800000000000001\" fill=\"#66cc99\" opacity=\"0.6\" /><circle cx=\"12.85\" cy=\"6.2760907637269145\" r=\"0.32400000000000007\" stroke=\"#555555\" stroke-width=\"0.10800000000000001\" fill=\"#66cc99\" opacity=\"0.6\" /><circle cx=\"13.05\" cy=\"6.62250092524069\" r=\"0.32400000000000007\" stroke=\"#555555\" stroke-width=\"0.10800000000000001\" fill=\"#66cc99\" opacity=\"0.6\" /><circle cx=\"13.6\" cy=\"7.5751288694035726\" r=\"0.32400000000000007\" stroke=\"#555555\" stroke-width=\"0.10800000000000001\" fill=\"#66cc99\" opacity=\"0.6\" /><circle cx=\"13.8\" cy=\"7.921539030917348\" r=\"0.32400000000000007\" stroke=\"#555555\" stroke-width=\"0.10800000000000001\" fill=\"#66cc99\" opacity=\"0.6\" /><circle cx=\"15.0\" cy=\"10.0\" r=\"0.32400000000000007\" stroke=\"#555555\" stroke-width=\"0.10800000000000001\" fill=\"#66cc99\" opacity=\"0.6\" /></g></g></svg>"
      ],
      "text/plain": [
       "<shapely.geometry.multipoint.MultiPoint at 0x1f5a940db48>"
      ]
     },
     "execution_count": 9,
     "metadata": {},
     "output_type": "execute_result"
    }
   ],
   "source": [
    "poly_as_mpt(sg.Polygon(after_pts))"
   ]
  },
  {
   "cell_type": "code",
   "execution_count": 10,
   "metadata": {},
   "outputs": [
    {
     "data": {
      "image/svg+xml": [
       "<svg xmlns=\"http://www.w3.org/2000/svg\" xmlns:xlink=\"http://www.w3.org/1999/xlink\" width=\"100.0\" height=\"100.0\" viewBox=\"4.6 5.269872981077807 10.8 9.460254037844388\" preserveAspectRatio=\"xMinYMin meet\"><g transform=\"matrix(1,0,0,-1,0,20.0)\"><g><circle cx=\"15.0\" cy=\"10.0\" r=\"0.32400000000000007\" stroke=\"#555555\" stroke-width=\"0.10800000000000001\" fill=\"#66cc99\" opacity=\"0.6\" /><circle cx=\"12.5\" cy=\"14.330127018922193\" r=\"0.32400000000000007\" stroke=\"#555555\" stroke-width=\"0.10800000000000001\" fill=\"#66cc99\" opacity=\"0.6\" /><circle cx=\"7.500000000000001\" cy=\"14.330127018922195\" r=\"0.32400000000000007\" stroke=\"#555555\" stroke-width=\"0.10800000000000001\" fill=\"#66cc99\" opacity=\"0.6\" /><circle cx=\"5.0\" cy=\"10.0\" r=\"0.32400000000000007\" stroke=\"#555555\" stroke-width=\"0.10800000000000001\" fill=\"#66cc99\" opacity=\"0.6\" /><circle cx=\"7.499999999999998\" cy=\"5.669872981077807\" r=\"0.32400000000000007\" stroke=\"#555555\" stroke-width=\"0.10800000000000001\" fill=\"#66cc99\" opacity=\"0.6\" /><circle cx=\"12.5\" cy=\"5.669872981077807\" r=\"0.32400000000000007\" stroke=\"#555555\" stroke-width=\"0.10800000000000001\" fill=\"#66cc99\" opacity=\"0.6\" /><circle cx=\"15.0\" cy=\"10.0\" r=\"0.32400000000000007\" stroke=\"#555555\" stroke-width=\"0.10800000000000001\" fill=\"#66cc99\" opacity=\"0.6\" /></g></g></svg>"
      ],
      "text/plain": [
       "<shapely.geometry.multipoint.MultiPoint at 0x1f5a9584e88>"
      ]
     },
     "execution_count": 10,
     "metadata": {},
     "output_type": "execute_result"
    }
   ],
   "source": [
    "poly_as_mpt(simplify_by_interior_angle(sg.Polygon(after_pts)))"
   ]
  },
  {
   "cell_type": "code",
   "execution_count": 11,
   "metadata": {},
   "outputs": [
    {
     "data": {
      "image/svg+xml": [
       "<svg xmlns=\"http://www.w3.org/2000/svg\" xmlns:xlink=\"http://www.w3.org/1999/xlink\" width=\"100.0\" height=\"100.0\" viewBox=\"4.6 5.269872981077807 10.8 9.460254037844388\" preserveAspectRatio=\"xMinYMin meet\"><g transform=\"matrix(1,0,0,-1,0,20.0)\"><path fill-rule=\"evenodd\" fill=\"#66cc99\" stroke=\"#555555\" stroke-width=\"0.21600000000000003\" opacity=\"0.6\" d=\"M 15.0,10.0 L 12.5,14.330127018922193 L 7.500000000000001,14.330127018922195 L 5.0,10.0 L 7.499999999999998,5.669872981077807 L 12.5,5.669872981077807 L 15.0,10.0 z\" /></g></svg>"
      ],
      "text/plain": [
       "<shapely.geometry.polygon.Polygon at 0x1f5a958fa48>"
      ]
     },
     "execution_count": 11,
     "metadata": {},
     "output_type": "execute_result"
    }
   ],
   "source": [
    "after_sim = simplify_by_interior_angle(sg.Polygon(after))\n",
    "after_sim"
   ]
  },
  {
   "cell_type": "code",
   "execution_count": 12,
   "metadata": {},
   "outputs": [
    {
     "data": {
      "image/svg+xml": [
       "<svg xmlns=\"http://www.w3.org/2000/svg\" xmlns:xlink=\"http://www.w3.org/1999/xlink\" width=\"100.0\" height=\"100.0\" viewBox=\"4.6 5.269872981077807 10.8 9.460254037844388\" preserveAspectRatio=\"xMinYMin meet\"><g transform=\"matrix(1,0,0,-1,0,20.0)\"><g><circle cx=\"15.0\" cy=\"10.0\" r=\"0.32400000000000007\" stroke=\"#555555\" stroke-width=\"0.10800000000000001\" fill=\"#66cc99\" opacity=\"0.6\" /><circle cx=\"12.5\" cy=\"14.330127018922193\" r=\"0.32400000000000007\" stroke=\"#555555\" stroke-width=\"0.10800000000000001\" fill=\"#66cc99\" opacity=\"0.6\" /><circle cx=\"7.500000000000001\" cy=\"14.330127018922195\" r=\"0.32400000000000007\" stroke=\"#555555\" stroke-width=\"0.10800000000000001\" fill=\"#66cc99\" opacity=\"0.6\" /><circle cx=\"5.0\" cy=\"10.0\" r=\"0.32400000000000007\" stroke=\"#555555\" stroke-width=\"0.10800000000000001\" fill=\"#66cc99\" opacity=\"0.6\" /><circle cx=\"7.499999999999998\" cy=\"5.669872981077807\" r=\"0.32400000000000007\" stroke=\"#555555\" stroke-width=\"0.10800000000000001\" fill=\"#66cc99\" opacity=\"0.6\" /><circle cx=\"12.5\" cy=\"5.669872981077807\" r=\"0.32400000000000007\" stroke=\"#555555\" stroke-width=\"0.10800000000000001\" fill=\"#66cc99\" opacity=\"0.6\" /><circle cx=\"15.0\" cy=\"10.0\" r=\"0.32400000000000007\" stroke=\"#555555\" stroke-width=\"0.10800000000000001\" fill=\"#66cc99\" opacity=\"0.6\" /></g></g></svg>"
      ],
      "text/plain": [
       "<shapely.geometry.multipoint.MultiPoint at 0x1f5a9575f08>"
      ]
     },
     "execution_count": 12,
     "metadata": {},
     "output_type": "execute_result"
    }
   ],
   "source": [
    "poly_as_mpt(after_sim)"
   ]
  },
  {
   "cell_type": "code",
   "execution_count": 13,
   "metadata": {},
   "outputs": [
    {
     "data": {
      "text/plain": [
       "7"
      ]
     },
     "execution_count": 13,
     "metadata": {},
     "output_type": "execute_result"
    }
   ],
   "source": [
    "len(after_sim.exterior.coords[:])"
   ]
  },
  {
   "cell_type": "code",
   "execution_count": 14,
   "metadata": {},
   "outputs": [
    {
     "data": {
      "image/svg+xml": [
       "<svg xmlns=\"http://www.w3.org/2000/svg\" xmlns:xlink=\"http://www.w3.org/1999/xlink\" width=\"100.0\" height=\"100.0\" viewBox=\"4.6 5.269872981077807 10.8 9.460254037844388\" preserveAspectRatio=\"xMinYMin meet\"><g transform=\"matrix(1,0,0,-1,0,20.0)\"><g><circle cx=\"15.0\" cy=\"10.0\" r=\"0.32400000000000007\" stroke=\"#555555\" stroke-width=\"0.10800000000000001\" fill=\"#66cc99\" opacity=\"0.6\" /><circle cx=\"12.5\" cy=\"14.330127018922193\" r=\"0.32400000000000007\" stroke=\"#555555\" stroke-width=\"0.10800000000000001\" fill=\"#66cc99\" opacity=\"0.6\" /><circle cx=\"9.0\" cy=\"14.330127018922195\" r=\"0.32400000000000007\" stroke=\"#555555\" stroke-width=\"0.10800000000000001\" fill=\"#66cc99\" opacity=\"0.6\" /><circle cx=\"7.500000000000001\" cy=\"14.330127018922195\" r=\"0.32400000000000007\" stroke=\"#555555\" stroke-width=\"0.10800000000000001\" fill=\"#66cc99\" opacity=\"0.6\" /><circle cx=\"5.0\" cy=\"10.0\" r=\"0.32400000000000007\" stroke=\"#555555\" stroke-width=\"0.10800000000000001\" fill=\"#66cc99\" opacity=\"0.6\" /><circle cx=\"7.499999999999998\" cy=\"5.669872981077807\" r=\"0.32400000000000007\" stroke=\"#555555\" stroke-width=\"0.10800000000000001\" fill=\"#66cc99\" opacity=\"0.6\" /><circle cx=\"12.5\" cy=\"5.669872981077807\" r=\"0.32400000000000007\" stroke=\"#555555\" stroke-width=\"0.10800000000000001\" fill=\"#66cc99\" opacity=\"0.6\" /><circle cx=\"15.0\" cy=\"10.0\" r=\"0.32400000000000007\" stroke=\"#555555\" stroke-width=\"0.10800000000000001\" fill=\"#66cc99\" opacity=\"0.6\" /></g></g></svg>"
      ],
      "text/plain": [
       "<shapely.geometry.multipoint.MultiPoint at 0x1f5a9570848>"
      ]
     },
     "execution_count": 14,
     "metadata": {},
     "output_type": "execute_result"
    }
   ],
   "source": [
    "# with simplify og\n",
    "test_simp = sg.Polygon(after).simplify(1e-5)\n",
    "poly_as_mpt(test_simp)\n"
   ]
  },
  {
   "cell_type": "code",
   "execution_count": 671,
   "metadata": {},
   "outputs": [],
   "source": [
    "def generate_random_polygon( n):\n",
    "\n",
    "    x = np.random.randint(0,50,n)\n",
    "    y = np.random.randint(0,50,n)\n",
    "    centroid = [np.sum(x)/n, np.sum(y)/n]\n",
    "\n",
    "    angles = np.arctan2(x-centroid[0], y-centroid[1])\n",
    "\n",
    "    ##sorting the points by angle\n",
    "    coords_by_theta = sorted([((xx,yy),theta) for xx,yy,theta in zip(x,y,angles)], key = lambda t: t[1])\n",
    "\n",
    "    ##making sure that there are no duplicates:\n",
    "    if len(coords_by_theta) != len(set(coords_by_theta)):\n",
    "        raise Exception('need re run (recurse potentially in future)')\n",
    "\n",
    "    xy,angles = zip(*coords_by_theta)\n",
    "#     append first point to end for complete linear ring sequence\n",
    "#     xy.append(xy[0])\n",
    "    xy = list(xy)\n",
    "    xy.append(xy[0])\n",
    "    return xy\n",
    "\n"
   ]
  },
  {
   "cell_type": "code",
   "execution_count": 688,
   "metadata": {},
   "outputs": [
    {
     "data": {
      "image/svg+xml": [
       "<svg xmlns=\"http://www.w3.org/2000/svg\" xmlns:xlink=\"http://www.w3.org/1999/xlink\" width=\"100.0\" height=\"100.0\" viewBox=\"9.08 -1.92 36.84 51.84\" preserveAspectRatio=\"xMinYMin meet\"><g transform=\"matrix(1,0,0,-1,0,48.0)\"><path fill-rule=\"evenodd\" fill=\"#66cc99\" stroke=\"#555555\" stroke-width=\"1.0368000000000002\" opacity=\"0.6\" d=\"M 15.0,11.0 L 11.0,40.0 L 21.0,48.0 L 41.0,44.0 L 43.0,39.0 L 34.0,31.0 L 44.0,0.0 L 15.0,11.0 z\" /></g></svg>"
      ],
      "text/plain": [
       "<shapely.geometry.polygon.Polygon at 0x1f5b04ada88>"
      ]
     },
     "execution_count": 688,
     "metadata": {},
     "output_type": "execute_result"
    }
   ],
   "source": [
    "vals = generate_random_polygon(7)\n",
    "# rand_poly = sg.Polygon(sg.Point(x) for x in vals)\n",
    "rand_poly=sg.Polygon(vals)\n",
    "rand_poly"
   ]
  },
  {
   "cell_type": "code",
   "execution_count": 689,
   "metadata": {},
   "outputs": [
    {
     "name": "stdout",
     "output_type": "stream",
     "text": [
      "done\n"
     ]
    },
    {
     "data": {
      "text/html": [
       "<div>\n",
       "<style scoped>\n",
       "    .dataframe tbody tr th:only-of-type {\n",
       "        vertical-align: middle;\n",
       "    }\n",
       "\n",
       "    .dataframe tbody tr th {\n",
       "        vertical-align: top;\n",
       "    }\n",
       "\n",
       "    .dataframe thead th {\n",
       "        text-align: right;\n",
       "    }\n",
       "</style>\n",
       "<table border=\"1\" class=\"dataframe\">\n",
       "  <thead>\n",
       "    <tr style=\"text-align: right;\">\n",
       "      <th></th>\n",
       "      <th>poly_wkt</th>\n",
       "    </tr>\n",
       "  </thead>\n",
       "  <tbody>\n",
       "    <tr>\n",
       "      <th>33</th>\n",
       "      <td>POLYGON ((1 9, 26 49, 45 36, 48 11, 1 9))</td>\n",
       "    </tr>\n",
       "    <tr>\n",
       "      <th>34</th>\n",
       "      <td>POLYGON ((26 4, 24 6, 8 41, 44 20, 39 1, 26 4))</td>\n",
       "    </tr>\n",
       "    <tr>\n",
       "      <th>35</th>\n",
       "      <td>POLYGON ((1 30, 11 43, 16 43, 22 47, 35 39, 45...</td>\n",
       "    </tr>\n",
       "    <tr>\n",
       "      <th>36</th>\n",
       "      <td>POLYGON ((9 8, 8 23, 9 41, 10 39, 11 47, 17 30...</td>\n",
       "    </tr>\n",
       "    <tr>\n",
       "      <th>37</th>\n",
       "      <td>POLYGON ((16 12, 1 5, 32 36, 47 45, 33 18, 38 ...</td>\n",
       "    </tr>\n",
       "    <tr>\n",
       "      <th>38</th>\n",
       "      <td>POLYGON ((27 5, 16 3, 9 23, 18 46, 49 25, 38 8...</td>\n",
       "    </tr>\n",
       "    <tr>\n",
       "      <th>39</th>\n",
       "      <td>POLYGON ((25 19, 23 3, 5 6, 24 43, 26 36, 39 3...</td>\n",
       "    </tr>\n",
       "    <tr>\n",
       "      <th>40</th>\n",
       "      <td>POLYGON ((2.4 0.7, 2 0.4, 1.9 0.7, 0.6 0.3, 2....</td>\n",
       "    </tr>\n",
       "    <tr>\n",
       "      <th>41</th>\n",
       "      <td>POLYGON ((7 10, 6 16, 1 24, 0 33, 33 46, 25 14...</td>\n",
       "    </tr>\n",
       "    <tr>\n",
       "      <th>42</th>\n",
       "      <td>POLYGON ((15 11, 11 40, 21 48, 41 44, 43 39, 3...</td>\n",
       "    </tr>\n",
       "  </tbody>\n",
       "</table>\n",
       "</div>"
      ],
      "text/plain": [
       "                                             poly_wkt\n",
       "33          POLYGON ((1 9, 26 49, 45 36, 48 11, 1 9))\n",
       "34    POLYGON ((26 4, 24 6, 8 41, 44 20, 39 1, 26 4))\n",
       "35  POLYGON ((1 30, 11 43, 16 43, 22 47, 35 39, 45...\n",
       "36  POLYGON ((9 8, 8 23, 9 41, 10 39, 11 47, 17 30...\n",
       "37  POLYGON ((16 12, 1 5, 32 36, 47 45, 33 18, 38 ...\n",
       "38  POLYGON ((27 5, 16 3, 9 23, 18 46, 49 25, 38 8...\n",
       "39  POLYGON ((25 19, 23 3, 5 6, 24 43, 26 36, 39 3...\n",
       "40  POLYGON ((2.4 0.7, 2 0.4, 1.9 0.7, 0.6 0.3, 2....\n",
       "41  POLYGON ((7 10, 6 16, 1 24, 0 33, 33 46, 25 14...\n",
       "42  POLYGON ((15 11, 11 40, 21 48, 41 44, 43 39, 3..."
      ]
     },
     "execution_count": 689,
     "metadata": {},
     "output_type": "execute_result"
    }
   ],
   "source": [
    "test_df = update_poly_pickle(rand_poly,return_df=True)\n",
    "test_df.tail(10)"
   ]
  },
  {
   "cell_type": "code",
   "execution_count": 690,
   "metadata": {},
   "outputs": [
    {
     "data": {
      "image/svg+xml": [
       "<svg xmlns=\"http://www.w3.org/2000/svg\" xmlns:xlink=\"http://www.w3.org/1999/xlink\" width=\"100.0\" height=\"100.0\" viewBox=\"9.08 -1.92 36.84 51.84\" preserveAspectRatio=\"xMinYMin meet\"><g transform=\"matrix(1,0,0,-1,0,48.0)\"><path fill-rule=\"evenodd\" fill=\"#66cc99\" stroke=\"#555555\" stroke-width=\"1.0368000000000002\" opacity=\"0.6\" d=\"M 15.0,11.0 L 11.0,40.0 L 21.0,48.0 L 41.0,44.0 L 43.0,39.0 L 34.0,31.0 L 44.0,0.0 L 15.0,11.0 z\" /></g></svg>"
      ],
      "text/plain": [
       "<shapely.geometry.polygon.Polygon at 0x1f5b0496948>"
      ]
     },
     "execution_count": 690,
     "metadata": {},
     "output_type": "execute_result"
    }
   ],
   "source": [
    "simplify_by_interior_angle(rand_poly)"
   ]
  },
  {
   "cell_type": "code",
   "execution_count": 691,
   "metadata": {},
   "outputs": [
    {
     "data": {
      "image/svg+xml": [
       "<svg xmlns=\"http://www.w3.org/2000/svg\" xmlns:xlink=\"http://www.w3.org/1999/xlink\" width=\"100.0\" height=\"100.0\" viewBox=\"9.08 -1.92 36.84 51.84\" preserveAspectRatio=\"xMinYMin meet\"><g transform=\"matrix(1,0,0,-1,0,48.0)\"><g><circle cx=\"15.0\" cy=\"11.0\" r=\"1.5552000000000001\" stroke=\"#555555\" stroke-width=\"0.5184000000000001\" fill=\"#66cc99\" opacity=\"0.6\" /><circle cx=\"11.0\" cy=\"40.0\" r=\"1.5552000000000001\" stroke=\"#555555\" stroke-width=\"0.5184000000000001\" fill=\"#66cc99\" opacity=\"0.6\" /><circle cx=\"21.0\" cy=\"48.0\" r=\"1.5552000000000001\" stroke=\"#555555\" stroke-width=\"0.5184000000000001\" fill=\"#66cc99\" opacity=\"0.6\" /><circle cx=\"41.0\" cy=\"44.0\" r=\"1.5552000000000001\" stroke=\"#555555\" stroke-width=\"0.5184000000000001\" fill=\"#66cc99\" opacity=\"0.6\" /><circle cx=\"43.0\" cy=\"39.0\" r=\"1.5552000000000001\" stroke=\"#555555\" stroke-width=\"0.5184000000000001\" fill=\"#66cc99\" opacity=\"0.6\" /><circle cx=\"34.0\" cy=\"31.0\" r=\"1.5552000000000001\" stroke=\"#555555\" stroke-width=\"0.5184000000000001\" fill=\"#66cc99\" opacity=\"0.6\" /><circle cx=\"44.0\" cy=\"0.0\" r=\"1.5552000000000001\" stroke=\"#555555\" stroke-width=\"0.5184000000000001\" fill=\"#66cc99\" opacity=\"0.6\" /><circle cx=\"15.0\" cy=\"11.0\" r=\"1.5552000000000001\" stroke=\"#555555\" stroke-width=\"0.5184000000000001\" fill=\"#66cc99\" opacity=\"0.6\" /></g></g></svg>"
      ],
      "text/plain": [
       "<shapely.geometry.multipoint.MultiPoint at 0x1f5b02fdd48>"
      ]
     },
     "execution_count": 691,
     "metadata": {},
     "output_type": "execute_result"
    }
   ],
   "source": [
    "poly_as_mpt(rand_poly)"
   ]
  },
  {
   "cell_type": "code",
   "execution_count": 692,
   "metadata": {},
   "outputs": [],
   "source": [
    "# pt bufferer\n"
   ]
  },
  {
   "cell_type": "code",
   "execution_count": 693,
   "metadata": {},
   "outputs": [
    {
     "data": {
      "text/plain": [
       "8"
      ]
     },
     "execution_count": 693,
     "metadata": {},
     "output_type": "execute_result"
    }
   ],
   "source": [
    "len(poly_as_mpt(simplify_by_interior_angle(rand_poly)))"
   ]
  },
  {
   "cell_type": "code",
   "execution_count": 694,
   "metadata": {},
   "outputs": [
    {
     "data": {
      "image/svg+xml": [
       "<svg xmlns=\"http://www.w3.org/2000/svg\" xmlns:xlink=\"http://www.w3.org/1999/xlink\" width=\"100.0\" height=\"100.0\" viewBox=\"8.0 -3.0 39.0 54.0\" preserveAspectRatio=\"xMinYMin meet\"><g transform=\"matrix(1,0,0,-1,0,48.0)\"><g><polyline fill=\"none\" stroke=\"#66cc99\" stroke-width=\"1.08\" points=\"14.863520094561881,11.989479314426363 11.136479905438119,39.01052068557363\" opacity=\"0.8\" /><polyline fill=\"none\" stroke=\"#66cc99\" stroke-width=\"1.08\" points=\"11.780451031834883,40.6243608254679 20.219548968165114,47.37563917453209\" opacity=\"0.8\" /><polyline fill=\"none\" stroke=\"#66cc99\" stroke-width=\"1.08\" points=\"21.98053082498302,47.80389383500339 40.01946917501698,44.19610616499661\" opacity=\"0.8\" /><polyline fill=\"none\" stroke=\"#66cc99\" stroke-width=\"1.08\" points=\"41.37119593055327,43.07201017361683 42.62880406944673,39.92798982638317\" opacity=\"0.8\" /><polyline fill=\"none\" stroke=\"#66cc99\" stroke-width=\"1.08\" points=\"42.25345607587347,38.33640540077642 34.74654392412653,31.66359459922358\" opacity=\"0.8\" /><polyline fill=\"none\" stroke=\"#66cc99\" stroke-width=\"1.08\" points=\"34.3067858461581,30.04896387690989 43.6932141538419,0.9510361230901095\" opacity=\"0.8\" /><polyline fill=\"none\" stroke=\"#66cc99\" stroke-width=\"1.08\" points=\"43.06596132522572,0.3542905318109326 15.934038674774278,10.645709468189066\" opacity=\"0.8\" /><path fill-rule=\"evenodd\" fill=\"#66cc99\" stroke=\"#555555\" stroke-width=\"1.08\" opacity=\"0.6\" d=\"M 16.0,11.0 L 15.995184726672196,10.90198285967044 L 15.98078528040323,10.804909677983872 L 15.95694033573221,10.709715322745538 L 15.934038674774278,10.645709468189066 L 15.923879532511286,10.61731656763491 L 15.881921264348355,10.528603263174002 L 15.831469612302545,10.444429766980399 L 15.773010453362737,10.365606715836355 L 15.707106781186548,10.292893218813454 L 15.634393284163647,10.226989546637263 L 15.555570233019603,10.168530387697455 L 15.471396736825998,10.118078735651645 L 15.382683432365091,10.076120467488714 L 15.290284677254464,10.043059664267792 L 15.19509032201613,10.01921471959677 L 15.098017140329562,10.004815273327804 L 15.000000000000002,10.0 L 14.901982859670442,10.004815273327804 L 14.804909677983874,10.01921471959677 L 14.70971532274554,10.04305966426779 L 14.617316567634912,10.076120467488712 L 14.528603263174004,10.118078735651643 L 14.444429766980399,10.168530387697453 L 14.365606715836357,10.226989546637261 L 14.292893218813454,10.29289321881345 L 14.226989546637265,10.365606715836353 L 14.168530387697455,10.444429766980397 L 14.118078735651645,10.528603263174 L 14.076120467488714,10.617316567634909 L 14.043059664267792,10.709715322745536 L 14.01921471959677,10.80490967798387 L 14.004815273327804,10.901982859670438 L 14.0,10.999999999999998 L 14.004815273327804,11.09801714032956 L 14.01921471959677,11.195090322016128 L 14.04305966426779,11.290284677254462 L 14.076120467488714,11.38268343236509 L 14.118078735651645,11.471396736825998 L 14.168530387697455,11.555570233019601 L 14.226989546637263,11.634393284163645 L 14.292893218813452,11.707106781186548 L 14.365606715836353,11.773010453362737 L 14.444429766980397,11.831469612302545 L 14.528603263174002,11.881921264348355 L 14.617316567634909,11.923879532511286 L 14.709715322745536,11.956940335732208 L 14.80490967798387,11.98078528040323 L 14.863520094561881,11.989479314426363 L 14.901982859670436,11.995184726672196 L 14.999999999999996,12.0 L 15.098017140329558,11.995184726672196 L 15.195090322016124,11.98078528040323 L 15.290284677254459,11.95694033573221 L 15.382683432365086,11.923879532511288 L 15.471396736825994,11.881921264348357 L 15.555570233019598,11.831469612302548 L 15.634393284163641,11.77301045336274 L 15.707106781186544,11.707106781186551 L 15.773010453362733,11.63439328416365 L 15.831469612302541,11.555570233019607 L 15.881921264348351,11.471396736826003 L 15.923879532511284,11.382683432365097 L 15.956940335732206,11.29028467725447 L 15.980785280403229,11.195090322016135 L 15.995184726672196,11.098017140329569 L 16.0,11.000000000000009 L 16.0,11.0 z\" /><path fill-rule=\"evenodd\" fill=\"#66cc99\" stroke=\"#555555\" stroke-width=\"1.08\" opacity=\"0.6\" d=\"M 12.0,40.0 L 11.995184726672196,39.90198285967044 L 11.98078528040323,39.80490967798387 L 11.95694033573221,39.70971532274554 L 11.923879532511286,39.61731656763491 L 11.881921264348355,39.528603263174006 L 11.831469612302545,39.4444297669804 L 11.773010453362737,39.36560671583636 L 11.707106781186548,39.292893218813454 L 11.634393284163647,39.22698954663726 L 11.555570233019603,39.16853038769746 L 11.471396736825998,39.11807873565164 L 11.382683432365091,39.076120467488714 L 11.290284677254464,39.043059664267794 L 11.19509032201613,39.01921471959677 L 11.136479905438119,39.01052068557363 L 11.098017140329562,39.0048152733278 L 11.000000000000002,39.0 L 10.901982859670442,39.0048152733278 L 10.804909677983874,39.01921471959677 L 10.70971532274554,39.04305966426779 L 10.617316567634912,39.076120467488714 L 10.528603263174004,39.11807873565164 L 10.444429766980399,39.16853038769745 L 10.365606715836357,39.22698954663726 L 10.292893218813454,39.292893218813454 L 10.226989546637265,39.36560671583635 L 10.168530387697455,39.4444297669804 L 10.118078735651645,39.528603263174 L 10.076120467488714,39.61731656763491 L 10.043059664267792,39.70971532274554 L 10.01921471959677,39.80490967798387 L 10.004815273327804,39.90198285967044 L 10.0,40.0 L 10.004815273327804,40.09801714032956 L 10.01921471959677,40.19509032201613 L 10.04305966426779,40.29028467725446 L 10.076120467488714,40.38268343236509 L 10.118078735651645,40.471396736825994 L 10.168530387697455,40.5555702330196 L 10.226989546637263,40.63439328416364 L 10.292893218813452,40.707106781186546 L 10.365606715836353,40.77301045336274 L 10.444429766980397,40.83146961230254 L 10.528603263174002,40.88192126434836 L 10.617316567634909,40.923879532511286 L 10.709715322745536,40.956940335732206 L 10.80490967798387,40.98078528040323 L 10.901982859670436,40.9951847266722 L 10.999999999999996,41.0 L 11.098017140329558,40.9951847266722 L 11.195090322016124,40.98078528040323 L 11.290284677254459,40.95694033573221 L 11.382683432365086,40.923879532511286 L 11.471396736825994,40.88192126434836 L 11.555570233019598,40.83146961230255 L 11.634393284163641,40.77301045336274 L 11.707106781186544,40.70710678118655 L 11.773010453362733,40.63439328416365 L 11.780451031834883,40.6243608254679 L 11.831469612302541,40.55557023301961 L 11.881921264348351,40.471396736826 L 11.923879532511284,40.3826834323651 L 11.956940335732206,40.29028467725447 L 11.980785280403229,40.195090322016135 L 11.995184726672196,40.09801714032957 L 12.0,40.00000000000001 L 12.0,40.0 z\" /><path fill-rule=\"evenodd\" fill=\"#66cc99\" stroke=\"#555555\" stroke-width=\"1.08\" opacity=\"0.6\" d=\"M 22.0,48.0 L 21.995184726672196,47.90198285967044 L 21.980785280403232,47.80490967798387 L 21.98053082498302,47.80389383500339 L 21.95694033573221,47.70971532274554 L 21.923879532511286,47.61731656763491 L 21.881921264348357,47.528603263174006 L 21.831469612302545,47.4444297669804 L 21.773010453362737,47.36560671583636 L 21.70710678118655,47.292893218813454 L 21.634393284163647,47.22698954663726 L 21.5555702330196,47.16853038769746 L 21.471396736825998,47.11807873565164 L 21.38268343236509,47.076120467488714 L 21.290284677254462,47.043059664267794 L 21.195090322016128,47.01921471959677 L 21.098017140329564,47.0048152733278 L 21.0,47.0 L 20.90198285967044,47.0048152733278 L 20.804909677983872,47.01921471959677 L 20.709715322745538,47.04305966426779 L 20.617316567634912,47.076120467488714 L 20.528603263174006,47.11807873565164 L 20.4444297669804,47.16853038769745 L 20.365606715836357,47.22698954663726 L 20.292893218813454,47.292893218813454 L 20.226989546637263,47.36560671583635 L 20.219548968165114,47.37563917453209 L 20.168530387697455,47.4444297669804 L 20.118078735651647,47.528603263174 L 20.076120467488714,47.61731656763491 L 20.04305966426779,47.70971532274554 L 20.01921471959677,47.80490967798387 L 20.004815273327804,47.90198285967044 L 20.0,48.0 L 20.004815273327804,48.09801714032956 L 20.019214719596768,48.19509032201613 L 20.04305966426779,48.29028467725446 L 20.076120467488714,48.38268343236509 L 20.118078735651643,48.471396736825994 L 20.168530387697455,48.5555702330196 L 20.226989546637263,48.63439328416364 L 20.292893218813454,48.707106781186546 L 20.365606715836353,48.77301045336274 L 20.4444297669804,48.83146961230254 L 20.528603263174002,48.88192126434836 L 20.61731656763491,48.923879532511286 L 20.709715322745534,48.956940335732206 L 20.80490967798387,48.98078528040323 L 20.901982859670436,48.9951847266722 L 20.999999999999996,49.0 L 21.098017140329556,48.9951847266722 L 21.195090322016124,48.98078528040323 L 21.29028467725446,48.95694033573221 L 21.382683432365084,48.923879532511286 L 21.471396736825994,48.88192126434836 L 21.555570233019598,48.83146961230255 L 21.634393284163643,48.77301045336274 L 21.707106781186543,48.70710678118655 L 21.773010453362733,48.63439328416365 L 21.83146961230254,48.55557023301961 L 21.881921264348353,48.471396736826 L 21.923879532511283,48.3826834323651 L 21.956940335732206,48.29028467725447 L 21.98078528040323,48.195090322016135 L 21.995184726672196,48.09801714032957 L 22.0,48.00000000000001 L 22.0,48.0 z\" /><path fill-rule=\"evenodd\" fill=\"#66cc99\" stroke=\"#555555\" stroke-width=\"1.08\" opacity=\"0.6\" d=\"M 42.0,44.0 L 41.9951847266722,43.90198285967044 L 41.98078528040323,43.80490967798387 L 41.956940335732206,43.70971532274554 L 41.923879532511286,43.61731656763491 L 41.88192126434836,43.528603263174006 L 41.83146961230255,43.4444297669804 L 41.77301045336274,43.36560671583636 L 41.707106781186546,43.292893218813454 L 41.63439328416364,43.22698954663726 L 41.5555702330196,43.16853038769746 L 41.471396736826,43.11807873565164 L 41.38268343236509,43.076120467488714 L 41.37119593055327,43.07201017361683 L 41.29028467725446,43.043059664267794 L 41.19509032201613,43.01921471959677 L 41.09801714032956,43.0048152733278 L 41.0,43.0 L 40.90198285967044,43.0048152733278 L 40.80490967798387,43.01921471959677 L 40.70971532274554,43.04305966426779 L 40.617316567634916,43.076120467488714 L 40.528603263174006,43.11807873565164 L 40.4444297669804,43.16853038769745 L 40.36560671583636,43.22698954663726 L 40.292893218813454,43.292893218813454 L 40.22698954663726,43.36560671583635 L 40.16853038769746,43.4444297669804 L 40.11807873565164,43.528603263174 L 40.076120467488714,43.61731656763491 L 40.043059664267794,43.70971532274554 L 40.01921471959677,43.80490967798387 L 40.0048152733278,43.90198285967044 L 40.0,44.0 L 40.0048152733278,44.09801714032956 L 40.01921471959677,44.19509032201613 L 40.01946917501698,44.19610616499661 L 40.043059664267794,44.29028467725446 L 40.076120467488714,44.38268343236509 L 40.11807873565164,44.471396736825994 L 40.16853038769745,44.5555702330196 L 40.22698954663726,44.63439328416364 L 40.292893218813454,44.707106781186546 L 40.36560671583636,44.77301045336274 L 40.4444297669804,44.83146961230254 L 40.528603263174,44.88192126434836 L 40.61731656763491,44.923879532511286 L 40.70971532274554,44.956940335732206 L 40.80490967798387,44.98078528040323 L 40.90198285967044,44.9951847266722 L 41.0,45.0 L 41.09801714032956,44.9951847266722 L 41.19509032201613,44.98078528040323 L 41.29028467725446,44.95694033573221 L 41.382683432365084,44.923879532511286 L 41.471396736825994,44.88192126434836 L 41.5555702330196,44.83146961230255 L 41.63439328416364,44.77301045336274 L 41.707106781186546,44.70710678118655 L 41.77301045336273,44.63439328416365 L 41.83146961230254,44.55557023301961 L 41.88192126434835,44.471396736826 L 41.923879532511286,44.3826834323651 L 41.956940335732206,44.29028467725447 L 41.98078528040323,44.195090322016135 L 41.99518472667219,44.09801714032957 L 42.0,44.00000000000001 L 42.0,44.0 z\" /><path fill-rule=\"evenodd\" fill=\"#66cc99\" stroke=\"#555555\" stroke-width=\"1.08\" opacity=\"0.6\" d=\"M 44.0,39.0 L 43.9951847266722,38.90198285967044 L 43.98078528040323,38.80490967798387 L 43.956940335732206,38.70971532274554 L 43.923879532511286,38.61731656763491 L 43.88192126434836,38.528603263174006 L 43.83146961230255,38.4444297669804 L 43.77301045336274,38.36560671583636 L 43.707106781186546,38.292893218813454 L 43.63439328416364,38.22698954663726 L 43.5555702330196,38.16853038769746 L 43.471396736826,38.11807873565164 L 43.38268343236509,38.076120467488714 L 43.29028467725446,38.043059664267794 L 43.19509032201613,38.01921471959677 L 43.09801714032956,38.0048152733278 L 43.0,38.0 L 42.90198285967044,38.0048152733278 L 42.80490967798387,38.01921471959677 L 42.70971532274554,38.04305966426779 L 42.617316567634916,38.076120467488714 L 42.528603263174006,38.11807873565164 L 42.4444297669804,38.16853038769745 L 42.36560671583636,38.22698954663726 L 42.292893218813454,38.292893218813454 L 42.25345607587347,38.33640540077642 L 42.22698954663726,38.36560671583635 L 42.16853038769746,38.4444297669804 L 42.11807873565164,38.528603263174 L 42.076120467488714,38.61731656763491 L 42.043059664267794,38.70971532274554 L 42.01921471959677,38.80490967798387 L 42.0048152733278,38.90198285967044 L 42.0,39.0 L 42.0048152733278,39.09801714032956 L 42.01921471959677,39.19509032201613 L 42.043059664267794,39.29028467725446 L 42.076120467488714,39.38268343236509 L 42.11807873565164,39.471396736825994 L 42.16853038769745,39.5555702330196 L 42.22698954663726,39.63439328416364 L 42.292893218813454,39.707106781186546 L 42.36560671583636,39.77301045336274 L 42.4444297669804,39.83146961230254 L 42.528603263174,39.88192126434836 L 42.61731656763491,39.923879532511286 L 42.62880406944673,39.92798982638317 L 42.70971532274554,39.956940335732206 L 42.80490967798387,39.98078528040323 L 42.90198285967044,39.9951847266722 L 43.0,40.0 L 43.09801714032956,39.9951847266722 L 43.19509032201613,39.98078528040323 L 43.29028467725446,39.95694033573221 L 43.382683432365084,39.923879532511286 L 43.471396736825994,39.88192126434836 L 43.5555702330196,39.83146961230255 L 43.63439328416364,39.77301045336274 L 43.707106781186546,39.70710678118655 L 43.77301045336273,39.63439328416365 L 43.83146961230254,39.55557023301961 L 43.88192126434835,39.471396736826 L 43.923879532511286,39.3826834323651 L 43.956940335732206,39.29028467725447 L 43.98078528040323,39.195090322016135 L 43.99518472667219,39.09801714032957 L 44.0,39.00000000000001 L 44.0,39.0 z\" /><path fill-rule=\"evenodd\" fill=\"#66cc99\" stroke=\"#555555\" stroke-width=\"1.08\" opacity=\"0.6\" d=\"M 35.0,31.0 L 34.9951847266722,30.90198285967044 L 34.98078528040323,30.804909677983872 L 34.956940335732206,30.709715322745538 L 34.923879532511286,30.617316567634912 L 34.88192126434836,30.528603263174002 L 34.83146961230255,30.4444297669804 L 34.77301045336274,30.365606715836353 L 34.707106781186546,30.292893218813454 L 34.63439328416364,30.226989546637263 L 34.5555702330196,30.168530387697455 L 34.471396736826,30.118078735651647 L 34.38268343236509,30.076120467488714 L 34.3067858461581,30.04896387690989 L 34.29028467725446,30.04305966426779 L 34.19509032201613,30.01921471959677 L 34.09801714032956,30.004815273327804 L 34.0,30.0 L 33.90198285967044,30.004815273327804 L 33.80490967798387,30.019214719596768 L 33.70971532274554,30.04305966426779 L 33.617316567634916,30.076120467488714 L 33.528603263174006,30.118078735651643 L 33.4444297669804,30.168530387697455 L 33.36560671583636,30.226989546637263 L 33.292893218813454,30.29289321881345 L 33.22698954663726,30.365606715836353 L 33.16853038769746,30.444429766980395 L 33.11807873565164,30.528603263174002 L 33.076120467488714,30.61731656763491 L 33.043059664267794,30.709715322745538 L 33.01921471959677,30.804909677983872 L 33.0048152733278,30.90198285967044 L 33.0,31.0 L 33.0048152733278,31.09801714032956 L 33.01921471959677,31.195090322016128 L 33.043059664267794,31.290284677254462 L 33.076120467488714,31.382683432365088 L 33.11807873565164,31.471396736825998 L 33.16853038769745,31.5555702330196 L 33.22698954663726,31.634393284163647 L 33.292893218813454,31.707106781186546 L 33.36560671583636,31.773010453362737 L 33.4444297669804,31.831469612302545 L 33.528603263174,31.881921264348353 L 33.61731656763491,31.923879532511286 L 33.70971532274554,31.95694033573221 L 33.80490967798387,31.98078528040323 L 33.90198285967044,31.995184726672196 L 34.0,32.0 L 34.09801714032956,31.995184726672196 L 34.19509032201613,31.980785280403232 L 34.29028467725446,31.95694033573221 L 34.382683432365084,31.92387953251129 L 34.471396736825994,31.881921264348357 L 34.5555702330196,31.83146961230255 L 34.63439328416364,31.77301045336274 L 34.707106781186546,31.707106781186553 L 34.74654392412653,31.66359459922358 L 34.77301045336273,31.63439328416365 L 34.83146961230254,31.55557023301961 L 34.88192126434835,31.471396736826005 L 34.923879532511286,31.382683432365095 L 34.956940335732206,31.29028467725447 L 34.98078528040323,31.195090322016135 L 34.99518472667219,31.098017140329567 L 35.0,31.000000000000007 L 35.0,31.0 z\" /><path fill-rule=\"evenodd\" fill=\"#66cc99\" stroke=\"#555555\" stroke-width=\"1.08\" opacity=\"0.6\" d=\"M 45.0,0.0 L 44.9951847266722,-0.0980171403295605 L 44.98078528040323,-0.19509032201612808 L 44.956940335732206,-0.2902846772544621 L 44.923879532511286,-0.3826834323650894 L 44.88192126434836,-0.4713967368259972 L 44.83146961230255,-0.5555702330196017 L 44.77301045336274,-0.6343932841636449 L 44.707106781186546,-0.7071067811865469 L 44.63439328416364,-0.7730104533627363 L 44.5555702330196,-0.8314696123025447 L 44.471396736826,-0.8819212643483545 L 44.38268343236509,-0.9238795325112863 L 44.29028467725446,-0.9569403357322085 L 44.19509032201613,-0.9807852804032302 L 44.09801714032956,-0.9951847266721967 L 44.0,-1.0 L 43.90198285967044,-0.995184726672197 L 43.80490967798387,-0.9807852804032308 L 43.70971532274554,-0.9569403357322095 L 43.617316567634916,-0.9238795325112875 L 43.528603263174006,-0.881921264348356 L 43.4444297669804,-0.8314696123025463 L 43.36560671583636,-0.7730104533627382 L 43.292893218813454,-0.7071067811865489 L 43.22698954663726,-0.6343932841636468 L 43.16853038769746,-0.5555702330196036 L 43.11807873565164,-0.47139673682599903 L 43.076120467488714,-0.3826834323650911 L 43.043059664267794,-0.29028467725446366 L 43.01921471959677,-0.19509032201612947 L 43.0048152733278,-0.09801714032956171 L 43.0,-1.0106430996148606e-15 L 43.0048152733278,0.0980171403295597 L 43.01921471959677,0.1950903220161275 L 43.043059664267794,0.2902846772544617 L 43.06596132522572,0.3542905318109326 L 43.076120467488714,0.3826834323650892 L 43.11807873565164,0.47139673682599725 L 43.16853038769745,0.555570233019602 L 43.22698954663726,0.6343932841636453 L 43.292893218813454,0.7071067811865475 L 43.36560671583636,0.7730104533627367 L 43.4444297669804,0.8314696123025448 L 43.528603263174,0.8819212643483545 L 43.61731656763491,0.9238795325112862 L 43.6932141538419,0.9510361230901095 L 43.70971532274554,0.9569403357322084 L 43.80490967798387,0.98078528040323 L 43.90198285967044,0.9951847266721966 L 44.0,1.0 L 44.09801714032956,0.9951847266721972 L 44.19509032201613,0.9807852804032311 L 44.29028467725446,0.9569403357322099 L 44.382683432365084,0.9238795325112884 L 44.471396736825994,0.8819212643483572 L 44.5555702330196,0.8314696123025479 L 44.63439328416364,0.7730104533627402 L 44.707106781186546,0.7071067811865515 L 44.77301045336273,0.63439328416365 L 44.83146961230254,0.5555702330196074 L 44.88192126434835,0.4713967368260034 L 44.923879532511286,0.38268343236509617 L 44.956940335732206,0.29028467725446927 L 44.98078528040323,0.1950903220161357 L 44.99518472667219,0.09801714032956847 L 45.0,8.238535137130597e-15 L 45.0,0.0 z\" /></g></g></svg>"
      ],
      "text/plain": [
       "<shapely.geometry.collection.GeometryCollection at 0x1f5b0515208>"
      ]
     },
     "execution_count": 694,
     "metadata": {},
     "output_type": "execute_result"
    }
   ],
   "source": [
    "buffpt = [sg.Point(x).buffer(1) for x in vals]\n",
    "sg.MultiPolygon(buffpt).union(rand_poly.exterior)\n"
   ]
  },
  {
   "cell_type": "code",
   "execution_count": 695,
   "metadata": {},
   "outputs": [],
   "source": [
    "def buffer_poly_vtx(poly,buffer=1):\n",
    "    pts = poly.exterior.coords[:]\n",
    "    buffpts = [sg.Point(x).buffer(1) for x in pts]\n",
    "    buffpts = sg.MultiPolygon(buffpts)\n",
    "    poly_ext = poly.exterior\n",
    "#     return geom collection\n",
    "    try:\n",
    "        return poly_ext.union(buffpts)    \n",
    "    except Exception as e:\n",
    "        print(e)"
   ]
  },
  {
   "cell_type": "code",
   "execution_count": 696,
   "metadata": {},
   "outputs": [
    {
     "data": {
      "image/svg+xml": [
       "<svg xmlns=\"http://www.w3.org/2000/svg\" xmlns:xlink=\"http://www.w3.org/1999/xlink\" width=\"100.0\" height=\"100.0\" viewBox=\"8.0 -3.0 39.0 54.0\" preserveAspectRatio=\"xMinYMin meet\"><g transform=\"matrix(1,0,0,-1,0,48.0)\"><g><polyline fill=\"none\" stroke=\"#66cc99\" stroke-width=\"1.08\" points=\"14.863520094561881,11.989479314426363 11.136479905438119,39.01052068557363\" opacity=\"0.8\" /><polyline fill=\"none\" stroke=\"#66cc99\" stroke-width=\"1.08\" points=\"11.780451031834883,40.6243608254679 20.219548968165114,47.37563917453209\" opacity=\"0.8\" /><polyline fill=\"none\" stroke=\"#66cc99\" stroke-width=\"1.08\" points=\"21.98053082498302,47.80389383500339 40.01946917501698,44.19610616499661\" opacity=\"0.8\" /><polyline fill=\"none\" stroke=\"#66cc99\" stroke-width=\"1.08\" points=\"41.37119593055327,43.07201017361683 42.62880406944673,39.92798982638317\" opacity=\"0.8\" /><polyline fill=\"none\" stroke=\"#66cc99\" stroke-width=\"1.08\" points=\"42.25345607587347,38.33640540077642 34.74654392412653,31.66359459922358\" opacity=\"0.8\" /><polyline fill=\"none\" stroke=\"#66cc99\" stroke-width=\"1.08\" points=\"34.3067858461581,30.04896387690989 43.6932141538419,0.9510361230901095\" opacity=\"0.8\" /><polyline fill=\"none\" stroke=\"#66cc99\" stroke-width=\"1.08\" points=\"43.06596132522572,0.3542905318109326 15.934038674774278,10.645709468189066\" opacity=\"0.8\" /><path fill-rule=\"evenodd\" fill=\"#66cc99\" stroke=\"#555555\" stroke-width=\"1.08\" opacity=\"0.6\" d=\"M 16.0,11.0 L 15.995184726672196,10.90198285967044 L 15.98078528040323,10.804909677983872 L 15.95694033573221,10.709715322745538 L 15.934038674774278,10.645709468189066 L 15.923879532511286,10.61731656763491 L 15.881921264348355,10.528603263174002 L 15.831469612302545,10.444429766980399 L 15.773010453362737,10.365606715836355 L 15.707106781186548,10.292893218813454 L 15.634393284163647,10.226989546637263 L 15.555570233019603,10.168530387697455 L 15.471396736825998,10.118078735651645 L 15.382683432365091,10.076120467488714 L 15.290284677254464,10.043059664267792 L 15.19509032201613,10.01921471959677 L 15.098017140329562,10.004815273327804 L 15.000000000000002,10.0 L 14.901982859670442,10.004815273327804 L 14.804909677983874,10.01921471959677 L 14.70971532274554,10.04305966426779 L 14.617316567634912,10.076120467488712 L 14.528603263174004,10.118078735651643 L 14.444429766980399,10.168530387697453 L 14.365606715836357,10.226989546637261 L 14.292893218813454,10.29289321881345 L 14.226989546637265,10.365606715836353 L 14.168530387697455,10.444429766980397 L 14.118078735651645,10.528603263174 L 14.076120467488714,10.617316567634909 L 14.043059664267792,10.709715322745536 L 14.01921471959677,10.80490967798387 L 14.004815273327804,10.901982859670438 L 14.0,10.999999999999998 L 14.004815273327804,11.09801714032956 L 14.01921471959677,11.195090322016128 L 14.04305966426779,11.290284677254462 L 14.076120467488714,11.38268343236509 L 14.118078735651645,11.471396736825998 L 14.168530387697455,11.555570233019601 L 14.226989546637263,11.634393284163645 L 14.292893218813452,11.707106781186548 L 14.365606715836353,11.773010453362737 L 14.444429766980397,11.831469612302545 L 14.528603263174002,11.881921264348355 L 14.617316567634909,11.923879532511286 L 14.709715322745536,11.956940335732208 L 14.80490967798387,11.98078528040323 L 14.863520094561881,11.989479314426363 L 14.901982859670436,11.995184726672196 L 14.999999999999996,12.0 L 15.098017140329558,11.995184726672196 L 15.195090322016124,11.98078528040323 L 15.290284677254459,11.95694033573221 L 15.382683432365086,11.923879532511288 L 15.471396736825994,11.881921264348357 L 15.555570233019598,11.831469612302548 L 15.634393284163641,11.77301045336274 L 15.707106781186544,11.707106781186551 L 15.773010453362733,11.63439328416365 L 15.831469612302541,11.555570233019607 L 15.881921264348351,11.471396736826003 L 15.923879532511284,11.382683432365097 L 15.956940335732206,11.29028467725447 L 15.980785280403229,11.195090322016135 L 15.995184726672196,11.098017140329569 L 16.0,11.000000000000009 L 16.0,11.0 z\" /><path fill-rule=\"evenodd\" fill=\"#66cc99\" stroke=\"#555555\" stroke-width=\"1.08\" opacity=\"0.6\" d=\"M 12.0,40.0 L 11.995184726672196,39.90198285967044 L 11.98078528040323,39.80490967798387 L 11.95694033573221,39.70971532274554 L 11.923879532511286,39.61731656763491 L 11.881921264348355,39.528603263174006 L 11.831469612302545,39.4444297669804 L 11.773010453362737,39.36560671583636 L 11.707106781186548,39.292893218813454 L 11.634393284163647,39.22698954663726 L 11.555570233019603,39.16853038769746 L 11.471396736825998,39.11807873565164 L 11.382683432365091,39.076120467488714 L 11.290284677254464,39.043059664267794 L 11.19509032201613,39.01921471959677 L 11.136479905438119,39.01052068557363 L 11.098017140329562,39.0048152733278 L 11.000000000000002,39.0 L 10.901982859670442,39.0048152733278 L 10.804909677983874,39.01921471959677 L 10.70971532274554,39.04305966426779 L 10.617316567634912,39.076120467488714 L 10.528603263174004,39.11807873565164 L 10.444429766980399,39.16853038769745 L 10.365606715836357,39.22698954663726 L 10.292893218813454,39.292893218813454 L 10.226989546637265,39.36560671583635 L 10.168530387697455,39.4444297669804 L 10.118078735651645,39.528603263174 L 10.076120467488714,39.61731656763491 L 10.043059664267792,39.70971532274554 L 10.01921471959677,39.80490967798387 L 10.004815273327804,39.90198285967044 L 10.0,40.0 L 10.004815273327804,40.09801714032956 L 10.01921471959677,40.19509032201613 L 10.04305966426779,40.29028467725446 L 10.076120467488714,40.38268343236509 L 10.118078735651645,40.471396736825994 L 10.168530387697455,40.5555702330196 L 10.226989546637263,40.63439328416364 L 10.292893218813452,40.707106781186546 L 10.365606715836353,40.77301045336274 L 10.444429766980397,40.83146961230254 L 10.528603263174002,40.88192126434836 L 10.617316567634909,40.923879532511286 L 10.709715322745536,40.956940335732206 L 10.80490967798387,40.98078528040323 L 10.901982859670436,40.9951847266722 L 10.999999999999996,41.0 L 11.098017140329558,40.9951847266722 L 11.195090322016124,40.98078528040323 L 11.290284677254459,40.95694033573221 L 11.382683432365086,40.923879532511286 L 11.471396736825994,40.88192126434836 L 11.555570233019598,40.83146961230255 L 11.634393284163641,40.77301045336274 L 11.707106781186544,40.70710678118655 L 11.773010453362733,40.63439328416365 L 11.780451031834883,40.6243608254679 L 11.831469612302541,40.55557023301961 L 11.881921264348351,40.471396736826 L 11.923879532511284,40.3826834323651 L 11.956940335732206,40.29028467725447 L 11.980785280403229,40.195090322016135 L 11.995184726672196,40.09801714032957 L 12.0,40.00000000000001 L 12.0,40.0 z\" /><path fill-rule=\"evenodd\" fill=\"#66cc99\" stroke=\"#555555\" stroke-width=\"1.08\" opacity=\"0.6\" d=\"M 22.0,48.0 L 21.995184726672196,47.90198285967044 L 21.980785280403232,47.80490967798387 L 21.98053082498302,47.80389383500339 L 21.95694033573221,47.70971532274554 L 21.923879532511286,47.61731656763491 L 21.881921264348357,47.528603263174006 L 21.831469612302545,47.4444297669804 L 21.773010453362737,47.36560671583636 L 21.70710678118655,47.292893218813454 L 21.634393284163647,47.22698954663726 L 21.5555702330196,47.16853038769746 L 21.471396736825998,47.11807873565164 L 21.38268343236509,47.076120467488714 L 21.290284677254462,47.043059664267794 L 21.195090322016128,47.01921471959677 L 21.098017140329564,47.0048152733278 L 21.0,47.0 L 20.90198285967044,47.0048152733278 L 20.804909677983872,47.01921471959677 L 20.709715322745538,47.04305966426779 L 20.617316567634912,47.076120467488714 L 20.528603263174006,47.11807873565164 L 20.4444297669804,47.16853038769745 L 20.365606715836357,47.22698954663726 L 20.292893218813454,47.292893218813454 L 20.226989546637263,47.36560671583635 L 20.219548968165114,47.37563917453209 L 20.168530387697455,47.4444297669804 L 20.118078735651647,47.528603263174 L 20.076120467488714,47.61731656763491 L 20.04305966426779,47.70971532274554 L 20.01921471959677,47.80490967798387 L 20.004815273327804,47.90198285967044 L 20.0,48.0 L 20.004815273327804,48.09801714032956 L 20.019214719596768,48.19509032201613 L 20.04305966426779,48.29028467725446 L 20.076120467488714,48.38268343236509 L 20.118078735651643,48.471396736825994 L 20.168530387697455,48.5555702330196 L 20.226989546637263,48.63439328416364 L 20.292893218813454,48.707106781186546 L 20.365606715836353,48.77301045336274 L 20.4444297669804,48.83146961230254 L 20.528603263174002,48.88192126434836 L 20.61731656763491,48.923879532511286 L 20.709715322745534,48.956940335732206 L 20.80490967798387,48.98078528040323 L 20.901982859670436,48.9951847266722 L 20.999999999999996,49.0 L 21.098017140329556,48.9951847266722 L 21.195090322016124,48.98078528040323 L 21.29028467725446,48.95694033573221 L 21.382683432365084,48.923879532511286 L 21.471396736825994,48.88192126434836 L 21.555570233019598,48.83146961230255 L 21.634393284163643,48.77301045336274 L 21.707106781186543,48.70710678118655 L 21.773010453362733,48.63439328416365 L 21.83146961230254,48.55557023301961 L 21.881921264348353,48.471396736826 L 21.923879532511283,48.3826834323651 L 21.956940335732206,48.29028467725447 L 21.98078528040323,48.195090322016135 L 21.995184726672196,48.09801714032957 L 22.0,48.00000000000001 L 22.0,48.0 z\" /><path fill-rule=\"evenodd\" fill=\"#66cc99\" stroke=\"#555555\" stroke-width=\"1.08\" opacity=\"0.6\" d=\"M 42.0,44.0 L 41.9951847266722,43.90198285967044 L 41.98078528040323,43.80490967798387 L 41.956940335732206,43.70971532274554 L 41.923879532511286,43.61731656763491 L 41.88192126434836,43.528603263174006 L 41.83146961230255,43.4444297669804 L 41.77301045336274,43.36560671583636 L 41.707106781186546,43.292893218813454 L 41.63439328416364,43.22698954663726 L 41.5555702330196,43.16853038769746 L 41.471396736826,43.11807873565164 L 41.38268343236509,43.076120467488714 L 41.37119593055327,43.07201017361683 L 41.29028467725446,43.043059664267794 L 41.19509032201613,43.01921471959677 L 41.09801714032956,43.0048152733278 L 41.0,43.0 L 40.90198285967044,43.0048152733278 L 40.80490967798387,43.01921471959677 L 40.70971532274554,43.04305966426779 L 40.617316567634916,43.076120467488714 L 40.528603263174006,43.11807873565164 L 40.4444297669804,43.16853038769745 L 40.36560671583636,43.22698954663726 L 40.292893218813454,43.292893218813454 L 40.22698954663726,43.36560671583635 L 40.16853038769746,43.4444297669804 L 40.11807873565164,43.528603263174 L 40.076120467488714,43.61731656763491 L 40.043059664267794,43.70971532274554 L 40.01921471959677,43.80490967798387 L 40.0048152733278,43.90198285967044 L 40.0,44.0 L 40.0048152733278,44.09801714032956 L 40.01921471959677,44.19509032201613 L 40.01946917501698,44.19610616499661 L 40.043059664267794,44.29028467725446 L 40.076120467488714,44.38268343236509 L 40.11807873565164,44.471396736825994 L 40.16853038769745,44.5555702330196 L 40.22698954663726,44.63439328416364 L 40.292893218813454,44.707106781186546 L 40.36560671583636,44.77301045336274 L 40.4444297669804,44.83146961230254 L 40.528603263174,44.88192126434836 L 40.61731656763491,44.923879532511286 L 40.70971532274554,44.956940335732206 L 40.80490967798387,44.98078528040323 L 40.90198285967044,44.9951847266722 L 41.0,45.0 L 41.09801714032956,44.9951847266722 L 41.19509032201613,44.98078528040323 L 41.29028467725446,44.95694033573221 L 41.382683432365084,44.923879532511286 L 41.471396736825994,44.88192126434836 L 41.5555702330196,44.83146961230255 L 41.63439328416364,44.77301045336274 L 41.707106781186546,44.70710678118655 L 41.77301045336273,44.63439328416365 L 41.83146961230254,44.55557023301961 L 41.88192126434835,44.471396736826 L 41.923879532511286,44.3826834323651 L 41.956940335732206,44.29028467725447 L 41.98078528040323,44.195090322016135 L 41.99518472667219,44.09801714032957 L 42.0,44.00000000000001 L 42.0,44.0 z\" /><path fill-rule=\"evenodd\" fill=\"#66cc99\" stroke=\"#555555\" stroke-width=\"1.08\" opacity=\"0.6\" d=\"M 44.0,39.0 L 43.9951847266722,38.90198285967044 L 43.98078528040323,38.80490967798387 L 43.956940335732206,38.70971532274554 L 43.923879532511286,38.61731656763491 L 43.88192126434836,38.528603263174006 L 43.83146961230255,38.4444297669804 L 43.77301045336274,38.36560671583636 L 43.707106781186546,38.292893218813454 L 43.63439328416364,38.22698954663726 L 43.5555702330196,38.16853038769746 L 43.471396736826,38.11807873565164 L 43.38268343236509,38.076120467488714 L 43.29028467725446,38.043059664267794 L 43.19509032201613,38.01921471959677 L 43.09801714032956,38.0048152733278 L 43.0,38.0 L 42.90198285967044,38.0048152733278 L 42.80490967798387,38.01921471959677 L 42.70971532274554,38.04305966426779 L 42.617316567634916,38.076120467488714 L 42.528603263174006,38.11807873565164 L 42.4444297669804,38.16853038769745 L 42.36560671583636,38.22698954663726 L 42.292893218813454,38.292893218813454 L 42.25345607587347,38.33640540077642 L 42.22698954663726,38.36560671583635 L 42.16853038769746,38.4444297669804 L 42.11807873565164,38.528603263174 L 42.076120467488714,38.61731656763491 L 42.043059664267794,38.70971532274554 L 42.01921471959677,38.80490967798387 L 42.0048152733278,38.90198285967044 L 42.0,39.0 L 42.0048152733278,39.09801714032956 L 42.01921471959677,39.19509032201613 L 42.043059664267794,39.29028467725446 L 42.076120467488714,39.38268343236509 L 42.11807873565164,39.471396736825994 L 42.16853038769745,39.5555702330196 L 42.22698954663726,39.63439328416364 L 42.292893218813454,39.707106781186546 L 42.36560671583636,39.77301045336274 L 42.4444297669804,39.83146961230254 L 42.528603263174,39.88192126434836 L 42.61731656763491,39.923879532511286 L 42.62880406944673,39.92798982638317 L 42.70971532274554,39.956940335732206 L 42.80490967798387,39.98078528040323 L 42.90198285967044,39.9951847266722 L 43.0,40.0 L 43.09801714032956,39.9951847266722 L 43.19509032201613,39.98078528040323 L 43.29028467725446,39.95694033573221 L 43.382683432365084,39.923879532511286 L 43.471396736825994,39.88192126434836 L 43.5555702330196,39.83146961230255 L 43.63439328416364,39.77301045336274 L 43.707106781186546,39.70710678118655 L 43.77301045336273,39.63439328416365 L 43.83146961230254,39.55557023301961 L 43.88192126434835,39.471396736826 L 43.923879532511286,39.3826834323651 L 43.956940335732206,39.29028467725447 L 43.98078528040323,39.195090322016135 L 43.99518472667219,39.09801714032957 L 44.0,39.00000000000001 L 44.0,39.0 z\" /><path fill-rule=\"evenodd\" fill=\"#66cc99\" stroke=\"#555555\" stroke-width=\"1.08\" opacity=\"0.6\" d=\"M 35.0,31.0 L 34.9951847266722,30.90198285967044 L 34.98078528040323,30.804909677983872 L 34.956940335732206,30.709715322745538 L 34.923879532511286,30.617316567634912 L 34.88192126434836,30.528603263174002 L 34.83146961230255,30.4444297669804 L 34.77301045336274,30.365606715836353 L 34.707106781186546,30.292893218813454 L 34.63439328416364,30.226989546637263 L 34.5555702330196,30.168530387697455 L 34.471396736826,30.118078735651647 L 34.38268343236509,30.076120467488714 L 34.3067858461581,30.04896387690989 L 34.29028467725446,30.04305966426779 L 34.19509032201613,30.01921471959677 L 34.09801714032956,30.004815273327804 L 34.0,30.0 L 33.90198285967044,30.004815273327804 L 33.80490967798387,30.019214719596768 L 33.70971532274554,30.04305966426779 L 33.617316567634916,30.076120467488714 L 33.528603263174006,30.118078735651643 L 33.4444297669804,30.168530387697455 L 33.36560671583636,30.226989546637263 L 33.292893218813454,30.29289321881345 L 33.22698954663726,30.365606715836353 L 33.16853038769746,30.444429766980395 L 33.11807873565164,30.528603263174002 L 33.076120467488714,30.61731656763491 L 33.043059664267794,30.709715322745538 L 33.01921471959677,30.804909677983872 L 33.0048152733278,30.90198285967044 L 33.0,31.0 L 33.0048152733278,31.09801714032956 L 33.01921471959677,31.195090322016128 L 33.043059664267794,31.290284677254462 L 33.076120467488714,31.382683432365088 L 33.11807873565164,31.471396736825998 L 33.16853038769745,31.5555702330196 L 33.22698954663726,31.634393284163647 L 33.292893218813454,31.707106781186546 L 33.36560671583636,31.773010453362737 L 33.4444297669804,31.831469612302545 L 33.528603263174,31.881921264348353 L 33.61731656763491,31.923879532511286 L 33.70971532274554,31.95694033573221 L 33.80490967798387,31.98078528040323 L 33.90198285967044,31.995184726672196 L 34.0,32.0 L 34.09801714032956,31.995184726672196 L 34.19509032201613,31.980785280403232 L 34.29028467725446,31.95694033573221 L 34.382683432365084,31.92387953251129 L 34.471396736825994,31.881921264348357 L 34.5555702330196,31.83146961230255 L 34.63439328416364,31.77301045336274 L 34.707106781186546,31.707106781186553 L 34.74654392412653,31.66359459922358 L 34.77301045336273,31.63439328416365 L 34.83146961230254,31.55557023301961 L 34.88192126434835,31.471396736826005 L 34.923879532511286,31.382683432365095 L 34.956940335732206,31.29028467725447 L 34.98078528040323,31.195090322016135 L 34.99518472667219,31.098017140329567 L 35.0,31.000000000000007 L 35.0,31.0 z\" /><path fill-rule=\"evenodd\" fill=\"#66cc99\" stroke=\"#555555\" stroke-width=\"1.08\" opacity=\"0.6\" d=\"M 45.0,0.0 L 44.9951847266722,-0.0980171403295605 L 44.98078528040323,-0.19509032201612808 L 44.956940335732206,-0.2902846772544621 L 44.923879532511286,-0.3826834323650894 L 44.88192126434836,-0.4713967368259972 L 44.83146961230255,-0.5555702330196017 L 44.77301045336274,-0.6343932841636449 L 44.707106781186546,-0.7071067811865469 L 44.63439328416364,-0.7730104533627363 L 44.5555702330196,-0.8314696123025447 L 44.471396736826,-0.8819212643483545 L 44.38268343236509,-0.9238795325112863 L 44.29028467725446,-0.9569403357322085 L 44.19509032201613,-0.9807852804032302 L 44.09801714032956,-0.9951847266721967 L 44.0,-1.0 L 43.90198285967044,-0.995184726672197 L 43.80490967798387,-0.9807852804032308 L 43.70971532274554,-0.9569403357322095 L 43.617316567634916,-0.9238795325112875 L 43.528603263174006,-0.881921264348356 L 43.4444297669804,-0.8314696123025463 L 43.36560671583636,-0.7730104533627382 L 43.292893218813454,-0.7071067811865489 L 43.22698954663726,-0.6343932841636468 L 43.16853038769746,-0.5555702330196036 L 43.11807873565164,-0.47139673682599903 L 43.076120467488714,-0.3826834323650911 L 43.043059664267794,-0.29028467725446366 L 43.01921471959677,-0.19509032201612947 L 43.0048152733278,-0.09801714032956171 L 43.0,-1.0106430996148606e-15 L 43.0048152733278,0.0980171403295597 L 43.01921471959677,0.1950903220161275 L 43.043059664267794,0.2902846772544617 L 43.06596132522572,0.3542905318109326 L 43.076120467488714,0.3826834323650892 L 43.11807873565164,0.47139673682599725 L 43.16853038769745,0.555570233019602 L 43.22698954663726,0.6343932841636453 L 43.292893218813454,0.7071067811865475 L 43.36560671583636,0.7730104533627367 L 43.4444297669804,0.8314696123025448 L 43.528603263174,0.8819212643483545 L 43.61731656763491,0.9238795325112862 L 43.6932141538419,0.9510361230901095 L 43.70971532274554,0.9569403357322084 L 43.80490967798387,0.98078528040323 L 43.90198285967044,0.9951847266721966 L 44.0,1.0 L 44.09801714032956,0.9951847266721972 L 44.19509032201613,0.9807852804032311 L 44.29028467725446,0.9569403357322099 L 44.382683432365084,0.9238795325112884 L 44.471396736825994,0.8819212643483572 L 44.5555702330196,0.8314696123025479 L 44.63439328416364,0.7730104533627402 L 44.707106781186546,0.7071067811865515 L 44.77301045336273,0.63439328416365 L 44.83146961230254,0.5555702330196074 L 44.88192126434835,0.4713967368260034 L 44.923879532511286,0.38268343236509617 L 44.956940335732206,0.29028467725446927 L 44.98078528040323,0.1950903220161357 L 44.99518472667219,0.09801714032956847 L 45.0,8.238535137130597e-15 L 45.0,0.0 z\" /></g></g></svg>"
      ],
      "text/plain": [
       "<shapely.geometry.collection.GeometryCollection at 0x1f5b0429fc8>"
      ]
     },
     "execution_count": 696,
     "metadata": {},
     "output_type": "execute_result"
    }
   ],
   "source": [
    "buffer_poly_vtx(poly= rand_poly,buffer=1)"
   ]
  },
  {
   "cell_type": "code",
   "execution_count": 697,
   "metadata": {},
   "outputs": [],
   "source": [
    "rand_degen = generate_degen(rand_poly)\n",
    "rd_poly = sg.Polygon(rand_degen)"
   ]
  },
  {
   "cell_type": "code",
   "execution_count": 698,
   "metadata": {},
   "outputs": [
    {
     "data": {
      "image/svg+xml": [
       "<svg xmlns=\"http://www.w3.org/2000/svg\" xmlns:xlink=\"http://www.w3.org/1999/xlink\" width=\"100.0\" height=\"100.0\" viewBox=\"9.08 -1.92 36.84 51.84\" preserveAspectRatio=\"xMinYMin meet\"><g transform=\"matrix(1,0,0,-1,0,48.0)\"><g><circle cx=\"15.0\" cy=\"11.0\" r=\"1.5552000000000001\" stroke=\"#555555\" stroke-width=\"0.5184000000000001\" fill=\"#66cc99\" opacity=\"0.6\" /><circle cx=\"14.986336260286297\" cy=\"11.099062112924347\" r=\"1.5552000000000001\" stroke=\"#555555\" stroke-width=\"0.5184000000000001\" fill=\"#66cc99\" opacity=\"0.6\" /><circle cx=\"14.713061466012235\" cy=\"13.080304371411298\" r=\"1.5552000000000001\" stroke=\"#555555\" stroke-width=\"0.5184000000000001\" fill=\"#66cc99\" opacity=\"0.6\" /><circle cx=\"14.453450411451875\" cy=\"14.962484516973898\" r=\"1.5552000000000001\" stroke=\"#555555\" stroke-width=\"0.5184000000000001\" fill=\"#66cc99\" opacity=\"0.6\" /><circle cx=\"13.701944727198205\" cy=\"20.41090072781301\" r=\"1.5552000000000001\" stroke=\"#555555\" stroke-width=\"0.5184000000000001\" fill=\"#66cc99\" opacity=\"0.6\" /><circle cx=\"12.567854330960849\" cy=\"28.633056100533853\" r=\"1.5552000000000001\" stroke=\"#555555\" stroke-width=\"0.5184000000000001\" fill=\"#66cc99\" opacity=\"0.6\" /><circle cx=\"11.0\" cy=\"40.0\" r=\"1.5552000000000001\" stroke=\"#555555\" stroke-width=\"0.5184000000000001\" fill=\"#66cc99\" opacity=\"0.6\" /><circle cx=\"14.670083404382243\" cy=\"42.936066723505796\" r=\"1.5552000000000001\" stroke=\"#555555\" stroke-width=\"0.5184000000000001\" fill=\"#66cc99\" opacity=\"0.6\" /><circle cx=\"15.294778451936667\" cy=\"43.43582276154933\" r=\"1.5552000000000001\" stroke=\"#555555\" stroke-width=\"0.5184000000000001\" fill=\"#66cc99\" opacity=\"0.6\" /><circle cx=\"16.934602951767033\" cy=\"44.747682361413624\" r=\"1.5552000000000001\" stroke=\"#555555\" stroke-width=\"0.5184000000000001\" fill=\"#66cc99\" opacity=\"0.6\" /><circle cx=\"17.012689832711335\" cy=\"44.810151866169065\" r=\"1.5552000000000001\" stroke=\"#555555\" stroke-width=\"0.5184000000000001\" fill=\"#66cc99\" opacity=\"0.6\" /><circle cx=\"19.66764378481764\" cy=\"46.93411502785411\" r=\"1.5552000000000001\" stroke=\"#555555\" stroke-width=\"0.5184000000000001\" fill=\"#66cc99\" opacity=\"0.6\" /><circle cx=\"21.0\" cy=\"48.0\" r=\"1.5552000000000001\" stroke=\"#555555\" stroke-width=\"0.5184000000000001\" fill=\"#66cc99\" opacity=\"0.6\" /><circle cx=\"22.47087101353638\" cy=\"47.705825797292725\" r=\"1.5552000000000001\" stroke=\"#555555\" stroke-width=\"0.5184000000000001\" fill=\"#66cc99\" opacity=\"0.6\" /><circle cx=\"29.825226081218283\" cy=\"46.23495478375634\" r=\"1.5552000000000001\" stroke=\"#555555\" stroke-width=\"0.5184000000000001\" fill=\"#66cc99\" opacity=\"0.6\" /><circle cx=\"30.805806756909202\" cy=\"46.03883864861816\" r=\"1.5552000000000001\" stroke=\"#555555\" stroke-width=\"0.5184000000000001\" fill=\"#66cc99\" opacity=\"0.6\" /><circle cx=\"34.92424559481107\" cy=\"45.215150881037786\" r=\"1.5552000000000001\" stroke=\"#555555\" stroke-width=\"0.5184000000000001\" fill=\"#66cc99\" opacity=\"0.6\" /><circle cx=\"37.08152308133109\" cy=\"44.78369538373378\" r=\"1.5552000000000001\" stroke=\"#555555\" stroke-width=\"0.5184000000000001\" fill=\"#66cc99\" opacity=\"0.6\" /><circle cx=\"41.0\" cy=\"44.0\" r=\"1.5552000000000001\" stroke=\"#555555\" stroke-width=\"0.5184000000000001\" fill=\"#66cc99\" opacity=\"0.6\" /><circle cx=\"41.55708601453116\" cy=\"42.607284963672114\" r=\"1.5552000000000001\" stroke=\"#555555\" stroke-width=\"0.5184000000000001\" fill=\"#66cc99\" opacity=\"0.6\" /><circle cx=\"41.631364149801975\" cy=\"42.42158962549506\" r=\"1.5552000000000001\" stroke=\"#555555\" stroke-width=\"0.5184000000000001\" fill=\"#66cc99\" opacity=\"0.6\" /><circle cx=\"42.151311096697725\" cy=\"41.121722258255694\" r=\"1.5552000000000001\" stroke=\"#555555\" stroke-width=\"0.5184000000000001\" fill=\"#66cc99\" opacity=\"0.6\" /><circle cx=\"42.18845016433313\" cy=\"41.02887458916717\" r=\"1.5552000000000001\" stroke=\"#555555\" stroke-width=\"0.5184000000000001\" fill=\"#66cc99\" opacity=\"0.6\" /><circle cx=\"42.7826752464997\" cy=\"39.543311883750754\" r=\"1.5552000000000001\" stroke=\"#555555\" stroke-width=\"0.5184000000000001\" fill=\"#66cc99\" opacity=\"0.6\" /><circle cx=\"43.0\" cy=\"39.0\" r=\"1.5552000000000001\" stroke=\"#555555\" stroke-width=\"0.5184000000000001\" fill=\"#66cc99\" opacity=\"0.6\" /><circle cx=\"42.25259068131634\" cy=\"38.33563616117008\" r=\"1.5552000000000001\" stroke=\"#555555\" stroke-width=\"0.5184000000000001\" fill=\"#66cc99\" opacity=\"0.6\" /><circle cx=\"40.08510365713373\" cy=\"36.40898102856331\" r=\"1.5552000000000001\" stroke=\"#555555\" stroke-width=\"0.5184000000000001\" fill=\"#66cc99\" opacity=\"0.6\" /><circle cx=\"37.17020731426746\" cy=\"33.81796205712663\" r=\"1.5552000000000001\" stroke=\"#555555\" stroke-width=\"0.5184000000000001\" fill=\"#66cc99\" opacity=\"0.6\" /><circle cx=\"34.33005190326955\" cy=\"31.29337946957293\" r=\"1.5552000000000001\" stroke=\"#555555\" stroke-width=\"0.5184000000000001\" fill=\"#66cc99\" opacity=\"0.6\" /><circle cx=\"34.10582910766445\" cy=\"31.094070317923954\" r=\"1.5552000000000001\" stroke=\"#555555\" stroke-width=\"0.5184000000000001\" fill=\"#66cc99\" opacity=\"0.6\" /><circle cx=\"34.0\" cy=\"31.0\" r=\"1.5552000000000001\" stroke=\"#555555\" stroke-width=\"0.5184000000000001\" fill=\"#66cc99\" opacity=\"0.6\" /><circle cx=\"34.27630250193048\" cy=\"30.143462244015502\" r=\"1.5552000000000001\" stroke=\"#555555\" stroke-width=\"0.5184000000000001\" fill=\"#66cc99\" opacity=\"0.6\" /><circle cx=\"37.868235027026756\" cy=\"19.00847141621706\" r=\"1.5552000000000001\" stroke=\"#555555\" stroke-width=\"0.5184000000000001\" fill=\"#66cc99\" opacity=\"0.6\" /><circle cx=\"38.35943947490317\" cy=\"17.485737627800177\" r=\"1.5552000000000001\" stroke=\"#555555\" stroke-width=\"0.5184000000000001\" fill=\"#66cc99\" opacity=\"0.6\" /><circle cx=\"40.10935532046289\" cy=\"12.060998506565035\" r=\"1.5552000000000001\" stroke=\"#555555\" stroke-width=\"0.5184000000000001\" fill=\"#66cc99\" opacity=\"0.6\" /><circle cx=\"40.754061158300686\" cy=\"10.06241040926788\" r=\"1.5552000000000001\" stroke=\"#555555\" stroke-width=\"0.5184000000000001\" fill=\"#66cc99\" opacity=\"0.6\" /><circle cx=\"44.0\" cy=\"0.0\" r=\"1.5552000000000001\" stroke=\"#555555\" stroke-width=\"0.5184000000000001\" fill=\"#66cc99\" opacity=\"0.6\" /><circle cx=\"43.53250123684111\" cy=\"0.17732711706026927\" r=\"1.5552000000000001\" stroke=\"#555555\" stroke-width=\"0.5184000000000001\" fill=\"#66cc99\" opacity=\"0.6\" /><circle cx=\"31.284033642078146\" cy=\"4.823297584039324\" r=\"1.5552000000000001\" stroke=\"#555555\" stroke-width=\"0.5184000000000001\" fill=\"#66cc99\" opacity=\"0.6\" /><circle cx=\"28.19854180522946\" cy=\"5.993656556637101\" r=\"1.5552000000000001\" stroke=\"#555555\" stroke-width=\"0.5184000000000001\" fill=\"#66cc99\" opacity=\"0.6\" /><circle cx=\"27.45054378417523\" cy=\"6.277379943933532\" r=\"1.5552000000000001\" stroke=\"#555555\" stroke-width=\"0.5184000000000001\" fill=\"#66cc99\" opacity=\"0.6\" /><circle cx=\"23.336554668376984\" cy=\"7.837858574063901\" r=\"1.5552000000000001\" stroke=\"#555555\" stroke-width=\"0.5184000000000001\" fill=\"#66cc99\" opacity=\"0.6\" /><circle cx=\"15.0\" cy=\"11.0\" r=\"1.5552000000000001\" stroke=\"#555555\" stroke-width=\"0.5184000000000001\" fill=\"#66cc99\" opacity=\"0.6\" /></g></g></svg>"
      ],
      "text/plain": [
       "<shapely.geometry.multipoint.MultiPoint at 0x1f5b031a148>"
      ]
     },
     "execution_count": 698,
     "metadata": {},
     "output_type": "execute_result"
    }
   ],
   "source": [
    "poly_as_mpt(rd_poly)"
   ]
  },
  {
   "cell_type": "code",
   "execution_count": 699,
   "metadata": {
    "scrolled": true
   },
   "outputs": [
    {
     "name": "stderr",
     "output_type": "stream",
     "text": [
      "TopologyException: Input geom 1 is invalid: Self-intersection at or near point 14.276994033209247 13.978935152119293 at 14.276994033209247 13.978935152119293\n"
     ]
    },
    {
     "name": "stdout",
     "output_type": "stream",
     "text": [
      "The operation 'GEOSUnion_r' could not be performed. Likely cause is invalidity of the geometry <shapely.geometry.multipolygon.MultiPolygon object at 0x000001F5B0392D88>\n"
     ]
    }
   ],
   "source": [
    "buffer_poly_vtx(rd_poly,buffer=.0000000001)"
   ]
  },
  {
   "cell_type": "code",
   "execution_count": 700,
   "metadata": {},
   "outputs": [
    {
     "name": "stdout",
     "output_type": "stream",
     "text": [
      "8\n",
      "target num vertx  8\n"
     ]
    },
    {
     "data": {
      "image/svg+xml": [
       "<svg xmlns=\"http://www.w3.org/2000/svg\" xmlns:xlink=\"http://www.w3.org/1999/xlink\" width=\"100.0\" height=\"100.0\" viewBox=\"8.0 -3.0 39.0 54.0\" preserveAspectRatio=\"xMinYMin meet\"><g transform=\"matrix(1,0,0,-1,0,48.0)\"><g><polyline fill=\"none\" stroke=\"#66cc99\" stroke-width=\"1.08\" points=\"14.863520094561881,11.989479314426363 11.136479905438119,39.01052068557363\" opacity=\"0.8\" /><polyline fill=\"none\" stroke=\"#66cc99\" stroke-width=\"1.08\" points=\"11.780451031834883,40.6243608254679 20.219548968165114,47.37563917453209\" opacity=\"0.8\" /><polyline fill=\"none\" stroke=\"#66cc99\" stroke-width=\"1.08\" points=\"21.98053082498302,47.80389383500339 40.01946917501698,44.19610616499661\" opacity=\"0.8\" /><polyline fill=\"none\" stroke=\"#66cc99\" stroke-width=\"1.08\" points=\"41.37119593055327,43.07201017361683 42.62880406944673,39.92798982638317\" opacity=\"0.8\" /><polyline fill=\"none\" stroke=\"#66cc99\" stroke-width=\"1.08\" points=\"42.25345607587347,38.33640540077642 34.74654392412653,31.66359459922358\" opacity=\"0.8\" /><polyline fill=\"none\" stroke=\"#66cc99\" stroke-width=\"1.08\" points=\"34.3067858461581,30.04896387690989 43.6932141538419,0.9510361230901095\" opacity=\"0.8\" /><polyline fill=\"none\" stroke=\"#66cc99\" stroke-width=\"1.08\" points=\"43.06596132522572,0.3542905318109326 15.934038674774278,10.645709468189066\" opacity=\"0.8\" /><path fill-rule=\"evenodd\" fill=\"#66cc99\" stroke=\"#555555\" stroke-width=\"1.08\" opacity=\"0.6\" d=\"M 16.0,11.0 L 15.995184726672196,10.90198285967044 L 15.98078528040323,10.804909677983872 L 15.95694033573221,10.709715322745538 L 15.934038674774278,10.645709468189066 L 15.923879532511286,10.61731656763491 L 15.881921264348355,10.528603263174002 L 15.831469612302545,10.444429766980399 L 15.773010453362737,10.365606715836355 L 15.707106781186548,10.292893218813454 L 15.634393284163647,10.226989546637263 L 15.555570233019603,10.168530387697455 L 15.471396736825998,10.118078735651645 L 15.382683432365091,10.076120467488714 L 15.290284677254464,10.043059664267792 L 15.19509032201613,10.01921471959677 L 15.098017140329562,10.004815273327804 L 15.000000000000002,10.0 L 14.901982859670442,10.004815273327804 L 14.804909677983874,10.01921471959677 L 14.70971532274554,10.04305966426779 L 14.617316567634912,10.076120467488712 L 14.528603263174004,10.118078735651643 L 14.444429766980399,10.168530387697453 L 14.365606715836357,10.226989546637261 L 14.292893218813454,10.29289321881345 L 14.226989546637265,10.365606715836353 L 14.168530387697455,10.444429766980397 L 14.118078735651645,10.528603263174 L 14.076120467488714,10.617316567634909 L 14.043059664267792,10.709715322745536 L 14.01921471959677,10.80490967798387 L 14.004815273327804,10.901982859670438 L 14.0,10.999999999999998 L 14.004815273327804,11.09801714032956 L 14.01921471959677,11.195090322016128 L 14.04305966426779,11.290284677254462 L 14.076120467488714,11.38268343236509 L 14.118078735651645,11.471396736825998 L 14.168530387697455,11.555570233019601 L 14.226989546637263,11.634393284163645 L 14.292893218813452,11.707106781186548 L 14.365606715836353,11.773010453362737 L 14.444429766980397,11.831469612302545 L 14.528603263174002,11.881921264348355 L 14.617316567634909,11.923879532511286 L 14.709715322745536,11.956940335732208 L 14.80490967798387,11.98078528040323 L 14.863520094561881,11.989479314426363 L 14.901982859670436,11.995184726672196 L 14.999999999999996,12.0 L 15.098017140329558,11.995184726672196 L 15.195090322016124,11.98078528040323 L 15.290284677254459,11.95694033573221 L 15.382683432365086,11.923879532511288 L 15.471396736825994,11.881921264348357 L 15.555570233019598,11.831469612302548 L 15.634393284163641,11.77301045336274 L 15.707106781186544,11.707106781186551 L 15.773010453362733,11.63439328416365 L 15.831469612302541,11.555570233019607 L 15.881921264348351,11.471396736826003 L 15.923879532511284,11.382683432365097 L 15.956940335732206,11.29028467725447 L 15.980785280403229,11.195090322016135 L 15.995184726672196,11.098017140329569 L 16.0,11.000000000000009 L 16.0,11.0 z\" /><path fill-rule=\"evenodd\" fill=\"#66cc99\" stroke=\"#555555\" stroke-width=\"1.08\" opacity=\"0.6\" d=\"M 12.0,40.0 L 11.995184726672196,39.90198285967044 L 11.98078528040323,39.80490967798387 L 11.95694033573221,39.70971532274554 L 11.923879532511286,39.61731656763491 L 11.881921264348355,39.528603263174006 L 11.831469612302545,39.4444297669804 L 11.773010453362737,39.36560671583636 L 11.707106781186548,39.292893218813454 L 11.634393284163647,39.22698954663726 L 11.555570233019603,39.16853038769746 L 11.471396736825998,39.11807873565164 L 11.382683432365091,39.076120467488714 L 11.290284677254464,39.043059664267794 L 11.19509032201613,39.01921471959677 L 11.136479905438119,39.01052068557363 L 11.098017140329562,39.0048152733278 L 11.000000000000002,39.0 L 10.901982859670442,39.0048152733278 L 10.804909677983874,39.01921471959677 L 10.70971532274554,39.04305966426779 L 10.617316567634912,39.076120467488714 L 10.528603263174004,39.11807873565164 L 10.444429766980399,39.16853038769745 L 10.365606715836357,39.22698954663726 L 10.292893218813454,39.292893218813454 L 10.226989546637265,39.36560671583635 L 10.168530387697455,39.4444297669804 L 10.118078735651645,39.528603263174 L 10.076120467488714,39.61731656763491 L 10.043059664267792,39.70971532274554 L 10.01921471959677,39.80490967798387 L 10.004815273327804,39.90198285967044 L 10.0,40.0 L 10.004815273327804,40.09801714032956 L 10.01921471959677,40.19509032201613 L 10.04305966426779,40.29028467725446 L 10.076120467488714,40.38268343236509 L 10.118078735651645,40.471396736825994 L 10.168530387697455,40.5555702330196 L 10.226989546637263,40.63439328416364 L 10.292893218813452,40.707106781186546 L 10.365606715836353,40.77301045336274 L 10.444429766980397,40.83146961230254 L 10.528603263174002,40.88192126434836 L 10.617316567634909,40.923879532511286 L 10.709715322745536,40.956940335732206 L 10.80490967798387,40.98078528040323 L 10.901982859670436,40.9951847266722 L 10.999999999999996,41.0 L 11.098017140329558,40.9951847266722 L 11.195090322016124,40.98078528040323 L 11.290284677254459,40.95694033573221 L 11.382683432365086,40.923879532511286 L 11.471396736825994,40.88192126434836 L 11.555570233019598,40.83146961230255 L 11.634393284163641,40.77301045336274 L 11.707106781186544,40.70710678118655 L 11.773010453362733,40.63439328416365 L 11.780451031834883,40.6243608254679 L 11.831469612302541,40.55557023301961 L 11.881921264348351,40.471396736826 L 11.923879532511284,40.3826834323651 L 11.956940335732206,40.29028467725447 L 11.980785280403229,40.195090322016135 L 11.995184726672196,40.09801714032957 L 12.0,40.00000000000001 L 12.0,40.0 z\" /><path fill-rule=\"evenodd\" fill=\"#66cc99\" stroke=\"#555555\" stroke-width=\"1.08\" opacity=\"0.6\" d=\"M 22.0,48.0 L 21.995184726672196,47.90198285967044 L 21.980785280403232,47.80490967798387 L 21.98053082498302,47.80389383500339 L 21.95694033573221,47.70971532274554 L 21.923879532511286,47.61731656763491 L 21.881921264348357,47.528603263174006 L 21.831469612302545,47.4444297669804 L 21.773010453362737,47.36560671583636 L 21.70710678118655,47.292893218813454 L 21.634393284163647,47.22698954663726 L 21.5555702330196,47.16853038769746 L 21.471396736825998,47.11807873565164 L 21.38268343236509,47.076120467488714 L 21.290284677254462,47.043059664267794 L 21.195090322016128,47.01921471959677 L 21.098017140329564,47.0048152733278 L 21.0,47.0 L 20.90198285967044,47.0048152733278 L 20.804909677983872,47.01921471959677 L 20.709715322745538,47.04305966426779 L 20.617316567634912,47.076120467488714 L 20.528603263174006,47.11807873565164 L 20.4444297669804,47.16853038769745 L 20.365606715836357,47.22698954663726 L 20.292893218813454,47.292893218813454 L 20.226989546637263,47.36560671583635 L 20.219548968165114,47.37563917453209 L 20.168530387697455,47.4444297669804 L 20.118078735651647,47.528603263174 L 20.076120467488714,47.61731656763491 L 20.04305966426779,47.70971532274554 L 20.01921471959677,47.80490967798387 L 20.004815273327804,47.90198285967044 L 20.0,48.0 L 20.004815273327804,48.09801714032956 L 20.019214719596768,48.19509032201613 L 20.04305966426779,48.29028467725446 L 20.076120467488714,48.38268343236509 L 20.118078735651643,48.471396736825994 L 20.168530387697455,48.5555702330196 L 20.226989546637263,48.63439328416364 L 20.292893218813454,48.707106781186546 L 20.365606715836353,48.77301045336274 L 20.4444297669804,48.83146961230254 L 20.528603263174002,48.88192126434836 L 20.61731656763491,48.923879532511286 L 20.709715322745534,48.956940335732206 L 20.80490967798387,48.98078528040323 L 20.901982859670436,48.9951847266722 L 20.999999999999996,49.0 L 21.098017140329556,48.9951847266722 L 21.195090322016124,48.98078528040323 L 21.29028467725446,48.95694033573221 L 21.382683432365084,48.923879532511286 L 21.471396736825994,48.88192126434836 L 21.555570233019598,48.83146961230255 L 21.634393284163643,48.77301045336274 L 21.707106781186543,48.70710678118655 L 21.773010453362733,48.63439328416365 L 21.83146961230254,48.55557023301961 L 21.881921264348353,48.471396736826 L 21.923879532511283,48.3826834323651 L 21.956940335732206,48.29028467725447 L 21.98078528040323,48.195090322016135 L 21.995184726672196,48.09801714032957 L 22.0,48.00000000000001 L 22.0,48.0 z\" /><path fill-rule=\"evenodd\" fill=\"#66cc99\" stroke=\"#555555\" stroke-width=\"1.08\" opacity=\"0.6\" d=\"M 42.0,44.0 L 41.9951847266722,43.90198285967044 L 41.98078528040323,43.80490967798387 L 41.956940335732206,43.70971532274554 L 41.923879532511286,43.61731656763491 L 41.88192126434836,43.528603263174006 L 41.83146961230255,43.4444297669804 L 41.77301045336274,43.36560671583636 L 41.707106781186546,43.292893218813454 L 41.63439328416364,43.22698954663726 L 41.5555702330196,43.16853038769746 L 41.471396736826,43.11807873565164 L 41.38268343236509,43.076120467488714 L 41.37119593055327,43.07201017361683 L 41.29028467725446,43.043059664267794 L 41.19509032201613,43.01921471959677 L 41.09801714032956,43.0048152733278 L 41.0,43.0 L 40.90198285967044,43.0048152733278 L 40.80490967798387,43.01921471959677 L 40.70971532274554,43.04305966426779 L 40.617316567634916,43.076120467488714 L 40.528603263174006,43.11807873565164 L 40.4444297669804,43.16853038769745 L 40.36560671583636,43.22698954663726 L 40.292893218813454,43.292893218813454 L 40.22698954663726,43.36560671583635 L 40.16853038769746,43.4444297669804 L 40.11807873565164,43.528603263174 L 40.076120467488714,43.61731656763491 L 40.043059664267794,43.70971532274554 L 40.01921471959677,43.80490967798387 L 40.0048152733278,43.90198285967044 L 40.0,44.0 L 40.0048152733278,44.09801714032956 L 40.01921471959677,44.19509032201613 L 40.01946917501698,44.19610616499661 L 40.043059664267794,44.29028467725446 L 40.076120467488714,44.38268343236509 L 40.11807873565164,44.471396736825994 L 40.16853038769745,44.5555702330196 L 40.22698954663726,44.63439328416364 L 40.292893218813454,44.707106781186546 L 40.36560671583636,44.77301045336274 L 40.4444297669804,44.83146961230254 L 40.528603263174,44.88192126434836 L 40.61731656763491,44.923879532511286 L 40.70971532274554,44.956940335732206 L 40.80490967798387,44.98078528040323 L 40.90198285967044,44.9951847266722 L 41.0,45.0 L 41.09801714032956,44.9951847266722 L 41.19509032201613,44.98078528040323 L 41.29028467725446,44.95694033573221 L 41.382683432365084,44.923879532511286 L 41.471396736825994,44.88192126434836 L 41.5555702330196,44.83146961230255 L 41.63439328416364,44.77301045336274 L 41.707106781186546,44.70710678118655 L 41.77301045336273,44.63439328416365 L 41.83146961230254,44.55557023301961 L 41.88192126434835,44.471396736826 L 41.923879532511286,44.3826834323651 L 41.956940335732206,44.29028467725447 L 41.98078528040323,44.195090322016135 L 41.99518472667219,44.09801714032957 L 42.0,44.00000000000001 L 42.0,44.0 z\" /><path fill-rule=\"evenodd\" fill=\"#66cc99\" stroke=\"#555555\" stroke-width=\"1.08\" opacity=\"0.6\" d=\"M 44.0,39.0 L 43.9951847266722,38.90198285967044 L 43.98078528040323,38.80490967798387 L 43.956940335732206,38.70971532274554 L 43.923879532511286,38.61731656763491 L 43.88192126434836,38.528603263174006 L 43.83146961230255,38.4444297669804 L 43.77301045336274,38.36560671583636 L 43.707106781186546,38.292893218813454 L 43.63439328416364,38.22698954663726 L 43.5555702330196,38.16853038769746 L 43.471396736826,38.11807873565164 L 43.38268343236509,38.076120467488714 L 43.29028467725446,38.043059664267794 L 43.19509032201613,38.01921471959677 L 43.09801714032956,38.0048152733278 L 43.0,38.0 L 42.90198285967044,38.0048152733278 L 42.80490967798387,38.01921471959677 L 42.70971532274554,38.04305966426779 L 42.617316567634916,38.076120467488714 L 42.528603263174006,38.11807873565164 L 42.4444297669804,38.16853038769745 L 42.36560671583636,38.22698954663726 L 42.292893218813454,38.292893218813454 L 42.25345607587347,38.33640540077642 L 42.22698954663726,38.36560671583635 L 42.16853038769746,38.4444297669804 L 42.11807873565164,38.528603263174 L 42.076120467488714,38.61731656763491 L 42.043059664267794,38.70971532274554 L 42.01921471959677,38.80490967798387 L 42.0048152733278,38.90198285967044 L 42.0,39.0 L 42.0048152733278,39.09801714032956 L 42.01921471959677,39.19509032201613 L 42.043059664267794,39.29028467725446 L 42.076120467488714,39.38268343236509 L 42.11807873565164,39.471396736825994 L 42.16853038769745,39.5555702330196 L 42.22698954663726,39.63439328416364 L 42.292893218813454,39.707106781186546 L 42.36560671583636,39.77301045336274 L 42.4444297669804,39.83146961230254 L 42.528603263174,39.88192126434836 L 42.61731656763491,39.923879532511286 L 42.62880406944673,39.92798982638317 L 42.70971532274554,39.956940335732206 L 42.80490967798387,39.98078528040323 L 42.90198285967044,39.9951847266722 L 43.0,40.0 L 43.09801714032956,39.9951847266722 L 43.19509032201613,39.98078528040323 L 43.29028467725446,39.95694033573221 L 43.382683432365084,39.923879532511286 L 43.471396736825994,39.88192126434836 L 43.5555702330196,39.83146961230255 L 43.63439328416364,39.77301045336274 L 43.707106781186546,39.70710678118655 L 43.77301045336273,39.63439328416365 L 43.83146961230254,39.55557023301961 L 43.88192126434835,39.471396736826 L 43.923879532511286,39.3826834323651 L 43.956940335732206,39.29028467725447 L 43.98078528040323,39.195090322016135 L 43.99518472667219,39.09801714032957 L 44.0,39.00000000000001 L 44.0,39.0 z\" /><path fill-rule=\"evenodd\" fill=\"#66cc99\" stroke=\"#555555\" stroke-width=\"1.08\" opacity=\"0.6\" d=\"M 35.0,31.0 L 34.9951847266722,30.90198285967044 L 34.98078528040323,30.804909677983872 L 34.956940335732206,30.709715322745538 L 34.923879532511286,30.617316567634912 L 34.88192126434836,30.528603263174002 L 34.83146961230255,30.4444297669804 L 34.77301045336274,30.365606715836353 L 34.707106781186546,30.292893218813454 L 34.63439328416364,30.226989546637263 L 34.5555702330196,30.168530387697455 L 34.471396736826,30.118078735651647 L 34.38268343236509,30.076120467488714 L 34.3067858461581,30.04896387690989 L 34.29028467725446,30.04305966426779 L 34.19509032201613,30.01921471959677 L 34.09801714032956,30.004815273327804 L 34.0,30.0 L 33.90198285967044,30.004815273327804 L 33.80490967798387,30.019214719596768 L 33.70971532274554,30.04305966426779 L 33.617316567634916,30.076120467488714 L 33.528603263174006,30.118078735651643 L 33.4444297669804,30.168530387697455 L 33.36560671583636,30.226989546637263 L 33.292893218813454,30.29289321881345 L 33.22698954663726,30.365606715836353 L 33.16853038769746,30.444429766980395 L 33.11807873565164,30.528603263174002 L 33.076120467488714,30.61731656763491 L 33.043059664267794,30.709715322745538 L 33.01921471959677,30.804909677983872 L 33.0048152733278,30.90198285967044 L 33.0,31.0 L 33.0048152733278,31.09801714032956 L 33.01921471959677,31.195090322016128 L 33.043059664267794,31.290284677254462 L 33.076120467488714,31.382683432365088 L 33.11807873565164,31.471396736825998 L 33.16853038769745,31.5555702330196 L 33.22698954663726,31.634393284163647 L 33.292893218813454,31.707106781186546 L 33.36560671583636,31.773010453362737 L 33.4444297669804,31.831469612302545 L 33.528603263174,31.881921264348353 L 33.61731656763491,31.923879532511286 L 33.70971532274554,31.95694033573221 L 33.80490967798387,31.98078528040323 L 33.90198285967044,31.995184726672196 L 34.0,32.0 L 34.09801714032956,31.995184726672196 L 34.19509032201613,31.980785280403232 L 34.29028467725446,31.95694033573221 L 34.382683432365084,31.92387953251129 L 34.471396736825994,31.881921264348357 L 34.5555702330196,31.83146961230255 L 34.63439328416364,31.77301045336274 L 34.707106781186546,31.707106781186553 L 34.74654392412653,31.66359459922358 L 34.77301045336273,31.63439328416365 L 34.83146961230254,31.55557023301961 L 34.88192126434835,31.471396736826005 L 34.923879532511286,31.382683432365095 L 34.956940335732206,31.29028467725447 L 34.98078528040323,31.195090322016135 L 34.99518472667219,31.098017140329567 L 35.0,31.000000000000007 L 35.0,31.0 z\" /><path fill-rule=\"evenodd\" fill=\"#66cc99\" stroke=\"#555555\" stroke-width=\"1.08\" opacity=\"0.6\" d=\"M 45.0,0.0 L 44.9951847266722,-0.0980171403295605 L 44.98078528040323,-0.19509032201612808 L 44.956940335732206,-0.2902846772544621 L 44.923879532511286,-0.3826834323650894 L 44.88192126434836,-0.4713967368259972 L 44.83146961230255,-0.5555702330196017 L 44.77301045336274,-0.6343932841636449 L 44.707106781186546,-0.7071067811865469 L 44.63439328416364,-0.7730104533627363 L 44.5555702330196,-0.8314696123025447 L 44.471396736826,-0.8819212643483545 L 44.38268343236509,-0.9238795325112863 L 44.29028467725446,-0.9569403357322085 L 44.19509032201613,-0.9807852804032302 L 44.09801714032956,-0.9951847266721967 L 44.0,-1.0 L 43.90198285967044,-0.995184726672197 L 43.80490967798387,-0.9807852804032308 L 43.70971532274554,-0.9569403357322095 L 43.617316567634916,-0.9238795325112875 L 43.528603263174006,-0.881921264348356 L 43.4444297669804,-0.8314696123025463 L 43.36560671583636,-0.7730104533627382 L 43.292893218813454,-0.7071067811865489 L 43.22698954663726,-0.6343932841636468 L 43.16853038769746,-0.5555702330196036 L 43.11807873565164,-0.47139673682599903 L 43.076120467488714,-0.3826834323650911 L 43.043059664267794,-0.29028467725446366 L 43.01921471959677,-0.19509032201612947 L 43.0048152733278,-0.09801714032956171 L 43.0,-1.0106430996148606e-15 L 43.0048152733278,0.0980171403295597 L 43.01921471959677,0.1950903220161275 L 43.043059664267794,0.2902846772544617 L 43.06596132522572,0.3542905318109326 L 43.076120467488714,0.3826834323650892 L 43.11807873565164,0.47139673682599725 L 43.16853038769745,0.555570233019602 L 43.22698954663726,0.6343932841636453 L 43.292893218813454,0.7071067811865475 L 43.36560671583636,0.7730104533627367 L 43.4444297669804,0.8314696123025448 L 43.528603263174,0.8819212643483545 L 43.61731656763491,0.9238795325112862 L 43.6932141538419,0.9510361230901095 L 43.70971532274554,0.9569403357322084 L 43.80490967798387,0.98078528040323 L 43.90198285967044,0.9951847266721966 L 44.0,1.0 L 44.09801714032956,0.9951847266721972 L 44.19509032201613,0.9807852804032311 L 44.29028467725446,0.9569403357322099 L 44.382683432365084,0.9238795325112884 L 44.471396736825994,0.8819212643483572 L 44.5555702330196,0.8314696123025479 L 44.63439328416364,0.7730104533627402 L 44.707106781186546,0.7071067811865515 L 44.77301045336273,0.63439328416365 L 44.83146961230254,0.5555702330196074 L 44.88192126434835,0.4713967368260034 L 44.923879532511286,0.38268343236509617 L 44.956940335732206,0.29028467725446927 L 44.98078528040323,0.1950903220161357 L 44.99518472667219,0.09801714032956847 L 45.0,8.238535137130597e-15 L 45.0,0.0 z\" /></g></g></svg>"
      ],
      "text/plain": [
       "<shapely.geometry.collection.GeometryCollection at 0x1f5b0478ec8>"
      ]
     },
     "execution_count": 700,
     "metadata": {},
     "output_type": "execute_result"
    }
   ],
   "source": [
    "sv = 1e-1\n",
    "\n",
    "# simpol =rd_poly.simplify(sv,preserve_topology=True)\n",
    "simpol =rd_poly.simplify(sv,preserve_topology=False)\n",
    "print(len(poly_as_mpt(simpol)))\n",
    "print('target num vertx ', len(vals))\n",
    "buffer_poly_vtx(simpol)"
   ]
  },
  {
   "cell_type": "code",
   "execution_count": 701,
   "metadata": {},
   "outputs": [
    {
     "name": "stdout",
     "output_type": "stream",
     "text": [
      "8\n",
      "target num vtx 8\n"
     ]
    },
    {
     "data": {
      "image/svg+xml": [
       "<svg xmlns=\"http://www.w3.org/2000/svg\" xmlns:xlink=\"http://www.w3.org/1999/xlink\" width=\"100.0\" height=\"100.0\" viewBox=\"8.0 -3.0 39.0 54.0\" preserveAspectRatio=\"xMinYMin meet\"><g transform=\"matrix(1,0,0,-1,0,48.0)\"><g><polyline fill=\"none\" stroke=\"#66cc99\" stroke-width=\"1.08\" points=\"14.863520094561881,11.989479314426363 11.136479905438119,39.01052068557363\" opacity=\"0.8\" /><polyline fill=\"none\" stroke=\"#66cc99\" stroke-width=\"1.08\" points=\"11.780451031834883,40.6243608254679 20.219548968165114,47.37563917453209\" opacity=\"0.8\" /><polyline fill=\"none\" stroke=\"#66cc99\" stroke-width=\"1.08\" points=\"21.98053082498302,47.80389383500339 40.01946917501698,44.19610616499661\" opacity=\"0.8\" /><polyline fill=\"none\" stroke=\"#66cc99\" stroke-width=\"1.08\" points=\"41.37119593055327,43.07201017361683 42.62880406944673,39.92798982638317\" opacity=\"0.8\" /><polyline fill=\"none\" stroke=\"#66cc99\" stroke-width=\"1.08\" points=\"42.25345607587347,38.33640540077642 34.74654392412653,31.66359459922358\" opacity=\"0.8\" /><polyline fill=\"none\" stroke=\"#66cc99\" stroke-width=\"1.08\" points=\"34.3067858461581,30.04896387690989 43.6932141538419,0.9510361230901095\" opacity=\"0.8\" /><polyline fill=\"none\" stroke=\"#66cc99\" stroke-width=\"1.08\" points=\"43.06596132522572,0.3542905318109326 15.934038674774278,10.645709468189066\" opacity=\"0.8\" /><path fill-rule=\"evenodd\" fill=\"#66cc99\" stroke=\"#555555\" stroke-width=\"1.08\" opacity=\"0.6\" d=\"M 16.0,11.0 L 15.995184726672196,10.90198285967044 L 15.98078528040323,10.804909677983872 L 15.95694033573221,10.709715322745538 L 15.934038674774278,10.645709468189066 L 15.923879532511286,10.61731656763491 L 15.881921264348355,10.528603263174002 L 15.831469612302545,10.444429766980399 L 15.773010453362737,10.365606715836355 L 15.707106781186548,10.292893218813454 L 15.634393284163647,10.226989546637263 L 15.555570233019603,10.168530387697455 L 15.471396736825998,10.118078735651645 L 15.382683432365091,10.076120467488714 L 15.290284677254464,10.043059664267792 L 15.19509032201613,10.01921471959677 L 15.098017140329562,10.004815273327804 L 15.000000000000002,10.0 L 14.901982859670442,10.004815273327804 L 14.804909677983874,10.01921471959677 L 14.70971532274554,10.04305966426779 L 14.617316567634912,10.076120467488712 L 14.528603263174004,10.118078735651643 L 14.444429766980399,10.168530387697453 L 14.365606715836357,10.226989546637261 L 14.292893218813454,10.29289321881345 L 14.226989546637265,10.365606715836353 L 14.168530387697455,10.444429766980397 L 14.118078735651645,10.528603263174 L 14.076120467488714,10.617316567634909 L 14.043059664267792,10.709715322745536 L 14.01921471959677,10.80490967798387 L 14.004815273327804,10.901982859670438 L 14.0,10.999999999999998 L 14.004815273327804,11.09801714032956 L 14.01921471959677,11.195090322016128 L 14.04305966426779,11.290284677254462 L 14.076120467488714,11.38268343236509 L 14.118078735651645,11.471396736825998 L 14.168530387697455,11.555570233019601 L 14.226989546637263,11.634393284163645 L 14.292893218813452,11.707106781186548 L 14.365606715836353,11.773010453362737 L 14.444429766980397,11.831469612302545 L 14.528603263174002,11.881921264348355 L 14.617316567634909,11.923879532511286 L 14.709715322745536,11.956940335732208 L 14.80490967798387,11.98078528040323 L 14.863520094561881,11.989479314426363 L 14.901982859670436,11.995184726672196 L 14.999999999999996,12.0 L 15.098017140329558,11.995184726672196 L 15.195090322016124,11.98078528040323 L 15.290284677254459,11.95694033573221 L 15.382683432365086,11.923879532511288 L 15.471396736825994,11.881921264348357 L 15.555570233019598,11.831469612302548 L 15.634393284163641,11.77301045336274 L 15.707106781186544,11.707106781186551 L 15.773010453362733,11.63439328416365 L 15.831469612302541,11.555570233019607 L 15.881921264348351,11.471396736826003 L 15.923879532511284,11.382683432365097 L 15.956940335732206,11.29028467725447 L 15.980785280403229,11.195090322016135 L 15.995184726672196,11.098017140329569 L 16.0,11.000000000000009 L 16.0,11.0 z\" /><path fill-rule=\"evenodd\" fill=\"#66cc99\" stroke=\"#555555\" stroke-width=\"1.08\" opacity=\"0.6\" d=\"M 12.0,40.0 L 11.995184726672196,39.90198285967044 L 11.98078528040323,39.80490967798387 L 11.95694033573221,39.70971532274554 L 11.923879532511286,39.61731656763491 L 11.881921264348355,39.528603263174006 L 11.831469612302545,39.4444297669804 L 11.773010453362737,39.36560671583636 L 11.707106781186548,39.292893218813454 L 11.634393284163647,39.22698954663726 L 11.555570233019603,39.16853038769746 L 11.471396736825998,39.11807873565164 L 11.382683432365091,39.076120467488714 L 11.290284677254464,39.043059664267794 L 11.19509032201613,39.01921471959677 L 11.136479905438119,39.01052068557363 L 11.098017140329562,39.0048152733278 L 11.000000000000002,39.0 L 10.901982859670442,39.0048152733278 L 10.804909677983874,39.01921471959677 L 10.70971532274554,39.04305966426779 L 10.617316567634912,39.076120467488714 L 10.528603263174004,39.11807873565164 L 10.444429766980399,39.16853038769745 L 10.365606715836357,39.22698954663726 L 10.292893218813454,39.292893218813454 L 10.226989546637265,39.36560671583635 L 10.168530387697455,39.4444297669804 L 10.118078735651645,39.528603263174 L 10.076120467488714,39.61731656763491 L 10.043059664267792,39.70971532274554 L 10.01921471959677,39.80490967798387 L 10.004815273327804,39.90198285967044 L 10.0,40.0 L 10.004815273327804,40.09801714032956 L 10.01921471959677,40.19509032201613 L 10.04305966426779,40.29028467725446 L 10.076120467488714,40.38268343236509 L 10.118078735651645,40.471396736825994 L 10.168530387697455,40.5555702330196 L 10.226989546637263,40.63439328416364 L 10.292893218813452,40.707106781186546 L 10.365606715836353,40.77301045336274 L 10.444429766980397,40.83146961230254 L 10.528603263174002,40.88192126434836 L 10.617316567634909,40.923879532511286 L 10.709715322745536,40.956940335732206 L 10.80490967798387,40.98078528040323 L 10.901982859670436,40.9951847266722 L 10.999999999999996,41.0 L 11.098017140329558,40.9951847266722 L 11.195090322016124,40.98078528040323 L 11.290284677254459,40.95694033573221 L 11.382683432365086,40.923879532511286 L 11.471396736825994,40.88192126434836 L 11.555570233019598,40.83146961230255 L 11.634393284163641,40.77301045336274 L 11.707106781186544,40.70710678118655 L 11.773010453362733,40.63439328416365 L 11.780451031834883,40.6243608254679 L 11.831469612302541,40.55557023301961 L 11.881921264348351,40.471396736826 L 11.923879532511284,40.3826834323651 L 11.956940335732206,40.29028467725447 L 11.980785280403229,40.195090322016135 L 11.995184726672196,40.09801714032957 L 12.0,40.00000000000001 L 12.0,40.0 z\" /><path fill-rule=\"evenodd\" fill=\"#66cc99\" stroke=\"#555555\" stroke-width=\"1.08\" opacity=\"0.6\" d=\"M 22.0,48.0 L 21.995184726672196,47.90198285967044 L 21.980785280403232,47.80490967798387 L 21.98053082498302,47.80389383500339 L 21.95694033573221,47.70971532274554 L 21.923879532511286,47.61731656763491 L 21.881921264348357,47.528603263174006 L 21.831469612302545,47.4444297669804 L 21.773010453362737,47.36560671583636 L 21.70710678118655,47.292893218813454 L 21.634393284163647,47.22698954663726 L 21.5555702330196,47.16853038769746 L 21.471396736825998,47.11807873565164 L 21.38268343236509,47.076120467488714 L 21.290284677254462,47.043059664267794 L 21.195090322016128,47.01921471959677 L 21.098017140329564,47.0048152733278 L 21.0,47.0 L 20.90198285967044,47.0048152733278 L 20.804909677983872,47.01921471959677 L 20.709715322745538,47.04305966426779 L 20.617316567634912,47.076120467488714 L 20.528603263174006,47.11807873565164 L 20.4444297669804,47.16853038769745 L 20.365606715836357,47.22698954663726 L 20.292893218813454,47.292893218813454 L 20.226989546637263,47.36560671583635 L 20.219548968165114,47.37563917453209 L 20.168530387697455,47.4444297669804 L 20.118078735651647,47.528603263174 L 20.076120467488714,47.61731656763491 L 20.04305966426779,47.70971532274554 L 20.01921471959677,47.80490967798387 L 20.004815273327804,47.90198285967044 L 20.0,48.0 L 20.004815273327804,48.09801714032956 L 20.019214719596768,48.19509032201613 L 20.04305966426779,48.29028467725446 L 20.076120467488714,48.38268343236509 L 20.118078735651643,48.471396736825994 L 20.168530387697455,48.5555702330196 L 20.226989546637263,48.63439328416364 L 20.292893218813454,48.707106781186546 L 20.365606715836353,48.77301045336274 L 20.4444297669804,48.83146961230254 L 20.528603263174002,48.88192126434836 L 20.61731656763491,48.923879532511286 L 20.709715322745534,48.956940335732206 L 20.80490967798387,48.98078528040323 L 20.901982859670436,48.9951847266722 L 20.999999999999996,49.0 L 21.098017140329556,48.9951847266722 L 21.195090322016124,48.98078528040323 L 21.29028467725446,48.95694033573221 L 21.382683432365084,48.923879532511286 L 21.471396736825994,48.88192126434836 L 21.555570233019598,48.83146961230255 L 21.634393284163643,48.77301045336274 L 21.707106781186543,48.70710678118655 L 21.773010453362733,48.63439328416365 L 21.83146961230254,48.55557023301961 L 21.881921264348353,48.471396736826 L 21.923879532511283,48.3826834323651 L 21.956940335732206,48.29028467725447 L 21.98078528040323,48.195090322016135 L 21.995184726672196,48.09801714032957 L 22.0,48.00000000000001 L 22.0,48.0 z\" /><path fill-rule=\"evenodd\" fill=\"#66cc99\" stroke=\"#555555\" stroke-width=\"1.08\" opacity=\"0.6\" d=\"M 42.0,44.0 L 41.9951847266722,43.90198285967044 L 41.98078528040323,43.80490967798387 L 41.956940335732206,43.70971532274554 L 41.923879532511286,43.61731656763491 L 41.88192126434836,43.528603263174006 L 41.83146961230255,43.4444297669804 L 41.77301045336274,43.36560671583636 L 41.707106781186546,43.292893218813454 L 41.63439328416364,43.22698954663726 L 41.5555702330196,43.16853038769746 L 41.471396736826,43.11807873565164 L 41.38268343236509,43.076120467488714 L 41.37119593055327,43.07201017361683 L 41.29028467725446,43.043059664267794 L 41.19509032201613,43.01921471959677 L 41.09801714032956,43.0048152733278 L 41.0,43.0 L 40.90198285967044,43.0048152733278 L 40.80490967798387,43.01921471959677 L 40.70971532274554,43.04305966426779 L 40.617316567634916,43.076120467488714 L 40.528603263174006,43.11807873565164 L 40.4444297669804,43.16853038769745 L 40.36560671583636,43.22698954663726 L 40.292893218813454,43.292893218813454 L 40.22698954663726,43.36560671583635 L 40.16853038769746,43.4444297669804 L 40.11807873565164,43.528603263174 L 40.076120467488714,43.61731656763491 L 40.043059664267794,43.70971532274554 L 40.01921471959677,43.80490967798387 L 40.0048152733278,43.90198285967044 L 40.0,44.0 L 40.0048152733278,44.09801714032956 L 40.01921471959677,44.19509032201613 L 40.01946917501698,44.19610616499661 L 40.043059664267794,44.29028467725446 L 40.076120467488714,44.38268343236509 L 40.11807873565164,44.471396736825994 L 40.16853038769745,44.5555702330196 L 40.22698954663726,44.63439328416364 L 40.292893218813454,44.707106781186546 L 40.36560671583636,44.77301045336274 L 40.4444297669804,44.83146961230254 L 40.528603263174,44.88192126434836 L 40.61731656763491,44.923879532511286 L 40.70971532274554,44.956940335732206 L 40.80490967798387,44.98078528040323 L 40.90198285967044,44.9951847266722 L 41.0,45.0 L 41.09801714032956,44.9951847266722 L 41.19509032201613,44.98078528040323 L 41.29028467725446,44.95694033573221 L 41.382683432365084,44.923879532511286 L 41.471396736825994,44.88192126434836 L 41.5555702330196,44.83146961230255 L 41.63439328416364,44.77301045336274 L 41.707106781186546,44.70710678118655 L 41.77301045336273,44.63439328416365 L 41.83146961230254,44.55557023301961 L 41.88192126434835,44.471396736826 L 41.923879532511286,44.3826834323651 L 41.956940335732206,44.29028467725447 L 41.98078528040323,44.195090322016135 L 41.99518472667219,44.09801714032957 L 42.0,44.00000000000001 L 42.0,44.0 z\" /><path fill-rule=\"evenodd\" fill=\"#66cc99\" stroke=\"#555555\" stroke-width=\"1.08\" opacity=\"0.6\" d=\"M 44.0,39.0 L 43.9951847266722,38.90198285967044 L 43.98078528040323,38.80490967798387 L 43.956940335732206,38.70971532274554 L 43.923879532511286,38.61731656763491 L 43.88192126434836,38.528603263174006 L 43.83146961230255,38.4444297669804 L 43.77301045336274,38.36560671583636 L 43.707106781186546,38.292893218813454 L 43.63439328416364,38.22698954663726 L 43.5555702330196,38.16853038769746 L 43.471396736826,38.11807873565164 L 43.38268343236509,38.076120467488714 L 43.29028467725446,38.043059664267794 L 43.19509032201613,38.01921471959677 L 43.09801714032956,38.0048152733278 L 43.0,38.0 L 42.90198285967044,38.0048152733278 L 42.80490967798387,38.01921471959677 L 42.70971532274554,38.04305966426779 L 42.617316567634916,38.076120467488714 L 42.528603263174006,38.11807873565164 L 42.4444297669804,38.16853038769745 L 42.36560671583636,38.22698954663726 L 42.292893218813454,38.292893218813454 L 42.25345607587347,38.33640540077642 L 42.22698954663726,38.36560671583635 L 42.16853038769746,38.4444297669804 L 42.11807873565164,38.528603263174 L 42.076120467488714,38.61731656763491 L 42.043059664267794,38.70971532274554 L 42.01921471959677,38.80490967798387 L 42.0048152733278,38.90198285967044 L 42.0,39.0 L 42.0048152733278,39.09801714032956 L 42.01921471959677,39.19509032201613 L 42.043059664267794,39.29028467725446 L 42.076120467488714,39.38268343236509 L 42.11807873565164,39.471396736825994 L 42.16853038769745,39.5555702330196 L 42.22698954663726,39.63439328416364 L 42.292893218813454,39.707106781186546 L 42.36560671583636,39.77301045336274 L 42.4444297669804,39.83146961230254 L 42.528603263174,39.88192126434836 L 42.61731656763491,39.923879532511286 L 42.62880406944673,39.92798982638317 L 42.70971532274554,39.956940335732206 L 42.80490967798387,39.98078528040323 L 42.90198285967044,39.9951847266722 L 43.0,40.0 L 43.09801714032956,39.9951847266722 L 43.19509032201613,39.98078528040323 L 43.29028467725446,39.95694033573221 L 43.382683432365084,39.923879532511286 L 43.471396736825994,39.88192126434836 L 43.5555702330196,39.83146961230255 L 43.63439328416364,39.77301045336274 L 43.707106781186546,39.70710678118655 L 43.77301045336273,39.63439328416365 L 43.83146961230254,39.55557023301961 L 43.88192126434835,39.471396736826 L 43.923879532511286,39.3826834323651 L 43.956940335732206,39.29028467725447 L 43.98078528040323,39.195090322016135 L 43.99518472667219,39.09801714032957 L 44.0,39.00000000000001 L 44.0,39.0 z\" /><path fill-rule=\"evenodd\" fill=\"#66cc99\" stroke=\"#555555\" stroke-width=\"1.08\" opacity=\"0.6\" d=\"M 35.0,31.0 L 34.9951847266722,30.90198285967044 L 34.98078528040323,30.804909677983872 L 34.956940335732206,30.709715322745538 L 34.923879532511286,30.617316567634912 L 34.88192126434836,30.528603263174002 L 34.83146961230255,30.4444297669804 L 34.77301045336274,30.365606715836353 L 34.707106781186546,30.292893218813454 L 34.63439328416364,30.226989546637263 L 34.5555702330196,30.168530387697455 L 34.471396736826,30.118078735651647 L 34.38268343236509,30.076120467488714 L 34.3067858461581,30.04896387690989 L 34.29028467725446,30.04305966426779 L 34.19509032201613,30.01921471959677 L 34.09801714032956,30.004815273327804 L 34.0,30.0 L 33.90198285967044,30.004815273327804 L 33.80490967798387,30.019214719596768 L 33.70971532274554,30.04305966426779 L 33.617316567634916,30.076120467488714 L 33.528603263174006,30.118078735651643 L 33.4444297669804,30.168530387697455 L 33.36560671583636,30.226989546637263 L 33.292893218813454,30.29289321881345 L 33.22698954663726,30.365606715836353 L 33.16853038769746,30.444429766980395 L 33.11807873565164,30.528603263174002 L 33.076120467488714,30.61731656763491 L 33.043059664267794,30.709715322745538 L 33.01921471959677,30.804909677983872 L 33.0048152733278,30.90198285967044 L 33.0,31.0 L 33.0048152733278,31.09801714032956 L 33.01921471959677,31.195090322016128 L 33.043059664267794,31.290284677254462 L 33.076120467488714,31.382683432365088 L 33.11807873565164,31.471396736825998 L 33.16853038769745,31.5555702330196 L 33.22698954663726,31.634393284163647 L 33.292893218813454,31.707106781186546 L 33.36560671583636,31.773010453362737 L 33.4444297669804,31.831469612302545 L 33.528603263174,31.881921264348353 L 33.61731656763491,31.923879532511286 L 33.70971532274554,31.95694033573221 L 33.80490967798387,31.98078528040323 L 33.90198285967044,31.995184726672196 L 34.0,32.0 L 34.09801714032956,31.995184726672196 L 34.19509032201613,31.980785280403232 L 34.29028467725446,31.95694033573221 L 34.382683432365084,31.92387953251129 L 34.471396736825994,31.881921264348357 L 34.5555702330196,31.83146961230255 L 34.63439328416364,31.77301045336274 L 34.707106781186546,31.707106781186553 L 34.74654392412653,31.66359459922358 L 34.77301045336273,31.63439328416365 L 34.83146961230254,31.55557023301961 L 34.88192126434835,31.471396736826005 L 34.923879532511286,31.382683432365095 L 34.956940335732206,31.29028467725447 L 34.98078528040323,31.195090322016135 L 34.99518472667219,31.098017140329567 L 35.0,31.000000000000007 L 35.0,31.0 z\" /><path fill-rule=\"evenodd\" fill=\"#66cc99\" stroke=\"#555555\" stroke-width=\"1.08\" opacity=\"0.6\" d=\"M 45.0,0.0 L 44.9951847266722,-0.0980171403295605 L 44.98078528040323,-0.19509032201612808 L 44.956940335732206,-0.2902846772544621 L 44.923879532511286,-0.3826834323650894 L 44.88192126434836,-0.4713967368259972 L 44.83146961230255,-0.5555702330196017 L 44.77301045336274,-0.6343932841636449 L 44.707106781186546,-0.7071067811865469 L 44.63439328416364,-0.7730104533627363 L 44.5555702330196,-0.8314696123025447 L 44.471396736826,-0.8819212643483545 L 44.38268343236509,-0.9238795325112863 L 44.29028467725446,-0.9569403357322085 L 44.19509032201613,-0.9807852804032302 L 44.09801714032956,-0.9951847266721967 L 44.0,-1.0 L 43.90198285967044,-0.995184726672197 L 43.80490967798387,-0.9807852804032308 L 43.70971532274554,-0.9569403357322095 L 43.617316567634916,-0.9238795325112875 L 43.528603263174006,-0.881921264348356 L 43.4444297669804,-0.8314696123025463 L 43.36560671583636,-0.7730104533627382 L 43.292893218813454,-0.7071067811865489 L 43.22698954663726,-0.6343932841636468 L 43.16853038769746,-0.5555702330196036 L 43.11807873565164,-0.47139673682599903 L 43.076120467488714,-0.3826834323650911 L 43.043059664267794,-0.29028467725446366 L 43.01921471959677,-0.19509032201612947 L 43.0048152733278,-0.09801714032956171 L 43.0,-1.0106430996148606e-15 L 43.0048152733278,0.0980171403295597 L 43.01921471959677,0.1950903220161275 L 43.043059664267794,0.2902846772544617 L 43.06596132522572,0.3542905318109326 L 43.076120467488714,0.3826834323650892 L 43.11807873565164,0.47139673682599725 L 43.16853038769745,0.555570233019602 L 43.22698954663726,0.6343932841636453 L 43.292893218813454,0.7071067811865475 L 43.36560671583636,0.7730104533627367 L 43.4444297669804,0.8314696123025448 L 43.528603263174,0.8819212643483545 L 43.61731656763491,0.9238795325112862 L 43.6932141538419,0.9510361230901095 L 43.70971532274554,0.9569403357322084 L 43.80490967798387,0.98078528040323 L 43.90198285967044,0.9951847266721966 L 44.0,1.0 L 44.09801714032956,0.9951847266721972 L 44.19509032201613,0.9807852804032311 L 44.29028467725446,0.9569403357322099 L 44.382683432365084,0.9238795325112884 L 44.471396736825994,0.8819212643483572 L 44.5555702330196,0.8314696123025479 L 44.63439328416364,0.7730104533627402 L 44.707106781186546,0.7071067811865515 L 44.77301045336273,0.63439328416365 L 44.83146961230254,0.5555702330196074 L 44.88192126434835,0.4713967368260034 L 44.923879532511286,0.38268343236509617 L 44.956940335732206,0.29028467725446927 L 44.98078528040323,0.1950903220161357 L 44.99518472667219,0.09801714032956847 L 45.0,8.238535137130597e-15 L 45.0,0.0 z\" /></g></g></svg>"
      ],
      "text/plain": [
       "<shapely.geometry.collection.GeometryCollection at 0x1f5b0443608>"
      ]
     },
     "execution_count": 701,
     "metadata": {},
     "output_type": "execute_result"
    }
   ],
   "source": [
    "intpol= simplify_by_interior_angle(rd_poly,deg_tol=1)\n",
    "# intpol= simplify_by_interior_angle(rd_poly)\n",
    "print(len(poly_as_mpt((intpol))))\n",
    "print('target num vtx', len(vals))\n",
    "buffer_poly_vtx(intpol)"
   ]
  },
  {
   "cell_type": "code",
   "execution_count": 702,
   "metadata": {},
   "outputs": [
    {
     "data": {
      "image/svg+xml": [
       "<svg xmlns=\"http://www.w3.org/2000/svg\" xmlns:xlink=\"http://www.w3.org/1999/xlink\" width=\"100.0\" height=\"100.0\" viewBox=\"8.0 -3.0 39.0 54.0\" preserveAspectRatio=\"xMinYMin meet\"><g transform=\"matrix(1,0,0,-1,0,48.0)\"><g><polyline fill=\"none\" stroke=\"#66cc99\" stroke-width=\"1.08\" points=\"14.863520094561881,11.989479314426363 11.136479905438119,39.01052068557363\" opacity=\"0.8\" /><polyline fill=\"none\" stroke=\"#66cc99\" stroke-width=\"1.08\" points=\"11.780451031834883,40.6243608254679 20.219548968165114,47.37563917453209\" opacity=\"0.8\" /><polyline fill=\"none\" stroke=\"#66cc99\" stroke-width=\"1.08\" points=\"21.98053082498302,47.80389383500339 40.01946917501698,44.19610616499661\" opacity=\"0.8\" /><polyline fill=\"none\" stroke=\"#66cc99\" stroke-width=\"1.08\" points=\"41.37119593055327,43.07201017361683 42.62880406944673,39.92798982638317\" opacity=\"0.8\" /><polyline fill=\"none\" stroke=\"#66cc99\" stroke-width=\"1.08\" points=\"42.25345607587347,38.33640540077642 34.74654392412653,31.66359459922358\" opacity=\"0.8\" /><polyline fill=\"none\" stroke=\"#66cc99\" stroke-width=\"1.08\" points=\"34.3067858461581,30.04896387690989 43.6932141538419,0.9510361230901095\" opacity=\"0.8\" /><polyline fill=\"none\" stroke=\"#66cc99\" stroke-width=\"1.08\" points=\"43.06596132522572,0.3542905318109326 15.934038674774278,10.645709468189066\" opacity=\"0.8\" /><path fill-rule=\"evenodd\" fill=\"#66cc99\" stroke=\"#555555\" stroke-width=\"1.08\" opacity=\"0.6\" d=\"M 16.0,11.0 L 15.995184726672196,10.90198285967044 L 15.98078528040323,10.804909677983872 L 15.95694033573221,10.709715322745538 L 15.934038674774278,10.645709468189066 L 15.923879532511286,10.61731656763491 L 15.881921264348355,10.528603263174002 L 15.831469612302545,10.444429766980399 L 15.773010453362737,10.365606715836355 L 15.707106781186548,10.292893218813454 L 15.634393284163647,10.226989546637263 L 15.555570233019603,10.168530387697455 L 15.471396736825998,10.118078735651645 L 15.382683432365091,10.076120467488714 L 15.290284677254464,10.043059664267792 L 15.19509032201613,10.01921471959677 L 15.098017140329562,10.004815273327804 L 15.000000000000002,10.0 L 14.901982859670442,10.004815273327804 L 14.804909677983874,10.01921471959677 L 14.70971532274554,10.04305966426779 L 14.617316567634912,10.076120467488712 L 14.528603263174004,10.118078735651643 L 14.444429766980399,10.168530387697453 L 14.365606715836357,10.226989546637261 L 14.292893218813454,10.29289321881345 L 14.226989546637265,10.365606715836353 L 14.168530387697455,10.444429766980397 L 14.118078735651645,10.528603263174 L 14.076120467488714,10.617316567634909 L 14.043059664267792,10.709715322745536 L 14.01921471959677,10.80490967798387 L 14.004815273327804,10.901982859670438 L 14.0,10.999999999999998 L 14.004815273327804,11.09801714032956 L 14.01921471959677,11.195090322016128 L 14.04305966426779,11.290284677254462 L 14.076120467488714,11.38268343236509 L 14.118078735651645,11.471396736825998 L 14.168530387697455,11.555570233019601 L 14.226989546637263,11.634393284163645 L 14.292893218813452,11.707106781186548 L 14.365606715836353,11.773010453362737 L 14.444429766980397,11.831469612302545 L 14.528603263174002,11.881921264348355 L 14.617316567634909,11.923879532511286 L 14.709715322745536,11.956940335732208 L 14.80490967798387,11.98078528040323 L 14.863520094561881,11.989479314426363 L 14.901982859670436,11.995184726672196 L 14.999999999999996,12.0 L 15.098017140329558,11.995184726672196 L 15.195090322016124,11.98078528040323 L 15.290284677254459,11.95694033573221 L 15.382683432365086,11.923879532511288 L 15.471396736825994,11.881921264348357 L 15.555570233019598,11.831469612302548 L 15.634393284163641,11.77301045336274 L 15.707106781186544,11.707106781186551 L 15.773010453362733,11.63439328416365 L 15.831469612302541,11.555570233019607 L 15.881921264348351,11.471396736826003 L 15.923879532511284,11.382683432365097 L 15.956940335732206,11.29028467725447 L 15.980785280403229,11.195090322016135 L 15.995184726672196,11.098017140329569 L 16.0,11.000000000000009 L 16.0,11.0 z\" /><path fill-rule=\"evenodd\" fill=\"#66cc99\" stroke=\"#555555\" stroke-width=\"1.08\" opacity=\"0.6\" d=\"M 12.0,40.0 L 11.995184726672196,39.90198285967044 L 11.98078528040323,39.80490967798387 L 11.95694033573221,39.70971532274554 L 11.923879532511286,39.61731656763491 L 11.881921264348355,39.528603263174006 L 11.831469612302545,39.4444297669804 L 11.773010453362737,39.36560671583636 L 11.707106781186548,39.292893218813454 L 11.634393284163647,39.22698954663726 L 11.555570233019603,39.16853038769746 L 11.471396736825998,39.11807873565164 L 11.382683432365091,39.076120467488714 L 11.290284677254464,39.043059664267794 L 11.19509032201613,39.01921471959677 L 11.136479905438119,39.01052068557363 L 11.098017140329562,39.0048152733278 L 11.000000000000002,39.0 L 10.901982859670442,39.0048152733278 L 10.804909677983874,39.01921471959677 L 10.70971532274554,39.04305966426779 L 10.617316567634912,39.076120467488714 L 10.528603263174004,39.11807873565164 L 10.444429766980399,39.16853038769745 L 10.365606715836357,39.22698954663726 L 10.292893218813454,39.292893218813454 L 10.226989546637265,39.36560671583635 L 10.168530387697455,39.4444297669804 L 10.118078735651645,39.528603263174 L 10.076120467488714,39.61731656763491 L 10.043059664267792,39.70971532274554 L 10.01921471959677,39.80490967798387 L 10.004815273327804,39.90198285967044 L 10.0,40.0 L 10.004815273327804,40.09801714032956 L 10.01921471959677,40.19509032201613 L 10.04305966426779,40.29028467725446 L 10.076120467488714,40.38268343236509 L 10.118078735651645,40.471396736825994 L 10.168530387697455,40.5555702330196 L 10.226989546637263,40.63439328416364 L 10.292893218813452,40.707106781186546 L 10.365606715836353,40.77301045336274 L 10.444429766980397,40.83146961230254 L 10.528603263174002,40.88192126434836 L 10.617316567634909,40.923879532511286 L 10.709715322745536,40.956940335732206 L 10.80490967798387,40.98078528040323 L 10.901982859670436,40.9951847266722 L 10.999999999999996,41.0 L 11.098017140329558,40.9951847266722 L 11.195090322016124,40.98078528040323 L 11.290284677254459,40.95694033573221 L 11.382683432365086,40.923879532511286 L 11.471396736825994,40.88192126434836 L 11.555570233019598,40.83146961230255 L 11.634393284163641,40.77301045336274 L 11.707106781186544,40.70710678118655 L 11.773010453362733,40.63439328416365 L 11.780451031834883,40.6243608254679 L 11.831469612302541,40.55557023301961 L 11.881921264348351,40.471396736826 L 11.923879532511284,40.3826834323651 L 11.956940335732206,40.29028467725447 L 11.980785280403229,40.195090322016135 L 11.995184726672196,40.09801714032957 L 12.0,40.00000000000001 L 12.0,40.0 z\" /><path fill-rule=\"evenodd\" fill=\"#66cc99\" stroke=\"#555555\" stroke-width=\"1.08\" opacity=\"0.6\" d=\"M 22.0,48.0 L 21.995184726672196,47.90198285967044 L 21.980785280403232,47.80490967798387 L 21.98053082498302,47.80389383500339 L 21.95694033573221,47.70971532274554 L 21.923879532511286,47.61731656763491 L 21.881921264348357,47.528603263174006 L 21.831469612302545,47.4444297669804 L 21.773010453362737,47.36560671583636 L 21.70710678118655,47.292893218813454 L 21.634393284163647,47.22698954663726 L 21.5555702330196,47.16853038769746 L 21.471396736825998,47.11807873565164 L 21.38268343236509,47.076120467488714 L 21.290284677254462,47.043059664267794 L 21.195090322016128,47.01921471959677 L 21.098017140329564,47.0048152733278 L 21.0,47.0 L 20.90198285967044,47.0048152733278 L 20.804909677983872,47.01921471959677 L 20.709715322745538,47.04305966426779 L 20.617316567634912,47.076120467488714 L 20.528603263174006,47.11807873565164 L 20.4444297669804,47.16853038769745 L 20.365606715836357,47.22698954663726 L 20.292893218813454,47.292893218813454 L 20.226989546637263,47.36560671583635 L 20.219548968165114,47.37563917453209 L 20.168530387697455,47.4444297669804 L 20.118078735651647,47.528603263174 L 20.076120467488714,47.61731656763491 L 20.04305966426779,47.70971532274554 L 20.01921471959677,47.80490967798387 L 20.004815273327804,47.90198285967044 L 20.0,48.0 L 20.004815273327804,48.09801714032956 L 20.019214719596768,48.19509032201613 L 20.04305966426779,48.29028467725446 L 20.076120467488714,48.38268343236509 L 20.118078735651643,48.471396736825994 L 20.168530387697455,48.5555702330196 L 20.226989546637263,48.63439328416364 L 20.292893218813454,48.707106781186546 L 20.365606715836353,48.77301045336274 L 20.4444297669804,48.83146961230254 L 20.528603263174002,48.88192126434836 L 20.61731656763491,48.923879532511286 L 20.709715322745534,48.956940335732206 L 20.80490967798387,48.98078528040323 L 20.901982859670436,48.9951847266722 L 20.999999999999996,49.0 L 21.098017140329556,48.9951847266722 L 21.195090322016124,48.98078528040323 L 21.29028467725446,48.95694033573221 L 21.382683432365084,48.923879532511286 L 21.471396736825994,48.88192126434836 L 21.555570233019598,48.83146961230255 L 21.634393284163643,48.77301045336274 L 21.707106781186543,48.70710678118655 L 21.773010453362733,48.63439328416365 L 21.83146961230254,48.55557023301961 L 21.881921264348353,48.471396736826 L 21.923879532511283,48.3826834323651 L 21.956940335732206,48.29028467725447 L 21.98078528040323,48.195090322016135 L 21.995184726672196,48.09801714032957 L 22.0,48.00000000000001 L 22.0,48.0 z\" /><path fill-rule=\"evenodd\" fill=\"#66cc99\" stroke=\"#555555\" stroke-width=\"1.08\" opacity=\"0.6\" d=\"M 42.0,44.0 L 41.9951847266722,43.90198285967044 L 41.98078528040323,43.80490967798387 L 41.956940335732206,43.70971532274554 L 41.923879532511286,43.61731656763491 L 41.88192126434836,43.528603263174006 L 41.83146961230255,43.4444297669804 L 41.77301045336274,43.36560671583636 L 41.707106781186546,43.292893218813454 L 41.63439328416364,43.22698954663726 L 41.5555702330196,43.16853038769746 L 41.471396736826,43.11807873565164 L 41.38268343236509,43.076120467488714 L 41.37119593055327,43.07201017361683 L 41.29028467725446,43.043059664267794 L 41.19509032201613,43.01921471959677 L 41.09801714032956,43.0048152733278 L 41.0,43.0 L 40.90198285967044,43.0048152733278 L 40.80490967798387,43.01921471959677 L 40.70971532274554,43.04305966426779 L 40.617316567634916,43.076120467488714 L 40.528603263174006,43.11807873565164 L 40.4444297669804,43.16853038769745 L 40.36560671583636,43.22698954663726 L 40.292893218813454,43.292893218813454 L 40.22698954663726,43.36560671583635 L 40.16853038769746,43.4444297669804 L 40.11807873565164,43.528603263174 L 40.076120467488714,43.61731656763491 L 40.043059664267794,43.70971532274554 L 40.01921471959677,43.80490967798387 L 40.0048152733278,43.90198285967044 L 40.0,44.0 L 40.0048152733278,44.09801714032956 L 40.01921471959677,44.19509032201613 L 40.01946917501698,44.19610616499661 L 40.043059664267794,44.29028467725446 L 40.076120467488714,44.38268343236509 L 40.11807873565164,44.471396736825994 L 40.16853038769745,44.5555702330196 L 40.22698954663726,44.63439328416364 L 40.292893218813454,44.707106781186546 L 40.36560671583636,44.77301045336274 L 40.4444297669804,44.83146961230254 L 40.528603263174,44.88192126434836 L 40.61731656763491,44.923879532511286 L 40.70971532274554,44.956940335732206 L 40.80490967798387,44.98078528040323 L 40.90198285967044,44.9951847266722 L 41.0,45.0 L 41.09801714032956,44.9951847266722 L 41.19509032201613,44.98078528040323 L 41.29028467725446,44.95694033573221 L 41.382683432365084,44.923879532511286 L 41.471396736825994,44.88192126434836 L 41.5555702330196,44.83146961230255 L 41.63439328416364,44.77301045336274 L 41.707106781186546,44.70710678118655 L 41.77301045336273,44.63439328416365 L 41.83146961230254,44.55557023301961 L 41.88192126434835,44.471396736826 L 41.923879532511286,44.3826834323651 L 41.956940335732206,44.29028467725447 L 41.98078528040323,44.195090322016135 L 41.99518472667219,44.09801714032957 L 42.0,44.00000000000001 L 42.0,44.0 z\" /><path fill-rule=\"evenodd\" fill=\"#66cc99\" stroke=\"#555555\" stroke-width=\"1.08\" opacity=\"0.6\" d=\"M 44.0,39.0 L 43.9951847266722,38.90198285967044 L 43.98078528040323,38.80490967798387 L 43.956940335732206,38.70971532274554 L 43.923879532511286,38.61731656763491 L 43.88192126434836,38.528603263174006 L 43.83146961230255,38.4444297669804 L 43.77301045336274,38.36560671583636 L 43.707106781186546,38.292893218813454 L 43.63439328416364,38.22698954663726 L 43.5555702330196,38.16853038769746 L 43.471396736826,38.11807873565164 L 43.38268343236509,38.076120467488714 L 43.29028467725446,38.043059664267794 L 43.19509032201613,38.01921471959677 L 43.09801714032956,38.0048152733278 L 43.0,38.0 L 42.90198285967044,38.0048152733278 L 42.80490967798387,38.01921471959677 L 42.70971532274554,38.04305966426779 L 42.617316567634916,38.076120467488714 L 42.528603263174006,38.11807873565164 L 42.4444297669804,38.16853038769745 L 42.36560671583636,38.22698954663726 L 42.292893218813454,38.292893218813454 L 42.25345607587347,38.33640540077642 L 42.22698954663726,38.36560671583635 L 42.16853038769746,38.4444297669804 L 42.11807873565164,38.528603263174 L 42.076120467488714,38.61731656763491 L 42.043059664267794,38.70971532274554 L 42.01921471959677,38.80490967798387 L 42.0048152733278,38.90198285967044 L 42.0,39.0 L 42.0048152733278,39.09801714032956 L 42.01921471959677,39.19509032201613 L 42.043059664267794,39.29028467725446 L 42.076120467488714,39.38268343236509 L 42.11807873565164,39.471396736825994 L 42.16853038769745,39.5555702330196 L 42.22698954663726,39.63439328416364 L 42.292893218813454,39.707106781186546 L 42.36560671583636,39.77301045336274 L 42.4444297669804,39.83146961230254 L 42.528603263174,39.88192126434836 L 42.61731656763491,39.923879532511286 L 42.62880406944673,39.92798982638317 L 42.70971532274554,39.956940335732206 L 42.80490967798387,39.98078528040323 L 42.90198285967044,39.9951847266722 L 43.0,40.0 L 43.09801714032956,39.9951847266722 L 43.19509032201613,39.98078528040323 L 43.29028467725446,39.95694033573221 L 43.382683432365084,39.923879532511286 L 43.471396736825994,39.88192126434836 L 43.5555702330196,39.83146961230255 L 43.63439328416364,39.77301045336274 L 43.707106781186546,39.70710678118655 L 43.77301045336273,39.63439328416365 L 43.83146961230254,39.55557023301961 L 43.88192126434835,39.471396736826 L 43.923879532511286,39.3826834323651 L 43.956940335732206,39.29028467725447 L 43.98078528040323,39.195090322016135 L 43.99518472667219,39.09801714032957 L 44.0,39.00000000000001 L 44.0,39.0 z\" /><path fill-rule=\"evenodd\" fill=\"#66cc99\" stroke=\"#555555\" stroke-width=\"1.08\" opacity=\"0.6\" d=\"M 35.0,31.0 L 34.9951847266722,30.90198285967044 L 34.98078528040323,30.804909677983872 L 34.956940335732206,30.709715322745538 L 34.923879532511286,30.617316567634912 L 34.88192126434836,30.528603263174002 L 34.83146961230255,30.4444297669804 L 34.77301045336274,30.365606715836353 L 34.707106781186546,30.292893218813454 L 34.63439328416364,30.226989546637263 L 34.5555702330196,30.168530387697455 L 34.471396736826,30.118078735651647 L 34.38268343236509,30.076120467488714 L 34.3067858461581,30.04896387690989 L 34.29028467725446,30.04305966426779 L 34.19509032201613,30.01921471959677 L 34.09801714032956,30.004815273327804 L 34.0,30.0 L 33.90198285967044,30.004815273327804 L 33.80490967798387,30.019214719596768 L 33.70971532274554,30.04305966426779 L 33.617316567634916,30.076120467488714 L 33.528603263174006,30.118078735651643 L 33.4444297669804,30.168530387697455 L 33.36560671583636,30.226989546637263 L 33.292893218813454,30.29289321881345 L 33.22698954663726,30.365606715836353 L 33.16853038769746,30.444429766980395 L 33.11807873565164,30.528603263174002 L 33.076120467488714,30.61731656763491 L 33.043059664267794,30.709715322745538 L 33.01921471959677,30.804909677983872 L 33.0048152733278,30.90198285967044 L 33.0,31.0 L 33.0048152733278,31.09801714032956 L 33.01921471959677,31.195090322016128 L 33.043059664267794,31.290284677254462 L 33.076120467488714,31.382683432365088 L 33.11807873565164,31.471396736825998 L 33.16853038769745,31.5555702330196 L 33.22698954663726,31.634393284163647 L 33.292893218813454,31.707106781186546 L 33.36560671583636,31.773010453362737 L 33.4444297669804,31.831469612302545 L 33.528603263174,31.881921264348353 L 33.61731656763491,31.923879532511286 L 33.70971532274554,31.95694033573221 L 33.80490967798387,31.98078528040323 L 33.90198285967044,31.995184726672196 L 34.0,32.0 L 34.09801714032956,31.995184726672196 L 34.19509032201613,31.980785280403232 L 34.29028467725446,31.95694033573221 L 34.382683432365084,31.92387953251129 L 34.471396736825994,31.881921264348357 L 34.5555702330196,31.83146961230255 L 34.63439328416364,31.77301045336274 L 34.707106781186546,31.707106781186553 L 34.74654392412653,31.66359459922358 L 34.77301045336273,31.63439328416365 L 34.83146961230254,31.55557023301961 L 34.88192126434835,31.471396736826005 L 34.923879532511286,31.382683432365095 L 34.956940335732206,31.29028467725447 L 34.98078528040323,31.195090322016135 L 34.99518472667219,31.098017140329567 L 35.0,31.000000000000007 L 35.0,31.0 z\" /><path fill-rule=\"evenodd\" fill=\"#66cc99\" stroke=\"#555555\" stroke-width=\"1.08\" opacity=\"0.6\" d=\"M 45.0,0.0 L 44.9951847266722,-0.0980171403295605 L 44.98078528040323,-0.19509032201612808 L 44.956940335732206,-0.2902846772544621 L 44.923879532511286,-0.3826834323650894 L 44.88192126434836,-0.4713967368259972 L 44.83146961230255,-0.5555702330196017 L 44.77301045336274,-0.6343932841636449 L 44.707106781186546,-0.7071067811865469 L 44.63439328416364,-0.7730104533627363 L 44.5555702330196,-0.8314696123025447 L 44.471396736826,-0.8819212643483545 L 44.38268343236509,-0.9238795325112863 L 44.29028467725446,-0.9569403357322085 L 44.19509032201613,-0.9807852804032302 L 44.09801714032956,-0.9951847266721967 L 44.0,-1.0 L 43.90198285967044,-0.995184726672197 L 43.80490967798387,-0.9807852804032308 L 43.70971532274554,-0.9569403357322095 L 43.617316567634916,-0.9238795325112875 L 43.528603263174006,-0.881921264348356 L 43.4444297669804,-0.8314696123025463 L 43.36560671583636,-0.7730104533627382 L 43.292893218813454,-0.7071067811865489 L 43.22698954663726,-0.6343932841636468 L 43.16853038769746,-0.5555702330196036 L 43.11807873565164,-0.47139673682599903 L 43.076120467488714,-0.3826834323650911 L 43.043059664267794,-0.29028467725446366 L 43.01921471959677,-0.19509032201612947 L 43.0048152733278,-0.09801714032956171 L 43.0,-1.0106430996148606e-15 L 43.0048152733278,0.0980171403295597 L 43.01921471959677,0.1950903220161275 L 43.043059664267794,0.2902846772544617 L 43.06596132522572,0.3542905318109326 L 43.076120467488714,0.3826834323650892 L 43.11807873565164,0.47139673682599725 L 43.16853038769745,0.555570233019602 L 43.22698954663726,0.6343932841636453 L 43.292893218813454,0.7071067811865475 L 43.36560671583636,0.7730104533627367 L 43.4444297669804,0.8314696123025448 L 43.528603263174,0.8819212643483545 L 43.61731656763491,0.9238795325112862 L 43.6932141538419,0.9510361230901095 L 43.70971532274554,0.9569403357322084 L 43.80490967798387,0.98078528040323 L 43.90198285967044,0.9951847266721966 L 44.0,1.0 L 44.09801714032956,0.9951847266721972 L 44.19509032201613,0.9807852804032311 L 44.29028467725446,0.9569403357322099 L 44.382683432365084,0.9238795325112884 L 44.471396736825994,0.8819212643483572 L 44.5555702330196,0.8314696123025479 L 44.63439328416364,0.7730104533627402 L 44.707106781186546,0.7071067811865515 L 44.77301045336273,0.63439328416365 L 44.83146961230254,0.5555702330196074 L 44.88192126434835,0.4713967368260034 L 44.923879532511286,0.38268343236509617 L 44.956940335732206,0.29028467725446927 L 44.98078528040323,0.1950903220161357 L 44.99518472667219,0.09801714032956847 L 45.0,8.238535137130597e-15 L 45.0,0.0 z\" /></g></g></svg>"
      ],
      "text/plain": [
       "<shapely.geometry.collection.GeometryCollection at 0x1f5b045ae48>"
      ]
     },
     "execution_count": 702,
     "metadata": {},
     "output_type": "execute_result"
    }
   ],
   "source": [
    "buffer_poly_vtx(rand_poly)"
   ]
  },
  {
   "cell_type": "code",
   "execution_count": 616,
   "metadata": {},
   "outputs": [
    {
     "data": {
      "image/svg+xml": [
       "<svg xmlns=\"http://www.w3.org/2000/svg\" xmlns:xlink=\"http://www.w3.org/1999/xlink\" width=\"100.0\" height=\"100.0\" viewBox=\"6.4399999999999995 6.4399999999999995 12.12 42.120000000000005\" preserveAspectRatio=\"xMinYMin meet\"><g transform=\"matrix(1,0,0,-1,0,55.0)\"><g><circle cx=\"9.0\" cy=\"8.0\" r=\"1.2636\" stroke=\"#555555\" stroke-width=\"0.4212\" fill=\"#66cc99\" opacity=\"0.6\" /><circle cx=\"8.0\" cy=\"23.0\" r=\"1.2636\" stroke=\"#555555\" stroke-width=\"0.4212\" fill=\"#66cc99\" opacity=\"0.6\" /><circle cx=\"9.0\" cy=\"41.0\" r=\"1.2636\" stroke=\"#555555\" stroke-width=\"0.4212\" fill=\"#66cc99\" opacity=\"0.6\" /><circle cx=\"10.0\" cy=\"39.0\" r=\"1.2636\" stroke=\"#555555\" stroke-width=\"0.4212\" fill=\"#66cc99\" opacity=\"0.6\" /><circle cx=\"11.0\" cy=\"47.0\" r=\"1.2636\" stroke=\"#555555\" stroke-width=\"0.4212\" fill=\"#66cc99\" opacity=\"0.6\" /><circle cx=\"17.0\" cy=\"30.0\" r=\"1.2636\" stroke=\"#555555\" stroke-width=\"0.4212\" fill=\"#66cc99\" opacity=\"0.6\" /><circle cx=\"9.0\" cy=\"8.0\" r=\"1.2636\" stroke=\"#555555\" stroke-width=\"0.4212\" fill=\"#66cc99\" opacity=\"0.6\" /></g></g></svg>"
      ],
      "text/plain": [
       "<shapely.geometry.multipoint.MultiPoint at 0x1f5b026bcc8>"
      ]
     },
     "execution_count": 616,
     "metadata": {},
     "output_type": "execute_result"
    }
   ],
   "source": [
    "poly_as_mpt(rand_poly)"
   ]
  },
  {
   "cell_type": "code",
   "execution_count": null,
   "metadata": {},
   "outputs": [],
   "source": []
  },
  {
   "cell_type": "code",
   "execution_count": null,
   "metadata": {},
   "outputs": [],
   "source": []
  }
 ],
 "metadata": {
  "kernelspec": {
   "display_name": "Python 3",
   "language": "python",
   "name": "python3"
  },
  "language_info": {
   "codemirror_mode": {
    "name": "ipython",
    "version": 3
   },
   "file_extension": ".py",
   "mimetype": "text/x-python",
   "name": "python",
   "nbconvert_exporter": "python",
   "pygments_lexer": "ipython3",
   "version": "3.7.6"
  }
 },
 "nbformat": 4,
 "nbformat_minor": 4
}
