{
 "cells": [
  {
   "cell_type": "code",
   "execution_count": 114,
   "metadata": {},
   "outputs": [],
   "source": [
    "import shapely.geometry as sg\n",
    "import shapely\n",
    "import numpy as np\n",
    "import random\n",
    "import math\n",
    "\n",
    "import pandas as pd"
   ]
  },
  {
   "cell_type": "code",
   "execution_count": 168,
   "metadata": {},
   "outputs": [],
   "source": [
    "def update_poly_pickle(poly, return_df=False):\n",
    "    try:\n",
    "        df_poly = pd.read_pickle('./randpolys.pkl')\n",
    "    except:\n",
    "#         just make a new df\n",
    "        print('making new poly df...')\n",
    "        df_poly = make_poly_df()\n",
    "\n",
    "#     get next loc\n",
    "    df_idx_next = len(df_poly)\n",
    "    df_poly.loc[df_idx_next] = poly.wkt\n",
    "    df_poly = df_poly.drop_duplicates(ignore_index=True)\n",
    "\n",
    "    df_poly.to_pickle('./randpolys.pkl')\n",
    "    \n",
    "    print('done')\n",
    "    if return_df:\n",
    "        return df_poly\n",
    "    \n",
    "def make_poly_df():\n",
    "    poly_df = pd.DataFrame(columns=['poly_wkt'])\n",
    "    poly_df.to_pickle('./randpolys.pkl')\n",
    "    return poly_df"
   ]
  },
  {
   "cell_type": "code",
   "execution_count": 428,
   "metadata": {},
   "outputs": [],
   "source": [
    "def get_angles(vec_1,vec_2):\n",
    "    dot = np.dot(vec_1, vec_2)\n",
    "    det = np.cross(vec_1,vec_2)\n",
    "    angle_in_rad = np.arctan2(det,dot)\n",
    "    return np.degrees(angle_in_rad)\n",
    "\n",
    "\n",
    "def simplify_by_interior_angle(poly_in, deg_tol = 5):\n",
    "    \"\"\"\n",
    "    try to remove persistent coordinate points that remain after\n",
    "    simplify, convex hul, etc with some trig\n",
    "    params:\n",
    "    \n",
    "    \"\"\"\n",
    "    \n",
    "    ext_poly_coords = poly_in.exterior.coords[:]\n",
    "#     ext_poly_coords = ext_poly_coords[1:] + ext_poly_coords[:1]\n",
    "#     # reassign last to first, so we have a proper linear ring sequence for shapely polygon\n",
    "#     ext_poly_coords[-1] = ext_poly_coords[0]\n",
    "    vector_rep = np.diff(ext_poly_coords,axis = 0)\n",
    "    angles_list = []\n",
    "    for i in range(0,len(vector_rep) -1 ):\n",
    "        angles_list.append(np.abs(get_angles(vector_rep[i],vector_rep[i+1])))\n",
    "    \n",
    "  \n",
    "    thresh_vals_by_deg = np.where(np.array(angles_list) > deg_tol)\n",
    "#   gotta be a better way to do this. sandwich betweens first and last pts\n",
    "    new_idx = [0] + (thresh_vals_by_deg[0] + 1).tolist() + [0]\n",
    "    new_vertices = [ext_poly_coords[idx] for idx in new_idx]\n",
    "    \n",
    "#     add geom type check l8r, for now only interested in poly\n",
    "#     try:\n",
    "#         return sg.Polygon(new_vertices)\n",
    "#     except:\n",
    "#         return vector_rep\n",
    "    return sg.Polygon(new_vertices)\n",
    "\n",
    "def poly_as_mpt(polygon):\n",
    "    coords = polygon.exterior.coords[:]\n",
    "    as_pts = [sg.Point(x) for x in coords]\n",
    "    as_mpt = sg.MultiPoint(as_pts)\n",
    "    return as_mpt\n",
    "        "
   ]
  },
  {
   "cell_type": "markdown",
   "metadata": {},
   "source": [
    "# # try random geoms"
   ]
  },
  {
   "cell_type": "code",
   "execution_count": 3,
   "metadata": {},
   "outputs": [
    {
     "data": {
      "image/svg+xml": [
       "<svg xmlns=\"http://www.w3.org/2000/svg\" xmlns:xlink=\"http://www.w3.org/1999/xlink\" width=\"100.0\" height=\"100.0\" viewBox=\"4.6 5.269872981077807 10.8 9.460254037844388\" preserveAspectRatio=\"xMinYMin meet\"><g transform=\"matrix(1,0,0,-1,0,20.0)\"><path fill-rule=\"evenodd\" fill=\"#66cc99\" stroke=\"#555555\" stroke-width=\"0.21600000000000003\" opacity=\"0.6\" d=\"M 15.0,10.0 L 12.5,14.330127018922193 L 7.500000000000001,14.330127018922195 L 5.0,10.0 L 7.499999999999998,5.669872981077807 L 12.5,5.669872981077807 L 15.0,10.0 z\" /></g></svg>"
      ],
      "text/plain": [
       "<shapely.geometry.polygon.Polygon at 0x1f5a957b248>"
      ]
     },
     "execution_count": 3,
     "metadata": {},
     "output_type": "execute_result"
    }
   ],
   "source": [
    "def make_hex_poly(a, x, y):\n",
    "    \"\"\"\n",
    "    Create a hexagon centered on (x, y)\n",
    "    :param a: length of the hexagon's edge\n",
    "    :param x,y: desired centroid of hex\n",
    "    :return: The shapely polygon representation of the hexagon\n",
    "    \"\"\"\n",
    "    hex_coords = [(x + math.cos(math.radians(angle)) * a, y + math.sin(math.radians(angle)) * a) for angle in range(0, 360, 60)]\n",
    "    return sg.Polygon(hex_coords)\n",
    "hex1 = make_hex_poly(5,10,10)\n",
    "hex1"
   ]
  },
  {
   "cell_type": "code",
   "execution_count": 4,
   "metadata": {},
   "outputs": [],
   "source": [
    "def generate_degen(geom,pps=5):\n",
    "    \"\"\"\n",
    "    geom is the input shapely type polygon (must be valid pls)\n",
    "    pps is points per side to generate fr the polygon\n",
    "    \"\"\"\n",
    "    \n",
    "#     pps=5 # points per side\n",
    "    \n",
    "    \n",
    "#     get normalized vec values\n",
    "    coords = geom.exterior.coords[:]\n",
    "    coords_arr = np.array(coords)\n",
    "    vector_rep = np.diff(coords_arr,axis = 0)\n",
    "    distances = np.linalg.norm(vector_rep,axis = 1)\n",
    "    \n",
    "    idx_dict = {\"distance\":0, \n",
    "               \"vector\":1,\n",
    "               \"coords\":2}\n",
    "    \n",
    "    final_coords=[]\n",
    "    dist_scaler = 10\n",
    "    for e,d_v_c in enumerate(zip(distances,vector_rep,coords_arr)):\n",
    "        d= d_v_c[idx_dict['distance']]\n",
    "        v = d_v_c[idx_dict['vector']]\n",
    "        c = d_v_c[idx_dict['coords']]\n",
    "#         print(c)\n",
    "        u = v/d\n",
    "#         side_pts = np.random.randint(1,d*10,(pps))/11 # dont want a chance of zero \n",
    "        side_pts = random.sample(range(1, math.floor(d*dist_scaler)), pps)\n",
    "    \n",
    "        # maintain proper sequence by sorting distance scalars and prepending starting pt of current vector\n",
    "        side_pts.sort() \n",
    "        new_offset = [c + u*du/dist_scaler for du in side_pts]\n",
    "        final_coords+= [c] + new_offset #+ list(coords[e+1])\n",
    "        \n",
    "    return final_coords\n",
    "#         print(u)\n",
    "        "
   ]
  },
  {
   "cell_type": "code",
   "execution_count": 5,
   "metadata": {},
   "outputs": [],
   "source": [
    "after = generate_degen(hex1)"
   ]
  },
  {
   "cell_type": "code",
   "execution_count": 6,
   "metadata": {},
   "outputs": [
    {
     "data": {
      "image/svg+xml": [
       "<svg xmlns=\"http://www.w3.org/2000/svg\" xmlns:xlink=\"http://www.w3.org/1999/xlink\" width=\"100.0\" height=\"100.0\" viewBox=\"4.6 5.269872981077807 10.8 9.460254037844388\" preserveAspectRatio=\"xMinYMin meet\"><g transform=\"matrix(1,0,0,-1,0,20.0)\"><path fill-rule=\"evenodd\" fill=\"#66cc99\" stroke=\"#555555\" stroke-width=\"0.21600000000000003\" opacity=\"0.6\" d=\"M 15.0,10.0 L 14.8,10.346410161513775 L 14.3,11.212435565298215 L 14.25,11.299038105676658 L 13.95,11.818653347947322 L 13.75,12.165063509461095 L 12.5,14.330127018922193 L 11.7,14.330127018922193 L 11.1,14.330127018922193 L 10.6,14.330127018922193 L 9.0,14.330127018922195 L 8.4,14.330127018922195 L 7.500000000000001,14.330127018922195 L 7.000000000000001,13.464101615137755 L 6.800000000000001,13.11769145362398 L 6.6000000000000005,12.771281292110205 L 5.700000000000001,11.212435565298215 L 5.550000000000001,10.952627944162884 L 5.0,10.0 L 5.949999999999999,8.354551732809567 L 6.0,8.267949192431121 L 6.25,7.834936490538903 L 7.1,6.362693304105357 L 7.1499999999999995,6.276090763726913 L 7.499999999999998,5.669872981077807 L 9.499999999999998,5.669872981077807 L 9.899999999999999,5.669872981077807 L 10.299999999999997,5.669872981077807 L 10.999999999999998,5.669872981077807 L 11.499999999999998,5.669872981077807 L 12.5,5.669872981077807 L 12.6,5.843078061834695 L 12.85,6.2760907637269145 L 13.05,6.62250092524069 L 13.6,7.5751288694035726 L 13.8,7.921539030917348 L 15.0,10.0 z\" /></g></svg>"
      ],
      "text/plain": [
       "<shapely.geometry.polygon.Polygon at 0x1f5a958aa48>"
      ]
     },
     "execution_count": 6,
     "metadata": {},
     "output_type": "execute_result"
    }
   ],
   "source": [
    "sg.Polygon(after)"
   ]
  },
  {
   "cell_type": "code",
   "execution_count": 7,
   "metadata": {},
   "outputs": [],
   "source": [
    "after_pts = [sg.Point(x) for x in after]\n",
    "after_mpts = sg.MultiPoint(after_pts)"
   ]
  },
  {
   "cell_type": "code",
   "execution_count": 8,
   "metadata": {},
   "outputs": [
    {
     "data": {
      "image/svg+xml": [
       "<svg xmlns=\"http://www.w3.org/2000/svg\" xmlns:xlink=\"http://www.w3.org/1999/xlink\" width=\"100.0\" height=\"100.0\" viewBox=\"4.6 5.269872981077807 10.8 9.460254037844388\" preserveAspectRatio=\"xMinYMin meet\"><g transform=\"matrix(1,0,0,-1,0,20.0)\"><g><circle cx=\"15.0\" cy=\"10.0\" r=\"0.32400000000000007\" stroke=\"#555555\" stroke-width=\"0.10800000000000001\" fill=\"#66cc99\" opacity=\"0.6\" /><circle cx=\"14.8\" cy=\"10.346410161513775\" r=\"0.32400000000000007\" stroke=\"#555555\" stroke-width=\"0.10800000000000001\" fill=\"#66cc99\" opacity=\"0.6\" /><circle cx=\"14.3\" cy=\"11.212435565298215\" r=\"0.32400000000000007\" stroke=\"#555555\" stroke-width=\"0.10800000000000001\" fill=\"#66cc99\" opacity=\"0.6\" /><circle cx=\"14.25\" cy=\"11.299038105676658\" r=\"0.32400000000000007\" stroke=\"#555555\" stroke-width=\"0.10800000000000001\" fill=\"#66cc99\" opacity=\"0.6\" /><circle cx=\"13.95\" cy=\"11.818653347947322\" r=\"0.32400000000000007\" stroke=\"#555555\" stroke-width=\"0.10800000000000001\" fill=\"#66cc99\" opacity=\"0.6\" /><circle cx=\"13.75\" cy=\"12.165063509461095\" r=\"0.32400000000000007\" stroke=\"#555555\" stroke-width=\"0.10800000000000001\" fill=\"#66cc99\" opacity=\"0.6\" /><circle cx=\"12.5\" cy=\"14.330127018922193\" r=\"0.32400000000000007\" stroke=\"#555555\" stroke-width=\"0.10800000000000001\" fill=\"#66cc99\" opacity=\"0.6\" /><circle cx=\"11.7\" cy=\"14.330127018922193\" r=\"0.32400000000000007\" stroke=\"#555555\" stroke-width=\"0.10800000000000001\" fill=\"#66cc99\" opacity=\"0.6\" /><circle cx=\"11.1\" cy=\"14.330127018922193\" r=\"0.32400000000000007\" stroke=\"#555555\" stroke-width=\"0.10800000000000001\" fill=\"#66cc99\" opacity=\"0.6\" /><circle cx=\"10.6\" cy=\"14.330127018922193\" r=\"0.32400000000000007\" stroke=\"#555555\" stroke-width=\"0.10800000000000001\" fill=\"#66cc99\" opacity=\"0.6\" /><circle cx=\"9.0\" cy=\"14.330127018922195\" r=\"0.32400000000000007\" stroke=\"#555555\" stroke-width=\"0.10800000000000001\" fill=\"#66cc99\" opacity=\"0.6\" /><circle cx=\"8.4\" cy=\"14.330127018922195\" r=\"0.32400000000000007\" stroke=\"#555555\" stroke-width=\"0.10800000000000001\" fill=\"#66cc99\" opacity=\"0.6\" /><circle cx=\"7.500000000000001\" cy=\"14.330127018922195\" r=\"0.32400000000000007\" stroke=\"#555555\" stroke-width=\"0.10800000000000001\" fill=\"#66cc99\" opacity=\"0.6\" /><circle cx=\"7.000000000000001\" cy=\"13.464101615137755\" r=\"0.32400000000000007\" stroke=\"#555555\" stroke-width=\"0.10800000000000001\" fill=\"#66cc99\" opacity=\"0.6\" /><circle cx=\"6.800000000000001\" cy=\"13.11769145362398\" r=\"0.32400000000000007\" stroke=\"#555555\" stroke-width=\"0.10800000000000001\" fill=\"#66cc99\" opacity=\"0.6\" /><circle cx=\"6.6000000000000005\" cy=\"12.771281292110205\" r=\"0.32400000000000007\" stroke=\"#555555\" stroke-width=\"0.10800000000000001\" fill=\"#66cc99\" opacity=\"0.6\" /><circle cx=\"5.700000000000001\" cy=\"11.212435565298215\" r=\"0.32400000000000007\" stroke=\"#555555\" stroke-width=\"0.10800000000000001\" fill=\"#66cc99\" opacity=\"0.6\" /><circle cx=\"5.550000000000001\" cy=\"10.952627944162884\" r=\"0.32400000000000007\" stroke=\"#555555\" stroke-width=\"0.10800000000000001\" fill=\"#66cc99\" opacity=\"0.6\" /><circle cx=\"5.0\" cy=\"10.0\" r=\"0.32400000000000007\" stroke=\"#555555\" stroke-width=\"0.10800000000000001\" fill=\"#66cc99\" opacity=\"0.6\" /><circle cx=\"5.949999999999999\" cy=\"8.354551732809567\" r=\"0.32400000000000007\" stroke=\"#555555\" stroke-width=\"0.10800000000000001\" fill=\"#66cc99\" opacity=\"0.6\" /><circle cx=\"6.0\" cy=\"8.267949192431121\" r=\"0.32400000000000007\" stroke=\"#555555\" stroke-width=\"0.10800000000000001\" fill=\"#66cc99\" opacity=\"0.6\" /><circle cx=\"6.25\" cy=\"7.834936490538903\" r=\"0.32400000000000007\" stroke=\"#555555\" stroke-width=\"0.10800000000000001\" fill=\"#66cc99\" opacity=\"0.6\" /><circle cx=\"7.1\" cy=\"6.362693304105357\" r=\"0.32400000000000007\" stroke=\"#555555\" stroke-width=\"0.10800000000000001\" fill=\"#66cc99\" opacity=\"0.6\" /><circle cx=\"7.1499999999999995\" cy=\"6.276090763726913\" r=\"0.32400000000000007\" stroke=\"#555555\" stroke-width=\"0.10800000000000001\" fill=\"#66cc99\" opacity=\"0.6\" /><circle cx=\"7.499999999999998\" cy=\"5.669872981077807\" r=\"0.32400000000000007\" stroke=\"#555555\" stroke-width=\"0.10800000000000001\" fill=\"#66cc99\" opacity=\"0.6\" /><circle cx=\"9.499999999999998\" cy=\"5.669872981077807\" r=\"0.32400000000000007\" stroke=\"#555555\" stroke-width=\"0.10800000000000001\" fill=\"#66cc99\" opacity=\"0.6\" /><circle cx=\"9.899999999999999\" cy=\"5.669872981077807\" r=\"0.32400000000000007\" stroke=\"#555555\" stroke-width=\"0.10800000000000001\" fill=\"#66cc99\" opacity=\"0.6\" /><circle cx=\"10.299999999999997\" cy=\"5.669872981077807\" r=\"0.32400000000000007\" stroke=\"#555555\" stroke-width=\"0.10800000000000001\" fill=\"#66cc99\" opacity=\"0.6\" /><circle cx=\"10.999999999999998\" cy=\"5.669872981077807\" r=\"0.32400000000000007\" stroke=\"#555555\" stroke-width=\"0.10800000000000001\" fill=\"#66cc99\" opacity=\"0.6\" /><circle cx=\"11.499999999999998\" cy=\"5.669872981077807\" r=\"0.32400000000000007\" stroke=\"#555555\" stroke-width=\"0.10800000000000001\" fill=\"#66cc99\" opacity=\"0.6\" /><circle cx=\"12.5\" cy=\"5.669872981077807\" r=\"0.32400000000000007\" stroke=\"#555555\" stroke-width=\"0.10800000000000001\" fill=\"#66cc99\" opacity=\"0.6\" /><circle cx=\"12.6\" cy=\"5.843078061834695\" r=\"0.32400000000000007\" stroke=\"#555555\" stroke-width=\"0.10800000000000001\" fill=\"#66cc99\" opacity=\"0.6\" /><circle cx=\"12.85\" cy=\"6.2760907637269145\" r=\"0.32400000000000007\" stroke=\"#555555\" stroke-width=\"0.10800000000000001\" fill=\"#66cc99\" opacity=\"0.6\" /><circle cx=\"13.05\" cy=\"6.62250092524069\" r=\"0.32400000000000007\" stroke=\"#555555\" stroke-width=\"0.10800000000000001\" fill=\"#66cc99\" opacity=\"0.6\" /><circle cx=\"13.6\" cy=\"7.5751288694035726\" r=\"0.32400000000000007\" stroke=\"#555555\" stroke-width=\"0.10800000000000001\" fill=\"#66cc99\" opacity=\"0.6\" /><circle cx=\"13.8\" cy=\"7.921539030917348\" r=\"0.32400000000000007\" stroke=\"#555555\" stroke-width=\"0.10800000000000001\" fill=\"#66cc99\" opacity=\"0.6\" /></g></g></svg>"
      ],
      "text/plain": [
       "<shapely.geometry.multipoint.MultiPoint at 0x1f5a9584d48>"
      ]
     },
     "execution_count": 8,
     "metadata": {},
     "output_type": "execute_result"
    }
   ],
   "source": [
    "after_mpts\n"
   ]
  },
  {
   "cell_type": "code",
   "execution_count": 9,
   "metadata": {},
   "outputs": [
    {
     "data": {
      "image/svg+xml": [
       "<svg xmlns=\"http://www.w3.org/2000/svg\" xmlns:xlink=\"http://www.w3.org/1999/xlink\" width=\"100.0\" height=\"100.0\" viewBox=\"4.6 5.269872981077807 10.8 9.460254037844388\" preserveAspectRatio=\"xMinYMin meet\"><g transform=\"matrix(1,0,0,-1,0,20.0)\"><g><circle cx=\"15.0\" cy=\"10.0\" r=\"0.32400000000000007\" stroke=\"#555555\" stroke-width=\"0.10800000000000001\" fill=\"#66cc99\" opacity=\"0.6\" /><circle cx=\"14.8\" cy=\"10.346410161513775\" r=\"0.32400000000000007\" stroke=\"#555555\" stroke-width=\"0.10800000000000001\" fill=\"#66cc99\" opacity=\"0.6\" /><circle cx=\"14.3\" cy=\"11.212435565298215\" r=\"0.32400000000000007\" stroke=\"#555555\" stroke-width=\"0.10800000000000001\" fill=\"#66cc99\" opacity=\"0.6\" /><circle cx=\"14.25\" cy=\"11.299038105676658\" r=\"0.32400000000000007\" stroke=\"#555555\" stroke-width=\"0.10800000000000001\" fill=\"#66cc99\" opacity=\"0.6\" /><circle cx=\"13.95\" cy=\"11.818653347947322\" r=\"0.32400000000000007\" stroke=\"#555555\" stroke-width=\"0.10800000000000001\" fill=\"#66cc99\" opacity=\"0.6\" /><circle cx=\"13.75\" cy=\"12.165063509461095\" r=\"0.32400000000000007\" stroke=\"#555555\" stroke-width=\"0.10800000000000001\" fill=\"#66cc99\" opacity=\"0.6\" /><circle cx=\"12.5\" cy=\"14.330127018922193\" r=\"0.32400000000000007\" stroke=\"#555555\" stroke-width=\"0.10800000000000001\" fill=\"#66cc99\" opacity=\"0.6\" /><circle cx=\"11.7\" cy=\"14.330127018922193\" r=\"0.32400000000000007\" stroke=\"#555555\" stroke-width=\"0.10800000000000001\" fill=\"#66cc99\" opacity=\"0.6\" /><circle cx=\"11.1\" cy=\"14.330127018922193\" r=\"0.32400000000000007\" stroke=\"#555555\" stroke-width=\"0.10800000000000001\" fill=\"#66cc99\" opacity=\"0.6\" /><circle cx=\"10.6\" cy=\"14.330127018922193\" r=\"0.32400000000000007\" stroke=\"#555555\" stroke-width=\"0.10800000000000001\" fill=\"#66cc99\" opacity=\"0.6\" /><circle cx=\"9.0\" cy=\"14.330127018922195\" r=\"0.32400000000000007\" stroke=\"#555555\" stroke-width=\"0.10800000000000001\" fill=\"#66cc99\" opacity=\"0.6\" /><circle cx=\"8.4\" cy=\"14.330127018922195\" r=\"0.32400000000000007\" stroke=\"#555555\" stroke-width=\"0.10800000000000001\" fill=\"#66cc99\" opacity=\"0.6\" /><circle cx=\"7.500000000000001\" cy=\"14.330127018922195\" r=\"0.32400000000000007\" stroke=\"#555555\" stroke-width=\"0.10800000000000001\" fill=\"#66cc99\" opacity=\"0.6\" /><circle cx=\"7.000000000000001\" cy=\"13.464101615137755\" r=\"0.32400000000000007\" stroke=\"#555555\" stroke-width=\"0.10800000000000001\" fill=\"#66cc99\" opacity=\"0.6\" /><circle cx=\"6.800000000000001\" cy=\"13.11769145362398\" r=\"0.32400000000000007\" stroke=\"#555555\" stroke-width=\"0.10800000000000001\" fill=\"#66cc99\" opacity=\"0.6\" /><circle cx=\"6.6000000000000005\" cy=\"12.771281292110205\" r=\"0.32400000000000007\" stroke=\"#555555\" stroke-width=\"0.10800000000000001\" fill=\"#66cc99\" opacity=\"0.6\" /><circle cx=\"5.700000000000001\" cy=\"11.212435565298215\" r=\"0.32400000000000007\" stroke=\"#555555\" stroke-width=\"0.10800000000000001\" fill=\"#66cc99\" opacity=\"0.6\" /><circle cx=\"5.550000000000001\" cy=\"10.952627944162884\" r=\"0.32400000000000007\" stroke=\"#555555\" stroke-width=\"0.10800000000000001\" fill=\"#66cc99\" opacity=\"0.6\" /><circle cx=\"5.0\" cy=\"10.0\" r=\"0.32400000000000007\" stroke=\"#555555\" stroke-width=\"0.10800000000000001\" fill=\"#66cc99\" opacity=\"0.6\" /><circle cx=\"5.949999999999999\" cy=\"8.354551732809567\" r=\"0.32400000000000007\" stroke=\"#555555\" stroke-width=\"0.10800000000000001\" fill=\"#66cc99\" opacity=\"0.6\" /><circle cx=\"6.0\" cy=\"8.267949192431121\" r=\"0.32400000000000007\" stroke=\"#555555\" stroke-width=\"0.10800000000000001\" fill=\"#66cc99\" opacity=\"0.6\" /><circle cx=\"6.25\" cy=\"7.834936490538903\" r=\"0.32400000000000007\" stroke=\"#555555\" stroke-width=\"0.10800000000000001\" fill=\"#66cc99\" opacity=\"0.6\" /><circle cx=\"7.1\" cy=\"6.362693304105357\" r=\"0.32400000000000007\" stroke=\"#555555\" stroke-width=\"0.10800000000000001\" fill=\"#66cc99\" opacity=\"0.6\" /><circle cx=\"7.1499999999999995\" cy=\"6.276090763726913\" r=\"0.32400000000000007\" stroke=\"#555555\" stroke-width=\"0.10800000000000001\" fill=\"#66cc99\" opacity=\"0.6\" /><circle cx=\"7.499999999999998\" cy=\"5.669872981077807\" r=\"0.32400000000000007\" stroke=\"#555555\" stroke-width=\"0.10800000000000001\" fill=\"#66cc99\" opacity=\"0.6\" /><circle cx=\"9.499999999999998\" cy=\"5.669872981077807\" r=\"0.32400000000000007\" stroke=\"#555555\" stroke-width=\"0.10800000000000001\" fill=\"#66cc99\" opacity=\"0.6\" /><circle cx=\"9.899999999999999\" cy=\"5.669872981077807\" r=\"0.32400000000000007\" stroke=\"#555555\" stroke-width=\"0.10800000000000001\" fill=\"#66cc99\" opacity=\"0.6\" /><circle cx=\"10.299999999999997\" cy=\"5.669872981077807\" r=\"0.32400000000000007\" stroke=\"#555555\" stroke-width=\"0.10800000000000001\" fill=\"#66cc99\" opacity=\"0.6\" /><circle cx=\"10.999999999999998\" cy=\"5.669872981077807\" r=\"0.32400000000000007\" stroke=\"#555555\" stroke-width=\"0.10800000000000001\" fill=\"#66cc99\" opacity=\"0.6\" /><circle cx=\"11.499999999999998\" cy=\"5.669872981077807\" r=\"0.32400000000000007\" stroke=\"#555555\" stroke-width=\"0.10800000000000001\" fill=\"#66cc99\" opacity=\"0.6\" /><circle cx=\"12.5\" cy=\"5.669872981077807\" r=\"0.32400000000000007\" stroke=\"#555555\" stroke-width=\"0.10800000000000001\" fill=\"#66cc99\" opacity=\"0.6\" /><circle cx=\"12.6\" cy=\"5.843078061834695\" r=\"0.32400000000000007\" stroke=\"#555555\" stroke-width=\"0.10800000000000001\" fill=\"#66cc99\" opacity=\"0.6\" /><circle cx=\"12.85\" cy=\"6.2760907637269145\" r=\"0.32400000000000007\" stroke=\"#555555\" stroke-width=\"0.10800000000000001\" fill=\"#66cc99\" opacity=\"0.6\" /><circle cx=\"13.05\" cy=\"6.62250092524069\" r=\"0.32400000000000007\" stroke=\"#555555\" stroke-width=\"0.10800000000000001\" fill=\"#66cc99\" opacity=\"0.6\" /><circle cx=\"13.6\" cy=\"7.5751288694035726\" r=\"0.32400000000000007\" stroke=\"#555555\" stroke-width=\"0.10800000000000001\" fill=\"#66cc99\" opacity=\"0.6\" /><circle cx=\"13.8\" cy=\"7.921539030917348\" r=\"0.32400000000000007\" stroke=\"#555555\" stroke-width=\"0.10800000000000001\" fill=\"#66cc99\" opacity=\"0.6\" /><circle cx=\"15.0\" cy=\"10.0\" r=\"0.32400000000000007\" stroke=\"#555555\" stroke-width=\"0.10800000000000001\" fill=\"#66cc99\" opacity=\"0.6\" /></g></g></svg>"
      ],
      "text/plain": [
       "<shapely.geometry.multipoint.MultiPoint at 0x1f5a940db48>"
      ]
     },
     "execution_count": 9,
     "metadata": {},
     "output_type": "execute_result"
    }
   ],
   "source": [
    "poly_as_mpt(sg.Polygon(after_pts))"
   ]
  },
  {
   "cell_type": "code",
   "execution_count": 10,
   "metadata": {},
   "outputs": [
    {
     "data": {
      "image/svg+xml": [
       "<svg xmlns=\"http://www.w3.org/2000/svg\" xmlns:xlink=\"http://www.w3.org/1999/xlink\" width=\"100.0\" height=\"100.0\" viewBox=\"4.6 5.269872981077807 10.8 9.460254037844388\" preserveAspectRatio=\"xMinYMin meet\"><g transform=\"matrix(1,0,0,-1,0,20.0)\"><g><circle cx=\"15.0\" cy=\"10.0\" r=\"0.32400000000000007\" stroke=\"#555555\" stroke-width=\"0.10800000000000001\" fill=\"#66cc99\" opacity=\"0.6\" /><circle cx=\"12.5\" cy=\"14.330127018922193\" r=\"0.32400000000000007\" stroke=\"#555555\" stroke-width=\"0.10800000000000001\" fill=\"#66cc99\" opacity=\"0.6\" /><circle cx=\"7.500000000000001\" cy=\"14.330127018922195\" r=\"0.32400000000000007\" stroke=\"#555555\" stroke-width=\"0.10800000000000001\" fill=\"#66cc99\" opacity=\"0.6\" /><circle cx=\"5.0\" cy=\"10.0\" r=\"0.32400000000000007\" stroke=\"#555555\" stroke-width=\"0.10800000000000001\" fill=\"#66cc99\" opacity=\"0.6\" /><circle cx=\"7.499999999999998\" cy=\"5.669872981077807\" r=\"0.32400000000000007\" stroke=\"#555555\" stroke-width=\"0.10800000000000001\" fill=\"#66cc99\" opacity=\"0.6\" /><circle cx=\"12.5\" cy=\"5.669872981077807\" r=\"0.32400000000000007\" stroke=\"#555555\" stroke-width=\"0.10800000000000001\" fill=\"#66cc99\" opacity=\"0.6\" /><circle cx=\"15.0\" cy=\"10.0\" r=\"0.32400000000000007\" stroke=\"#555555\" stroke-width=\"0.10800000000000001\" fill=\"#66cc99\" opacity=\"0.6\" /></g></g></svg>"
      ],
      "text/plain": [
       "<shapely.geometry.multipoint.MultiPoint at 0x1f5a9584e88>"
      ]
     },
     "execution_count": 10,
     "metadata": {},
     "output_type": "execute_result"
    }
   ],
   "source": [
    "poly_as_mpt(simplify_by_interior_angle(sg.Polygon(after_pts)))"
   ]
  },
  {
   "cell_type": "code",
   "execution_count": 11,
   "metadata": {},
   "outputs": [
    {
     "data": {
      "image/svg+xml": [
       "<svg xmlns=\"http://www.w3.org/2000/svg\" xmlns:xlink=\"http://www.w3.org/1999/xlink\" width=\"100.0\" height=\"100.0\" viewBox=\"4.6 5.269872981077807 10.8 9.460254037844388\" preserveAspectRatio=\"xMinYMin meet\"><g transform=\"matrix(1,0,0,-1,0,20.0)\"><path fill-rule=\"evenodd\" fill=\"#66cc99\" stroke=\"#555555\" stroke-width=\"0.21600000000000003\" opacity=\"0.6\" d=\"M 15.0,10.0 L 12.5,14.330127018922193 L 7.500000000000001,14.330127018922195 L 5.0,10.0 L 7.499999999999998,5.669872981077807 L 12.5,5.669872981077807 L 15.0,10.0 z\" /></g></svg>"
      ],
      "text/plain": [
       "<shapely.geometry.polygon.Polygon at 0x1f5a958fa48>"
      ]
     },
     "execution_count": 11,
     "metadata": {},
     "output_type": "execute_result"
    }
   ],
   "source": [
    "after_sim = simplify_by_interior_angle(sg.Polygon(after))\n",
    "after_sim"
   ]
  },
  {
   "cell_type": "code",
   "execution_count": 12,
   "metadata": {},
   "outputs": [
    {
     "data": {
      "image/svg+xml": [
       "<svg xmlns=\"http://www.w3.org/2000/svg\" xmlns:xlink=\"http://www.w3.org/1999/xlink\" width=\"100.0\" height=\"100.0\" viewBox=\"4.6 5.269872981077807 10.8 9.460254037844388\" preserveAspectRatio=\"xMinYMin meet\"><g transform=\"matrix(1,0,0,-1,0,20.0)\"><g><circle cx=\"15.0\" cy=\"10.0\" r=\"0.32400000000000007\" stroke=\"#555555\" stroke-width=\"0.10800000000000001\" fill=\"#66cc99\" opacity=\"0.6\" /><circle cx=\"12.5\" cy=\"14.330127018922193\" r=\"0.32400000000000007\" stroke=\"#555555\" stroke-width=\"0.10800000000000001\" fill=\"#66cc99\" opacity=\"0.6\" /><circle cx=\"7.500000000000001\" cy=\"14.330127018922195\" r=\"0.32400000000000007\" stroke=\"#555555\" stroke-width=\"0.10800000000000001\" fill=\"#66cc99\" opacity=\"0.6\" /><circle cx=\"5.0\" cy=\"10.0\" r=\"0.32400000000000007\" stroke=\"#555555\" stroke-width=\"0.10800000000000001\" fill=\"#66cc99\" opacity=\"0.6\" /><circle cx=\"7.499999999999998\" cy=\"5.669872981077807\" r=\"0.32400000000000007\" stroke=\"#555555\" stroke-width=\"0.10800000000000001\" fill=\"#66cc99\" opacity=\"0.6\" /><circle cx=\"12.5\" cy=\"5.669872981077807\" r=\"0.32400000000000007\" stroke=\"#555555\" stroke-width=\"0.10800000000000001\" fill=\"#66cc99\" opacity=\"0.6\" /><circle cx=\"15.0\" cy=\"10.0\" r=\"0.32400000000000007\" stroke=\"#555555\" stroke-width=\"0.10800000000000001\" fill=\"#66cc99\" opacity=\"0.6\" /></g></g></svg>"
      ],
      "text/plain": [
       "<shapely.geometry.multipoint.MultiPoint at 0x1f5a9575f08>"
      ]
     },
     "execution_count": 12,
     "metadata": {},
     "output_type": "execute_result"
    }
   ],
   "source": [
    "poly_as_mpt(after_sim)"
   ]
  },
  {
   "cell_type": "code",
   "execution_count": 13,
   "metadata": {},
   "outputs": [
    {
     "data": {
      "text/plain": [
       "7"
      ]
     },
     "execution_count": 13,
     "metadata": {},
     "output_type": "execute_result"
    }
   ],
   "source": [
    "len(after_sim.exterior.coords[:])"
   ]
  },
  {
   "cell_type": "code",
   "execution_count": 14,
   "metadata": {},
   "outputs": [
    {
     "data": {
      "image/svg+xml": [
       "<svg xmlns=\"http://www.w3.org/2000/svg\" xmlns:xlink=\"http://www.w3.org/1999/xlink\" width=\"100.0\" height=\"100.0\" viewBox=\"4.6 5.269872981077807 10.8 9.460254037844388\" preserveAspectRatio=\"xMinYMin meet\"><g transform=\"matrix(1,0,0,-1,0,20.0)\"><g><circle cx=\"15.0\" cy=\"10.0\" r=\"0.32400000000000007\" stroke=\"#555555\" stroke-width=\"0.10800000000000001\" fill=\"#66cc99\" opacity=\"0.6\" /><circle cx=\"12.5\" cy=\"14.330127018922193\" r=\"0.32400000000000007\" stroke=\"#555555\" stroke-width=\"0.10800000000000001\" fill=\"#66cc99\" opacity=\"0.6\" /><circle cx=\"9.0\" cy=\"14.330127018922195\" r=\"0.32400000000000007\" stroke=\"#555555\" stroke-width=\"0.10800000000000001\" fill=\"#66cc99\" opacity=\"0.6\" /><circle cx=\"7.500000000000001\" cy=\"14.330127018922195\" r=\"0.32400000000000007\" stroke=\"#555555\" stroke-width=\"0.10800000000000001\" fill=\"#66cc99\" opacity=\"0.6\" /><circle cx=\"5.0\" cy=\"10.0\" r=\"0.32400000000000007\" stroke=\"#555555\" stroke-width=\"0.10800000000000001\" fill=\"#66cc99\" opacity=\"0.6\" /><circle cx=\"7.499999999999998\" cy=\"5.669872981077807\" r=\"0.32400000000000007\" stroke=\"#555555\" stroke-width=\"0.10800000000000001\" fill=\"#66cc99\" opacity=\"0.6\" /><circle cx=\"12.5\" cy=\"5.669872981077807\" r=\"0.32400000000000007\" stroke=\"#555555\" stroke-width=\"0.10800000000000001\" fill=\"#66cc99\" opacity=\"0.6\" /><circle cx=\"15.0\" cy=\"10.0\" r=\"0.32400000000000007\" stroke=\"#555555\" stroke-width=\"0.10800000000000001\" fill=\"#66cc99\" opacity=\"0.6\" /></g></g></svg>"
      ],
      "text/plain": [
       "<shapely.geometry.multipoint.MultiPoint at 0x1f5a9570848>"
      ]
     },
     "execution_count": 14,
     "metadata": {},
     "output_type": "execute_result"
    }
   ],
   "source": [
    "# with simplify og\n",
    "test_simp = sg.Polygon(after).simplify(1e-5)\n",
    "poly_as_mpt(test_simp)\n"
   ]
  },
  {
   "cell_type": "code",
   "execution_count": 463,
   "metadata": {},
   "outputs": [],
   "source": [
    "def generate_random_polygon( n):\n",
    "\n",
    "    x = np.random.randint(0,50,n)\n",
    "    y = np.random.randint(0,50,n)\n",
    "    centroid = [np.sum(x)/n, np.sum(y)/n]\n",
    "\n",
    "    angles = np.arctan2(x-centroid[0], y-centroid[1])\n",
    "\n",
    "    ##sorting the points by angle\n",
    "    coords_by_theta = sorted([((xx,yy),theta) for xx,yy,theta in zip(x,y,angles)], key = lambda t: t[1])\n",
    "\n",
    "    ##making sure that there are no duplicates:\n",
    "    if len(coords_by_theta) != len(set(coords_by_theta)):\n",
    "        raise Exception('need re run (recurse potentially in future)')\n",
    "\n",
    "    xy,angles = zip(*coords_by_theta)\n",
    "#     append first point to end for complete linear ring sequence\n",
    "#     xy.append(xy[0])\n",
    "    xy = list(xy)\n",
    "    xy.append(xy[0])\n",
    "    return xy\n",
    "\n"
   ]
  },
  {
   "cell_type": "code",
   "execution_count": 497,
   "metadata": {},
   "outputs": [
    {
     "data": {
      "image/svg+xml": [
       "<svg xmlns=\"http://www.w3.org/2000/svg\" xmlns:xlink=\"http://www.w3.org/1999/xlink\" width=\"100.0\" height=\"100.0\" viewBox=\"1.48 0.48 38.040000000000006 41.040000000000006\" preserveAspectRatio=\"xMinYMin meet\"><g transform=\"matrix(1,0,0,-1,0,42.0)\"><path fill-rule=\"evenodd\" fill=\"#66cc99\" stroke=\"#555555\" stroke-width=\"0.8208000000000001\" opacity=\"0.6\" d=\"M 3.0,2.0 L 8.0,30.0 L 8.0,40.0 L 38.0,15.0 L 18.0,3.0 L 3.0,2.0 z\" /></g></svg>"
      ],
      "text/plain": [
       "<shapely.geometry.polygon.Polygon at 0x1f5b02b40c8>"
      ]
     },
     "execution_count": 497,
     "metadata": {},
     "output_type": "execute_result"
    }
   ],
   "source": [
    "vals = generate_random_polygon(5)\n",
    "# rand_poly = sg.Polygon(sg.Point(x) for x in vals)\n",
    "rand_poly=sg.Polygon(vals)\n",
    "rand_poly"
   ]
  },
  {
   "cell_type": "code",
   "execution_count": 498,
   "metadata": {},
   "outputs": [
    {
     "name": "stdout",
     "output_type": "stream",
     "text": [
      "done\n"
     ]
    },
    {
     "data": {
      "text/html": [
       "<div>\n",
       "<style scoped>\n",
       "    .dataframe tbody tr th:only-of-type {\n",
       "        vertical-align: middle;\n",
       "    }\n",
       "\n",
       "    .dataframe tbody tr th {\n",
       "        vertical-align: top;\n",
       "    }\n",
       "\n",
       "    .dataframe thead th {\n",
       "        text-align: right;\n",
       "    }\n",
       "</style>\n",
       "<table border=\"1\" class=\"dataframe\">\n",
       "  <thead>\n",
       "    <tr style=\"text-align: right;\">\n",
       "      <th></th>\n",
       "      <th>poly_wkt</th>\n",
       "    </tr>\n",
       "  </thead>\n",
       "  <tbody>\n",
       "    <tr>\n",
       "      <th>21</th>\n",
       "      <td>POLYGON ((6 2, 2 6, 2 12, 8 22, 19 36, 24 46, ...</td>\n",
       "    </tr>\n",
       "    <tr>\n",
       "      <th>22</th>\n",
       "      <td>POLYGON ((18 13, 20 21, 15 22, 20 44, 45 35, 4...</td>\n",
       "    </tr>\n",
       "    <tr>\n",
       "      <th>23</th>\n",
       "      <td>POLYGON ((8 1, 21 19, 13 39, 24 25, 22 44, 41 ...</td>\n",
       "    </tr>\n",
       "    <tr>\n",
       "      <th>24</th>\n",
       "      <td>POLYGON ((22 17, 5 27, 34 34, 41 34, 44 19, 42...</td>\n",
       "    </tr>\n",
       "    <tr>\n",
       "      <th>25</th>\n",
       "      <td>POLYGON ((21 3, 18 28, 2 42, 7 40, 33 25, 38 2...</td>\n",
       "    </tr>\n",
       "    <tr>\n",
       "      <th>26</th>\n",
       "      <td>POLYGON ((31 16, 14 27, 12 35, 24 30, 49 29, 4...</td>\n",
       "    </tr>\n",
       "    <tr>\n",
       "      <th>27</th>\n",
       "      <td>POLYGON ((11 12, 23 41, 27 39, 37 49, 47 29, 4...</td>\n",
       "    </tr>\n",
       "    <tr>\n",
       "      <th>28</th>\n",
       "      <td>POLYGON ((32 24, 19 35, 33 35, 37 45, 44 32, 4...</td>\n",
       "    </tr>\n",
       "    <tr>\n",
       "      <th>29</th>\n",
       "      <td>POLYGON ((10 8, 13 23, 16 34, 47 44, 35 11, 10...</td>\n",
       "    </tr>\n",
       "    <tr>\n",
       "      <th>30</th>\n",
       "      <td>POLYGON ((3 2, 8 30, 8 40, 38 15, 18 3, 3 2))</td>\n",
       "    </tr>\n",
       "  </tbody>\n",
       "</table>\n",
       "</div>"
      ],
      "text/plain": [
       "                                             poly_wkt\n",
       "21  POLYGON ((6 2, 2 6, 2 12, 8 22, 19 36, 24 46, ...\n",
       "22  POLYGON ((18 13, 20 21, 15 22, 20 44, 45 35, 4...\n",
       "23  POLYGON ((8 1, 21 19, 13 39, 24 25, 22 44, 41 ...\n",
       "24  POLYGON ((22 17, 5 27, 34 34, 41 34, 44 19, 42...\n",
       "25  POLYGON ((21 3, 18 28, 2 42, 7 40, 33 25, 38 2...\n",
       "26  POLYGON ((31 16, 14 27, 12 35, 24 30, 49 29, 4...\n",
       "27  POLYGON ((11 12, 23 41, 27 39, 37 49, 47 29, 4...\n",
       "28  POLYGON ((32 24, 19 35, 33 35, 37 45, 44 32, 4...\n",
       "29  POLYGON ((10 8, 13 23, 16 34, 47 44, 35 11, 10...\n",
       "30      POLYGON ((3 2, 8 30, 8 40, 38 15, 18 3, 3 2))"
      ]
     },
     "execution_count": 498,
     "metadata": {},
     "output_type": "execute_result"
    }
   ],
   "source": [
    "test_df = update_poly_pickle(rand_poly,return_df=True)\n",
    "test_df.tail(10)"
   ]
  },
  {
   "cell_type": "code",
   "execution_count": 499,
   "metadata": {},
   "outputs": [
    {
     "data": {
      "image/svg+xml": [
       "<svg xmlns=\"http://www.w3.org/2000/svg\" xmlns:xlink=\"http://www.w3.org/1999/xlink\" width=\"100.0\" height=\"100.0\" viewBox=\"1.48 0.48 38.040000000000006 41.040000000000006\" preserveAspectRatio=\"xMinYMin meet\"><g transform=\"matrix(1,0,0,-1,0,42.0)\"><path fill-rule=\"evenodd\" fill=\"#66cc99\" stroke=\"#555555\" stroke-width=\"0.8208000000000001\" opacity=\"0.6\" d=\"M 3.0,2.0 L 8.0,30.0 L 8.0,40.0 L 38.0,15.0 L 18.0,3.0 L 3.0,2.0 z\" /></g></svg>"
      ],
      "text/plain": [
       "<shapely.geometry.polygon.Polygon at 0x1f5b028a148>"
      ]
     },
     "execution_count": 499,
     "metadata": {},
     "output_type": "execute_result"
    }
   ],
   "source": [
    "simplify_by_interior_angle(rand_poly)"
   ]
  },
  {
   "cell_type": "code",
   "execution_count": 500,
   "metadata": {},
   "outputs": [
    {
     "data": {
      "image/svg+xml": [
       "<svg xmlns=\"http://www.w3.org/2000/svg\" xmlns:xlink=\"http://www.w3.org/1999/xlink\" width=\"100.0\" height=\"100.0\" viewBox=\"1.48 0.48 38.040000000000006 41.040000000000006\" preserveAspectRatio=\"xMinYMin meet\"><g transform=\"matrix(1,0,0,-1,0,42.0)\"><g><circle cx=\"3.0\" cy=\"2.0\" r=\"1.2312\" stroke=\"#555555\" stroke-width=\"0.41040000000000004\" fill=\"#66cc99\" opacity=\"0.6\" /><circle cx=\"8.0\" cy=\"30.0\" r=\"1.2312\" stroke=\"#555555\" stroke-width=\"0.41040000000000004\" fill=\"#66cc99\" opacity=\"0.6\" /><circle cx=\"8.0\" cy=\"40.0\" r=\"1.2312\" stroke=\"#555555\" stroke-width=\"0.41040000000000004\" fill=\"#66cc99\" opacity=\"0.6\" /><circle cx=\"38.0\" cy=\"15.0\" r=\"1.2312\" stroke=\"#555555\" stroke-width=\"0.41040000000000004\" fill=\"#66cc99\" opacity=\"0.6\" /><circle cx=\"18.0\" cy=\"3.0\" r=\"1.2312\" stroke=\"#555555\" stroke-width=\"0.41040000000000004\" fill=\"#66cc99\" opacity=\"0.6\" /><circle cx=\"3.0\" cy=\"2.0\" r=\"1.2312\" stroke=\"#555555\" stroke-width=\"0.41040000000000004\" fill=\"#66cc99\" opacity=\"0.6\" /></g></g></svg>"
      ],
      "text/plain": [
       "<shapely.geometry.multipoint.MultiPoint at 0x1f5b02b1988>"
      ]
     },
     "execution_count": 500,
     "metadata": {},
     "output_type": "execute_result"
    }
   ],
   "source": [
    "poly_as_mpt(rand_poly)"
   ]
  },
  {
   "cell_type": "code",
   "execution_count": 501,
   "metadata": {},
   "outputs": [],
   "source": [
    "# pt bufferer\n"
   ]
  },
  {
   "cell_type": "code",
   "execution_count": 502,
   "metadata": {},
   "outputs": [
    {
     "data": {
      "text/plain": [
       "6"
      ]
     },
     "execution_count": 502,
     "metadata": {},
     "output_type": "execute_result"
    }
   ],
   "source": [
    "len(poly_as_mpt(simplify_by_interior_angle(rand_poly)))"
   ]
  },
  {
   "cell_type": "code",
   "execution_count": 503,
   "metadata": {},
   "outputs": [
    {
     "data": {
      "image/svg+xml": [
       "<svg xmlns=\"http://www.w3.org/2000/svg\" xmlns:xlink=\"http://www.w3.org/1999/xlink\" width=\"100.0\" height=\"100.0\" viewBox=\"0.3999999999999999 -0.6000000000000001 40.2 43.2\" preserveAspectRatio=\"xMinYMin meet\"><g transform=\"matrix(1,0,0,-1,0,42.0)\"><g><polyline fill=\"none\" stroke=\"#66cc99\" stroke-width=\"0.8640000000000001\" points=\"3.1756550414185285,2.9836682319437604 7.824344958581471,29.01633176805624\" opacity=\"0.8\" /><polyline fill=\"none\" stroke=\"#66cc99\" stroke-width=\"0.8640000000000001\" points=\"8.0,31.0 8.0,39.0\" opacity=\"0.8\" /><polyline fill=\"none\" stroke=\"#66cc99\" stroke-width=\"0.8640000000000001\" points=\"8.767959449611677,39.36003379199027 37.23204055038832,15.639966208009731\" opacity=\"0.8\" /><polyline fill=\"none\" stroke=\"#66cc99\" stroke-width=\"0.8640000000000001\" points=\"37.14353987213981,14.486123923283888 18.856460127860185,3.513876076716112\" opacity=\"0.8\" /><polyline fill=\"none\" stroke=\"#66cc99\" stroke-width=\"0.8640000000000001\" points=\"17.003264431900927,2.9335509621267284 3.996735568099074,2.0664490378732716\" opacity=\"0.8\" /><path fill-rule=\"evenodd\" fill=\"#66cc99\" stroke=\"#555555\" stroke-width=\"0.8640000000000001\" opacity=\"0.6\" d=\"M 4.0,2.0 L 3.995184726672197,1.9019828596704396 L 3.9807852804032304,1.804909677983872 L 3.956940335732209,1.709715322745538 L 3.923879532511287,1.6173165676349106 L 3.8819212643483554,1.5286032631740027 L 3.831469612302546,1.4444297669803983 L 3.7730104533627373,1.3656067158363552 L 3.707106781186548,1.292893218813453 L 3.634393284163646,1.2269895466372636 L 3.555570233019603,1.1685303876974553 L 3.471396736825999,1.1180787356516455 L 3.382683432365091,1.0761204674887137 L 3.290284677254464,1.0430596642677914 L 3.1950903220161297,1.0192147195967698 L 3.098017140329562,1.0048152733278033 L 3.0000000000000018,1.0 L 2.901982859670441,1.0048152733278028 L 2.8049096779838734,1.0192147195967691 L 2.7097153227455397,1.0430596642677905 L 2.617316567634912,1.0761204674887126 L 2.5286032631740043,1.118078735651644 L 2.4444297669803996,1.1685303876974538 L 2.365606715836356,1.2269895466372618 L 2.292893218813454,1.2928932188134512 L 2.226989546637264,1.3656067158363532 L 2.1685303876974555,1.4444297669803965 L 2.118078735651646,1.528603263174001 L 2.076120467488714,1.6173165676349088 L 2.0430596642677914,1.7097153227455364 L 2.0192147195967696,1.8049096779838705 L 2.0048152733278033,1.9019828596704382 L 2.0,1.999999999999999 L 2.004815273327803,2.0980171403295595 L 2.0192147195967696,2.1950903220161275 L 2.043059664267791,2.2902846772544616 L 2.076120467488713,2.382683432365089 L 2.1180787356516446,2.471396736825997 L 2.1685303876974547,2.555570233019602 L 2.226989546637263,2.6343932841636453 L 2.292893218813452,2.7071067811865475 L 2.3656067158363543,2.773010453362737 L 2.444429766980397,2.831469612302545 L 2.528603263174001,2.8819212643483545 L 2.6173165676349086,2.923879532511286 L 2.7097153227455357,2.9569403357322086 L 2.8049096779838694,2.98078528040323 L 2.901982859670437,2.9951847266721967 L 2.9999999999999973,3.0 L 3.0980171403295573,2.995184726672197 L 3.1756550414185285,2.9836682319437604 L 3.195090322016125,2.9807852804032313 L 3.2902846772544585,2.95694033573221 L 3.382683432365086,2.9238795325112883 L 3.4713967368259935,2.881921264348357 L 3.555570233019598,2.831469612302548 L 3.6343932841636413,2.7730104533627404 L 3.7071067811865435,2.7071067811865515 L 3.7730104533627333,2.63439328416365 L 3.831469612302542,2.5555702330196075 L 3.881921264348352,2.4713967368260032 L 3.9238795325112843,2.3826834323650963 L 3.956940335732207,2.290284677254469 L 3.980785280403229,2.1950903220161355 L 3.9951847266721963,2.0980171403295684 L 3.996735568099074,2.0664490378732716 L 4.0,2.0000000000000084 L 4.0,2.0 z\" /><path fill-rule=\"evenodd\" fill=\"#66cc99\" stroke=\"#555555\" stroke-width=\"0.8640000000000001\" opacity=\"0.6\" d=\"M 9.0,30.0 L 8.995184726672196,29.90198285967044 L 8.98078528040323,29.804909677983872 L 8.95694033573221,29.709715322745538 L 8.923879532511286,29.617316567634912 L 8.881921264348355,29.528603263174002 L 8.831469612302545,29.4444297669804 L 8.773010453362737,29.365606715836353 L 8.707106781186548,29.292893218813454 L 8.634393284163647,29.226989546637263 L 8.555570233019603,29.168530387697455 L 8.471396736825998,29.118078735651647 L 8.382683432365091,29.076120467488714 L 8.290284677254464,29.04305966426779 L 8.19509032201613,29.01921471959677 L 8.098017140329562,29.004815273327804 L 8.000000000000002,29.0 L 7.901982859670441,29.004815273327804 L 7.824344958581471,29.01633176805624 L 7.804909677983874,29.019214719596768 L 7.70971532274554,29.04305966426779 L 7.617316567634912,29.076120467488714 L 7.528603263174004,29.118078735651643 L 7.4444297669804,29.168530387697455 L 7.365606715836356,29.226989546637263 L 7.292893218813454,29.29289321881345 L 7.226989546637264,29.365606715836353 L 7.168530387697456,29.444429766980395 L 7.118078735651646,29.528603263174002 L 7.076120467488714,29.61731656763491 L 7.043059664267791,29.709715322745538 L 7.01921471959677,29.804909677983872 L 7.004815273327803,29.90198285967044 L 7.0,30.0 L 7.004815273327803,30.09801714032956 L 7.01921471959677,30.195090322016128 L 7.0430596642677905,30.290284677254462 L 7.076120467488713,30.382683432365088 L 7.118078735651645,30.471396736825998 L 7.168530387697454,30.5555702330196 L 7.226989546637263,30.634393284163647 L 7.292893218813452,30.707106781186546 L 7.365606715836354,30.773010453362737 L 7.444429766980397,30.831469612302545 L 7.528603263174001,30.881921264348353 L 7.617316567634909,30.923879532511286 L 7.709715322745536,30.95694033573221 L 7.804909677983869,30.98078528040323 L 7.9019828596704365,30.995184726672196 L 7.999999999999997,31.0 L 8.0,31.0 L 8.098017140329558,30.995184726672196 L 8.195090322016124,30.980785280403232 L 8.290284677254459,30.95694033573221 L 8.382683432365086,30.92387953251129 L 8.471396736825994,30.881921264348357 L 8.555570233019598,30.83146961230255 L 8.634393284163641,30.77301045336274 L 8.707106781186544,30.707106781186553 L 8.773010453362733,30.63439328416365 L 8.831469612302541,30.55557023301961 L 8.881921264348351,30.471396736826005 L 8.923879532511284,30.382683432365095 L 8.956940335732206,30.29028467725447 L 8.980785280403229,30.195090322016135 L 8.995184726672196,30.098017140329567 L 9.0,30.000000000000007 L 9.0,30.0 z\" /><path fill-rule=\"evenodd\" fill=\"#66cc99\" stroke=\"#555555\" stroke-width=\"0.8640000000000001\" opacity=\"0.6\" d=\"M 9.0,40.0 L 8.995184726672196,39.90198285967044 L 8.98078528040323,39.80490967798387 L 8.95694033573221,39.70971532274554 L 8.923879532511286,39.61731656763491 L 8.881921264348355,39.528603263174006 L 8.831469612302545,39.4444297669804 L 8.773010453362737,39.36560671583636 L 8.767959449611677,39.36003379199027 L 8.707106781186548,39.292893218813454 L 8.634393284163647,39.22698954663726 L 8.555570233019603,39.16853038769746 L 8.471396736825998,39.11807873565164 L 8.382683432365091,39.076120467488714 L 8.290284677254464,39.043059664267794 L 8.19509032201613,39.01921471959677 L 8.098017140329562,39.0048152733278 L 8.000000000000002,39.0 L 8.0,39.0 L 7.901982859670441,39.0048152733278 L 7.804909677983874,39.01921471959677 L 7.70971532274554,39.04305966426779 L 7.617316567634912,39.076120467488714 L 7.528603263174004,39.11807873565164 L 7.4444297669804,39.16853038769745 L 7.365606715836356,39.22698954663726 L 7.292893218813454,39.292893218813454 L 7.226989546637264,39.36560671583635 L 7.168530387697456,39.4444297669804 L 7.118078735651646,39.528603263174 L 7.076120467488714,39.61731656763491 L 7.043059664267791,39.70971532274554 L 7.01921471959677,39.80490967798387 L 7.004815273327803,39.90198285967044 L 7.0,40.0 L 7.004815273327803,40.09801714032956 L 7.01921471959677,40.19509032201613 L 7.0430596642677905,40.29028467725446 L 7.076120467488713,40.38268343236509 L 7.118078735651645,40.471396736825994 L 7.168530387697454,40.5555702330196 L 7.226989546637263,40.63439328416364 L 7.292893218813452,40.707106781186546 L 7.365606715836354,40.77301045336274 L 7.444429766980397,40.83146961230254 L 7.528603263174001,40.88192126434836 L 7.617316567634909,40.923879532511286 L 7.709715322745536,40.956940335732206 L 7.804909677983869,40.98078528040323 L 7.9019828596704365,40.9951847266722 L 7.999999999999997,41.0 L 8.098017140329558,40.9951847266722 L 8.195090322016124,40.98078528040323 L 8.290284677254459,40.95694033573221 L 8.382683432365086,40.923879532511286 L 8.471396736825994,40.88192126434836 L 8.555570233019598,40.83146961230255 L 8.634393284163641,40.77301045336274 L 8.707106781186544,40.70710678118655 L 8.773010453362733,40.63439328416365 L 8.831469612302541,40.55557023301961 L 8.881921264348351,40.471396736826 L 8.923879532511284,40.3826834323651 L 8.956940335732206,40.29028467725447 L 8.980785280403229,40.195090322016135 L 8.995184726672196,40.09801714032957 L 9.0,40.00000000000001 L 9.0,40.0 z\" /><path fill-rule=\"evenodd\" fill=\"#66cc99\" stroke=\"#555555\" stroke-width=\"0.8640000000000001\" opacity=\"0.6\" d=\"M 39.0,15.0 L 38.9951847266722,14.90198285967044 L 38.98078528040323,14.804909677983872 L 38.956940335732206,14.709715322745538 L 38.923879532511286,14.61731656763491 L 38.88192126434836,14.528603263174002 L 38.83146961230255,14.444429766980399 L 38.77301045336274,14.365606715836355 L 38.707106781186546,14.292893218813454 L 38.63439328416364,14.226989546637263 L 38.5555702330196,14.168530387697455 L 38.471396736826,14.118078735651645 L 38.38268343236509,14.076120467488714 L 38.29028467725446,14.043059664267792 L 38.19509032201613,14.01921471959677 L 38.09801714032956,14.004815273327804 L 38.0,14.0 L 37.90198285967044,14.004815273327804 L 37.80490967798387,14.01921471959677 L 37.70971532274554,14.04305966426779 L 37.617316567634916,14.076120467488712 L 37.528603263174006,14.118078735651643 L 37.4444297669804,14.168530387697453 L 37.36560671583636,14.226989546637261 L 37.292893218813454,14.29289321881345 L 37.22698954663726,14.365606715836353 L 37.16853038769746,14.444429766980397 L 37.14353987213981,14.486123923283888 L 37.11807873565164,14.528603263174 L 37.076120467488714,14.617316567634909 L 37.043059664267794,14.709715322745536 L 37.01921471959677,14.80490967798387 L 37.0048152733278,14.901982859670438 L 37.0,14.999999999999998 L 37.0048152733278,15.09801714032956 L 37.01921471959677,15.195090322016128 L 37.043059664267794,15.290284677254462 L 37.076120467488714,15.38268343236509 L 37.11807873565164,15.471396736825998 L 37.16853038769745,15.555570233019601 L 37.22698954663726,15.634393284163645 L 37.23204055038832,15.639966208009731 L 37.292893218813454,15.707106781186548 L 37.36560671583636,15.773010453362737 L 37.4444297669804,15.831469612302545 L 37.528603263174,15.881921264348355 L 37.61731656763491,15.923879532511286 L 37.70971532274554,15.956940335732208 L 37.80490967798387,15.98078528040323 L 37.90198285967044,15.995184726672196 L 38.0,16.0 L 38.09801714032956,15.995184726672196 L 38.19509032201613,15.98078528040323 L 38.29028467725446,15.95694033573221 L 38.382683432365084,15.923879532511288 L 38.471396736825994,15.881921264348357 L 38.5555702330196,15.831469612302548 L 38.63439328416364,15.77301045336274 L 38.707106781186546,15.707106781186551 L 38.77301045336273,15.63439328416365 L 38.83146961230254,15.555570233019607 L 38.88192126434835,15.471396736826003 L 38.923879532511286,15.382683432365097 L 38.956940335732206,15.29028467725447 L 38.98078528040323,15.195090322016135 L 38.99518472667219,15.098017140329569 L 39.0,15.000000000000009 L 39.0,15.0 z\" /><path fill-rule=\"evenodd\" fill=\"#66cc99\" stroke=\"#555555\" stroke-width=\"0.8640000000000001\" opacity=\"0.6\" d=\"M 19.0,3.0 L 18.995184726672196,2.9019828596704396 L 18.980785280403232,2.804909677983872 L 18.95694033573221,2.709715322745538 L 18.923879532511286,2.6173165676349104 L 18.881921264348357,2.528603263174003 L 18.831469612302545,2.4444297669803983 L 18.773010453362737,2.365606715836355 L 18.70710678118655,2.292893218813453 L 18.634393284163647,2.2269895466372636 L 18.5555702330196,2.168530387697455 L 18.471396736825998,2.1180787356516455 L 18.38268343236509,2.076120467488714 L 18.290284677254462,2.0430596642677914 L 18.195090322016128,2.0192147195967696 L 18.098017140329564,2.0048152733278033 L 18.0,2.0 L 17.90198285967044,2.004815273327803 L 17.804909677983872,2.019214719596769 L 17.709715322745538,2.0430596642677905 L 17.617316567634912,2.0761204674887126 L 17.528603263174006,2.118078735651644 L 17.4444297669804,2.1685303876974538 L 17.365606715836357,2.226989546637262 L 17.292893218813454,2.292893218813451 L 17.226989546637263,2.3656067158363534 L 17.168530387697455,2.4444297669803965 L 17.118078735651647,2.528603263174001 L 17.076120467488714,2.617316567634909 L 17.04305966426779,2.709715322745536 L 17.01921471959677,2.8049096779838707 L 17.004815273327804,2.9019828596704382 L 17.003264431900927,2.9335509621267284 L 17.0,2.999999999999999 L 17.004815273327804,3.0980171403295595 L 17.019214719596768,3.1950903220161275 L 17.04305966426779,3.2902846772544616 L 17.076120467488714,3.382683432365089 L 17.118078735651643,3.471396736825997 L 17.168530387697455,3.555570233019602 L 17.226989546637263,3.6343932841636453 L 17.292893218813454,3.7071067811865475 L 17.365606715836353,3.773010453362737 L 17.4444297669804,3.831469612302545 L 17.528603263174002,3.8819212643483545 L 17.61731656763491,3.923879532511286 L 17.709715322745534,3.9569403357322086 L 17.80490967798387,3.98078528040323 L 17.901982859670436,3.9951847266721967 L 17.999999999999996,4.0 L 18.098017140329556,3.995184726672197 L 18.195090322016124,3.9807852804032313 L 18.29028467725446,3.95694033573221 L 18.382683432365084,3.9238795325112883 L 18.471396736825994,3.881921264348357 L 18.555570233019598,3.831469612302548 L 18.634393284163643,3.7730104533627404 L 18.707106781186543,3.7071067811865515 L 18.773010453362733,3.63439328416365 L 18.83146961230254,3.5555702330196075 L 18.856460127860185,3.513876076716112 L 18.881921264348353,3.4713967368260032 L 18.923879532511283,3.3826834323650963 L 18.956940335732206,3.290284677254469 L 18.98078528040323,3.1950903220161355 L 18.995184726672196,3.0980171403295684 L 19.0,3.0000000000000084 L 19.0,3.0 z\" /></g></g></svg>"
      ],
      "text/plain": [
       "<shapely.geometry.collection.GeometryCollection at 0x1f5b0282d08>"
      ]
     },
     "execution_count": 503,
     "metadata": {},
     "output_type": "execute_result"
    }
   ],
   "source": [
    "buffpt = [sg.Point(x).buffer(1) for x in vals]\n",
    "sg.MultiPolygon(buffpt).union(rand_poly.exterior)\n"
   ]
  },
  {
   "cell_type": "code",
   "execution_count": 504,
   "metadata": {},
   "outputs": [],
   "source": [
    "def buffer_poly_vtx(poly,buffer=1):\n",
    "    pts = poly.exterior.coords[:]\n",
    "    buffpts = [sg.Point(x).buffer(1) for x in pts]\n",
    "    buffpts = sg.MultiPolygon(buffpts)\n",
    "    poly_ext = poly.exterior\n",
    "#     return geom collection\n",
    "    try:\n",
    "        return poly_ext.union(buffpts)    \n",
    "    except Exception as e:\n",
    "        print(e)"
   ]
  },
  {
   "cell_type": "code",
   "execution_count": 505,
   "metadata": {},
   "outputs": [
    {
     "data": {
      "image/svg+xml": [
       "<svg xmlns=\"http://www.w3.org/2000/svg\" xmlns:xlink=\"http://www.w3.org/1999/xlink\" width=\"100.0\" height=\"100.0\" viewBox=\"0.3999999999999999 -0.6000000000000001 40.2 43.2\" preserveAspectRatio=\"xMinYMin meet\"><g transform=\"matrix(1,0,0,-1,0,42.0)\"><g><polyline fill=\"none\" stroke=\"#66cc99\" stroke-width=\"0.8640000000000001\" points=\"3.1756550414185285,2.9836682319437604 7.824344958581471,29.01633176805624\" opacity=\"0.8\" /><polyline fill=\"none\" stroke=\"#66cc99\" stroke-width=\"0.8640000000000001\" points=\"8.0,31.0 8.0,39.0\" opacity=\"0.8\" /><polyline fill=\"none\" stroke=\"#66cc99\" stroke-width=\"0.8640000000000001\" points=\"8.767959449611677,39.36003379199027 37.23204055038832,15.639966208009731\" opacity=\"0.8\" /><polyline fill=\"none\" stroke=\"#66cc99\" stroke-width=\"0.8640000000000001\" points=\"37.14353987213981,14.486123923283888 18.856460127860185,3.513876076716112\" opacity=\"0.8\" /><polyline fill=\"none\" stroke=\"#66cc99\" stroke-width=\"0.8640000000000001\" points=\"17.003264431900927,2.9335509621267284 3.996735568099074,2.0664490378732716\" opacity=\"0.8\" /><path fill-rule=\"evenodd\" fill=\"#66cc99\" stroke=\"#555555\" stroke-width=\"0.8640000000000001\" opacity=\"0.6\" d=\"M 4.0,2.0 L 3.995184726672197,1.9019828596704396 L 3.9807852804032304,1.804909677983872 L 3.956940335732209,1.709715322745538 L 3.923879532511287,1.6173165676349106 L 3.8819212643483554,1.5286032631740027 L 3.831469612302546,1.4444297669803983 L 3.7730104533627373,1.3656067158363552 L 3.707106781186548,1.292893218813453 L 3.634393284163646,1.2269895466372636 L 3.555570233019603,1.1685303876974553 L 3.471396736825999,1.1180787356516455 L 3.382683432365091,1.0761204674887137 L 3.290284677254464,1.0430596642677914 L 3.1950903220161297,1.0192147195967698 L 3.098017140329562,1.0048152733278033 L 3.0000000000000018,1.0 L 2.901982859670441,1.0048152733278028 L 2.8049096779838734,1.0192147195967691 L 2.7097153227455397,1.0430596642677905 L 2.617316567634912,1.0761204674887126 L 2.5286032631740043,1.118078735651644 L 2.4444297669803996,1.1685303876974538 L 2.365606715836356,1.2269895466372618 L 2.292893218813454,1.2928932188134512 L 2.226989546637264,1.3656067158363532 L 2.1685303876974555,1.4444297669803965 L 2.118078735651646,1.528603263174001 L 2.076120467488714,1.6173165676349088 L 2.0430596642677914,1.7097153227455364 L 2.0192147195967696,1.8049096779838705 L 2.0048152733278033,1.9019828596704382 L 2.0,1.999999999999999 L 2.004815273327803,2.0980171403295595 L 2.0192147195967696,2.1950903220161275 L 2.043059664267791,2.2902846772544616 L 2.076120467488713,2.382683432365089 L 2.1180787356516446,2.471396736825997 L 2.1685303876974547,2.555570233019602 L 2.226989546637263,2.6343932841636453 L 2.292893218813452,2.7071067811865475 L 2.3656067158363543,2.773010453362737 L 2.444429766980397,2.831469612302545 L 2.528603263174001,2.8819212643483545 L 2.6173165676349086,2.923879532511286 L 2.7097153227455357,2.9569403357322086 L 2.8049096779838694,2.98078528040323 L 2.901982859670437,2.9951847266721967 L 2.9999999999999973,3.0 L 3.0980171403295573,2.995184726672197 L 3.1756550414185285,2.9836682319437604 L 3.195090322016125,2.9807852804032313 L 3.2902846772544585,2.95694033573221 L 3.382683432365086,2.9238795325112883 L 3.4713967368259935,2.881921264348357 L 3.555570233019598,2.831469612302548 L 3.6343932841636413,2.7730104533627404 L 3.7071067811865435,2.7071067811865515 L 3.7730104533627333,2.63439328416365 L 3.831469612302542,2.5555702330196075 L 3.881921264348352,2.4713967368260032 L 3.9238795325112843,2.3826834323650963 L 3.956940335732207,2.290284677254469 L 3.980785280403229,2.1950903220161355 L 3.9951847266721963,2.0980171403295684 L 3.996735568099074,2.0664490378732716 L 4.0,2.0000000000000084 L 4.0,2.0 z\" /><path fill-rule=\"evenodd\" fill=\"#66cc99\" stroke=\"#555555\" stroke-width=\"0.8640000000000001\" opacity=\"0.6\" d=\"M 9.0,30.0 L 8.995184726672196,29.90198285967044 L 8.98078528040323,29.804909677983872 L 8.95694033573221,29.709715322745538 L 8.923879532511286,29.617316567634912 L 8.881921264348355,29.528603263174002 L 8.831469612302545,29.4444297669804 L 8.773010453362737,29.365606715836353 L 8.707106781186548,29.292893218813454 L 8.634393284163647,29.226989546637263 L 8.555570233019603,29.168530387697455 L 8.471396736825998,29.118078735651647 L 8.382683432365091,29.076120467488714 L 8.290284677254464,29.04305966426779 L 8.19509032201613,29.01921471959677 L 8.098017140329562,29.004815273327804 L 8.000000000000002,29.0 L 7.901982859670441,29.004815273327804 L 7.824344958581471,29.01633176805624 L 7.804909677983874,29.019214719596768 L 7.70971532274554,29.04305966426779 L 7.617316567634912,29.076120467488714 L 7.528603263174004,29.118078735651643 L 7.4444297669804,29.168530387697455 L 7.365606715836356,29.226989546637263 L 7.292893218813454,29.29289321881345 L 7.226989546637264,29.365606715836353 L 7.168530387697456,29.444429766980395 L 7.118078735651646,29.528603263174002 L 7.076120467488714,29.61731656763491 L 7.043059664267791,29.709715322745538 L 7.01921471959677,29.804909677983872 L 7.004815273327803,29.90198285967044 L 7.0,30.0 L 7.004815273327803,30.09801714032956 L 7.01921471959677,30.195090322016128 L 7.0430596642677905,30.290284677254462 L 7.076120467488713,30.382683432365088 L 7.118078735651645,30.471396736825998 L 7.168530387697454,30.5555702330196 L 7.226989546637263,30.634393284163647 L 7.292893218813452,30.707106781186546 L 7.365606715836354,30.773010453362737 L 7.444429766980397,30.831469612302545 L 7.528603263174001,30.881921264348353 L 7.617316567634909,30.923879532511286 L 7.709715322745536,30.95694033573221 L 7.804909677983869,30.98078528040323 L 7.9019828596704365,30.995184726672196 L 7.999999999999997,31.0 L 8.0,31.0 L 8.098017140329558,30.995184726672196 L 8.195090322016124,30.980785280403232 L 8.290284677254459,30.95694033573221 L 8.382683432365086,30.92387953251129 L 8.471396736825994,30.881921264348357 L 8.555570233019598,30.83146961230255 L 8.634393284163641,30.77301045336274 L 8.707106781186544,30.707106781186553 L 8.773010453362733,30.63439328416365 L 8.831469612302541,30.55557023301961 L 8.881921264348351,30.471396736826005 L 8.923879532511284,30.382683432365095 L 8.956940335732206,30.29028467725447 L 8.980785280403229,30.195090322016135 L 8.995184726672196,30.098017140329567 L 9.0,30.000000000000007 L 9.0,30.0 z\" /><path fill-rule=\"evenodd\" fill=\"#66cc99\" stroke=\"#555555\" stroke-width=\"0.8640000000000001\" opacity=\"0.6\" d=\"M 9.0,40.0 L 8.995184726672196,39.90198285967044 L 8.98078528040323,39.80490967798387 L 8.95694033573221,39.70971532274554 L 8.923879532511286,39.61731656763491 L 8.881921264348355,39.528603263174006 L 8.831469612302545,39.4444297669804 L 8.773010453362737,39.36560671583636 L 8.767959449611677,39.36003379199027 L 8.707106781186548,39.292893218813454 L 8.634393284163647,39.22698954663726 L 8.555570233019603,39.16853038769746 L 8.471396736825998,39.11807873565164 L 8.382683432365091,39.076120467488714 L 8.290284677254464,39.043059664267794 L 8.19509032201613,39.01921471959677 L 8.098017140329562,39.0048152733278 L 8.000000000000002,39.0 L 8.0,39.0 L 7.901982859670441,39.0048152733278 L 7.804909677983874,39.01921471959677 L 7.70971532274554,39.04305966426779 L 7.617316567634912,39.076120467488714 L 7.528603263174004,39.11807873565164 L 7.4444297669804,39.16853038769745 L 7.365606715836356,39.22698954663726 L 7.292893218813454,39.292893218813454 L 7.226989546637264,39.36560671583635 L 7.168530387697456,39.4444297669804 L 7.118078735651646,39.528603263174 L 7.076120467488714,39.61731656763491 L 7.043059664267791,39.70971532274554 L 7.01921471959677,39.80490967798387 L 7.004815273327803,39.90198285967044 L 7.0,40.0 L 7.004815273327803,40.09801714032956 L 7.01921471959677,40.19509032201613 L 7.0430596642677905,40.29028467725446 L 7.076120467488713,40.38268343236509 L 7.118078735651645,40.471396736825994 L 7.168530387697454,40.5555702330196 L 7.226989546637263,40.63439328416364 L 7.292893218813452,40.707106781186546 L 7.365606715836354,40.77301045336274 L 7.444429766980397,40.83146961230254 L 7.528603263174001,40.88192126434836 L 7.617316567634909,40.923879532511286 L 7.709715322745536,40.956940335732206 L 7.804909677983869,40.98078528040323 L 7.9019828596704365,40.9951847266722 L 7.999999999999997,41.0 L 8.098017140329558,40.9951847266722 L 8.195090322016124,40.98078528040323 L 8.290284677254459,40.95694033573221 L 8.382683432365086,40.923879532511286 L 8.471396736825994,40.88192126434836 L 8.555570233019598,40.83146961230255 L 8.634393284163641,40.77301045336274 L 8.707106781186544,40.70710678118655 L 8.773010453362733,40.63439328416365 L 8.831469612302541,40.55557023301961 L 8.881921264348351,40.471396736826 L 8.923879532511284,40.3826834323651 L 8.956940335732206,40.29028467725447 L 8.980785280403229,40.195090322016135 L 8.995184726672196,40.09801714032957 L 9.0,40.00000000000001 L 9.0,40.0 z\" /><path fill-rule=\"evenodd\" fill=\"#66cc99\" stroke=\"#555555\" stroke-width=\"0.8640000000000001\" opacity=\"0.6\" d=\"M 39.0,15.0 L 38.9951847266722,14.90198285967044 L 38.98078528040323,14.804909677983872 L 38.956940335732206,14.709715322745538 L 38.923879532511286,14.61731656763491 L 38.88192126434836,14.528603263174002 L 38.83146961230255,14.444429766980399 L 38.77301045336274,14.365606715836355 L 38.707106781186546,14.292893218813454 L 38.63439328416364,14.226989546637263 L 38.5555702330196,14.168530387697455 L 38.471396736826,14.118078735651645 L 38.38268343236509,14.076120467488714 L 38.29028467725446,14.043059664267792 L 38.19509032201613,14.01921471959677 L 38.09801714032956,14.004815273327804 L 38.0,14.0 L 37.90198285967044,14.004815273327804 L 37.80490967798387,14.01921471959677 L 37.70971532274554,14.04305966426779 L 37.617316567634916,14.076120467488712 L 37.528603263174006,14.118078735651643 L 37.4444297669804,14.168530387697453 L 37.36560671583636,14.226989546637261 L 37.292893218813454,14.29289321881345 L 37.22698954663726,14.365606715836353 L 37.16853038769746,14.444429766980397 L 37.14353987213981,14.486123923283888 L 37.11807873565164,14.528603263174 L 37.076120467488714,14.617316567634909 L 37.043059664267794,14.709715322745536 L 37.01921471959677,14.80490967798387 L 37.0048152733278,14.901982859670438 L 37.0,14.999999999999998 L 37.0048152733278,15.09801714032956 L 37.01921471959677,15.195090322016128 L 37.043059664267794,15.290284677254462 L 37.076120467488714,15.38268343236509 L 37.11807873565164,15.471396736825998 L 37.16853038769745,15.555570233019601 L 37.22698954663726,15.634393284163645 L 37.23204055038832,15.639966208009731 L 37.292893218813454,15.707106781186548 L 37.36560671583636,15.773010453362737 L 37.4444297669804,15.831469612302545 L 37.528603263174,15.881921264348355 L 37.61731656763491,15.923879532511286 L 37.70971532274554,15.956940335732208 L 37.80490967798387,15.98078528040323 L 37.90198285967044,15.995184726672196 L 38.0,16.0 L 38.09801714032956,15.995184726672196 L 38.19509032201613,15.98078528040323 L 38.29028467725446,15.95694033573221 L 38.382683432365084,15.923879532511288 L 38.471396736825994,15.881921264348357 L 38.5555702330196,15.831469612302548 L 38.63439328416364,15.77301045336274 L 38.707106781186546,15.707106781186551 L 38.77301045336273,15.63439328416365 L 38.83146961230254,15.555570233019607 L 38.88192126434835,15.471396736826003 L 38.923879532511286,15.382683432365097 L 38.956940335732206,15.29028467725447 L 38.98078528040323,15.195090322016135 L 38.99518472667219,15.098017140329569 L 39.0,15.000000000000009 L 39.0,15.0 z\" /><path fill-rule=\"evenodd\" fill=\"#66cc99\" stroke=\"#555555\" stroke-width=\"0.8640000000000001\" opacity=\"0.6\" d=\"M 19.0,3.0 L 18.995184726672196,2.9019828596704396 L 18.980785280403232,2.804909677983872 L 18.95694033573221,2.709715322745538 L 18.923879532511286,2.6173165676349104 L 18.881921264348357,2.528603263174003 L 18.831469612302545,2.4444297669803983 L 18.773010453362737,2.365606715836355 L 18.70710678118655,2.292893218813453 L 18.634393284163647,2.2269895466372636 L 18.5555702330196,2.168530387697455 L 18.471396736825998,2.1180787356516455 L 18.38268343236509,2.076120467488714 L 18.290284677254462,2.0430596642677914 L 18.195090322016128,2.0192147195967696 L 18.098017140329564,2.0048152733278033 L 18.0,2.0 L 17.90198285967044,2.004815273327803 L 17.804909677983872,2.019214719596769 L 17.709715322745538,2.0430596642677905 L 17.617316567634912,2.0761204674887126 L 17.528603263174006,2.118078735651644 L 17.4444297669804,2.1685303876974538 L 17.365606715836357,2.226989546637262 L 17.292893218813454,2.292893218813451 L 17.226989546637263,2.3656067158363534 L 17.168530387697455,2.4444297669803965 L 17.118078735651647,2.528603263174001 L 17.076120467488714,2.617316567634909 L 17.04305966426779,2.709715322745536 L 17.01921471959677,2.8049096779838707 L 17.004815273327804,2.9019828596704382 L 17.003264431900927,2.9335509621267284 L 17.0,2.999999999999999 L 17.004815273327804,3.0980171403295595 L 17.019214719596768,3.1950903220161275 L 17.04305966426779,3.2902846772544616 L 17.076120467488714,3.382683432365089 L 17.118078735651643,3.471396736825997 L 17.168530387697455,3.555570233019602 L 17.226989546637263,3.6343932841636453 L 17.292893218813454,3.7071067811865475 L 17.365606715836353,3.773010453362737 L 17.4444297669804,3.831469612302545 L 17.528603263174002,3.8819212643483545 L 17.61731656763491,3.923879532511286 L 17.709715322745534,3.9569403357322086 L 17.80490967798387,3.98078528040323 L 17.901982859670436,3.9951847266721967 L 17.999999999999996,4.0 L 18.098017140329556,3.995184726672197 L 18.195090322016124,3.9807852804032313 L 18.29028467725446,3.95694033573221 L 18.382683432365084,3.9238795325112883 L 18.471396736825994,3.881921264348357 L 18.555570233019598,3.831469612302548 L 18.634393284163643,3.7730104533627404 L 18.707106781186543,3.7071067811865515 L 18.773010453362733,3.63439328416365 L 18.83146961230254,3.5555702330196075 L 18.856460127860185,3.513876076716112 L 18.881921264348353,3.4713967368260032 L 18.923879532511283,3.3826834323650963 L 18.956940335732206,3.290284677254469 L 18.98078528040323,3.1950903220161355 L 18.995184726672196,3.0980171403295684 L 19.0,3.0000000000000084 L 19.0,3.0 z\" /></g></g></svg>"
      ],
      "text/plain": [
       "<shapely.geometry.collection.GeometryCollection at 0x1f5af4ff408>"
      ]
     },
     "execution_count": 505,
     "metadata": {},
     "output_type": "execute_result"
    }
   ],
   "source": [
    "buffer_poly_vtx(poly= rand_poly,buffer=1)"
   ]
  },
  {
   "cell_type": "code",
   "execution_count": 506,
   "metadata": {},
   "outputs": [],
   "source": [
    "rand_degen = generate_degen(rand_poly)\n",
    "rd_poly = sg.Polygon(rand_degen)"
   ]
  },
  {
   "cell_type": "code",
   "execution_count": 507,
   "metadata": {},
   "outputs": [
    {
     "data": {
      "image/svg+xml": [
       "<svg xmlns=\"http://www.w3.org/2000/svg\" xmlns:xlink=\"http://www.w3.org/1999/xlink\" width=\"100.0\" height=\"100.0\" viewBox=\"1.48 0.48 38.040000000000006 41.040000000000006\" preserveAspectRatio=\"xMinYMin meet\"><g transform=\"matrix(1,0,0,-1,0,42.0)\"><g><circle cx=\"3.0\" cy=\"2.0\" r=\"1.2312\" stroke=\"#555555\" stroke-width=\"0.41040000000000004\" fill=\"#66cc99\" opacity=\"0.6\" /><circle cx=\"3.70316255393463\" cy=\"5.937710302033929\" r=\"1.2312\" stroke=\"#555555\" stroke-width=\"0.41040000000000004\" fill=\"#66cc99\" opacity=\"0.6\" /><circle cx=\"4.265692597082334\" cy=\"9.087878543661072\" r=\"1.2312\" stroke=\"#555555\" stroke-width=\"0.41040000000000004\" fill=\"#66cc99\" opacity=\"0.6\" /><circle cx=\"4.336008852475797\" cy=\"9.481649573864463\" r=\"1.2312\" stroke=\"#555555\" stroke-width=\"0.41040000000000004\" fill=\"#66cc99\" opacity=\"0.6\" /><circle cx=\"4.5293785548078205\" cy=\"10.564519906923794\" r=\"1.2312\" stroke=\"#555555\" stroke-width=\"0.41040000000000004\" fill=\"#66cc99\" opacity=\"0.6\" /><circle cx=\"6.216968684250932\" cy=\"20.015024631805222\" r=\"1.2312\" stroke=\"#555555\" stroke-width=\"0.41040000000000004\" fill=\"#66cc99\" opacity=\"0.6\" /><circle cx=\"8.0\" cy=\"30.0\" r=\"1.2312\" stroke=\"#555555\" stroke-width=\"0.41040000000000004\" fill=\"#66cc99\" opacity=\"0.6\" /><circle cx=\"8.0\" cy=\"32.4\" r=\"1.2312\" stroke=\"#555555\" stroke-width=\"0.41040000000000004\" fill=\"#66cc99\" opacity=\"0.6\" /><circle cx=\"8.0\" cy=\"33.6\" r=\"1.2312\" stroke=\"#555555\" stroke-width=\"0.41040000000000004\" fill=\"#66cc99\" opacity=\"0.6\" /><circle cx=\"8.0\" cy=\"34.7\" r=\"1.2312\" stroke=\"#555555\" stroke-width=\"0.41040000000000004\" fill=\"#66cc99\" opacity=\"0.6\" /><circle cx=\"8.0\" cy=\"35.8\" r=\"1.2312\" stroke=\"#555555\" stroke-width=\"0.41040000000000004\" fill=\"#66cc99\" opacity=\"0.6\" /><circle cx=\"8.0\" cy=\"38.0\" r=\"1.2312\" stroke=\"#555555\" stroke-width=\"0.41040000000000004\" fill=\"#66cc99\" opacity=\"0.6\" /><circle cx=\"8.0\" cy=\"40.0\" r=\"1.2312\" stroke=\"#555555\" stroke-width=\"0.41040000000000004\" fill=\"#66cc99\" opacity=\"0.6\" /><circle cx=\"12.609327677584256\" cy=\"36.15889360201312\" r=\"1.2312\" stroke=\"#555555\" stroke-width=\"0.41040000000000004\" fill=\"#66cc99\" opacity=\"0.6\" /><circle cx=\"14.453058748617957\" cy=\"34.62245104281837\" r=\"1.2312\" stroke=\"#555555\" stroke-width=\"0.41040000000000004\" fill=\"#66cc99\" opacity=\"0.6\" /><circle cx=\"16.834544715369823\" cy=\"32.637879403858484\" r=\"1.2312\" stroke=\"#555555\" stroke-width=\"0.41040000000000004\" fill=\"#66cc99\" opacity=\"0.6\" /><circle cx=\"18.75509791436326\" cy=\"31.03741840469728\" r=\"1.2312\" stroke=\"#555555\" stroke-width=\"0.41040000000000004\" fill=\"#66cc99\" opacity=\"0.6\" /><circle cx=\"35.348677553666576\" cy=\"17.209435371944515\" r=\"1.2312\" stroke=\"#555555\" stroke-width=\"0.41040000000000004\" fill=\"#66cc99\" opacity=\"0.6\" /><circle cx=\"38.0\" cy=\"15.0\" r=\"1.2312\" stroke=\"#555555\" stroke-width=\"0.41040000000000004\" fill=\"#66cc99\" opacity=\"0.6\" /><circle cx=\"37.14250707428746\" cy=\"14.485504244572473\" r=\"1.2312\" stroke=\"#555555\" stroke-width=\"0.41040000000000004\" fill=\"#66cc99\" opacity=\"0.6\" /><circle cx=\"30.625560838872122\" cy=\"10.575336503323273\" r=\"1.2312\" stroke=\"#555555\" stroke-width=\"0.41040000000000004\" fill=\"#66cc99\" opacity=\"0.6\" /><circle cx=\"27.281338428593198\" cy=\"8.56880305715592\" r=\"1.2312\" stroke=\"#555555\" stroke-width=\"0.41040000000000004\" fill=\"#66cc99\" opacity=\"0.6\" /><circle cx=\"19.735400682322812\" cy=\"4.041240409393687\" r=\"1.2312\" stroke=\"#555555\" stroke-width=\"0.41040000000000004\" fill=\"#66cc99\" opacity=\"0.6\" /><circle cx=\"19.13515563432403\" cy=\"3.681093380594417\" r=\"1.2312\" stroke=\"#555555\" stroke-width=\"0.41040000000000004\" fill=\"#66cc99\" opacity=\"0.6\" /><circle cx=\"18.0\" cy=\"3.0\" r=\"1.2312\" stroke=\"#555555\" stroke-width=\"0.41040000000000004\" fill=\"#66cc99\" opacity=\"0.6\" /><circle cx=\"15.405758589572816\" cy=\"2.827050572638188\" r=\"1.2312\" stroke=\"#555555\" stroke-width=\"0.41040000000000004\" fill=\"#66cc99\" opacity=\"0.6\" /><circle cx=\"9.01993357929052\" cy=\"2.401328905286035\" r=\"1.2312\" stroke=\"#555555\" stroke-width=\"0.41040000000000004\" fill=\"#66cc99\" opacity=\"0.6\" /><circle cx=\"7.124141779362962\" cy=\"2.274942785290864\" r=\"1.2312\" stroke=\"#555555\" stroke-width=\"0.41040000000000004\" fill=\"#66cc99\" opacity=\"0.6\" /><circle cx=\"5.028792947864085\" cy=\"2.1352528631909387\" r=\"1.2312\" stroke=\"#555555\" stroke-width=\"0.41040000000000004\" fill=\"#66cc99\" opacity=\"0.6\" /><circle cx=\"4.130786305793137\" cy=\"2.0753857537195426\" r=\"1.2312\" stroke=\"#555555\" stroke-width=\"0.41040000000000004\" fill=\"#66cc99\" opacity=\"0.6\" /><circle cx=\"3.0\" cy=\"2.0\" r=\"1.2312\" stroke=\"#555555\" stroke-width=\"0.41040000000000004\" fill=\"#66cc99\" opacity=\"0.6\" /></g></g></svg>"
      ],
      "text/plain": [
       "<shapely.geometry.multipoint.MultiPoint at 0x1f5b0171408>"
      ]
     },
     "execution_count": 507,
     "metadata": {},
     "output_type": "execute_result"
    }
   ],
   "source": [
    "poly_as_mpt(rd_poly)"
   ]
  },
  {
   "cell_type": "code",
   "execution_count": 508,
   "metadata": {},
   "outputs": [
    {
     "name": "stderr",
     "output_type": "stream",
     "text": [
      "TopologyException: Input geom 1 is invalid: Self-intersection at or near point 3.5102203749121803 2.858651271197882 at 3.5102203749121803 2.858651271197882\n"
     ]
    },
    {
     "name": "stdout",
     "output_type": "stream",
     "text": [
      "The operation 'GEOSUnion_r' could not be performed. Likely cause is invalidity of the geometry <shapely.geometry.multipolygon.MultiPolygon object at 0x000001F5B02B4108>\n"
     ]
    }
   ],
   "source": [
    "buffer_poly_vtx(rd_poly,buffer=.0000000001)"
   ]
  },
  {
   "cell_type": "code",
   "execution_count": 513,
   "metadata": {},
   "outputs": [
    {
     "name": "stdout",
     "output_type": "stream",
     "text": [
      "6\n",
      "target num vertx  6\n"
     ]
    },
    {
     "data": {
      "image/svg+xml": [
       "<svg xmlns=\"http://www.w3.org/2000/svg\" xmlns:xlink=\"http://www.w3.org/1999/xlink\" width=\"100.0\" height=\"100.0\" viewBox=\"0.3999999999999999 -0.6000000000000001 40.2 43.2\" preserveAspectRatio=\"xMinYMin meet\"><g transform=\"matrix(1,0,0,-1,0,42.0)\"><g><polyline fill=\"none\" stroke=\"#66cc99\" stroke-width=\"0.8640000000000001\" points=\"3.1756550414185285,2.9836682319437604 7.824344958581471,29.01633176805624\" opacity=\"0.8\" /><polyline fill=\"none\" stroke=\"#66cc99\" stroke-width=\"0.8640000000000001\" points=\"8.0,31.0 8.0,39.0\" opacity=\"0.8\" /><polyline fill=\"none\" stroke=\"#66cc99\" stroke-width=\"0.8640000000000001\" points=\"8.767959449611677,39.36003379199027 37.23204055038832,15.639966208009731\" opacity=\"0.8\" /><polyline fill=\"none\" stroke=\"#66cc99\" stroke-width=\"0.8640000000000001\" points=\"37.14353987213981,14.486123923283888 18.856460127860185,3.513876076716112\" opacity=\"0.8\" /><polyline fill=\"none\" stroke=\"#66cc99\" stroke-width=\"0.8640000000000001\" points=\"17.003264431900927,2.9335509621267284 3.996735568099074,2.0664490378732716\" opacity=\"0.8\" /><path fill-rule=\"evenodd\" fill=\"#66cc99\" stroke=\"#555555\" stroke-width=\"0.8640000000000001\" opacity=\"0.6\" d=\"M 4.0,2.0 L 3.995184726672197,1.9019828596704396 L 3.9807852804032304,1.804909677983872 L 3.956940335732209,1.709715322745538 L 3.923879532511287,1.6173165676349106 L 3.8819212643483554,1.5286032631740027 L 3.831469612302546,1.4444297669803983 L 3.7730104533627373,1.3656067158363552 L 3.707106781186548,1.292893218813453 L 3.634393284163646,1.2269895466372636 L 3.555570233019603,1.1685303876974553 L 3.471396736825999,1.1180787356516455 L 3.382683432365091,1.0761204674887137 L 3.290284677254464,1.0430596642677914 L 3.1950903220161297,1.0192147195967698 L 3.098017140329562,1.0048152733278033 L 3.0000000000000018,1.0 L 2.901982859670441,1.0048152733278028 L 2.8049096779838734,1.0192147195967691 L 2.7097153227455397,1.0430596642677905 L 2.617316567634912,1.0761204674887126 L 2.5286032631740043,1.118078735651644 L 2.4444297669803996,1.1685303876974538 L 2.365606715836356,1.2269895466372618 L 2.292893218813454,1.2928932188134512 L 2.226989546637264,1.3656067158363532 L 2.1685303876974555,1.4444297669803965 L 2.118078735651646,1.528603263174001 L 2.076120467488714,1.6173165676349088 L 2.0430596642677914,1.7097153227455364 L 2.0192147195967696,1.8049096779838705 L 2.0048152733278033,1.9019828596704382 L 2.0,1.999999999999999 L 2.004815273327803,2.0980171403295595 L 2.0192147195967696,2.1950903220161275 L 2.043059664267791,2.2902846772544616 L 2.076120467488713,2.382683432365089 L 2.1180787356516446,2.471396736825997 L 2.1685303876974547,2.555570233019602 L 2.226989546637263,2.6343932841636453 L 2.292893218813452,2.7071067811865475 L 2.3656067158363543,2.773010453362737 L 2.444429766980397,2.831469612302545 L 2.528603263174001,2.8819212643483545 L 2.6173165676349086,2.923879532511286 L 2.7097153227455357,2.9569403357322086 L 2.8049096779838694,2.98078528040323 L 2.901982859670437,2.9951847266721967 L 2.9999999999999973,3.0 L 3.0980171403295573,2.995184726672197 L 3.1756550414185285,2.9836682319437604 L 3.195090322016125,2.9807852804032313 L 3.2902846772544585,2.95694033573221 L 3.382683432365086,2.9238795325112883 L 3.4713967368259935,2.881921264348357 L 3.555570233019598,2.831469612302548 L 3.6343932841636413,2.7730104533627404 L 3.7071067811865435,2.7071067811865515 L 3.7730104533627333,2.63439328416365 L 3.831469612302542,2.5555702330196075 L 3.881921264348352,2.4713967368260032 L 3.9238795325112843,2.3826834323650963 L 3.956940335732207,2.290284677254469 L 3.980785280403229,2.1950903220161355 L 3.9951847266721963,2.0980171403295684 L 3.996735568099074,2.0664490378732716 L 4.0,2.0000000000000084 L 4.0,2.0 z\" /><path fill-rule=\"evenodd\" fill=\"#66cc99\" stroke=\"#555555\" stroke-width=\"0.8640000000000001\" opacity=\"0.6\" d=\"M 9.0,30.0 L 8.995184726672196,29.90198285967044 L 8.98078528040323,29.804909677983872 L 8.95694033573221,29.709715322745538 L 8.923879532511286,29.617316567634912 L 8.881921264348355,29.528603263174002 L 8.831469612302545,29.4444297669804 L 8.773010453362737,29.365606715836353 L 8.707106781186548,29.292893218813454 L 8.634393284163647,29.226989546637263 L 8.555570233019603,29.168530387697455 L 8.471396736825998,29.118078735651647 L 8.382683432365091,29.076120467488714 L 8.290284677254464,29.04305966426779 L 8.19509032201613,29.01921471959677 L 8.098017140329562,29.004815273327804 L 8.000000000000002,29.0 L 7.901982859670441,29.004815273327804 L 7.824344958581471,29.01633176805624 L 7.804909677983874,29.019214719596768 L 7.70971532274554,29.04305966426779 L 7.617316567634912,29.076120467488714 L 7.528603263174004,29.118078735651643 L 7.4444297669804,29.168530387697455 L 7.365606715836356,29.226989546637263 L 7.292893218813454,29.29289321881345 L 7.226989546637264,29.365606715836353 L 7.168530387697456,29.444429766980395 L 7.118078735651646,29.528603263174002 L 7.076120467488714,29.61731656763491 L 7.043059664267791,29.709715322745538 L 7.01921471959677,29.804909677983872 L 7.004815273327803,29.90198285967044 L 7.0,30.0 L 7.004815273327803,30.09801714032956 L 7.01921471959677,30.195090322016128 L 7.0430596642677905,30.290284677254462 L 7.076120467488713,30.382683432365088 L 7.118078735651645,30.471396736825998 L 7.168530387697454,30.5555702330196 L 7.226989546637263,30.634393284163647 L 7.292893218813452,30.707106781186546 L 7.365606715836354,30.773010453362737 L 7.444429766980397,30.831469612302545 L 7.528603263174001,30.881921264348353 L 7.617316567634909,30.923879532511286 L 7.709715322745536,30.95694033573221 L 7.804909677983869,30.98078528040323 L 7.9019828596704365,30.995184726672196 L 7.999999999999997,31.0 L 8.0,31.0 L 8.098017140329558,30.995184726672196 L 8.195090322016124,30.980785280403232 L 8.290284677254459,30.95694033573221 L 8.382683432365086,30.92387953251129 L 8.471396736825994,30.881921264348357 L 8.555570233019598,30.83146961230255 L 8.634393284163641,30.77301045336274 L 8.707106781186544,30.707106781186553 L 8.773010453362733,30.63439328416365 L 8.831469612302541,30.55557023301961 L 8.881921264348351,30.471396736826005 L 8.923879532511284,30.382683432365095 L 8.956940335732206,30.29028467725447 L 8.980785280403229,30.195090322016135 L 8.995184726672196,30.098017140329567 L 9.0,30.000000000000007 L 9.0,30.0 z\" /><path fill-rule=\"evenodd\" fill=\"#66cc99\" stroke=\"#555555\" stroke-width=\"0.8640000000000001\" opacity=\"0.6\" d=\"M 9.0,40.0 L 8.995184726672196,39.90198285967044 L 8.98078528040323,39.80490967798387 L 8.95694033573221,39.70971532274554 L 8.923879532511286,39.61731656763491 L 8.881921264348355,39.528603263174006 L 8.831469612302545,39.4444297669804 L 8.773010453362737,39.36560671583636 L 8.767959449611677,39.36003379199027 L 8.707106781186548,39.292893218813454 L 8.634393284163647,39.22698954663726 L 8.555570233019603,39.16853038769746 L 8.471396736825998,39.11807873565164 L 8.382683432365091,39.076120467488714 L 8.290284677254464,39.043059664267794 L 8.19509032201613,39.01921471959677 L 8.098017140329562,39.0048152733278 L 8.000000000000002,39.0 L 8.0,39.0 L 7.901982859670441,39.0048152733278 L 7.804909677983874,39.01921471959677 L 7.70971532274554,39.04305966426779 L 7.617316567634912,39.076120467488714 L 7.528603263174004,39.11807873565164 L 7.4444297669804,39.16853038769745 L 7.365606715836356,39.22698954663726 L 7.292893218813454,39.292893218813454 L 7.226989546637264,39.36560671583635 L 7.168530387697456,39.4444297669804 L 7.118078735651646,39.528603263174 L 7.076120467488714,39.61731656763491 L 7.043059664267791,39.70971532274554 L 7.01921471959677,39.80490967798387 L 7.004815273327803,39.90198285967044 L 7.0,40.0 L 7.004815273327803,40.09801714032956 L 7.01921471959677,40.19509032201613 L 7.0430596642677905,40.29028467725446 L 7.076120467488713,40.38268343236509 L 7.118078735651645,40.471396736825994 L 7.168530387697454,40.5555702330196 L 7.226989546637263,40.63439328416364 L 7.292893218813452,40.707106781186546 L 7.365606715836354,40.77301045336274 L 7.444429766980397,40.83146961230254 L 7.528603263174001,40.88192126434836 L 7.617316567634909,40.923879532511286 L 7.709715322745536,40.956940335732206 L 7.804909677983869,40.98078528040323 L 7.9019828596704365,40.9951847266722 L 7.999999999999997,41.0 L 8.098017140329558,40.9951847266722 L 8.195090322016124,40.98078528040323 L 8.290284677254459,40.95694033573221 L 8.382683432365086,40.923879532511286 L 8.471396736825994,40.88192126434836 L 8.555570233019598,40.83146961230255 L 8.634393284163641,40.77301045336274 L 8.707106781186544,40.70710678118655 L 8.773010453362733,40.63439328416365 L 8.831469612302541,40.55557023301961 L 8.881921264348351,40.471396736826 L 8.923879532511284,40.3826834323651 L 8.956940335732206,40.29028467725447 L 8.980785280403229,40.195090322016135 L 8.995184726672196,40.09801714032957 L 9.0,40.00000000000001 L 9.0,40.0 z\" /><path fill-rule=\"evenodd\" fill=\"#66cc99\" stroke=\"#555555\" stroke-width=\"0.8640000000000001\" opacity=\"0.6\" d=\"M 39.0,15.0 L 38.9951847266722,14.90198285967044 L 38.98078528040323,14.804909677983872 L 38.956940335732206,14.709715322745538 L 38.923879532511286,14.61731656763491 L 38.88192126434836,14.528603263174002 L 38.83146961230255,14.444429766980399 L 38.77301045336274,14.365606715836355 L 38.707106781186546,14.292893218813454 L 38.63439328416364,14.226989546637263 L 38.5555702330196,14.168530387697455 L 38.471396736826,14.118078735651645 L 38.38268343236509,14.076120467488714 L 38.29028467725446,14.043059664267792 L 38.19509032201613,14.01921471959677 L 38.09801714032956,14.004815273327804 L 38.0,14.0 L 37.90198285967044,14.004815273327804 L 37.80490967798387,14.01921471959677 L 37.70971532274554,14.04305966426779 L 37.617316567634916,14.076120467488712 L 37.528603263174006,14.118078735651643 L 37.4444297669804,14.168530387697453 L 37.36560671583636,14.226989546637261 L 37.292893218813454,14.29289321881345 L 37.22698954663726,14.365606715836353 L 37.16853038769746,14.444429766980397 L 37.14353987213981,14.486123923283888 L 37.11807873565164,14.528603263174 L 37.076120467488714,14.617316567634909 L 37.043059664267794,14.709715322745536 L 37.01921471959677,14.80490967798387 L 37.0048152733278,14.901982859670438 L 37.0,14.999999999999998 L 37.0048152733278,15.09801714032956 L 37.01921471959677,15.195090322016128 L 37.043059664267794,15.290284677254462 L 37.076120467488714,15.38268343236509 L 37.11807873565164,15.471396736825998 L 37.16853038769745,15.555570233019601 L 37.22698954663726,15.634393284163645 L 37.23204055038832,15.639966208009731 L 37.292893218813454,15.707106781186548 L 37.36560671583636,15.773010453362737 L 37.4444297669804,15.831469612302545 L 37.528603263174,15.881921264348355 L 37.61731656763491,15.923879532511286 L 37.70971532274554,15.956940335732208 L 37.80490967798387,15.98078528040323 L 37.90198285967044,15.995184726672196 L 38.0,16.0 L 38.09801714032956,15.995184726672196 L 38.19509032201613,15.98078528040323 L 38.29028467725446,15.95694033573221 L 38.382683432365084,15.923879532511288 L 38.471396736825994,15.881921264348357 L 38.5555702330196,15.831469612302548 L 38.63439328416364,15.77301045336274 L 38.707106781186546,15.707106781186551 L 38.77301045336273,15.63439328416365 L 38.83146961230254,15.555570233019607 L 38.88192126434835,15.471396736826003 L 38.923879532511286,15.382683432365097 L 38.956940335732206,15.29028467725447 L 38.98078528040323,15.195090322016135 L 38.99518472667219,15.098017140329569 L 39.0,15.000000000000009 L 39.0,15.0 z\" /><path fill-rule=\"evenodd\" fill=\"#66cc99\" stroke=\"#555555\" stroke-width=\"0.8640000000000001\" opacity=\"0.6\" d=\"M 19.0,3.0 L 18.995184726672196,2.9019828596704396 L 18.980785280403232,2.804909677983872 L 18.95694033573221,2.709715322745538 L 18.923879532511286,2.6173165676349104 L 18.881921264348357,2.528603263174003 L 18.831469612302545,2.4444297669803983 L 18.773010453362737,2.365606715836355 L 18.70710678118655,2.292893218813453 L 18.634393284163647,2.2269895466372636 L 18.5555702330196,2.168530387697455 L 18.471396736825998,2.1180787356516455 L 18.38268343236509,2.076120467488714 L 18.290284677254462,2.0430596642677914 L 18.195090322016128,2.0192147195967696 L 18.098017140329564,2.0048152733278033 L 18.0,2.0 L 17.90198285967044,2.004815273327803 L 17.804909677983872,2.019214719596769 L 17.709715322745538,2.0430596642677905 L 17.617316567634912,2.0761204674887126 L 17.528603263174006,2.118078735651644 L 17.4444297669804,2.1685303876974538 L 17.365606715836357,2.226989546637262 L 17.292893218813454,2.292893218813451 L 17.226989546637263,2.3656067158363534 L 17.168530387697455,2.4444297669803965 L 17.118078735651647,2.528603263174001 L 17.076120467488714,2.617316567634909 L 17.04305966426779,2.709715322745536 L 17.01921471959677,2.8049096779838707 L 17.004815273327804,2.9019828596704382 L 17.003264431900927,2.9335509621267284 L 17.0,2.999999999999999 L 17.004815273327804,3.0980171403295595 L 17.019214719596768,3.1950903220161275 L 17.04305966426779,3.2902846772544616 L 17.076120467488714,3.382683432365089 L 17.118078735651643,3.471396736825997 L 17.168530387697455,3.555570233019602 L 17.226989546637263,3.6343932841636453 L 17.292893218813454,3.7071067811865475 L 17.365606715836353,3.773010453362737 L 17.4444297669804,3.831469612302545 L 17.528603263174002,3.8819212643483545 L 17.61731656763491,3.923879532511286 L 17.709715322745534,3.9569403357322086 L 17.80490967798387,3.98078528040323 L 17.901982859670436,3.9951847266721967 L 17.999999999999996,4.0 L 18.098017140329556,3.995184726672197 L 18.195090322016124,3.9807852804032313 L 18.29028467725446,3.95694033573221 L 18.382683432365084,3.9238795325112883 L 18.471396736825994,3.881921264348357 L 18.555570233019598,3.831469612302548 L 18.634393284163643,3.7730104533627404 L 18.707106781186543,3.7071067811865515 L 18.773010453362733,3.63439328416365 L 18.83146961230254,3.5555702330196075 L 18.856460127860185,3.513876076716112 L 18.881921264348353,3.4713967368260032 L 18.923879532511283,3.3826834323650963 L 18.956940335732206,3.290284677254469 L 18.98078528040323,3.1950903220161355 L 18.995184726672196,3.0980171403295684 L 19.0,3.0000000000000084 L 19.0,3.0 z\" /></g></g></svg>"
      ],
      "text/plain": [
       "<shapely.geometry.collection.GeometryCollection at 0x1f5b02bde48>"
      ]
     },
     "execution_count": 513,
     "metadata": {},
     "output_type": "execute_result"
    }
   ],
   "source": [
    "sv = 1e-1\n",
    "\n",
    "# simpol =rd_poly.simplify(sv,preserve_topology=True)\n",
    "simpol =rd_poly.simplify(sv,preserve_topology=False)\n",
    "print(len(poly_as_mpt(simpol)))\n",
    "print('target num vertx ', len(vals))\n",
    "buffer_poly_vtx(simpol)"
   ]
  },
  {
   "cell_type": "code",
   "execution_count": 510,
   "metadata": {},
   "outputs": [
    {
     "name": "stdout",
     "output_type": "stream",
     "text": [
      "6\n",
      "target num vtx 6\n"
     ]
    },
    {
     "data": {
      "image/svg+xml": [
       "<svg xmlns=\"http://www.w3.org/2000/svg\" xmlns:xlink=\"http://www.w3.org/1999/xlink\" width=\"100.0\" height=\"100.0\" viewBox=\"0.3999999999999999 -0.6000000000000001 40.2 43.2\" preserveAspectRatio=\"xMinYMin meet\"><g transform=\"matrix(1,0,0,-1,0,42.0)\"><g><polyline fill=\"none\" stroke=\"#66cc99\" stroke-width=\"0.8640000000000001\" points=\"3.1756550414185285,2.9836682319437604 7.824344958581471,29.01633176805624\" opacity=\"0.8\" /><polyline fill=\"none\" stroke=\"#66cc99\" stroke-width=\"0.8640000000000001\" points=\"8.0,31.0 8.0,39.0\" opacity=\"0.8\" /><polyline fill=\"none\" stroke=\"#66cc99\" stroke-width=\"0.8640000000000001\" points=\"8.767959449611677,39.36003379199027 37.23204055038832,15.639966208009731\" opacity=\"0.8\" /><polyline fill=\"none\" stroke=\"#66cc99\" stroke-width=\"0.8640000000000001\" points=\"37.14353987213981,14.486123923283888 18.856460127860185,3.513876076716112\" opacity=\"0.8\" /><polyline fill=\"none\" stroke=\"#66cc99\" stroke-width=\"0.8640000000000001\" points=\"17.003264431900927,2.9335509621267284 3.996735568099074,2.0664490378732716\" opacity=\"0.8\" /><path fill-rule=\"evenodd\" fill=\"#66cc99\" stroke=\"#555555\" stroke-width=\"0.8640000000000001\" opacity=\"0.6\" d=\"M 4.0,2.0 L 3.995184726672197,1.9019828596704396 L 3.9807852804032304,1.804909677983872 L 3.956940335732209,1.709715322745538 L 3.923879532511287,1.6173165676349106 L 3.8819212643483554,1.5286032631740027 L 3.831469612302546,1.4444297669803983 L 3.7730104533627373,1.3656067158363552 L 3.707106781186548,1.292893218813453 L 3.634393284163646,1.2269895466372636 L 3.555570233019603,1.1685303876974553 L 3.471396736825999,1.1180787356516455 L 3.382683432365091,1.0761204674887137 L 3.290284677254464,1.0430596642677914 L 3.1950903220161297,1.0192147195967698 L 3.098017140329562,1.0048152733278033 L 3.0000000000000018,1.0 L 2.901982859670441,1.0048152733278028 L 2.8049096779838734,1.0192147195967691 L 2.7097153227455397,1.0430596642677905 L 2.617316567634912,1.0761204674887126 L 2.5286032631740043,1.118078735651644 L 2.4444297669803996,1.1685303876974538 L 2.365606715836356,1.2269895466372618 L 2.292893218813454,1.2928932188134512 L 2.226989546637264,1.3656067158363532 L 2.1685303876974555,1.4444297669803965 L 2.118078735651646,1.528603263174001 L 2.076120467488714,1.6173165676349088 L 2.0430596642677914,1.7097153227455364 L 2.0192147195967696,1.8049096779838705 L 2.0048152733278033,1.9019828596704382 L 2.0,1.999999999999999 L 2.004815273327803,2.0980171403295595 L 2.0192147195967696,2.1950903220161275 L 2.043059664267791,2.2902846772544616 L 2.076120467488713,2.382683432365089 L 2.1180787356516446,2.471396736825997 L 2.1685303876974547,2.555570233019602 L 2.226989546637263,2.6343932841636453 L 2.292893218813452,2.7071067811865475 L 2.3656067158363543,2.773010453362737 L 2.444429766980397,2.831469612302545 L 2.528603263174001,2.8819212643483545 L 2.6173165676349086,2.923879532511286 L 2.7097153227455357,2.9569403357322086 L 2.8049096779838694,2.98078528040323 L 2.901982859670437,2.9951847266721967 L 2.9999999999999973,3.0 L 3.0980171403295573,2.995184726672197 L 3.1756550414185285,2.9836682319437604 L 3.195090322016125,2.9807852804032313 L 3.2902846772544585,2.95694033573221 L 3.382683432365086,2.9238795325112883 L 3.4713967368259935,2.881921264348357 L 3.555570233019598,2.831469612302548 L 3.6343932841636413,2.7730104533627404 L 3.7071067811865435,2.7071067811865515 L 3.7730104533627333,2.63439328416365 L 3.831469612302542,2.5555702330196075 L 3.881921264348352,2.4713967368260032 L 3.9238795325112843,2.3826834323650963 L 3.956940335732207,2.290284677254469 L 3.980785280403229,2.1950903220161355 L 3.9951847266721963,2.0980171403295684 L 3.996735568099074,2.0664490378732716 L 4.0,2.0000000000000084 L 4.0,2.0 z\" /><path fill-rule=\"evenodd\" fill=\"#66cc99\" stroke=\"#555555\" stroke-width=\"0.8640000000000001\" opacity=\"0.6\" d=\"M 9.0,30.0 L 8.995184726672196,29.90198285967044 L 8.98078528040323,29.804909677983872 L 8.95694033573221,29.709715322745538 L 8.923879532511286,29.617316567634912 L 8.881921264348355,29.528603263174002 L 8.831469612302545,29.4444297669804 L 8.773010453362737,29.365606715836353 L 8.707106781186548,29.292893218813454 L 8.634393284163647,29.226989546637263 L 8.555570233019603,29.168530387697455 L 8.471396736825998,29.118078735651647 L 8.382683432365091,29.076120467488714 L 8.290284677254464,29.04305966426779 L 8.19509032201613,29.01921471959677 L 8.098017140329562,29.004815273327804 L 8.000000000000002,29.0 L 7.901982859670441,29.004815273327804 L 7.824344958581471,29.01633176805624 L 7.804909677983874,29.019214719596768 L 7.70971532274554,29.04305966426779 L 7.617316567634912,29.076120467488714 L 7.528603263174004,29.118078735651643 L 7.4444297669804,29.168530387697455 L 7.365606715836356,29.226989546637263 L 7.292893218813454,29.29289321881345 L 7.226989546637264,29.365606715836353 L 7.168530387697456,29.444429766980395 L 7.118078735651646,29.528603263174002 L 7.076120467488714,29.61731656763491 L 7.043059664267791,29.709715322745538 L 7.01921471959677,29.804909677983872 L 7.004815273327803,29.90198285967044 L 7.0,30.0 L 7.004815273327803,30.09801714032956 L 7.01921471959677,30.195090322016128 L 7.0430596642677905,30.290284677254462 L 7.076120467488713,30.382683432365088 L 7.118078735651645,30.471396736825998 L 7.168530387697454,30.5555702330196 L 7.226989546637263,30.634393284163647 L 7.292893218813452,30.707106781186546 L 7.365606715836354,30.773010453362737 L 7.444429766980397,30.831469612302545 L 7.528603263174001,30.881921264348353 L 7.617316567634909,30.923879532511286 L 7.709715322745536,30.95694033573221 L 7.804909677983869,30.98078528040323 L 7.9019828596704365,30.995184726672196 L 7.999999999999997,31.0 L 8.0,31.0 L 8.098017140329558,30.995184726672196 L 8.195090322016124,30.980785280403232 L 8.290284677254459,30.95694033573221 L 8.382683432365086,30.92387953251129 L 8.471396736825994,30.881921264348357 L 8.555570233019598,30.83146961230255 L 8.634393284163641,30.77301045336274 L 8.707106781186544,30.707106781186553 L 8.773010453362733,30.63439328416365 L 8.831469612302541,30.55557023301961 L 8.881921264348351,30.471396736826005 L 8.923879532511284,30.382683432365095 L 8.956940335732206,30.29028467725447 L 8.980785280403229,30.195090322016135 L 8.995184726672196,30.098017140329567 L 9.0,30.000000000000007 L 9.0,30.0 z\" /><path fill-rule=\"evenodd\" fill=\"#66cc99\" stroke=\"#555555\" stroke-width=\"0.8640000000000001\" opacity=\"0.6\" d=\"M 9.0,40.0 L 8.995184726672196,39.90198285967044 L 8.98078528040323,39.80490967798387 L 8.95694033573221,39.70971532274554 L 8.923879532511286,39.61731656763491 L 8.881921264348355,39.528603263174006 L 8.831469612302545,39.4444297669804 L 8.773010453362737,39.36560671583636 L 8.767959449611677,39.36003379199027 L 8.707106781186548,39.292893218813454 L 8.634393284163647,39.22698954663726 L 8.555570233019603,39.16853038769746 L 8.471396736825998,39.11807873565164 L 8.382683432365091,39.076120467488714 L 8.290284677254464,39.043059664267794 L 8.19509032201613,39.01921471959677 L 8.098017140329562,39.0048152733278 L 8.000000000000002,39.0 L 8.0,39.0 L 7.901982859670441,39.0048152733278 L 7.804909677983874,39.01921471959677 L 7.70971532274554,39.04305966426779 L 7.617316567634912,39.076120467488714 L 7.528603263174004,39.11807873565164 L 7.4444297669804,39.16853038769745 L 7.365606715836356,39.22698954663726 L 7.292893218813454,39.292893218813454 L 7.226989546637264,39.36560671583635 L 7.168530387697456,39.4444297669804 L 7.118078735651646,39.528603263174 L 7.076120467488714,39.61731656763491 L 7.043059664267791,39.70971532274554 L 7.01921471959677,39.80490967798387 L 7.004815273327803,39.90198285967044 L 7.0,40.0 L 7.004815273327803,40.09801714032956 L 7.01921471959677,40.19509032201613 L 7.0430596642677905,40.29028467725446 L 7.076120467488713,40.38268343236509 L 7.118078735651645,40.471396736825994 L 7.168530387697454,40.5555702330196 L 7.226989546637263,40.63439328416364 L 7.292893218813452,40.707106781186546 L 7.365606715836354,40.77301045336274 L 7.444429766980397,40.83146961230254 L 7.528603263174001,40.88192126434836 L 7.617316567634909,40.923879532511286 L 7.709715322745536,40.956940335732206 L 7.804909677983869,40.98078528040323 L 7.9019828596704365,40.9951847266722 L 7.999999999999997,41.0 L 8.098017140329558,40.9951847266722 L 8.195090322016124,40.98078528040323 L 8.290284677254459,40.95694033573221 L 8.382683432365086,40.923879532511286 L 8.471396736825994,40.88192126434836 L 8.555570233019598,40.83146961230255 L 8.634393284163641,40.77301045336274 L 8.707106781186544,40.70710678118655 L 8.773010453362733,40.63439328416365 L 8.831469612302541,40.55557023301961 L 8.881921264348351,40.471396736826 L 8.923879532511284,40.3826834323651 L 8.956940335732206,40.29028467725447 L 8.980785280403229,40.195090322016135 L 8.995184726672196,40.09801714032957 L 9.0,40.00000000000001 L 9.0,40.0 z\" /><path fill-rule=\"evenodd\" fill=\"#66cc99\" stroke=\"#555555\" stroke-width=\"0.8640000000000001\" opacity=\"0.6\" d=\"M 39.0,15.0 L 38.9951847266722,14.90198285967044 L 38.98078528040323,14.804909677983872 L 38.956940335732206,14.709715322745538 L 38.923879532511286,14.61731656763491 L 38.88192126434836,14.528603263174002 L 38.83146961230255,14.444429766980399 L 38.77301045336274,14.365606715836355 L 38.707106781186546,14.292893218813454 L 38.63439328416364,14.226989546637263 L 38.5555702330196,14.168530387697455 L 38.471396736826,14.118078735651645 L 38.38268343236509,14.076120467488714 L 38.29028467725446,14.043059664267792 L 38.19509032201613,14.01921471959677 L 38.09801714032956,14.004815273327804 L 38.0,14.0 L 37.90198285967044,14.004815273327804 L 37.80490967798387,14.01921471959677 L 37.70971532274554,14.04305966426779 L 37.617316567634916,14.076120467488712 L 37.528603263174006,14.118078735651643 L 37.4444297669804,14.168530387697453 L 37.36560671583636,14.226989546637261 L 37.292893218813454,14.29289321881345 L 37.22698954663726,14.365606715836353 L 37.16853038769746,14.444429766980397 L 37.14353987213981,14.486123923283888 L 37.11807873565164,14.528603263174 L 37.076120467488714,14.617316567634909 L 37.043059664267794,14.709715322745536 L 37.01921471959677,14.80490967798387 L 37.0048152733278,14.901982859670438 L 37.0,14.999999999999998 L 37.0048152733278,15.09801714032956 L 37.01921471959677,15.195090322016128 L 37.043059664267794,15.290284677254462 L 37.076120467488714,15.38268343236509 L 37.11807873565164,15.471396736825998 L 37.16853038769745,15.555570233019601 L 37.22698954663726,15.634393284163645 L 37.23204055038832,15.639966208009731 L 37.292893218813454,15.707106781186548 L 37.36560671583636,15.773010453362737 L 37.4444297669804,15.831469612302545 L 37.528603263174,15.881921264348355 L 37.61731656763491,15.923879532511286 L 37.70971532274554,15.956940335732208 L 37.80490967798387,15.98078528040323 L 37.90198285967044,15.995184726672196 L 38.0,16.0 L 38.09801714032956,15.995184726672196 L 38.19509032201613,15.98078528040323 L 38.29028467725446,15.95694033573221 L 38.382683432365084,15.923879532511288 L 38.471396736825994,15.881921264348357 L 38.5555702330196,15.831469612302548 L 38.63439328416364,15.77301045336274 L 38.707106781186546,15.707106781186551 L 38.77301045336273,15.63439328416365 L 38.83146961230254,15.555570233019607 L 38.88192126434835,15.471396736826003 L 38.923879532511286,15.382683432365097 L 38.956940335732206,15.29028467725447 L 38.98078528040323,15.195090322016135 L 38.99518472667219,15.098017140329569 L 39.0,15.000000000000009 L 39.0,15.0 z\" /><path fill-rule=\"evenodd\" fill=\"#66cc99\" stroke=\"#555555\" stroke-width=\"0.8640000000000001\" opacity=\"0.6\" d=\"M 19.0,3.0 L 18.995184726672196,2.9019828596704396 L 18.980785280403232,2.804909677983872 L 18.95694033573221,2.709715322745538 L 18.923879532511286,2.6173165676349104 L 18.881921264348357,2.528603263174003 L 18.831469612302545,2.4444297669803983 L 18.773010453362737,2.365606715836355 L 18.70710678118655,2.292893218813453 L 18.634393284163647,2.2269895466372636 L 18.5555702330196,2.168530387697455 L 18.471396736825998,2.1180787356516455 L 18.38268343236509,2.076120467488714 L 18.290284677254462,2.0430596642677914 L 18.195090322016128,2.0192147195967696 L 18.098017140329564,2.0048152733278033 L 18.0,2.0 L 17.90198285967044,2.004815273327803 L 17.804909677983872,2.019214719596769 L 17.709715322745538,2.0430596642677905 L 17.617316567634912,2.0761204674887126 L 17.528603263174006,2.118078735651644 L 17.4444297669804,2.1685303876974538 L 17.365606715836357,2.226989546637262 L 17.292893218813454,2.292893218813451 L 17.226989546637263,2.3656067158363534 L 17.168530387697455,2.4444297669803965 L 17.118078735651647,2.528603263174001 L 17.076120467488714,2.617316567634909 L 17.04305966426779,2.709715322745536 L 17.01921471959677,2.8049096779838707 L 17.004815273327804,2.9019828596704382 L 17.003264431900927,2.9335509621267284 L 17.0,2.999999999999999 L 17.004815273327804,3.0980171403295595 L 17.019214719596768,3.1950903220161275 L 17.04305966426779,3.2902846772544616 L 17.076120467488714,3.382683432365089 L 17.118078735651643,3.471396736825997 L 17.168530387697455,3.555570233019602 L 17.226989546637263,3.6343932841636453 L 17.292893218813454,3.7071067811865475 L 17.365606715836353,3.773010453362737 L 17.4444297669804,3.831469612302545 L 17.528603263174002,3.8819212643483545 L 17.61731656763491,3.923879532511286 L 17.709715322745534,3.9569403357322086 L 17.80490967798387,3.98078528040323 L 17.901982859670436,3.9951847266721967 L 17.999999999999996,4.0 L 18.098017140329556,3.995184726672197 L 18.195090322016124,3.9807852804032313 L 18.29028467725446,3.95694033573221 L 18.382683432365084,3.9238795325112883 L 18.471396736825994,3.881921264348357 L 18.555570233019598,3.831469612302548 L 18.634393284163643,3.7730104533627404 L 18.707106781186543,3.7071067811865515 L 18.773010453362733,3.63439328416365 L 18.83146961230254,3.5555702330196075 L 18.856460127860185,3.513876076716112 L 18.881921264348353,3.4713967368260032 L 18.923879532511283,3.3826834323650963 L 18.956940335732206,3.290284677254469 L 18.98078528040323,3.1950903220161355 L 18.995184726672196,3.0980171403295684 L 19.0,3.0000000000000084 L 19.0,3.0 z\" /></g></g></svg>"
      ],
      "text/plain": [
       "<shapely.geometry.collection.GeometryCollection at 0x1f5b025e3c8>"
      ]
     },
     "execution_count": 510,
     "metadata": {},
     "output_type": "execute_result"
    }
   ],
   "source": [
    "intpol= simplify_by_interior_angle(rd_poly,deg_tol=1)\n",
    "# intpol= simplify_by_interior_angle(rd_poly)\n",
    "print(len(poly_as_mpt((intpol))))\n",
    "print('target num vtx', len(vals))\n",
    "buffer_poly_vtx(intpol)"
   ]
  },
  {
   "cell_type": "code",
   "execution_count": 511,
   "metadata": {},
   "outputs": [
    {
     "data": {
      "image/svg+xml": [
       "<svg xmlns=\"http://www.w3.org/2000/svg\" xmlns:xlink=\"http://www.w3.org/1999/xlink\" width=\"100.0\" height=\"100.0\" viewBox=\"0.3999999999999999 -0.6000000000000001 40.2 43.2\" preserveAspectRatio=\"xMinYMin meet\"><g transform=\"matrix(1,0,0,-1,0,42.0)\"><g><polyline fill=\"none\" stroke=\"#66cc99\" stroke-width=\"0.8640000000000001\" points=\"3.1756550414185285,2.9836682319437604 7.824344958581471,29.01633176805624\" opacity=\"0.8\" /><polyline fill=\"none\" stroke=\"#66cc99\" stroke-width=\"0.8640000000000001\" points=\"8.0,31.0 8.0,39.0\" opacity=\"0.8\" /><polyline fill=\"none\" stroke=\"#66cc99\" stroke-width=\"0.8640000000000001\" points=\"8.767959449611677,39.36003379199027 37.23204055038832,15.639966208009731\" opacity=\"0.8\" /><polyline fill=\"none\" stroke=\"#66cc99\" stroke-width=\"0.8640000000000001\" points=\"37.14353987213981,14.486123923283888 18.856460127860185,3.513876076716112\" opacity=\"0.8\" /><polyline fill=\"none\" stroke=\"#66cc99\" stroke-width=\"0.8640000000000001\" points=\"17.003264431900927,2.9335509621267284 3.996735568099074,2.0664490378732716\" opacity=\"0.8\" /><path fill-rule=\"evenodd\" fill=\"#66cc99\" stroke=\"#555555\" stroke-width=\"0.8640000000000001\" opacity=\"0.6\" d=\"M 4.0,2.0 L 3.995184726672197,1.9019828596704396 L 3.9807852804032304,1.804909677983872 L 3.956940335732209,1.709715322745538 L 3.923879532511287,1.6173165676349106 L 3.8819212643483554,1.5286032631740027 L 3.831469612302546,1.4444297669803983 L 3.7730104533627373,1.3656067158363552 L 3.707106781186548,1.292893218813453 L 3.634393284163646,1.2269895466372636 L 3.555570233019603,1.1685303876974553 L 3.471396736825999,1.1180787356516455 L 3.382683432365091,1.0761204674887137 L 3.290284677254464,1.0430596642677914 L 3.1950903220161297,1.0192147195967698 L 3.098017140329562,1.0048152733278033 L 3.0000000000000018,1.0 L 2.901982859670441,1.0048152733278028 L 2.8049096779838734,1.0192147195967691 L 2.7097153227455397,1.0430596642677905 L 2.617316567634912,1.0761204674887126 L 2.5286032631740043,1.118078735651644 L 2.4444297669803996,1.1685303876974538 L 2.365606715836356,1.2269895466372618 L 2.292893218813454,1.2928932188134512 L 2.226989546637264,1.3656067158363532 L 2.1685303876974555,1.4444297669803965 L 2.118078735651646,1.528603263174001 L 2.076120467488714,1.6173165676349088 L 2.0430596642677914,1.7097153227455364 L 2.0192147195967696,1.8049096779838705 L 2.0048152733278033,1.9019828596704382 L 2.0,1.999999999999999 L 2.004815273327803,2.0980171403295595 L 2.0192147195967696,2.1950903220161275 L 2.043059664267791,2.2902846772544616 L 2.076120467488713,2.382683432365089 L 2.1180787356516446,2.471396736825997 L 2.1685303876974547,2.555570233019602 L 2.226989546637263,2.6343932841636453 L 2.292893218813452,2.7071067811865475 L 2.3656067158363543,2.773010453362737 L 2.444429766980397,2.831469612302545 L 2.528603263174001,2.8819212643483545 L 2.6173165676349086,2.923879532511286 L 2.7097153227455357,2.9569403357322086 L 2.8049096779838694,2.98078528040323 L 2.901982859670437,2.9951847266721967 L 2.9999999999999973,3.0 L 3.0980171403295573,2.995184726672197 L 3.1756550414185285,2.9836682319437604 L 3.195090322016125,2.9807852804032313 L 3.2902846772544585,2.95694033573221 L 3.382683432365086,2.9238795325112883 L 3.4713967368259935,2.881921264348357 L 3.555570233019598,2.831469612302548 L 3.6343932841636413,2.7730104533627404 L 3.7071067811865435,2.7071067811865515 L 3.7730104533627333,2.63439328416365 L 3.831469612302542,2.5555702330196075 L 3.881921264348352,2.4713967368260032 L 3.9238795325112843,2.3826834323650963 L 3.956940335732207,2.290284677254469 L 3.980785280403229,2.1950903220161355 L 3.9951847266721963,2.0980171403295684 L 3.996735568099074,2.0664490378732716 L 4.0,2.0000000000000084 L 4.0,2.0 z\" /><path fill-rule=\"evenodd\" fill=\"#66cc99\" stroke=\"#555555\" stroke-width=\"0.8640000000000001\" opacity=\"0.6\" d=\"M 9.0,30.0 L 8.995184726672196,29.90198285967044 L 8.98078528040323,29.804909677983872 L 8.95694033573221,29.709715322745538 L 8.923879532511286,29.617316567634912 L 8.881921264348355,29.528603263174002 L 8.831469612302545,29.4444297669804 L 8.773010453362737,29.365606715836353 L 8.707106781186548,29.292893218813454 L 8.634393284163647,29.226989546637263 L 8.555570233019603,29.168530387697455 L 8.471396736825998,29.118078735651647 L 8.382683432365091,29.076120467488714 L 8.290284677254464,29.04305966426779 L 8.19509032201613,29.01921471959677 L 8.098017140329562,29.004815273327804 L 8.000000000000002,29.0 L 7.901982859670441,29.004815273327804 L 7.824344958581471,29.01633176805624 L 7.804909677983874,29.019214719596768 L 7.70971532274554,29.04305966426779 L 7.617316567634912,29.076120467488714 L 7.528603263174004,29.118078735651643 L 7.4444297669804,29.168530387697455 L 7.365606715836356,29.226989546637263 L 7.292893218813454,29.29289321881345 L 7.226989546637264,29.365606715836353 L 7.168530387697456,29.444429766980395 L 7.118078735651646,29.528603263174002 L 7.076120467488714,29.61731656763491 L 7.043059664267791,29.709715322745538 L 7.01921471959677,29.804909677983872 L 7.004815273327803,29.90198285967044 L 7.0,30.0 L 7.004815273327803,30.09801714032956 L 7.01921471959677,30.195090322016128 L 7.0430596642677905,30.290284677254462 L 7.076120467488713,30.382683432365088 L 7.118078735651645,30.471396736825998 L 7.168530387697454,30.5555702330196 L 7.226989546637263,30.634393284163647 L 7.292893218813452,30.707106781186546 L 7.365606715836354,30.773010453362737 L 7.444429766980397,30.831469612302545 L 7.528603263174001,30.881921264348353 L 7.617316567634909,30.923879532511286 L 7.709715322745536,30.95694033573221 L 7.804909677983869,30.98078528040323 L 7.9019828596704365,30.995184726672196 L 7.999999999999997,31.0 L 8.0,31.0 L 8.098017140329558,30.995184726672196 L 8.195090322016124,30.980785280403232 L 8.290284677254459,30.95694033573221 L 8.382683432365086,30.92387953251129 L 8.471396736825994,30.881921264348357 L 8.555570233019598,30.83146961230255 L 8.634393284163641,30.77301045336274 L 8.707106781186544,30.707106781186553 L 8.773010453362733,30.63439328416365 L 8.831469612302541,30.55557023301961 L 8.881921264348351,30.471396736826005 L 8.923879532511284,30.382683432365095 L 8.956940335732206,30.29028467725447 L 8.980785280403229,30.195090322016135 L 8.995184726672196,30.098017140329567 L 9.0,30.000000000000007 L 9.0,30.0 z\" /><path fill-rule=\"evenodd\" fill=\"#66cc99\" stroke=\"#555555\" stroke-width=\"0.8640000000000001\" opacity=\"0.6\" d=\"M 9.0,40.0 L 8.995184726672196,39.90198285967044 L 8.98078528040323,39.80490967798387 L 8.95694033573221,39.70971532274554 L 8.923879532511286,39.61731656763491 L 8.881921264348355,39.528603263174006 L 8.831469612302545,39.4444297669804 L 8.773010453362737,39.36560671583636 L 8.767959449611677,39.36003379199027 L 8.707106781186548,39.292893218813454 L 8.634393284163647,39.22698954663726 L 8.555570233019603,39.16853038769746 L 8.471396736825998,39.11807873565164 L 8.382683432365091,39.076120467488714 L 8.290284677254464,39.043059664267794 L 8.19509032201613,39.01921471959677 L 8.098017140329562,39.0048152733278 L 8.000000000000002,39.0 L 8.0,39.0 L 7.901982859670441,39.0048152733278 L 7.804909677983874,39.01921471959677 L 7.70971532274554,39.04305966426779 L 7.617316567634912,39.076120467488714 L 7.528603263174004,39.11807873565164 L 7.4444297669804,39.16853038769745 L 7.365606715836356,39.22698954663726 L 7.292893218813454,39.292893218813454 L 7.226989546637264,39.36560671583635 L 7.168530387697456,39.4444297669804 L 7.118078735651646,39.528603263174 L 7.076120467488714,39.61731656763491 L 7.043059664267791,39.70971532274554 L 7.01921471959677,39.80490967798387 L 7.004815273327803,39.90198285967044 L 7.0,40.0 L 7.004815273327803,40.09801714032956 L 7.01921471959677,40.19509032201613 L 7.0430596642677905,40.29028467725446 L 7.076120467488713,40.38268343236509 L 7.118078735651645,40.471396736825994 L 7.168530387697454,40.5555702330196 L 7.226989546637263,40.63439328416364 L 7.292893218813452,40.707106781186546 L 7.365606715836354,40.77301045336274 L 7.444429766980397,40.83146961230254 L 7.528603263174001,40.88192126434836 L 7.617316567634909,40.923879532511286 L 7.709715322745536,40.956940335732206 L 7.804909677983869,40.98078528040323 L 7.9019828596704365,40.9951847266722 L 7.999999999999997,41.0 L 8.098017140329558,40.9951847266722 L 8.195090322016124,40.98078528040323 L 8.290284677254459,40.95694033573221 L 8.382683432365086,40.923879532511286 L 8.471396736825994,40.88192126434836 L 8.555570233019598,40.83146961230255 L 8.634393284163641,40.77301045336274 L 8.707106781186544,40.70710678118655 L 8.773010453362733,40.63439328416365 L 8.831469612302541,40.55557023301961 L 8.881921264348351,40.471396736826 L 8.923879532511284,40.3826834323651 L 8.956940335732206,40.29028467725447 L 8.980785280403229,40.195090322016135 L 8.995184726672196,40.09801714032957 L 9.0,40.00000000000001 L 9.0,40.0 z\" /><path fill-rule=\"evenodd\" fill=\"#66cc99\" stroke=\"#555555\" stroke-width=\"0.8640000000000001\" opacity=\"0.6\" d=\"M 39.0,15.0 L 38.9951847266722,14.90198285967044 L 38.98078528040323,14.804909677983872 L 38.956940335732206,14.709715322745538 L 38.923879532511286,14.61731656763491 L 38.88192126434836,14.528603263174002 L 38.83146961230255,14.444429766980399 L 38.77301045336274,14.365606715836355 L 38.707106781186546,14.292893218813454 L 38.63439328416364,14.226989546637263 L 38.5555702330196,14.168530387697455 L 38.471396736826,14.118078735651645 L 38.38268343236509,14.076120467488714 L 38.29028467725446,14.043059664267792 L 38.19509032201613,14.01921471959677 L 38.09801714032956,14.004815273327804 L 38.0,14.0 L 37.90198285967044,14.004815273327804 L 37.80490967798387,14.01921471959677 L 37.70971532274554,14.04305966426779 L 37.617316567634916,14.076120467488712 L 37.528603263174006,14.118078735651643 L 37.4444297669804,14.168530387697453 L 37.36560671583636,14.226989546637261 L 37.292893218813454,14.29289321881345 L 37.22698954663726,14.365606715836353 L 37.16853038769746,14.444429766980397 L 37.14353987213981,14.486123923283888 L 37.11807873565164,14.528603263174 L 37.076120467488714,14.617316567634909 L 37.043059664267794,14.709715322745536 L 37.01921471959677,14.80490967798387 L 37.0048152733278,14.901982859670438 L 37.0,14.999999999999998 L 37.0048152733278,15.09801714032956 L 37.01921471959677,15.195090322016128 L 37.043059664267794,15.290284677254462 L 37.076120467488714,15.38268343236509 L 37.11807873565164,15.471396736825998 L 37.16853038769745,15.555570233019601 L 37.22698954663726,15.634393284163645 L 37.23204055038832,15.639966208009731 L 37.292893218813454,15.707106781186548 L 37.36560671583636,15.773010453362737 L 37.4444297669804,15.831469612302545 L 37.528603263174,15.881921264348355 L 37.61731656763491,15.923879532511286 L 37.70971532274554,15.956940335732208 L 37.80490967798387,15.98078528040323 L 37.90198285967044,15.995184726672196 L 38.0,16.0 L 38.09801714032956,15.995184726672196 L 38.19509032201613,15.98078528040323 L 38.29028467725446,15.95694033573221 L 38.382683432365084,15.923879532511288 L 38.471396736825994,15.881921264348357 L 38.5555702330196,15.831469612302548 L 38.63439328416364,15.77301045336274 L 38.707106781186546,15.707106781186551 L 38.77301045336273,15.63439328416365 L 38.83146961230254,15.555570233019607 L 38.88192126434835,15.471396736826003 L 38.923879532511286,15.382683432365097 L 38.956940335732206,15.29028467725447 L 38.98078528040323,15.195090322016135 L 38.99518472667219,15.098017140329569 L 39.0,15.000000000000009 L 39.0,15.0 z\" /><path fill-rule=\"evenodd\" fill=\"#66cc99\" stroke=\"#555555\" stroke-width=\"0.8640000000000001\" opacity=\"0.6\" d=\"M 19.0,3.0 L 18.995184726672196,2.9019828596704396 L 18.980785280403232,2.804909677983872 L 18.95694033573221,2.709715322745538 L 18.923879532511286,2.6173165676349104 L 18.881921264348357,2.528603263174003 L 18.831469612302545,2.4444297669803983 L 18.773010453362737,2.365606715836355 L 18.70710678118655,2.292893218813453 L 18.634393284163647,2.2269895466372636 L 18.5555702330196,2.168530387697455 L 18.471396736825998,2.1180787356516455 L 18.38268343236509,2.076120467488714 L 18.290284677254462,2.0430596642677914 L 18.195090322016128,2.0192147195967696 L 18.098017140329564,2.0048152733278033 L 18.0,2.0 L 17.90198285967044,2.004815273327803 L 17.804909677983872,2.019214719596769 L 17.709715322745538,2.0430596642677905 L 17.617316567634912,2.0761204674887126 L 17.528603263174006,2.118078735651644 L 17.4444297669804,2.1685303876974538 L 17.365606715836357,2.226989546637262 L 17.292893218813454,2.292893218813451 L 17.226989546637263,2.3656067158363534 L 17.168530387697455,2.4444297669803965 L 17.118078735651647,2.528603263174001 L 17.076120467488714,2.617316567634909 L 17.04305966426779,2.709715322745536 L 17.01921471959677,2.8049096779838707 L 17.004815273327804,2.9019828596704382 L 17.003264431900927,2.9335509621267284 L 17.0,2.999999999999999 L 17.004815273327804,3.0980171403295595 L 17.019214719596768,3.1950903220161275 L 17.04305966426779,3.2902846772544616 L 17.076120467488714,3.382683432365089 L 17.118078735651643,3.471396736825997 L 17.168530387697455,3.555570233019602 L 17.226989546637263,3.6343932841636453 L 17.292893218813454,3.7071067811865475 L 17.365606715836353,3.773010453362737 L 17.4444297669804,3.831469612302545 L 17.528603263174002,3.8819212643483545 L 17.61731656763491,3.923879532511286 L 17.709715322745534,3.9569403357322086 L 17.80490967798387,3.98078528040323 L 17.901982859670436,3.9951847266721967 L 17.999999999999996,4.0 L 18.098017140329556,3.995184726672197 L 18.195090322016124,3.9807852804032313 L 18.29028467725446,3.95694033573221 L 18.382683432365084,3.9238795325112883 L 18.471396736825994,3.881921264348357 L 18.555570233019598,3.831469612302548 L 18.634393284163643,3.7730104533627404 L 18.707106781186543,3.7071067811865515 L 18.773010453362733,3.63439328416365 L 18.83146961230254,3.5555702330196075 L 18.856460127860185,3.513876076716112 L 18.881921264348353,3.4713967368260032 L 18.923879532511283,3.3826834323650963 L 18.956940335732206,3.290284677254469 L 18.98078528040323,3.1950903220161355 L 18.995184726672196,3.0980171403295684 L 19.0,3.0000000000000084 L 19.0,3.0 z\" /></g></g></svg>"
      ],
      "text/plain": [
       "<shapely.geometry.collection.GeometryCollection at 0x1f5af442bc8>"
      ]
     },
     "execution_count": 511,
     "metadata": {},
     "output_type": "execute_result"
    }
   ],
   "source": [
    "buffer_poly_vtx(rand_poly)"
   ]
  },
  {
   "cell_type": "code",
   "execution_count": 495,
   "metadata": {},
   "outputs": [
    {
     "data": {
      "image/svg+xml": [
       "<svg xmlns=\"http://www.w3.org/2000/svg\" xmlns:xlink=\"http://www.w3.org/1999/xlink\" width=\"100.0\" height=\"100.0\" viewBox=\"8.52 6.52 39.959999999999994 38.959999999999994\" preserveAspectRatio=\"xMinYMin meet\"><g transform=\"matrix(1,0,0,-1,0,52.0)\"><g><circle cx=\"10.0\" cy=\"8.0\" r=\"1.1987999999999999\" stroke=\"#555555\" stroke-width=\"0.39959999999999996\" fill=\"#66cc99\" opacity=\"0.6\" /><circle cx=\"13.0\" cy=\"23.0\" r=\"1.1987999999999999\" stroke=\"#555555\" stroke-width=\"0.39959999999999996\" fill=\"#66cc99\" opacity=\"0.6\" /><circle cx=\"16.0\" cy=\"34.0\" r=\"1.1987999999999999\" stroke=\"#555555\" stroke-width=\"0.39959999999999996\" fill=\"#66cc99\" opacity=\"0.6\" /><circle cx=\"47.0\" cy=\"44.0\" r=\"1.1987999999999999\" stroke=\"#555555\" stroke-width=\"0.39959999999999996\" fill=\"#66cc99\" opacity=\"0.6\" /><circle cx=\"35.0\" cy=\"11.0\" r=\"1.1987999999999999\" stroke=\"#555555\" stroke-width=\"0.39959999999999996\" fill=\"#66cc99\" opacity=\"0.6\" /><circle cx=\"10.0\" cy=\"8.0\" r=\"1.1987999999999999\" stroke=\"#555555\" stroke-width=\"0.39959999999999996\" fill=\"#66cc99\" opacity=\"0.6\" /></g></g></svg>"
      ],
      "text/plain": [
       "<shapely.geometry.multipoint.MultiPoint at 0x1f5b02b1208>"
      ]
     },
     "execution_count": 495,
     "metadata": {},
     "output_type": "execute_result"
    }
   ],
   "source": [
    "poly_as_mpt(rand_poly)"
   ]
  },
  {
   "cell_type": "code",
   "execution_count": null,
   "metadata": {},
   "outputs": [],
   "source": []
  },
  {
   "cell_type": "code",
   "execution_count": null,
   "metadata": {},
   "outputs": [],
   "source": []
  }
 ],
 "metadata": {
  "kernelspec": {
   "display_name": "Python 3",
   "language": "python",
   "name": "python3"
  },
  "language_info": {
   "codemirror_mode": {
    "name": "ipython",
    "version": 3
   },
   "file_extension": ".py",
   "mimetype": "text/x-python",
   "name": "python",
   "nbconvert_exporter": "python",
   "pygments_lexer": "ipython3",
   "version": "3.7.6"
  }
 },
 "nbformat": 4,
 "nbformat_minor": 4
}
