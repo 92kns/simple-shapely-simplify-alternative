{
 "cells": [
  {
   "cell_type": "code",
   "execution_count": 1,
   "metadata": {},
   "outputs": [],
   "source": [
    "import shapely.geometry as sg\n",
    "import shapely\n",
    "import numpy as np\n",
    "import random\n",
    "import math\n",
    "\n",
    "import pandas as pd"
   ]
  },
  {
   "cell_type": "code",
   "execution_count": 2,
   "metadata": {},
   "outputs": [],
   "source": [
    "def update_poly_pickle(poly, return_df=False):\n",
    "    try:\n",
    "        df_poly = pd.read_pickle('./randpolys.pkl')\n",
    "    except:\n",
    "#         just make a new df\n",
    "        print('making new poly df...')\n",
    "        df_poly = make_poly_df()\n",
    "\n",
    "#     get next loc\n",
    "    df_idx_next = len(df_poly)\n",
    "    df_poly.loc[df_idx_next] = poly.wkt\n",
    "    df_poly = df_poly.drop_duplicates(ignore_index=True)\n",
    "\n",
    "    df_poly.to_pickle('./randpolys.pkl')\n",
    "    \n",
    "    print('done')\n",
    "    if return_df:\n",
    "        return df_poly\n",
    "    \n",
    "def make_poly_df():\n",
    "    poly_df = pd.DataFrame(columns=['poly_wkt'])\n",
    "    poly_df.to_pickle('./randpolys.pkl')\n",
    "    return poly_df"
   ]
  },
  {
   "cell_type": "code",
   "execution_count": 3,
   "metadata": {},
   "outputs": [],
   "source": [
    "def get_angles(vec_1,vec_2):\n",
    "    dot = np.dot(vec_1, vec_2)\n",
    "    det = np.cross(vec_1,vec_2)\n",
    "    angle_in_rad = np.arctan2(det,dot)\n",
    "    return np.degrees(angle_in_rad)\n",
    "\n",
    "\n",
    "def simplify_by_interior_angle(poly_in, deg_tol = 5):\n",
    "    \"\"\"\n",
    "    try to remove persistent coordinate points that remain after\n",
    "    simplify, convex hul, etc with some trig\n",
    "    params:\n",
    "    \n",
    "    \"\"\"\n",
    "    \n",
    "    ext_poly_coords = poly_in.exterior.coords[:]\n",
    "#     ext_poly_coords = ext_poly_coords[1:] + ext_poly_coords[:1]\n",
    "#     # reassign last to first, so we have a proper linear ring sequence for shapely polygon\n",
    "#     ext_poly_coords[-1] = ext_poly_coords[0]\n",
    "    vector_rep = np.diff(ext_poly_coords,axis = 0)\n",
    "    angles_list = []\n",
    "    for i in range(0,len(vector_rep) -1 ):\n",
    "        angles_list.append(np.abs(get_angles(vector_rep[i],vector_rep[i+1])))\n",
    "    \n",
    "  \n",
    "    thresh_vals_by_deg = np.where(np.array(angles_list) > deg_tol)\n",
    "#   gotta be a better way to do this. sandwich betweens first and last pts\n",
    "    new_idx = [0] + (thresh_vals_by_deg[0] + 1).tolist() + [0]\n",
    "    new_vertices = [ext_poly_coords[idx] for idx in new_idx]\n",
    "    \n",
    "#     add geom type check l8r, for now only interested in poly\n",
    "#     try:\n",
    "#         return sg.Polygon(new_vertices)\n",
    "#     except:\n",
    "#         return vector_rep\n",
    "    return sg.Polygon(new_vertices)\n",
    "\n",
    "def poly_as_mpt(polygon):\n",
    "    coords = polygon.exterior.coords[:]\n",
    "    as_pts = [sg.Point(x) for x in coords]\n",
    "    as_mpt = sg.MultiPoint(as_pts)\n",
    "    return as_mpt\n",
    "        "
   ]
  },
  {
   "cell_type": "markdown",
   "metadata": {},
   "source": [
    "# # try random geoms"
   ]
  },
  {
   "cell_type": "code",
   "execution_count": 4,
   "metadata": {},
   "outputs": [
    {
     "data": {
      "image/svg+xml": [
       "<svg xmlns=\"http://www.w3.org/2000/svg\" xmlns:xlink=\"http://www.w3.org/1999/xlink\" width=\"100.0\" height=\"100.0\" viewBox=\"4.6 5.269872981077807 10.8 9.460254037844388\" preserveAspectRatio=\"xMinYMin meet\"><g transform=\"matrix(1,0,0,-1,0,20.0)\"><path fill-rule=\"evenodd\" fill=\"#66cc99\" stroke=\"#555555\" stroke-width=\"0.21600000000000003\" opacity=\"0.6\" d=\"M 15.0,10.0 L 12.5,14.330127018922193 L 7.500000000000001,14.330127018922195 L 5.0,10.0 L 7.499999999999998,5.669872981077807 L 12.5,5.669872981077807 L 15.0,10.0 z\" /></g></svg>"
      ],
      "text/plain": [
       "<shapely.geometry.polygon.Polygon at 0x21c8de97208>"
      ]
     },
     "execution_count": 4,
     "metadata": {},
     "output_type": "execute_result"
    }
   ],
   "source": [
    "def make_hex_poly(a, x, y):\n",
    "    \"\"\"\n",
    "    Create a hexagon centered on (x, y)\n",
    "    :param a: length of the hexagon's edge\n",
    "    :param x,y: desired centroid of hex\n",
    "    :return: The shapely polygon representation of the hexagon\n",
    "    \"\"\"\n",
    "    hex_coords = [(x + math.cos(math.radians(angle)) * a, y + math.sin(math.radians(angle)) * a) for angle in range(0, 360, 60)]\n",
    "    return sg.Polygon(hex_coords)\n",
    "hex1 = make_hex_poly(5,10,10)\n",
    "hex1"
   ]
  },
  {
   "cell_type": "code",
   "execution_count": 5,
   "metadata": {},
   "outputs": [],
   "source": [
    "def generate_degen(geom,pps=5):\n",
    "    \"\"\"\n",
    "    geom is the input shapely type polygon (must be valid pls)\n",
    "    pps is points per side to generate fr the polygon\n",
    "    \"\"\"\n",
    "    \n",
    "#     pps=5 # points per side\n",
    "    \n",
    "    \n",
    "#     get normalized vec values\n",
    "    coords = geom.exterior.coords[:]\n",
    "    coords_arr = np.array(coords)\n",
    "    vector_rep = np.diff(coords_arr,axis = 0)\n",
    "    distances = np.linalg.norm(vector_rep,axis = 1)\n",
    "    \n",
    "    idx_dict = {\"distance\":0, \n",
    "               \"vector\":1,\n",
    "               \"coords\":2}\n",
    "    \n",
    "    final_coords=[]\n",
    "    dist_scaler = 10\n",
    "    for e,d_v_c in enumerate(zip(distances,vector_rep,coords_arr)):\n",
    "        d= d_v_c[idx_dict['distance']]\n",
    "        v = d_v_c[idx_dict['vector']]\n",
    "        c = d_v_c[idx_dict['coords']]\n",
    "#         print(c)\n",
    "        u = v/d\n",
    "#         side_pts = np.random.randint(1,d*10,(pps))/11 # dont want a chance of zero \n",
    "        side_pts = random.sample(range(1, math.floor(d*dist_scaler)), pps)\n",
    "    \n",
    "        # maintain proper sequence by sorting distance scalars and prepending starting pt of current vector\n",
    "        side_pts.sort() \n",
    "        new_offset = [c + u*du/dist_scaler for du in side_pts]\n",
    "        final_coords+= [c] + new_offset #+ list(coords[e+1])\n",
    "        \n",
    "    return final_coords\n",
    "#         print(u)\n",
    "        "
   ]
  },
  {
   "cell_type": "code",
   "execution_count": 6,
   "metadata": {},
   "outputs": [],
   "source": [
    "after = generate_degen(hex1)"
   ]
  },
  {
   "cell_type": "code",
   "execution_count": 7,
   "metadata": {},
   "outputs": [
    {
     "data": {
      "image/svg+xml": [
       "<svg xmlns=\"http://www.w3.org/2000/svg\" xmlns:xlink=\"http://www.w3.org/1999/xlink\" width=\"100.0\" height=\"100.0\" viewBox=\"4.6 5.269872981077807 10.8 9.460254037844388\" preserveAspectRatio=\"xMinYMin meet\"><g transform=\"matrix(1,0,0,-1,0,20.0)\"><path fill-rule=\"evenodd\" fill=\"#66cc99\" stroke=\"#555555\" stroke-width=\"0.21600000000000003\" opacity=\"0.6\" d=\"M 15.0,10.0 L 14.7,10.519615242270664 L 14.55,10.779422863405994 L 13.75,12.165063509461095 L 13.15,13.204293994002423 L 13.1,13.290896534380867 L 12.5,14.330127018922193 L 11.4,14.330127018922193 L 11.3,14.330127018922193 L 10.9,14.330127018922193 L 10.4,14.330127018922193 L 9.1,14.330127018922195 L 7.500000000000001,14.330127018922195 L 5.750000000000001,11.29903810567666 L 5.700000000000001,11.212435565298215 L 5.300000000000001,10.519615242270664 L 5.250000000000001,10.43301270189222 L 5.200000000000001,10.346410161513777 L 5.0,10.0 L 5.15,9.740192378864668 L 5.85,8.527756813566453 L 6.699999999999999,7.055513627132908 L 7.199999999999999,6.189488223348469 L 7.249999999999999,6.102885682970025 L 7.499999999999998,5.669872981077807 L 7.699999999999998,5.669872981077807 L 10.599999999999998,5.669872981077807 L 11.2,5.669872981077807 L 12.2,5.669872981077807 L 12.299999999999997,5.669872981077807 L 12.5,5.669872981077807 L 12.95,6.449295844483802 L 13.4,7.228718707889797 L 14.1,8.441154273188012 L 14.2,8.614359353944899 L 14.65,9.393782217350893 L 15.0,10.0 z\" /></g></svg>"
      ],
      "text/plain": [
       "<shapely.geometry.polygon.Polygon at 0x21c8deb1588>"
      ]
     },
     "execution_count": 7,
     "metadata": {},
     "output_type": "execute_result"
    }
   ],
   "source": [
    "sg.Polygon(after)"
   ]
  },
  {
   "cell_type": "code",
   "execution_count": 8,
   "metadata": {},
   "outputs": [],
   "source": [
    "after_pts = [sg.Point(x) for x in after]\n",
    "after_mpts = sg.MultiPoint(after_pts)"
   ]
  },
  {
   "cell_type": "code",
   "execution_count": 9,
   "metadata": {},
   "outputs": [
    {
     "data": {
      "image/svg+xml": [
       "<svg xmlns=\"http://www.w3.org/2000/svg\" xmlns:xlink=\"http://www.w3.org/1999/xlink\" width=\"100.0\" height=\"100.0\" viewBox=\"4.6 5.269872981077807 10.8 9.460254037844388\" preserveAspectRatio=\"xMinYMin meet\"><g transform=\"matrix(1,0,0,-1,0,20.0)\"><g><circle cx=\"15.0\" cy=\"10.0\" r=\"0.32400000000000007\" stroke=\"#555555\" stroke-width=\"0.10800000000000001\" fill=\"#66cc99\" opacity=\"0.6\" /><circle cx=\"14.7\" cy=\"10.519615242270664\" r=\"0.32400000000000007\" stroke=\"#555555\" stroke-width=\"0.10800000000000001\" fill=\"#66cc99\" opacity=\"0.6\" /><circle cx=\"14.55\" cy=\"10.779422863405994\" r=\"0.32400000000000007\" stroke=\"#555555\" stroke-width=\"0.10800000000000001\" fill=\"#66cc99\" opacity=\"0.6\" /><circle cx=\"13.75\" cy=\"12.165063509461095\" r=\"0.32400000000000007\" stroke=\"#555555\" stroke-width=\"0.10800000000000001\" fill=\"#66cc99\" opacity=\"0.6\" /><circle cx=\"13.15\" cy=\"13.204293994002423\" r=\"0.32400000000000007\" stroke=\"#555555\" stroke-width=\"0.10800000000000001\" fill=\"#66cc99\" opacity=\"0.6\" /><circle cx=\"13.1\" cy=\"13.290896534380867\" r=\"0.32400000000000007\" stroke=\"#555555\" stroke-width=\"0.10800000000000001\" fill=\"#66cc99\" opacity=\"0.6\" /><circle cx=\"12.5\" cy=\"14.330127018922193\" r=\"0.32400000000000007\" stroke=\"#555555\" stroke-width=\"0.10800000000000001\" fill=\"#66cc99\" opacity=\"0.6\" /><circle cx=\"11.4\" cy=\"14.330127018922193\" r=\"0.32400000000000007\" stroke=\"#555555\" stroke-width=\"0.10800000000000001\" fill=\"#66cc99\" opacity=\"0.6\" /><circle cx=\"11.3\" cy=\"14.330127018922193\" r=\"0.32400000000000007\" stroke=\"#555555\" stroke-width=\"0.10800000000000001\" fill=\"#66cc99\" opacity=\"0.6\" /><circle cx=\"10.9\" cy=\"14.330127018922193\" r=\"0.32400000000000007\" stroke=\"#555555\" stroke-width=\"0.10800000000000001\" fill=\"#66cc99\" opacity=\"0.6\" /><circle cx=\"10.4\" cy=\"14.330127018922193\" r=\"0.32400000000000007\" stroke=\"#555555\" stroke-width=\"0.10800000000000001\" fill=\"#66cc99\" opacity=\"0.6\" /><circle cx=\"9.1\" cy=\"14.330127018922195\" r=\"0.32400000000000007\" stroke=\"#555555\" stroke-width=\"0.10800000000000001\" fill=\"#66cc99\" opacity=\"0.6\" /><circle cx=\"7.500000000000001\" cy=\"14.330127018922195\" r=\"0.32400000000000007\" stroke=\"#555555\" stroke-width=\"0.10800000000000001\" fill=\"#66cc99\" opacity=\"0.6\" /><circle cx=\"5.750000000000001\" cy=\"11.29903810567666\" r=\"0.32400000000000007\" stroke=\"#555555\" stroke-width=\"0.10800000000000001\" fill=\"#66cc99\" opacity=\"0.6\" /><circle cx=\"5.700000000000001\" cy=\"11.212435565298215\" r=\"0.32400000000000007\" stroke=\"#555555\" stroke-width=\"0.10800000000000001\" fill=\"#66cc99\" opacity=\"0.6\" /><circle cx=\"5.300000000000001\" cy=\"10.519615242270664\" r=\"0.32400000000000007\" stroke=\"#555555\" stroke-width=\"0.10800000000000001\" fill=\"#66cc99\" opacity=\"0.6\" /><circle cx=\"5.250000000000001\" cy=\"10.43301270189222\" r=\"0.32400000000000007\" stroke=\"#555555\" stroke-width=\"0.10800000000000001\" fill=\"#66cc99\" opacity=\"0.6\" /><circle cx=\"5.200000000000001\" cy=\"10.346410161513777\" r=\"0.32400000000000007\" stroke=\"#555555\" stroke-width=\"0.10800000000000001\" fill=\"#66cc99\" opacity=\"0.6\" /><circle cx=\"5.0\" cy=\"10.0\" r=\"0.32400000000000007\" stroke=\"#555555\" stroke-width=\"0.10800000000000001\" fill=\"#66cc99\" opacity=\"0.6\" /><circle cx=\"5.15\" cy=\"9.740192378864668\" r=\"0.32400000000000007\" stroke=\"#555555\" stroke-width=\"0.10800000000000001\" fill=\"#66cc99\" opacity=\"0.6\" /><circle cx=\"5.85\" cy=\"8.527756813566453\" r=\"0.32400000000000007\" stroke=\"#555555\" stroke-width=\"0.10800000000000001\" fill=\"#66cc99\" opacity=\"0.6\" /><circle cx=\"6.699999999999999\" cy=\"7.055513627132908\" r=\"0.32400000000000007\" stroke=\"#555555\" stroke-width=\"0.10800000000000001\" fill=\"#66cc99\" opacity=\"0.6\" /><circle cx=\"7.199999999999999\" cy=\"6.189488223348469\" r=\"0.32400000000000007\" stroke=\"#555555\" stroke-width=\"0.10800000000000001\" fill=\"#66cc99\" opacity=\"0.6\" /><circle cx=\"7.249999999999999\" cy=\"6.102885682970025\" r=\"0.32400000000000007\" stroke=\"#555555\" stroke-width=\"0.10800000000000001\" fill=\"#66cc99\" opacity=\"0.6\" /><circle cx=\"7.499999999999998\" cy=\"5.669872981077807\" r=\"0.32400000000000007\" stroke=\"#555555\" stroke-width=\"0.10800000000000001\" fill=\"#66cc99\" opacity=\"0.6\" /><circle cx=\"7.699999999999998\" cy=\"5.669872981077807\" r=\"0.32400000000000007\" stroke=\"#555555\" stroke-width=\"0.10800000000000001\" fill=\"#66cc99\" opacity=\"0.6\" /><circle cx=\"10.599999999999998\" cy=\"5.669872981077807\" r=\"0.32400000000000007\" stroke=\"#555555\" stroke-width=\"0.10800000000000001\" fill=\"#66cc99\" opacity=\"0.6\" /><circle cx=\"11.2\" cy=\"5.669872981077807\" r=\"0.32400000000000007\" stroke=\"#555555\" stroke-width=\"0.10800000000000001\" fill=\"#66cc99\" opacity=\"0.6\" /><circle cx=\"12.2\" cy=\"5.669872981077807\" r=\"0.32400000000000007\" stroke=\"#555555\" stroke-width=\"0.10800000000000001\" fill=\"#66cc99\" opacity=\"0.6\" /><circle cx=\"12.299999999999997\" cy=\"5.669872981077807\" r=\"0.32400000000000007\" stroke=\"#555555\" stroke-width=\"0.10800000000000001\" fill=\"#66cc99\" opacity=\"0.6\" /><circle cx=\"12.5\" cy=\"5.669872981077807\" r=\"0.32400000000000007\" stroke=\"#555555\" stroke-width=\"0.10800000000000001\" fill=\"#66cc99\" opacity=\"0.6\" /><circle cx=\"12.95\" cy=\"6.449295844483802\" r=\"0.32400000000000007\" stroke=\"#555555\" stroke-width=\"0.10800000000000001\" fill=\"#66cc99\" opacity=\"0.6\" /><circle cx=\"13.4\" cy=\"7.228718707889797\" r=\"0.32400000000000007\" stroke=\"#555555\" stroke-width=\"0.10800000000000001\" fill=\"#66cc99\" opacity=\"0.6\" /><circle cx=\"14.1\" cy=\"8.441154273188012\" r=\"0.32400000000000007\" stroke=\"#555555\" stroke-width=\"0.10800000000000001\" fill=\"#66cc99\" opacity=\"0.6\" /><circle cx=\"14.2\" cy=\"8.614359353944899\" r=\"0.32400000000000007\" stroke=\"#555555\" stroke-width=\"0.10800000000000001\" fill=\"#66cc99\" opacity=\"0.6\" /><circle cx=\"14.65\" cy=\"9.393782217350893\" r=\"0.32400000000000007\" stroke=\"#555555\" stroke-width=\"0.10800000000000001\" fill=\"#66cc99\" opacity=\"0.6\" /></g></g></svg>"
      ],
      "text/plain": [
       "<shapely.geometry.multipoint.MultiPoint at 0x21c8deb11c8>"
      ]
     },
     "execution_count": 9,
     "metadata": {},
     "output_type": "execute_result"
    }
   ],
   "source": [
    "after_mpts\n"
   ]
  },
  {
   "cell_type": "code",
   "execution_count": 10,
   "metadata": {},
   "outputs": [
    {
     "data": {
      "image/svg+xml": [
       "<svg xmlns=\"http://www.w3.org/2000/svg\" xmlns:xlink=\"http://www.w3.org/1999/xlink\" width=\"100.0\" height=\"100.0\" viewBox=\"4.6 5.269872981077807 10.8 9.460254037844388\" preserveAspectRatio=\"xMinYMin meet\"><g transform=\"matrix(1,0,0,-1,0,20.0)\"><g><circle cx=\"15.0\" cy=\"10.0\" r=\"0.32400000000000007\" stroke=\"#555555\" stroke-width=\"0.10800000000000001\" fill=\"#66cc99\" opacity=\"0.6\" /><circle cx=\"14.7\" cy=\"10.519615242270664\" r=\"0.32400000000000007\" stroke=\"#555555\" stroke-width=\"0.10800000000000001\" fill=\"#66cc99\" opacity=\"0.6\" /><circle cx=\"14.55\" cy=\"10.779422863405994\" r=\"0.32400000000000007\" stroke=\"#555555\" stroke-width=\"0.10800000000000001\" fill=\"#66cc99\" opacity=\"0.6\" /><circle cx=\"13.75\" cy=\"12.165063509461095\" r=\"0.32400000000000007\" stroke=\"#555555\" stroke-width=\"0.10800000000000001\" fill=\"#66cc99\" opacity=\"0.6\" /><circle cx=\"13.15\" cy=\"13.204293994002423\" r=\"0.32400000000000007\" stroke=\"#555555\" stroke-width=\"0.10800000000000001\" fill=\"#66cc99\" opacity=\"0.6\" /><circle cx=\"13.1\" cy=\"13.290896534380867\" r=\"0.32400000000000007\" stroke=\"#555555\" stroke-width=\"0.10800000000000001\" fill=\"#66cc99\" opacity=\"0.6\" /><circle cx=\"12.5\" cy=\"14.330127018922193\" r=\"0.32400000000000007\" stroke=\"#555555\" stroke-width=\"0.10800000000000001\" fill=\"#66cc99\" opacity=\"0.6\" /><circle cx=\"11.4\" cy=\"14.330127018922193\" r=\"0.32400000000000007\" stroke=\"#555555\" stroke-width=\"0.10800000000000001\" fill=\"#66cc99\" opacity=\"0.6\" /><circle cx=\"11.3\" cy=\"14.330127018922193\" r=\"0.32400000000000007\" stroke=\"#555555\" stroke-width=\"0.10800000000000001\" fill=\"#66cc99\" opacity=\"0.6\" /><circle cx=\"10.9\" cy=\"14.330127018922193\" r=\"0.32400000000000007\" stroke=\"#555555\" stroke-width=\"0.10800000000000001\" fill=\"#66cc99\" opacity=\"0.6\" /><circle cx=\"10.4\" cy=\"14.330127018922193\" r=\"0.32400000000000007\" stroke=\"#555555\" stroke-width=\"0.10800000000000001\" fill=\"#66cc99\" opacity=\"0.6\" /><circle cx=\"9.1\" cy=\"14.330127018922195\" r=\"0.32400000000000007\" stroke=\"#555555\" stroke-width=\"0.10800000000000001\" fill=\"#66cc99\" opacity=\"0.6\" /><circle cx=\"7.500000000000001\" cy=\"14.330127018922195\" r=\"0.32400000000000007\" stroke=\"#555555\" stroke-width=\"0.10800000000000001\" fill=\"#66cc99\" opacity=\"0.6\" /><circle cx=\"5.750000000000001\" cy=\"11.29903810567666\" r=\"0.32400000000000007\" stroke=\"#555555\" stroke-width=\"0.10800000000000001\" fill=\"#66cc99\" opacity=\"0.6\" /><circle cx=\"5.700000000000001\" cy=\"11.212435565298215\" r=\"0.32400000000000007\" stroke=\"#555555\" stroke-width=\"0.10800000000000001\" fill=\"#66cc99\" opacity=\"0.6\" /><circle cx=\"5.300000000000001\" cy=\"10.519615242270664\" r=\"0.32400000000000007\" stroke=\"#555555\" stroke-width=\"0.10800000000000001\" fill=\"#66cc99\" opacity=\"0.6\" /><circle cx=\"5.250000000000001\" cy=\"10.43301270189222\" r=\"0.32400000000000007\" stroke=\"#555555\" stroke-width=\"0.10800000000000001\" fill=\"#66cc99\" opacity=\"0.6\" /><circle cx=\"5.200000000000001\" cy=\"10.346410161513777\" r=\"0.32400000000000007\" stroke=\"#555555\" stroke-width=\"0.10800000000000001\" fill=\"#66cc99\" opacity=\"0.6\" /><circle cx=\"5.0\" cy=\"10.0\" r=\"0.32400000000000007\" stroke=\"#555555\" stroke-width=\"0.10800000000000001\" fill=\"#66cc99\" opacity=\"0.6\" /><circle cx=\"5.15\" cy=\"9.740192378864668\" r=\"0.32400000000000007\" stroke=\"#555555\" stroke-width=\"0.10800000000000001\" fill=\"#66cc99\" opacity=\"0.6\" /><circle cx=\"5.85\" cy=\"8.527756813566453\" r=\"0.32400000000000007\" stroke=\"#555555\" stroke-width=\"0.10800000000000001\" fill=\"#66cc99\" opacity=\"0.6\" /><circle cx=\"6.699999999999999\" cy=\"7.055513627132908\" r=\"0.32400000000000007\" stroke=\"#555555\" stroke-width=\"0.10800000000000001\" fill=\"#66cc99\" opacity=\"0.6\" /><circle cx=\"7.199999999999999\" cy=\"6.189488223348469\" r=\"0.32400000000000007\" stroke=\"#555555\" stroke-width=\"0.10800000000000001\" fill=\"#66cc99\" opacity=\"0.6\" /><circle cx=\"7.249999999999999\" cy=\"6.102885682970025\" r=\"0.32400000000000007\" stroke=\"#555555\" stroke-width=\"0.10800000000000001\" fill=\"#66cc99\" opacity=\"0.6\" /><circle cx=\"7.499999999999998\" cy=\"5.669872981077807\" r=\"0.32400000000000007\" stroke=\"#555555\" stroke-width=\"0.10800000000000001\" fill=\"#66cc99\" opacity=\"0.6\" /><circle cx=\"7.699999999999998\" cy=\"5.669872981077807\" r=\"0.32400000000000007\" stroke=\"#555555\" stroke-width=\"0.10800000000000001\" fill=\"#66cc99\" opacity=\"0.6\" /><circle cx=\"10.599999999999998\" cy=\"5.669872981077807\" r=\"0.32400000000000007\" stroke=\"#555555\" stroke-width=\"0.10800000000000001\" fill=\"#66cc99\" opacity=\"0.6\" /><circle cx=\"11.2\" cy=\"5.669872981077807\" r=\"0.32400000000000007\" stroke=\"#555555\" stroke-width=\"0.10800000000000001\" fill=\"#66cc99\" opacity=\"0.6\" /><circle cx=\"12.2\" cy=\"5.669872981077807\" r=\"0.32400000000000007\" stroke=\"#555555\" stroke-width=\"0.10800000000000001\" fill=\"#66cc99\" opacity=\"0.6\" /><circle cx=\"12.299999999999997\" cy=\"5.669872981077807\" r=\"0.32400000000000007\" stroke=\"#555555\" stroke-width=\"0.10800000000000001\" fill=\"#66cc99\" opacity=\"0.6\" /><circle cx=\"12.5\" cy=\"5.669872981077807\" r=\"0.32400000000000007\" stroke=\"#555555\" stroke-width=\"0.10800000000000001\" fill=\"#66cc99\" opacity=\"0.6\" /><circle cx=\"12.95\" cy=\"6.449295844483802\" r=\"0.32400000000000007\" stroke=\"#555555\" stroke-width=\"0.10800000000000001\" fill=\"#66cc99\" opacity=\"0.6\" /><circle cx=\"13.4\" cy=\"7.228718707889797\" r=\"0.32400000000000007\" stroke=\"#555555\" stroke-width=\"0.10800000000000001\" fill=\"#66cc99\" opacity=\"0.6\" /><circle cx=\"14.1\" cy=\"8.441154273188012\" r=\"0.32400000000000007\" stroke=\"#555555\" stroke-width=\"0.10800000000000001\" fill=\"#66cc99\" opacity=\"0.6\" /><circle cx=\"14.2\" cy=\"8.614359353944899\" r=\"0.32400000000000007\" stroke=\"#555555\" stroke-width=\"0.10800000000000001\" fill=\"#66cc99\" opacity=\"0.6\" /><circle cx=\"14.65\" cy=\"9.393782217350893\" r=\"0.32400000000000007\" stroke=\"#555555\" stroke-width=\"0.10800000000000001\" fill=\"#66cc99\" opacity=\"0.6\" /><circle cx=\"15.0\" cy=\"10.0\" r=\"0.32400000000000007\" stroke=\"#555555\" stroke-width=\"0.10800000000000001\" fill=\"#66cc99\" opacity=\"0.6\" /></g></g></svg>"
      ],
      "text/plain": [
       "<shapely.geometry.multipoint.MultiPoint at 0x21c8debce08>"
      ]
     },
     "execution_count": 10,
     "metadata": {},
     "output_type": "execute_result"
    }
   ],
   "source": [
    "poly_as_mpt(sg.Polygon(after_pts))"
   ]
  },
  {
   "cell_type": "code",
   "execution_count": 11,
   "metadata": {},
   "outputs": [
    {
     "data": {
      "image/svg+xml": [
       "<svg xmlns=\"http://www.w3.org/2000/svg\" xmlns:xlink=\"http://www.w3.org/1999/xlink\" width=\"100.0\" height=\"100.0\" viewBox=\"4.6 5.269872981077807 10.8 9.460254037844388\" preserveAspectRatio=\"xMinYMin meet\"><g transform=\"matrix(1,0,0,-1,0,20.0)\"><g><circle cx=\"15.0\" cy=\"10.0\" r=\"0.32400000000000007\" stroke=\"#555555\" stroke-width=\"0.10800000000000001\" fill=\"#66cc99\" opacity=\"0.6\" /><circle cx=\"12.5\" cy=\"14.330127018922193\" r=\"0.32400000000000007\" stroke=\"#555555\" stroke-width=\"0.10800000000000001\" fill=\"#66cc99\" opacity=\"0.6\" /><circle cx=\"7.500000000000001\" cy=\"14.330127018922195\" r=\"0.32400000000000007\" stroke=\"#555555\" stroke-width=\"0.10800000000000001\" fill=\"#66cc99\" opacity=\"0.6\" /><circle cx=\"5.0\" cy=\"10.0\" r=\"0.32400000000000007\" stroke=\"#555555\" stroke-width=\"0.10800000000000001\" fill=\"#66cc99\" opacity=\"0.6\" /><circle cx=\"7.499999999999998\" cy=\"5.669872981077807\" r=\"0.32400000000000007\" stroke=\"#555555\" stroke-width=\"0.10800000000000001\" fill=\"#66cc99\" opacity=\"0.6\" /><circle cx=\"12.5\" cy=\"5.669872981077807\" r=\"0.32400000000000007\" stroke=\"#555555\" stroke-width=\"0.10800000000000001\" fill=\"#66cc99\" opacity=\"0.6\" /><circle cx=\"15.0\" cy=\"10.0\" r=\"0.32400000000000007\" stroke=\"#555555\" stroke-width=\"0.10800000000000001\" fill=\"#66cc99\" opacity=\"0.6\" /></g></g></svg>"
      ],
      "text/plain": [
       "<shapely.geometry.multipoint.MultiPoint at 0x21c8debcac8>"
      ]
     },
     "execution_count": 11,
     "metadata": {},
     "output_type": "execute_result"
    }
   ],
   "source": [
    "poly_as_mpt(simplify_by_interior_angle(sg.Polygon(after_pts)))"
   ]
  },
  {
   "cell_type": "code",
   "execution_count": 12,
   "metadata": {},
   "outputs": [
    {
     "data": {
      "image/svg+xml": [
       "<svg xmlns=\"http://www.w3.org/2000/svg\" xmlns:xlink=\"http://www.w3.org/1999/xlink\" width=\"100.0\" height=\"100.0\" viewBox=\"4.6 5.269872981077807 10.8 9.460254037844388\" preserveAspectRatio=\"xMinYMin meet\"><g transform=\"matrix(1,0,0,-1,0,20.0)\"><path fill-rule=\"evenodd\" fill=\"#66cc99\" stroke=\"#555555\" stroke-width=\"0.21600000000000003\" opacity=\"0.6\" d=\"M 15.0,10.0 L 12.5,14.330127018922193 L 7.500000000000001,14.330127018922195 L 5.0,10.0 L 7.499999999999998,5.669872981077807 L 12.5,5.669872981077807 L 15.0,10.0 z\" /></g></svg>"
      ],
      "text/plain": [
       "<shapely.geometry.polygon.Polygon at 0x21c8c1f5d88>"
      ]
     },
     "execution_count": 12,
     "metadata": {},
     "output_type": "execute_result"
    }
   ],
   "source": [
    "after_sim = simplify_by_interior_angle(sg.Polygon(after))\n",
    "after_sim"
   ]
  },
  {
   "cell_type": "code",
   "execution_count": 13,
   "metadata": {},
   "outputs": [
    {
     "data": {
      "image/svg+xml": [
       "<svg xmlns=\"http://www.w3.org/2000/svg\" xmlns:xlink=\"http://www.w3.org/1999/xlink\" width=\"100.0\" height=\"100.0\" viewBox=\"4.6 5.269872981077807 10.8 9.460254037844388\" preserveAspectRatio=\"xMinYMin meet\"><g transform=\"matrix(1,0,0,-1,0,20.0)\"><g><circle cx=\"15.0\" cy=\"10.0\" r=\"0.32400000000000007\" stroke=\"#555555\" stroke-width=\"0.10800000000000001\" fill=\"#66cc99\" opacity=\"0.6\" /><circle cx=\"12.5\" cy=\"14.330127018922193\" r=\"0.32400000000000007\" stroke=\"#555555\" stroke-width=\"0.10800000000000001\" fill=\"#66cc99\" opacity=\"0.6\" /><circle cx=\"7.500000000000001\" cy=\"14.330127018922195\" r=\"0.32400000000000007\" stroke=\"#555555\" stroke-width=\"0.10800000000000001\" fill=\"#66cc99\" opacity=\"0.6\" /><circle cx=\"5.0\" cy=\"10.0\" r=\"0.32400000000000007\" stroke=\"#555555\" stroke-width=\"0.10800000000000001\" fill=\"#66cc99\" opacity=\"0.6\" /><circle cx=\"7.499999999999998\" cy=\"5.669872981077807\" r=\"0.32400000000000007\" stroke=\"#555555\" stroke-width=\"0.10800000000000001\" fill=\"#66cc99\" opacity=\"0.6\" /><circle cx=\"12.5\" cy=\"5.669872981077807\" r=\"0.32400000000000007\" stroke=\"#555555\" stroke-width=\"0.10800000000000001\" fill=\"#66cc99\" opacity=\"0.6\" /><circle cx=\"15.0\" cy=\"10.0\" r=\"0.32400000000000007\" stroke=\"#555555\" stroke-width=\"0.10800000000000001\" fill=\"#66cc99\" opacity=\"0.6\" /></g></g></svg>"
      ],
      "text/plain": [
       "<shapely.geometry.multipoint.MultiPoint at 0x21c8bca1688>"
      ]
     },
     "execution_count": 13,
     "metadata": {},
     "output_type": "execute_result"
    }
   ],
   "source": [
    "poly_as_mpt(after_sim)"
   ]
  },
  {
   "cell_type": "code",
   "execution_count": 14,
   "metadata": {},
   "outputs": [
    {
     "data": {
      "text/plain": [
       "7"
      ]
     },
     "execution_count": 14,
     "metadata": {},
     "output_type": "execute_result"
    }
   ],
   "source": [
    "len(after_sim.exterior.coords[:])"
   ]
  },
  {
   "cell_type": "code",
   "execution_count": 21,
   "metadata": {},
   "outputs": [
    {
     "data": {
      "image/svg+xml": [
       "<svg xmlns=\"http://www.w3.org/2000/svg\" xmlns:xlink=\"http://www.w3.org/1999/xlink\" width=\"100.0\" height=\"100.0\" viewBox=\"4.6 5.269872981077807 10.8 9.460254037844388\" preserveAspectRatio=\"xMinYMin meet\"><g transform=\"matrix(1,0,0,-1,0,20.0)\"><g><circle cx=\"15.0\" cy=\"10.0\" r=\"0.32400000000000007\" stroke=\"#555555\" stroke-width=\"0.10800000000000001\" fill=\"#66cc99\" opacity=\"0.6\" /><circle cx=\"12.5\" cy=\"14.330127018922193\" r=\"0.32400000000000007\" stroke=\"#555555\" stroke-width=\"0.10800000000000001\" fill=\"#66cc99\" opacity=\"0.6\" /><circle cx=\"10.4\" cy=\"14.330127018922193\" r=\"0.32400000000000007\" stroke=\"#555555\" stroke-width=\"0.10800000000000001\" fill=\"#66cc99\" opacity=\"0.6\" /><circle cx=\"9.1\" cy=\"14.330127018922195\" r=\"0.32400000000000007\" stroke=\"#555555\" stroke-width=\"0.10800000000000001\" fill=\"#66cc99\" opacity=\"0.6\" /><circle cx=\"7.500000000000001\" cy=\"14.330127018922195\" r=\"0.32400000000000007\" stroke=\"#555555\" stroke-width=\"0.10800000000000001\" fill=\"#66cc99\" opacity=\"0.6\" /><circle cx=\"5.0\" cy=\"10.0\" r=\"0.32400000000000007\" stroke=\"#555555\" stroke-width=\"0.10800000000000001\" fill=\"#66cc99\" opacity=\"0.6\" /><circle cx=\"7.499999999999998\" cy=\"5.669872981077807\" r=\"0.32400000000000007\" stroke=\"#555555\" stroke-width=\"0.10800000000000001\" fill=\"#66cc99\" opacity=\"0.6\" /><circle cx=\"12.5\" cy=\"5.669872981077807\" r=\"0.32400000000000007\" stroke=\"#555555\" stroke-width=\"0.10800000000000001\" fill=\"#66cc99\" opacity=\"0.6\" /><circle cx=\"15.0\" cy=\"10.0\" r=\"0.32400000000000007\" stroke=\"#555555\" stroke-width=\"0.10800000000000001\" fill=\"#66cc99\" opacity=\"0.6\" /></g></g></svg>"
      ],
      "text/plain": [
       "<shapely.geometry.multipoint.MultiPoint at 0x21c8deafcc8>"
      ]
     },
     "execution_count": 21,
     "metadata": {},
     "output_type": "execute_result"
    }
   ],
   "source": [
    "# with simplify og\n",
    "test_simp = sg.Polygon(after).simplify(1e-15)\n",
    "poly_as_mpt(test_simp)\n"
   ]
  },
  {
   "cell_type": "code",
   "execution_count": null,
   "metadata": {},
   "outputs": [],
   "source": [
    "def generate_random_polygon( n):\n",
    "\n",
    "    x = np.random.randint(0,50,n)\n",
    "    y = np.random.randint(0,50,n)\n",
    "    centroid = [np.sum(x)/n, np.sum(y)/n]\n",
    "\n",
    "    angles = np.arctan2(x-centroid[0], y-centroid[1])\n",
    "\n",
    "    ##sorting the points by angle\n",
    "    coords_by_theta = sorted([((xx,yy),theta) for xx,yy,theta in zip(x,y,angles)], key = lambda t: t[1])\n",
    "\n",
    "    ##making sure that there are no duplicates:\n",
    "    if len(coords_by_theta) != len(set(coords_by_theta)):\n",
    "        raise Exception('need re run (recurse potentially in future)')\n",
    "\n",
    "    xy,angles = zip(*coords_by_theta)\n",
    "#     append first point to end for complete linear ring sequence\n",
    "#     xy.append(xy[0])\n",
    "    xy = list(xy)\n",
    "    xy.append(xy[0])\n",
    "    return xy\n",
    "\n"
   ]
  },
  {
   "cell_type": "code",
   "execution_count": null,
   "metadata": {},
   "outputs": [],
   "source": [
    "vals = generate_random_polygon(7)\n",
    "# rand_poly = sg.Polygon(sg.Point(x) for x in vals)\n",
    "rand_poly=sg.Polygon(vals)\n",
    "rand_poly"
   ]
  },
  {
   "cell_type": "code",
   "execution_count": null,
   "metadata": {},
   "outputs": [],
   "source": [
    "test_df = update_poly_pickle(rand_poly,return_df=True)\n",
    "test_df.tail(10)"
   ]
  },
  {
   "cell_type": "code",
   "execution_count": null,
   "metadata": {},
   "outputs": [],
   "source": [
    "simplify_by_interior_angle(rand_poly)"
   ]
  },
  {
   "cell_type": "code",
   "execution_count": null,
   "metadata": {},
   "outputs": [],
   "source": [
    "poly_as_mpt(rand_poly)"
   ]
  },
  {
   "cell_type": "code",
   "execution_count": null,
   "metadata": {},
   "outputs": [],
   "source": [
    "# pt bufferer\n"
   ]
  },
  {
   "cell_type": "code",
   "execution_count": null,
   "metadata": {},
   "outputs": [],
   "source": [
    "len(poly_as_mpt(simplify_by_interior_angle(rand_poly)))"
   ]
  },
  {
   "cell_type": "code",
   "execution_count": null,
   "metadata": {},
   "outputs": [],
   "source": [
    "buffpt = [sg.Point(x).buffer(1) for x in vals]\n",
    "sg.MultiPolygon(buffpt).union(rand_poly.exterior)\n"
   ]
  },
  {
   "cell_type": "code",
   "execution_count": null,
   "metadata": {},
   "outputs": [],
   "source": [
    "def buffer_poly_vtx(poly,buffer=1):\n",
    "    pts = poly.exterior.coords[:]\n",
    "    buffpts = [sg.Point(x).buffer(1) for x in pts]\n",
    "    buffpts = sg.MultiPolygon(buffpts)\n",
    "    poly_ext = poly.exterior\n",
    "#     return geom collection\n",
    "    try:\n",
    "        return poly_ext.union(buffpts)    \n",
    "    except Exception as e:\n",
    "        print(e)"
   ]
  },
  {
   "cell_type": "code",
   "execution_count": null,
   "metadata": {},
   "outputs": [],
   "source": [
    "buffer_poly_vtx(poly= rand_poly,buffer=1)"
   ]
  },
  {
   "cell_type": "code",
   "execution_count": null,
   "metadata": {},
   "outputs": [],
   "source": [
    "rand_degen = generate_degen(rand_poly)\n",
    "rd_poly = sg.Polygon(rand_degen)"
   ]
  },
  {
   "cell_type": "code",
   "execution_count": null,
   "metadata": {},
   "outputs": [],
   "source": [
    "poly_as_mpt(rd_poly)"
   ]
  },
  {
   "cell_type": "code",
   "execution_count": null,
   "metadata": {
    "scrolled": true
   },
   "outputs": [],
   "source": [
    "buffer_poly_vtx(rd_poly,buffer=.0000000001)"
   ]
  },
  {
   "cell_type": "code",
   "execution_count": null,
   "metadata": {},
   "outputs": [],
   "source": [
    "sv = 1e-1\n",
    "\n",
    "# simpol =rd_poly.simplify(sv,preserve_topology=True)\n",
    "simpol =rd_poly.simplify(sv,preserve_topology=False)\n",
    "print(len(poly_as_mpt(simpol)))\n",
    "print('target num vertx ', len(vals))\n",
    "buffer_poly_vtx(simpol)"
   ]
  },
  {
   "cell_type": "code",
   "execution_count": null,
   "metadata": {},
   "outputs": [],
   "source": [
    "intpol= simplify_by_interior_angle(rd_poly,deg_tol=1)\n",
    "# intpol= simplify_by_interior_angle(rd_poly)\n",
    "print(len(poly_as_mpt((intpol))))\n",
    "print('target num vtx', len(vals))\n",
    "buffer_poly_vtx(intpol)"
   ]
  },
  {
   "cell_type": "code",
   "execution_count": null,
   "metadata": {},
   "outputs": [],
   "source": [
    "buffer_poly_vtx(rand_poly)"
   ]
  },
  {
   "cell_type": "code",
   "execution_count": null,
   "metadata": {},
   "outputs": [],
   "source": [
    "poly_as_mpt(rand_poly)"
   ]
  },
  {
   "cell_type": "code",
   "execution_count": null,
   "metadata": {},
   "outputs": [],
   "source": []
  },
  {
   "cell_type": "code",
   "execution_count": null,
   "metadata": {},
   "outputs": [],
   "source": []
  }
 ],
 "metadata": {
  "kernelspec": {
   "display_name": "Python 3",
   "language": "python",
   "name": "python3"
  },
  "language_info": {
   "codemirror_mode": {
    "name": "ipython",
    "version": 3
   },
   "file_extension": ".py",
   "mimetype": "text/x-python",
   "name": "python",
   "nbconvert_exporter": "python",
   "pygments_lexer": "ipython3",
   "version": "3.7.6"
  }
 },
 "nbformat": 4,
 "nbformat_minor": 4
}
